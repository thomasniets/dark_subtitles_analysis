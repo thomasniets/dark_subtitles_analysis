{
 "cells": [
  {
   "cell_type": "code",
   "execution_count": null,
   "metadata": {},
   "outputs": [],
   "source": []
  },
  {
   "cell_type": "code",
   "execution_count": null,
   "metadata": {},
   "outputs": [],
   "source": [
    "# stop_words = stopwords.words('german')\n",
    "# including Winden as it's just a city name + characters names\n",
    "# stop_words.extend(['Winden','Jonas','Adam','Eva','Hanno','Noah','The Unknown',\\\n",
    "#     'Mikkel','Ines','Michael','Magnus','Bartosz','Egon','Mads','Silja','Agnes',\\\n",
    "#     'Ulrich', 'Katharina','Hannah','Martha','Jana','Tronte',\\\n",
    "#     'Charlotte','Regina','Franziska','Peter','Helge','Aleksander','Boris','Claudia','Elisabeth','Yasin',\\\n",
    "#     'Albers','Kahnwald','Nielsen','Doppler','Tiedemann','Niewald','Tannhaus','Tauber','Wöller','Krüger','Obendorf'])"
   ]
  }
 ],
 "metadata": {
  "kernelspec": {
   "display_name": "Python 3.9.8 64-bit",
   "language": "python",
   "name": "python3"
  },
  "language_info": {
   "name": "python",
   "version": "3.9.8"
  },
  "orig_nbformat": 4,
  "vscode": {
   "interpreter": {
    "hash": "aee8b7b246df8f9039afb4144a1f6fd8d2ca17a180786b69acc140d282b71a49"
   }
  }
 },
 "nbformat": 4,
 "nbformat_minor": 2
}
