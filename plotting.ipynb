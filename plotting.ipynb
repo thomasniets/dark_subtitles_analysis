{
 "cells": [
  {
   "cell_type": "markdown",
   "metadata": {},
   "source": [
    "## Plotting practice and some NLP (hopefully)"
   ]
  },
  {
   "cell_type": "markdown",
   "metadata": {},
   "source": [
    "IMPORTANT NOTE:\n",
    "\n",
    "subtitles in each season differ in terms of who the provider is. So, basically, there's no guarantee that SDH comments are consistent (each episode in each season has sounds / different sounds can be named differently)"
   ]
  },
  {
   "cell_type": "markdown",
   "metadata": {},
   "source": [
    "# TO DO:\n",
    "- find out how to make plotly show every bar on the plot\n",
    "- for music graph with soundtrack add 1 min to every entry's interval_end for clearity"
   ]
  },
  {
   "cell_type": "code",
   "execution_count": 6,
   "metadata": {},
   "outputs": [],
   "source": [
    "import re\n",
    "import pandas as pd\n",
    "import numpy as np\n",
    "from datetime import date, datetime, timedelta, time\n",
    "\n",
    "import plotly.express as px"
   ]
  },
  {
   "cell_type": "code",
   "execution_count": 234,
   "metadata": {},
   "outputs": [],
   "source": [
    "data = pd.read_csv('sdh_comments.csv')\n",
    "\n",
    "# changing string type to datetime\n",
    "data.interval_start = pd.to_datetime(data.interval_start.str[0:8],format=\"%H:%M:%S\")\n",
    "data.interval_end = pd.to_datetime(data.interval_end.str[0:8],format=\"%H:%M:%S\")\n",
    "\n",
    "# this doesn't work with the plotly gantt chart down below\n",
    "# data.interval_start = pd.to_datetime(data.interval_start.str[0:8],format=\"%H:%M:%S\").dt.time\n",
    "# data.interval_end = pd.to_datetime(data.interval_end.str[0:8],format=\"%H:%M:%S\").dt.time"
   ]
  },
  {
   "cell_type": "code",
   "execution_count": 235,
   "metadata": {},
   "outputs": [
    {
     "data": {
      "text/plain": [
       "sdh_comment                  object\n",
       "interval_start       datetime64[ns]\n",
       "interval_end         datetime64[ns]\n",
       "interval_minute               int64\n",
       "episode                       int64\n",
       "season                        int64\n",
       "season00episode00            object\n",
       "dtype: object"
      ]
     },
     "execution_count": 235,
     "metadata": {},
     "output_type": "execute_result"
    }
   ],
   "source": [
    "data.dtypes"
   ]
  },
  {
   "cell_type": "markdown",
   "metadata": {},
   "source": [
    "Practicing on Season 1 data:"
   ]
  },
  {
   "cell_type": "code",
   "execution_count": 196,
   "metadata": {},
   "outputs": [
    {
     "data": {
      "text/html": [
       "<div>\n",
       "<style scoped>\n",
       "    .dataframe tbody tr th:only-of-type {\n",
       "        vertical-align: middle;\n",
       "    }\n",
       "\n",
       "    .dataframe tbody tr th {\n",
       "        vertical-align: top;\n",
       "    }\n",
       "\n",
       "    .dataframe thead th {\n",
       "        text-align: right;\n",
       "    }\n",
       "</style>\n",
       "<table border=\"1\" class=\"dataframe\">\n",
       "  <thead>\n",
       "    <tr style=\"text-align: right;\">\n",
       "      <th></th>\n",
       "      <th>sdh_comment</th>\n",
       "      <th>interval_start</th>\n",
       "      <th>interval_end</th>\n",
       "      <th>interval_minute</th>\n",
       "      <th>episode</th>\n",
       "      <th>season</th>\n",
       "      <th>season00episode00</th>\n",
       "    </tr>\n",
       "  </thead>\n",
       "  <tbody>\n",
       "    <tr>\n",
       "      <th>103</th>\n",
       "      <td>ruhige Klaviermusik</td>\n",
       "      <td>1900-01-01 00:00:06</td>\n",
       "      <td>1900-01-01 00:00:08</td>\n",
       "      <td>0</td>\n",
       "      <td>7</td>\n",
       "      <td>1</td>\n",
       "      <td>S01E07</td>\n",
       "    </tr>\n",
       "    <tr>\n",
       "      <th>105</th>\n",
       "      <td>ruhige  spieluhrartige Musik</td>\n",
       "      <td>1900-01-01 00:00:17</td>\n",
       "      <td>1900-01-01 00:00:20</td>\n",
       "      <td>0</td>\n",
       "      <td>7</td>\n",
       "      <td>1</td>\n",
       "      <td>S01E07</td>\n",
       "    </tr>\n",
       "    <tr>\n",
       "      <th>106</th>\n",
       "      <td>Musik wird zunehmend dissonant</td>\n",
       "      <td>1900-01-01 00:00:27</td>\n",
       "      <td>1900-01-01 00:00:29</td>\n",
       "      <td>0</td>\n",
       "      <td>7</td>\n",
       "      <td>1</td>\n",
       "      <td>S01E07</td>\n",
       "    </tr>\n",
       "    <tr>\n",
       "      <th>110</th>\n",
       "      <td>ruhige  beklemmende Musik</td>\n",
       "      <td>1900-01-01 00:02:39</td>\n",
       "      <td>1900-01-01 00:02:42</td>\n",
       "      <td>2</td>\n",
       "      <td>7</td>\n",
       "      <td>1</td>\n",
       "      <td>S01E07</td>\n",
       "    </tr>\n",
       "    <tr>\n",
       "      <th>111</th>\n",
       "      <td>Ruhige  beklemmende Musik läuft weiter</td>\n",
       "      <td>1900-01-01 00:02:51</td>\n",
       "      <td>1900-01-01 00:02:53</td>\n",
       "      <td>2</td>\n",
       "      <td>7</td>\n",
       "      <td>1</td>\n",
       "      <td>S01E07</td>\n",
       "    </tr>\n",
       "    <tr>\n",
       "      <th>...</th>\n",
       "      <td>...</td>\n",
       "      <td>...</td>\n",
       "      <td>...</td>\n",
       "      <td>...</td>\n",
       "      <td>...</td>\n",
       "      <td>...</td>\n",
       "      <td>...</td>\n",
       "    </tr>\n",
       "    <tr>\n",
       "      <th>2433</th>\n",
       "      <td>düstere Musik</td>\n",
       "      <td>1900-01-01 00:29:39</td>\n",
       "      <td>1900-01-01 00:29:41</td>\n",
       "      <td>29</td>\n",
       "      <td>9</td>\n",
       "      <td>1</td>\n",
       "      <td>S01E09</td>\n",
       "    </tr>\n",
       "    <tr>\n",
       "      <th>2435</th>\n",
       "      <td>Musik verstummt</td>\n",
       "      <td>1900-01-01 00:29:59</td>\n",
       "      <td>1900-01-01 00:30:01</td>\n",
       "      <td>29</td>\n",
       "      <td>9</td>\n",
       "      <td>1</td>\n",
       "      <td>S01E09</td>\n",
       "    </tr>\n",
       "    <tr>\n",
       "      <th>2467</th>\n",
       "      <td>melancholische Musik</td>\n",
       "      <td>1900-01-01 00:40:46</td>\n",
       "      <td>1900-01-01 00:40:48</td>\n",
       "      <td>40</td>\n",
       "      <td>9</td>\n",
       "      <td>1</td>\n",
       "      <td>S01E09</td>\n",
       "    </tr>\n",
       "    <tr>\n",
       "      <th>2473</th>\n",
       "      <td>melancholische Musik</td>\n",
       "      <td>1900-01-01 00:45:51</td>\n",
       "      <td>1900-01-01 00:45:53</td>\n",
       "      <td>45</td>\n",
       "      <td>9</td>\n",
       "      <td>1</td>\n",
       "      <td>S01E09</td>\n",
       "    </tr>\n",
       "    <tr>\n",
       "      <th>2486</th>\n",
       "      <td>dynamische Musik</td>\n",
       "      <td>1900-01-01 00:49:18</td>\n",
       "      <td>1900-01-01 00:49:21</td>\n",
       "      <td>49</td>\n",
       "      <td>9</td>\n",
       "      <td>1</td>\n",
       "      <td>S01E09</td>\n",
       "    </tr>\n",
       "  </tbody>\n",
       "</table>\n",
       "<p>138 rows × 7 columns</p>\n",
       "</div>"
      ],
      "text/plain": [
       "                                 sdh_comment      interval_start  \\\n",
       "103                      ruhige Klaviermusik 1900-01-01 00:00:06   \n",
       "105             ruhige  spieluhrartige Musik 1900-01-01 00:00:17   \n",
       "106           Musik wird zunehmend dissonant 1900-01-01 00:00:27   \n",
       "110                ruhige  beklemmende Musik 1900-01-01 00:02:39   \n",
       "111   Ruhige  beklemmende Musik läuft weiter 1900-01-01 00:02:51   \n",
       "...                                      ...                 ...   \n",
       "2433                           düstere Musik 1900-01-01 00:29:39   \n",
       "2435                         Musik verstummt 1900-01-01 00:29:59   \n",
       "2467                    melancholische Musik 1900-01-01 00:40:46   \n",
       "2473                    melancholische Musik 1900-01-01 00:45:51   \n",
       "2486                        dynamische Musik 1900-01-01 00:49:18   \n",
       "\n",
       "            interval_end  interval_minute  episode  season season00episode00  \n",
       "103  1900-01-01 00:00:08                0        7       1            S01E07  \n",
       "105  1900-01-01 00:00:20                0        7       1            S01E07  \n",
       "106  1900-01-01 00:00:29                0        7       1            S01E07  \n",
       "110  1900-01-01 00:02:42                2        7       1            S01E07  \n",
       "111  1900-01-01 00:02:53                2        7       1            S01E07  \n",
       "...                  ...              ...      ...     ...               ...  \n",
       "2433 1900-01-01 00:29:41               29        9       1            S01E09  \n",
       "2435 1900-01-01 00:30:01               29        9       1            S01E09  \n",
       "2467 1900-01-01 00:40:48               40        9       1            S01E09  \n",
       "2473 1900-01-01 00:45:53               45        9       1            S01E09  \n",
       "2486 1900-01-01 00:49:21               49        9       1            S01E09  \n",
       "\n",
       "[138 rows x 7 columns]"
      ]
     },
     "execution_count": 196,
     "metadata": {},
     "output_type": "execute_result"
    }
   ],
   "source": [
    "# choosing season 1 and comments containing \"musik\"\n",
    "# later we'll make clusters for comments to display different types of sounds: clicks, peeps, thunder, music, radio and so on\n",
    "data_s01e01 = data[(data.season==1) & (data.sdh_comment.str.lower().str.contains('musik'))]\n",
    "# |klavierspiel|klänge\n",
    "data_s01e01"
   ]
  },
  {
   "cell_type": "code",
   "execution_count": 197,
   "metadata": {},
   "outputs": [
    {
     "data": {
      "application/vnd.plotly.v1+json": {
       "config": {
        "plotlyServerURL": "https://plot.ly"
       },
       "data": [
        {
         "alignmentgroup": "True",
         "base": [
          "1900-01-01T00:00:06",
          "1900-01-01T00:00:17",
          "1900-01-01T00:00:27",
          "1900-01-01T00:02:39",
          "1900-01-01T00:02:51",
          "1900-01-01T00:05:59",
          "1900-01-01T00:06:06",
          "1900-01-01T00:12:29",
          "1900-01-01T00:14:49",
          "1900-01-01T00:26:19",
          "1900-01-01T00:26:51",
          "1900-01-01T00:28:12",
          "1900-01-01T00:32:34",
          "1900-01-01T00:35:26",
          "1900-01-01T00:40:57",
          "1900-01-01T00:42:43",
          "1900-01-01T00:15:29",
          "1900-01-01T00:16:33",
          "1900-01-01T00:18:41",
          "1900-01-01T00:37:24",
          "1900-01-01T00:37:42",
          "1900-01-01T00:39:53",
          "1900-01-01T00:40:43",
          "1900-01-01T00:03:21",
          "1900-01-01T00:08:11",
          "1900-01-01T00:14:40",
          "1900-01-01T00:15:08",
          "1900-01-01T00:16:16",
          "1900-01-01T00:17:59",
          "1900-01-01T00:18:53",
          "1900-01-01T00:21:13",
          "1900-01-01T00:23:14",
          "1900-01-01T00:23:38",
          "1900-01-01T00:23:53",
          "1900-01-01T00:24:34",
          "1900-01-01T00:27:02",
          "1900-01-01T00:36:45",
          "1900-01-01T00:37:06",
          "1900-01-01T00:44:16",
          "1900-01-01T00:00:32",
          "1900-01-01T00:02:51",
          "1900-01-01T00:03:01",
          "1900-01-01T00:04:41",
          "1900-01-01T00:05:08",
          "1900-01-01T00:07:09",
          "1900-01-01T00:07:45",
          "1900-01-01T00:07:55",
          "1900-01-01T00:09:21",
          "1900-01-01T00:11:36",
          "1900-01-01T00:21:15",
          "1900-01-01T00:27:36",
          "1900-01-01T00:29:10",
          "1900-01-01T00:40:25",
          "1900-01-01T00:43:19",
          "1900-01-01T00:44:03",
          "1900-01-01T00:45:14",
          "1900-01-01T00:49:51",
          "1900-01-01T00:50:00",
          "1900-01-01T00:53:17",
          "1900-01-01T00:00:08",
          "1900-01-01T00:00:35",
          "1900-01-01T00:01:18",
          "1900-01-01T00:01:34",
          "1900-01-01T00:10:36",
          "1900-01-01T00:24:18",
          "1900-01-01T00:25:12",
          "1900-01-01T00:26:28",
          "1900-01-01T00:27:05",
          "1900-01-01T00:30:13",
          "1900-01-01T00:36:41",
          "1900-01-01T00:09:35",
          "1900-01-01T00:09:47",
          "1900-01-01T00:09:52",
          "1900-01-01T00:19:02",
          "1900-01-01T00:23:07",
          "1900-01-01T00:29:43",
          "1900-01-01T00:35:29",
          "1900-01-01T00:41:39",
          "1900-01-01T00:42:00",
          "1900-01-01T00:42:40",
          "1900-01-01T00:43:12",
          "1900-01-01T00:47:38",
          "1900-01-01T00:17:25",
          "1900-01-01T00:19:35",
          "1900-01-01T00:33:41",
          "1900-01-01T00:37:11",
          "1900-01-01T00:38:47",
          "1900-01-01T00:39:33",
          "1900-01-01T00:01:06",
          "1900-01-01T00:11:38",
          "1900-01-01T00:12:22",
          "1900-01-01T00:17:30",
          "1900-01-01T00:17:56",
          "1900-01-01T00:18:16",
          "1900-01-01T00:20:17",
          "1900-01-01T00:21:48",
          "1900-01-01T00:27:48",
          "1900-01-01T00:32:33",
          "1900-01-01T00:34:16",
          "1900-01-01T00:35:47",
          "1900-01-01T00:38:15",
          "1900-01-01T00:41:54",
          "1900-01-01T00:01:30",
          "1900-01-01T00:06:54",
          "1900-01-01T00:11:19",
          "1900-01-01T00:11:44",
          "1900-01-01T00:12:05",
          "1900-01-01T00:14:06",
          "1900-01-01T00:15:33",
          "1900-01-01T00:15:49",
          "1900-01-01T00:17:06",
          "1900-01-01T00:18:21",
          "1900-01-01T00:22:12",
          "1900-01-01T00:25:15",
          "1900-01-01T00:27:21",
          "1900-01-01T00:27:40",
          "1900-01-01T00:28:19",
          "1900-01-01T00:28:33",
          "1900-01-01T00:28:52",
          "1900-01-01T00:31:10",
          "1900-01-01T00:35:55",
          "1900-01-01T00:36:16",
          "1900-01-01T00:36:41",
          "1900-01-01T00:37:03",
          "1900-01-01T00:37:37",
          "1900-01-01T00:39:52",
          "1900-01-01T00:45:34",
          "1900-01-01T00:45:40",
          "1900-01-01T00:46:51",
          "1900-01-01T00:47:08",
          "1900-01-01T00:10:19",
          "1900-01-01T00:10:44",
          "1900-01-01T00:26:27",
          "1900-01-01T00:29:39",
          "1900-01-01T00:29:59",
          "1900-01-01T00:40:46",
          "1900-01-01T00:45:51",
          "1900-01-01T00:49:18"
         ],
         "customdata": [
          [
           "ruhige Klaviermusik"
          ],
          [
           "ruhige  spieluhrartige Musik"
          ],
          [
           "Musik wird zunehmend dissonant"
          ],
          [
           "ruhige  beklemmende Musik"
          ],
          [
           "Ruhige  beklemmende Musik läuft weiter"
          ],
          [
           "Die Musik spielt weiter"
          ],
          [
           "Musik verstummt"
          ],
          [
           "Schlagermusik aus dem Autoradio"
          ],
          [
           "Popmusik aus dem Autoradio"
          ],
          [
           "sphärische Musik"
          ],
          [
           "Sphärische Musik läuft weiter"
          ],
          [
           "melancholische Musik"
          ],
          [
           "melancholische Musik"
          ],
          [
           "bedrohliche Musik"
          ],
          [
           "bedrohliche Musik"
          ],
          [
           "traurige Musik"
          ],
          [
           "geheimnisvolle Musik"
          ],
          [
           "spannungsvolle Musik"
          ],
          [
           "bedrohliche Musik"
          ],
          [
           "unheilvolle Musik"
          ],
          [
           "bedrohliche Musik"
          ],
          [
           "Bedrohliche Musik steigert sich"
          ],
          [
           "melancholische Klaviermusik"
          ],
          [
           "triste Musik"
          ],
          [
           "finstere Musik"
          ],
          [
           "angespannte Musik"
          ],
          [
           "düstere Musik"
          ],
          [
           "spannungsvolle Musik"
          ],
          [
           "düstere Musik"
          ],
          [
           "geheimnisvolle Musik"
          ],
          [
           "düstere  pulsierende Musik"
          ],
          [
           "spannungsvolle  langsame Musik"
          ],
          [
           "Spannungsvolle Musik wird langsam lauter"
          ],
          [
           "Spannungsvolle Musik steigert sich"
          ],
          [
           "Musik verstummt"
          ],
          [
           "angespannte Musik"
          ],
          [
           "beklemmende Musik"
          ],
          [
           "unheilvolle Musik"
          ],
          [
           "spannungsgeladene Musik"
          ],
          [
           "beklemmende Musik"
          ],
          [
           "beklemmende Musik"
          ],
          [
           "düstere Musik"
          ],
          [
           "spannungsvolle Musik"
          ],
          [
           "spannungsvolle Musik"
          ],
          [
           "unheimliche Musik"
          ],
          [
           "angespannte Musik"
          ],
          [
           "düstere Musik"
          ],
          [
           "spannungsvolle  elektronische Musik"
          ],
          [
           "ruhige  rätselhafte Musik"
          ],
          [
           "geheimnisvolle Musik"
          ],
          [
           "düstere Musik"
          ],
          [
           "unheimliche Musik"
          ],
          [
           "unheimliche Musik"
          ],
          [
           "düstere Musik"
          ],
          [
           "beklemmende Musik"
          ],
          [
           "ruhige Gitarrenmusik"
          ],
          [
           "ruhige  spieluhrartige Musik"
          ],
          [
           "Musik wird zunehmend dissonant"
          ],
          [
           "spannungsvolle Musik"
          ],
          [
           "ruhige  geheimnisvolle Musik"
          ],
          [
           "Ruhige Musik läuft weiter"
          ],
          [
           "Ruhige Musik wird lauter"
          ],
          [
           "Ruhige Musik verstummt langsam"
          ],
          [
           "angespannte Musik"
          ],
          [
           "angespannte Musik"
          ],
          [
           "verträumte Musik"
          ],
          [
           "Verträumte Musik läuft weiter"
          ],
          [
           "Verträumte Musik verstummt"
          ],
          [
           "beklemmende Musik"
          ],
          [
           "traurige Musik"
          ],
          [
           "ruhige A-cappella-Musik"
          ],
          [
           "A-cappella-Musik wird lauter"
          ],
          [
           "Musik verstummt"
          ],
          [
           "spannungsvolle Musik"
          ],
          [
           "fröhliche Popmusik"
          ],
          [
           "geheimnisvolle Musik"
          ],
          [
           "düstere Musik"
          ],
          [
           "melancholische Klaviermusik"
          ],
          [
           "Melancholische Musik läuft weiter"
          ],
          [
           "Melancholische Musik läuft weiter"
          ],
          [
           "Musik verstummt"
          ],
          [
           "leise Popmusik"
          ],
          [
           "spannungsvolle Musik"
          ],
          [
           "Musik läuft weiter"
          ],
          [
           "bedrohliche Musik"
          ],
          [
           "sphärische  leicht unruhige Musik"
          ],
          [
           "Musik verstummt"
          ],
          [
           "düstere Musik"
          ],
          [
           "bedrohliche Musik"
          ],
          [
           "fröhliche Popmusik im Radio"
          ],
          [
           "Radiomusik verstummt"
          ],
          [
           "laute Heavy-Metal-Musik"
          ],
          [
           "laute Heavy-Metal-Musik"
          ],
          [
           "laute Heavy-Metal-Musik"
          ],
          [
           "laute Heavy-Metal-Musik"
          ],
          [
           "traurige Musik"
          ],
          [
           "spannungsvolle Musik"
          ],
          [
           "melancholische Musik"
          ],
          [
           "getragene Instrumentalmusik"
          ],
          [
           "ruhige Klaviermusik"
          ],
          [
           "Die Musik geht weiter"
          ],
          [
           "spannungsvolle Musik"
          ],
          [
           "unheimliche Musik"
          ],
          [
           "heitere Musik aus dem Haus"
          ],
          [
           "spannungsvolle Musik"
          ],
          [
           "unheimliche Musik"
          ],
          [
           "geheimnisvolle Musik"
          ],
          [
           "düstere Musik"
          ],
          [
           "düstere Musik"
          ],
          [
           "geheimnisvolle Musik"
          ],
          [
           "rhythmische A-cappella-Musik"
          ],
          [
           "A-cappella-Musik wird ruhiger"
          ],
          [
           "laute Musik aus dem Radio"
          ],
          [
           "düstere Musik"
          ],
          [
           "beklemmende Musik"
          ],
          [
           "finstere Musik"
          ],
          [
           "unheimliche Musik"
          ],
          [
           "Unheimliche Musik wird lauter"
          ],
          [
           "unheimliche Musik"
          ],
          [
           "leise Musik vom Plattenspieler"
          ],
          [
           "beklemmende Musik"
          ],
          [
           "rhythmische  bedrohliche Musik"
          ],
          [
           "Rhythmische  bedrohliche Musik läuft weiter"
          ],
          [
           "Bedrohliche Musik verstummt"
          ],
          [
           "schwungvolle Musik"
          ],
          [
           "düstere Musik"
          ],
          [
           "rätselhafte Musik"
          ],
          [
           "Rätselhafte Musik läuft weiter"
          ],
          [
           "Rätselhafte Musik läuft weiter"
          ],
          [
           "Musik verstummt"
          ],
          [
           "bedrohliche  rhythmische Musik"
          ],
          [
           "Bedrohliche Musik läuft weiter"
          ],
          [
           "spannungsvolle Musik"
          ],
          [
           "düstere Musik"
          ],
          [
           "Musik verstummt"
          ],
          [
           "melancholische Musik"
          ],
          [
           "melancholische Musik"
          ],
          [
           "dynamische Musik"
          ]
         ],
         "hovertemplate": "<b>%{hovertext}</b><br><br>interval_start=%{base}<br>season00episode00=%{y}<extra></extra>",
         "hovertext": [
          "ruhige Klaviermusik",
          "ruhige  spieluhrartige Musik",
          "Musik wird zunehmend dissonant",
          "ruhige  beklemmende Musik",
          "Ruhige  beklemmende Musik läuft weiter",
          "Die Musik spielt weiter",
          "Musik verstummt",
          "Schlagermusik aus dem Autoradio",
          "Popmusik aus dem Autoradio",
          "sphärische Musik",
          "Sphärische Musik läuft weiter",
          "melancholische Musik",
          "melancholische Musik",
          "bedrohliche Musik",
          "bedrohliche Musik",
          "traurige Musik",
          "geheimnisvolle Musik",
          "spannungsvolle Musik",
          "bedrohliche Musik",
          "unheilvolle Musik",
          "bedrohliche Musik",
          "Bedrohliche Musik steigert sich",
          "melancholische Klaviermusik",
          "triste Musik",
          "finstere Musik",
          "angespannte Musik",
          "düstere Musik",
          "spannungsvolle Musik",
          "düstere Musik",
          "geheimnisvolle Musik",
          "düstere  pulsierende Musik",
          "spannungsvolle  langsame Musik",
          "Spannungsvolle Musik wird langsam lauter",
          "Spannungsvolle Musik steigert sich",
          "Musik verstummt",
          "angespannte Musik",
          "beklemmende Musik",
          "unheilvolle Musik",
          "spannungsgeladene Musik",
          "beklemmende Musik",
          "beklemmende Musik",
          "düstere Musik",
          "spannungsvolle Musik",
          "spannungsvolle Musik",
          "unheimliche Musik",
          "angespannte Musik",
          "düstere Musik",
          "spannungsvolle  elektronische Musik",
          "ruhige  rätselhafte Musik",
          "geheimnisvolle Musik",
          "düstere Musik",
          "unheimliche Musik",
          "unheimliche Musik",
          "düstere Musik",
          "beklemmende Musik",
          "ruhige Gitarrenmusik",
          "ruhige  spieluhrartige Musik",
          "Musik wird zunehmend dissonant",
          "spannungsvolle Musik",
          "ruhige  geheimnisvolle Musik",
          "Ruhige Musik läuft weiter",
          "Ruhige Musik wird lauter",
          "Ruhige Musik verstummt langsam",
          "angespannte Musik",
          "angespannte Musik",
          "verträumte Musik",
          "Verträumte Musik läuft weiter",
          "Verträumte Musik verstummt",
          "beklemmende Musik",
          "traurige Musik",
          "ruhige A-cappella-Musik",
          "A-cappella-Musik wird lauter",
          "Musik verstummt",
          "spannungsvolle Musik",
          "fröhliche Popmusik",
          "geheimnisvolle Musik",
          "düstere Musik",
          "melancholische Klaviermusik",
          "Melancholische Musik läuft weiter",
          "Melancholische Musik läuft weiter",
          "Musik verstummt",
          "leise Popmusik",
          "spannungsvolle Musik",
          "Musik läuft weiter",
          "bedrohliche Musik",
          "sphärische  leicht unruhige Musik",
          "Musik verstummt",
          "düstere Musik",
          "bedrohliche Musik",
          "fröhliche Popmusik im Radio",
          "Radiomusik verstummt",
          "laute Heavy-Metal-Musik",
          "laute Heavy-Metal-Musik",
          "laute Heavy-Metal-Musik",
          "laute Heavy-Metal-Musik",
          "traurige Musik",
          "spannungsvolle Musik",
          "melancholische Musik",
          "getragene Instrumentalmusik",
          "ruhige Klaviermusik",
          "Die Musik geht weiter",
          "spannungsvolle Musik",
          "unheimliche Musik",
          "heitere Musik aus dem Haus",
          "spannungsvolle Musik",
          "unheimliche Musik",
          "geheimnisvolle Musik",
          "düstere Musik",
          "düstere Musik",
          "geheimnisvolle Musik",
          "rhythmische A-cappella-Musik",
          "A-cappella-Musik wird ruhiger",
          "laute Musik aus dem Radio",
          "düstere Musik",
          "beklemmende Musik",
          "finstere Musik",
          "unheimliche Musik",
          "Unheimliche Musik wird lauter",
          "unheimliche Musik",
          "leise Musik vom Plattenspieler",
          "beklemmende Musik",
          "rhythmische  bedrohliche Musik",
          "Rhythmische  bedrohliche Musik läuft weiter",
          "Bedrohliche Musik verstummt",
          "schwungvolle Musik",
          "düstere Musik",
          "rätselhafte Musik",
          "Rätselhafte Musik läuft weiter",
          "Rätselhafte Musik läuft weiter",
          "Musik verstummt",
          "bedrohliche  rhythmische Musik",
          "Bedrohliche Musik läuft weiter",
          "spannungsvolle Musik",
          "düstere Musik",
          "Musik verstummt",
          "melancholische Musik",
          "melancholische Musik",
          "dynamische Musik"
         ],
         "legendgroup": "",
         "marker": {
          "color": "rgb(120,130,90)",
          "pattern": {
           "shape": ""
          }
         },
         "name": "",
         "offsetgroup": "",
         "orientation": "h",
         "showlegend": false,
         "text": [
          "ruhige Klaviermusik",
          "ruhige  spieluhrartige Musik",
          "Musik wird zunehmend dissonant",
          "ruhige  beklemmende Musik",
          "Ruhige  beklemmende Musik läuft weiter",
          "Die Musik spielt weiter",
          "Musik verstummt",
          "Schlagermusik aus dem Autoradio",
          "Popmusik aus dem Autoradio",
          "sphärische Musik",
          "Sphärische Musik läuft weiter",
          "melancholische Musik",
          "melancholische Musik",
          "bedrohliche Musik",
          "bedrohliche Musik",
          "traurige Musik",
          "geheimnisvolle Musik",
          "spannungsvolle Musik",
          "bedrohliche Musik",
          "unheilvolle Musik",
          "bedrohliche Musik",
          "Bedrohliche Musik steigert sich",
          "melancholische Klaviermusik",
          "triste Musik",
          "finstere Musik",
          "angespannte Musik",
          "düstere Musik",
          "spannungsvolle Musik",
          "düstere Musik",
          "geheimnisvolle Musik",
          "düstere  pulsierende Musik",
          "spannungsvolle  langsame Musik",
          "Spannungsvolle Musik wird langsam lauter",
          "Spannungsvolle Musik steigert sich",
          "Musik verstummt",
          "angespannte Musik",
          "beklemmende Musik",
          "unheilvolle Musik",
          "spannungsgeladene Musik",
          "beklemmende Musik",
          "beklemmende Musik",
          "düstere Musik",
          "spannungsvolle Musik",
          "spannungsvolle Musik",
          "unheimliche Musik",
          "angespannte Musik",
          "düstere Musik",
          "spannungsvolle  elektronische Musik",
          "ruhige  rätselhafte Musik",
          "geheimnisvolle Musik",
          "düstere Musik",
          "unheimliche Musik",
          "unheimliche Musik",
          "düstere Musik",
          "beklemmende Musik",
          "ruhige Gitarrenmusik",
          "ruhige  spieluhrartige Musik",
          "Musik wird zunehmend dissonant",
          "spannungsvolle Musik",
          "ruhige  geheimnisvolle Musik",
          "Ruhige Musik läuft weiter",
          "Ruhige Musik wird lauter",
          "Ruhige Musik verstummt langsam",
          "angespannte Musik",
          "angespannte Musik",
          "verträumte Musik",
          "Verträumte Musik läuft weiter",
          "Verträumte Musik verstummt",
          "beklemmende Musik",
          "traurige Musik",
          "ruhige A-cappella-Musik",
          "A-cappella-Musik wird lauter",
          "Musik verstummt",
          "spannungsvolle Musik",
          "fröhliche Popmusik",
          "geheimnisvolle Musik",
          "düstere Musik",
          "melancholische Klaviermusik",
          "Melancholische Musik läuft weiter",
          "Melancholische Musik läuft weiter",
          "Musik verstummt",
          "leise Popmusik",
          "spannungsvolle Musik",
          "Musik läuft weiter",
          "bedrohliche Musik",
          "sphärische  leicht unruhige Musik",
          "Musik verstummt",
          "düstere Musik",
          "bedrohliche Musik",
          "fröhliche Popmusik im Radio",
          "Radiomusik verstummt",
          "laute Heavy-Metal-Musik",
          "laute Heavy-Metal-Musik",
          "laute Heavy-Metal-Musik",
          "laute Heavy-Metal-Musik",
          "traurige Musik",
          "spannungsvolle Musik",
          "melancholische Musik",
          "getragene Instrumentalmusik",
          "ruhige Klaviermusik",
          "Die Musik geht weiter",
          "spannungsvolle Musik",
          "unheimliche Musik",
          "heitere Musik aus dem Haus",
          "spannungsvolle Musik",
          "unheimliche Musik",
          "geheimnisvolle Musik",
          "düstere Musik",
          "düstere Musik",
          "geheimnisvolle Musik",
          "rhythmische A-cappella-Musik",
          "A-cappella-Musik wird ruhiger",
          "laute Musik aus dem Radio",
          "düstere Musik",
          "beklemmende Musik",
          "finstere Musik",
          "unheimliche Musik",
          "Unheimliche Musik wird lauter",
          "unheimliche Musik",
          "leise Musik vom Plattenspieler",
          "beklemmende Musik",
          "rhythmische  bedrohliche Musik",
          "Rhythmische  bedrohliche Musik läuft weiter",
          "Bedrohliche Musik verstummt",
          "schwungvolle Musik",
          "düstere Musik",
          "rätselhafte Musik",
          "Rätselhafte Musik läuft weiter",
          "Rätselhafte Musik läuft weiter",
          "Musik verstummt",
          "bedrohliche  rhythmische Musik",
          "Bedrohliche Musik läuft weiter",
          "spannungsvolle Musik",
          "düstere Musik",
          "Musik verstummt",
          "melancholische Musik",
          "melancholische Musik",
          "dynamische Musik"
         ],
         "textangle": 0,
         "textfont": {
          "size": 8
         },
         "textposition": "auto",
         "type": "bar",
         "x": [
          2000,
          3000,
          2000,
          3000,
          2000,
          1000,
          3000,
          2000,
          2000,
          3000,
          2000,
          2000,
          2000,
          2000,
          2000,
          2000,
          4000,
          2000,
          3000,
          3000,
          3000,
          2000,
          3000,
          2000,
          2000,
          2000,
          1000,
          3000,
          2000,
          2000,
          2000,
          3000,
          3000,
          2000,
          2000,
          2000,
          2000,
          2000,
          4000,
          2000,
          2000,
          2000,
          2000,
          2000,
          2000,
          2000,
          3000,
          3000,
          2000,
          4000,
          3000,
          2000,
          2000,
          2000,
          2000,
          3000,
          2000,
          3000,
          2000,
          2000,
          3000,
          3000,
          3000,
          2000,
          3000,
          3000,
          1000,
          2000,
          2000,
          3000,
          3000,
          2000,
          1000,
          2000,
          2000,
          4000,
          3000,
          4000,
          3000,
          3000,
          2000,
          3000,
          4000,
          1000,
          2000,
          2000,
          2000,
          2000,
          2000,
          2000,
          2000,
          2000,
          2000,
          2000,
          2000,
          2000,
          2000,
          3000,
          4000,
          3000,
          2000,
          4000,
          2000,
          3000,
          2000,
          2000,
          3000,
          2000,
          2000,
          2000,
          3000,
          2000,
          3000,
          2000,
          2000,
          3000,
          2000,
          2000,
          2000,
          2000,
          2000,
          4000,
          4000,
          3000,
          4000,
          3000,
          3000,
          3000,
          2000,
          2000,
          3000,
          3000,
          2000,
          2000,
          2000,
          2000,
          2000,
          3000
         ],
         "xaxis": "x",
         "y": [
          "S01E07",
          "S01E07",
          "S01E07",
          "S01E07",
          "S01E07",
          "S01E07",
          "S01E07",
          "S01E07",
          "S01E07",
          "S01E07",
          "S01E07",
          "S01E07",
          "S01E07",
          "S01E07",
          "S01E07",
          "S01E07",
          "S01E06",
          "S01E06",
          "S01E06",
          "S01E06",
          "S01E06",
          "S01E06",
          "S01E06",
          "S01E04",
          "S01E04",
          "S01E04",
          "S01E04",
          "S01E04",
          "S01E04",
          "S01E04",
          "S01E04",
          "S01E04",
          "S01E04",
          "S01E04",
          "S01E04",
          "S01E04",
          "S01E04",
          "S01E04",
          "S01E04",
          "S01E10",
          "S01E10",
          "S01E10",
          "S01E10",
          "S01E10",
          "S01E10",
          "S01E10",
          "S01E10",
          "S01E10",
          "S01E10",
          "S01E10",
          "S01E10",
          "S01E10",
          "S01E10",
          "S01E10",
          "S01E10",
          "S01E10",
          "S01E10",
          "S01E10",
          "S01E10",
          "S01E05",
          "S01E05",
          "S01E05",
          "S01E05",
          "S01E05",
          "S01E05",
          "S01E05",
          "S01E05",
          "S01E05",
          "S01E05",
          "S01E05",
          "S01E01",
          "S01E01",
          "S01E01",
          "S01E01",
          "S01E01",
          "S01E01",
          "S01E01",
          "S01E01",
          "S01E01",
          "S01E01",
          "S01E01",
          "S01E01",
          "S01E02",
          "S01E02",
          "S01E02",
          "S01E02",
          "S01E02",
          "S01E02",
          "S01E03",
          "S01E03",
          "S01E03",
          "S01E03",
          "S01E03",
          "S01E03",
          "S01E03",
          "S01E03",
          "S01E03",
          "S01E03",
          "S01E03",
          "S01E03",
          "S01E03",
          "S01E03",
          "S01E08",
          "S01E08",
          "S01E08",
          "S01E08",
          "S01E08",
          "S01E08",
          "S01E08",
          "S01E08",
          "S01E08",
          "S01E08",
          "S01E08",
          "S01E08",
          "S01E08",
          "S01E08",
          "S01E08",
          "S01E08",
          "S01E08",
          "S01E08",
          "S01E08",
          "S01E08",
          "S01E08",
          "S01E08",
          "S01E08",
          "S01E08",
          "S01E08",
          "S01E08",
          "S01E08",
          "S01E08",
          "S01E09",
          "S01E09",
          "S01E09",
          "S01E09",
          "S01E09",
          "S01E09",
          "S01E09",
          "S01E09"
         ],
         "yaxis": "y"
        }
       ],
       "layout": {
        "bargap": 0,
        "barmode": "overlay",
        "font": {
         "color": "white",
         "family": "Courier New"
        },
        "height": 600,
        "legend": {
         "tracegroupgap": 0
        },
        "margin": {
         "t": 60
        },
        "shapes": [
         {
          "fillcolor": "black",
          "layer": "below",
          "line": {
           "width": 30
          },
          "opacity": 0.03,
          "type": "rect",
          "x0": 0,
          "x1": 1,
          "xref": "x domain",
          "y0": "S01E07",
          "y1": "S01E07",
          "yref": "y"
         },
         {
          "fillcolor": "black",
          "layer": "below",
          "line": {
           "width": 30
          },
          "opacity": 0.03,
          "type": "rect",
          "x0": 0,
          "x1": 1,
          "xref": "x domain",
          "y0": "S01E06",
          "y1": "S01E06",
          "yref": "y"
         },
         {
          "fillcolor": "black",
          "layer": "below",
          "line": {
           "width": 30
          },
          "opacity": 0.03,
          "type": "rect",
          "x0": 0,
          "x1": 1,
          "xref": "x domain",
          "y0": "S01E04",
          "y1": "S01E04",
          "yref": "y"
         },
         {
          "fillcolor": "black",
          "layer": "below",
          "line": {
           "width": 30
          },
          "opacity": 0.03,
          "type": "rect",
          "x0": 0,
          "x1": 1,
          "xref": "x domain",
          "y0": "S01E10",
          "y1": "S01E10",
          "yref": "y"
         },
         {
          "fillcolor": "black",
          "layer": "below",
          "line": {
           "width": 30
          },
          "opacity": 0.03,
          "type": "rect",
          "x0": 0,
          "x1": 1,
          "xref": "x domain",
          "y0": "S01E05",
          "y1": "S01E05",
          "yref": "y"
         },
         {
          "fillcolor": "black",
          "layer": "below",
          "line": {
           "width": 30
          },
          "opacity": 0.03,
          "type": "rect",
          "x0": 0,
          "x1": 1,
          "xref": "x domain",
          "y0": "S01E01",
          "y1": "S01E01",
          "yref": "y"
         },
         {
          "fillcolor": "black",
          "layer": "below",
          "line": {
           "width": 30
          },
          "opacity": 0.03,
          "type": "rect",
          "x0": 0,
          "x1": 1,
          "xref": "x domain",
          "y0": "S01E02",
          "y1": "S01E02",
          "yref": "y"
         },
         {
          "fillcolor": "black",
          "layer": "below",
          "line": {
           "width": 30
          },
          "opacity": 0.03,
          "type": "rect",
          "x0": 0,
          "x1": 1,
          "xref": "x domain",
          "y0": "S01E03",
          "y1": "S01E03",
          "yref": "y"
         },
         {
          "fillcolor": "black",
          "layer": "below",
          "line": {
           "width": 30
          },
          "opacity": 0.03,
          "type": "rect",
          "x0": 0,
          "x1": 1,
          "xref": "x domain",
          "y0": "S01E08",
          "y1": "S01E08",
          "yref": "y"
         },
         {
          "fillcolor": "black",
          "layer": "below",
          "line": {
           "width": 30
          },
          "opacity": 0.03,
          "type": "rect",
          "x0": 0,
          "x1": 1,
          "xref": "x domain",
          "y0": "S01E09",
          "y1": "S01E09",
          "yref": "y"
         }
        ],
        "template": {
         "data": {
          "bar": [
           {
            "error_x": {
             "color": "#f2f5fa"
            },
            "error_y": {
             "color": "#f2f5fa"
            },
            "marker": {
             "line": {
              "color": "rgb(17,17,17)",
              "width": 0.5
             },
             "pattern": {
              "fillmode": "overlay",
              "size": 10,
              "solidity": 0.2
             }
            },
            "type": "bar"
           }
          ],
          "barpolar": [
           {
            "marker": {
             "line": {
              "color": "rgb(17,17,17)",
              "width": 0.5
             },
             "pattern": {
              "fillmode": "overlay",
              "size": 10,
              "solidity": 0.2
             }
            },
            "type": "barpolar"
           }
          ],
          "carpet": [
           {
            "aaxis": {
             "endlinecolor": "#A2B1C6",
             "gridcolor": "#506784",
             "linecolor": "#506784",
             "minorgridcolor": "#506784",
             "startlinecolor": "#A2B1C6"
            },
            "baxis": {
             "endlinecolor": "#A2B1C6",
             "gridcolor": "#506784",
             "linecolor": "#506784",
             "minorgridcolor": "#506784",
             "startlinecolor": "#A2B1C6"
            },
            "type": "carpet"
           }
          ],
          "choropleth": [
           {
            "colorbar": {
             "outlinewidth": 0,
             "ticks": ""
            },
            "type": "choropleth"
           }
          ],
          "contour": [
           {
            "colorbar": {
             "outlinewidth": 0,
             "ticks": ""
            },
            "colorscale": [
             [
              0,
              "#0d0887"
             ],
             [
              0.1111111111111111,
              "#46039f"
             ],
             [
              0.2222222222222222,
              "#7201a8"
             ],
             [
              0.3333333333333333,
              "#9c179e"
             ],
             [
              0.4444444444444444,
              "#bd3786"
             ],
             [
              0.5555555555555556,
              "#d8576b"
             ],
             [
              0.6666666666666666,
              "#ed7953"
             ],
             [
              0.7777777777777778,
              "#fb9f3a"
             ],
             [
              0.8888888888888888,
              "#fdca26"
             ],
             [
              1,
              "#f0f921"
             ]
            ],
            "type": "contour"
           }
          ],
          "contourcarpet": [
           {
            "colorbar": {
             "outlinewidth": 0,
             "ticks": ""
            },
            "type": "contourcarpet"
           }
          ],
          "heatmap": [
           {
            "colorbar": {
             "outlinewidth": 0,
             "ticks": ""
            },
            "colorscale": [
             [
              0,
              "#0d0887"
             ],
             [
              0.1111111111111111,
              "#46039f"
             ],
             [
              0.2222222222222222,
              "#7201a8"
             ],
             [
              0.3333333333333333,
              "#9c179e"
             ],
             [
              0.4444444444444444,
              "#bd3786"
             ],
             [
              0.5555555555555556,
              "#d8576b"
             ],
             [
              0.6666666666666666,
              "#ed7953"
             ],
             [
              0.7777777777777778,
              "#fb9f3a"
             ],
             [
              0.8888888888888888,
              "#fdca26"
             ],
             [
              1,
              "#f0f921"
             ]
            ],
            "type": "heatmap"
           }
          ],
          "heatmapgl": [
           {
            "colorbar": {
             "outlinewidth": 0,
             "ticks": ""
            },
            "colorscale": [
             [
              0,
              "#0d0887"
             ],
             [
              0.1111111111111111,
              "#46039f"
             ],
             [
              0.2222222222222222,
              "#7201a8"
             ],
             [
              0.3333333333333333,
              "#9c179e"
             ],
             [
              0.4444444444444444,
              "#bd3786"
             ],
             [
              0.5555555555555556,
              "#d8576b"
             ],
             [
              0.6666666666666666,
              "#ed7953"
             ],
             [
              0.7777777777777778,
              "#fb9f3a"
             ],
             [
              0.8888888888888888,
              "#fdca26"
             ],
             [
              1,
              "#f0f921"
             ]
            ],
            "type": "heatmapgl"
           }
          ],
          "histogram": [
           {
            "marker": {
             "pattern": {
              "fillmode": "overlay",
              "size": 10,
              "solidity": 0.2
             }
            },
            "type": "histogram"
           }
          ],
          "histogram2d": [
           {
            "colorbar": {
             "outlinewidth": 0,
             "ticks": ""
            },
            "colorscale": [
             [
              0,
              "#0d0887"
             ],
             [
              0.1111111111111111,
              "#46039f"
             ],
             [
              0.2222222222222222,
              "#7201a8"
             ],
             [
              0.3333333333333333,
              "#9c179e"
             ],
             [
              0.4444444444444444,
              "#bd3786"
             ],
             [
              0.5555555555555556,
              "#d8576b"
             ],
             [
              0.6666666666666666,
              "#ed7953"
             ],
             [
              0.7777777777777778,
              "#fb9f3a"
             ],
             [
              0.8888888888888888,
              "#fdca26"
             ],
             [
              1,
              "#f0f921"
             ]
            ],
            "type": "histogram2d"
           }
          ],
          "histogram2dcontour": [
           {
            "colorbar": {
             "outlinewidth": 0,
             "ticks": ""
            },
            "colorscale": [
             [
              0,
              "#0d0887"
             ],
             [
              0.1111111111111111,
              "#46039f"
             ],
             [
              0.2222222222222222,
              "#7201a8"
             ],
             [
              0.3333333333333333,
              "#9c179e"
             ],
             [
              0.4444444444444444,
              "#bd3786"
             ],
             [
              0.5555555555555556,
              "#d8576b"
             ],
             [
              0.6666666666666666,
              "#ed7953"
             ],
             [
              0.7777777777777778,
              "#fb9f3a"
             ],
             [
              0.8888888888888888,
              "#fdca26"
             ],
             [
              1,
              "#f0f921"
             ]
            ],
            "type": "histogram2dcontour"
           }
          ],
          "mesh3d": [
           {
            "colorbar": {
             "outlinewidth": 0,
             "ticks": ""
            },
            "type": "mesh3d"
           }
          ],
          "parcoords": [
           {
            "line": {
             "colorbar": {
              "outlinewidth": 0,
              "ticks": ""
             }
            },
            "type": "parcoords"
           }
          ],
          "pie": [
           {
            "automargin": true,
            "type": "pie"
           }
          ],
          "scatter": [
           {
            "marker": {
             "line": {
              "color": "#283442"
             }
            },
            "type": "scatter"
           }
          ],
          "scatter3d": [
           {
            "line": {
             "colorbar": {
              "outlinewidth": 0,
              "ticks": ""
             }
            },
            "marker": {
             "colorbar": {
              "outlinewidth": 0,
              "ticks": ""
             }
            },
            "type": "scatter3d"
           }
          ],
          "scattercarpet": [
           {
            "marker": {
             "colorbar": {
              "outlinewidth": 0,
              "ticks": ""
             }
            },
            "type": "scattercarpet"
           }
          ],
          "scattergeo": [
           {
            "marker": {
             "colorbar": {
              "outlinewidth": 0,
              "ticks": ""
             }
            },
            "type": "scattergeo"
           }
          ],
          "scattergl": [
           {
            "marker": {
             "line": {
              "color": "#283442"
             }
            },
            "type": "scattergl"
           }
          ],
          "scattermapbox": [
           {
            "marker": {
             "colorbar": {
              "outlinewidth": 0,
              "ticks": ""
             }
            },
            "type": "scattermapbox"
           }
          ],
          "scatterpolar": [
           {
            "marker": {
             "colorbar": {
              "outlinewidth": 0,
              "ticks": ""
             }
            },
            "type": "scatterpolar"
           }
          ],
          "scatterpolargl": [
           {
            "marker": {
             "colorbar": {
              "outlinewidth": 0,
              "ticks": ""
             }
            },
            "type": "scatterpolargl"
           }
          ],
          "scatterternary": [
           {
            "marker": {
             "colorbar": {
              "outlinewidth": 0,
              "ticks": ""
             }
            },
            "type": "scatterternary"
           }
          ],
          "surface": [
           {
            "colorbar": {
             "outlinewidth": 0,
             "ticks": ""
            },
            "colorscale": [
             [
              0,
              "#0d0887"
             ],
             [
              0.1111111111111111,
              "#46039f"
             ],
             [
              0.2222222222222222,
              "#7201a8"
             ],
             [
              0.3333333333333333,
              "#9c179e"
             ],
             [
              0.4444444444444444,
              "#bd3786"
             ],
             [
              0.5555555555555556,
              "#d8576b"
             ],
             [
              0.6666666666666666,
              "#ed7953"
             ],
             [
              0.7777777777777778,
              "#fb9f3a"
             ],
             [
              0.8888888888888888,
              "#fdca26"
             ],
             [
              1,
              "#f0f921"
             ]
            ],
            "type": "surface"
           }
          ],
          "table": [
           {
            "cells": {
             "fill": {
              "color": "#506784"
             },
             "line": {
              "color": "rgb(17,17,17)"
             }
            },
            "header": {
             "fill": {
              "color": "#2a3f5f"
             },
             "line": {
              "color": "rgb(17,17,17)"
             }
            },
            "type": "table"
           }
          ]
         },
         "layout": {
          "annotationdefaults": {
           "arrowcolor": "#f2f5fa",
           "arrowhead": 0,
           "arrowwidth": 1
          },
          "autotypenumbers": "strict",
          "coloraxis": {
           "colorbar": {
            "outlinewidth": 0,
            "ticks": ""
           }
          },
          "colorscale": {
           "diverging": [
            [
             0,
             "#8e0152"
            ],
            [
             0.1,
             "#c51b7d"
            ],
            [
             0.2,
             "#de77ae"
            ],
            [
             0.3,
             "#f1b6da"
            ],
            [
             0.4,
             "#fde0ef"
            ],
            [
             0.5,
             "#f7f7f7"
            ],
            [
             0.6,
             "#e6f5d0"
            ],
            [
             0.7,
             "#b8e186"
            ],
            [
             0.8,
             "#7fbc41"
            ],
            [
             0.9,
             "#4d9221"
            ],
            [
             1,
             "#276419"
            ]
           ],
           "sequential": [
            [
             0,
             "#0d0887"
            ],
            [
             0.1111111111111111,
             "#46039f"
            ],
            [
             0.2222222222222222,
             "#7201a8"
            ],
            [
             0.3333333333333333,
             "#9c179e"
            ],
            [
             0.4444444444444444,
             "#bd3786"
            ],
            [
             0.5555555555555556,
             "#d8576b"
            ],
            [
             0.6666666666666666,
             "#ed7953"
            ],
            [
             0.7777777777777778,
             "#fb9f3a"
            ],
            [
             0.8888888888888888,
             "#fdca26"
            ],
            [
             1,
             "#f0f921"
            ]
           ],
           "sequentialminus": [
            [
             0,
             "#0d0887"
            ],
            [
             0.1111111111111111,
             "#46039f"
            ],
            [
             0.2222222222222222,
             "#7201a8"
            ],
            [
             0.3333333333333333,
             "#9c179e"
            ],
            [
             0.4444444444444444,
             "#bd3786"
            ],
            [
             0.5555555555555556,
             "#d8576b"
            ],
            [
             0.6666666666666666,
             "#ed7953"
            ],
            [
             0.7777777777777778,
             "#fb9f3a"
            ],
            [
             0.8888888888888888,
             "#fdca26"
            ],
            [
             1,
             "#f0f921"
            ]
           ]
          },
          "colorway": [
           "#636efa",
           "#EF553B",
           "#00cc96",
           "#ab63fa",
           "#FFA15A",
           "#19d3f3",
           "#FF6692",
           "#B6E880",
           "#FF97FF",
           "#FECB52"
          ],
          "font": {
           "color": "#f2f5fa"
          },
          "geo": {
           "bgcolor": "rgb(17,17,17)",
           "lakecolor": "rgb(17,17,17)",
           "landcolor": "rgb(17,17,17)",
           "showlakes": true,
           "showland": true,
           "subunitcolor": "#506784"
          },
          "hoverlabel": {
           "align": "left"
          },
          "hovermode": "closest",
          "mapbox": {
           "style": "dark"
          },
          "paper_bgcolor": "rgb(17,17,17)",
          "plot_bgcolor": "rgb(17,17,17)",
          "polar": {
           "angularaxis": {
            "gridcolor": "#506784",
            "linecolor": "#506784",
            "ticks": ""
           },
           "bgcolor": "rgb(17,17,17)",
           "radialaxis": {
            "gridcolor": "#506784",
            "linecolor": "#506784",
            "ticks": ""
           }
          },
          "scene": {
           "xaxis": {
            "backgroundcolor": "rgb(17,17,17)",
            "gridcolor": "#506784",
            "gridwidth": 2,
            "linecolor": "#506784",
            "showbackground": true,
            "ticks": "",
            "zerolinecolor": "#C8D4E3"
           },
           "yaxis": {
            "backgroundcolor": "rgb(17,17,17)",
            "gridcolor": "#506784",
            "gridwidth": 2,
            "linecolor": "#506784",
            "showbackground": true,
            "ticks": "",
            "zerolinecolor": "#C8D4E3"
           },
           "zaxis": {
            "backgroundcolor": "rgb(17,17,17)",
            "gridcolor": "#506784",
            "gridwidth": 2,
            "linecolor": "#506784",
            "showbackground": true,
            "ticks": "",
            "zerolinecolor": "#C8D4E3"
           }
          },
          "shapedefaults": {
           "line": {
            "color": "#f2f5fa"
           }
          },
          "sliderdefaults": {
           "bgcolor": "#C8D4E3",
           "bordercolor": "rgb(17,17,17)",
           "borderwidth": 1,
           "tickwidth": 0
          },
          "ternary": {
           "aaxis": {
            "gridcolor": "#506784",
            "linecolor": "#506784",
            "ticks": ""
           },
           "baxis": {
            "gridcolor": "#506784",
            "linecolor": "#506784",
            "ticks": ""
           },
           "bgcolor": "rgb(17,17,17)",
           "caxis": {
            "gridcolor": "#506784",
            "linecolor": "#506784",
            "ticks": ""
           }
          },
          "title": {
           "x": 0.05
          },
          "updatemenudefaults": {
           "bgcolor": "#506784",
           "borderwidth": 0
          },
          "xaxis": {
           "automargin": true,
           "gridcolor": "#283442",
           "linecolor": "#506784",
           "ticks": "",
           "title": {
            "standoff": 15
           },
           "zerolinecolor": "#283442",
           "zerolinewidth": 2
          },
          "yaxis": {
           "automargin": true,
           "gridcolor": "#283442",
           "linecolor": "#506784",
           "ticks": "",
           "title": {
            "standoff": 15
           },
           "zerolinecolor": "#283442",
           "zerolinewidth": 2
          }
         }
        },
        "title": {
         "text": "Music of Dark"
        },
        "xaxis": {
         "anchor": "y",
         "domain": [
          0,
          1
         ],
         "gridcolor": "grey",
         "griddash": "dot",
         "rangeslider": {
          "thickness": 0.1,
          "visible": true
         },
         "showgrid": true,
         "tickformat": "%H:%M:%S",
         "title": {
          "text": "Time"
         },
         "type": "date"
        },
        "yaxis": {
         "anchor": "x",
         "autorange": "reversed",
         "categoryorder": "category ascending",
         "domain": [
          0,
          1
         ],
         "title": {
          "text": "Episode"
         }
        }
       }
      }
     },
     "metadata": {},
     "output_type": "display_data"
    }
   ],
   "source": [
    "fig = px.timeline(data_s01e01, x_start='interval_start',\n",
    "                            x_end='interval_end',\n",
    "                            y='season00episode00',\n",
    "                            # color='sdh_comment',\n",
    "                            text='sdh_comment'\n",
    "                            # ,template=\"xgridoff\"\n",
    "                            ,template='plotly_dark'\n",
    "                            ,color_discrete_sequence=[\"rgb(120,130,90)\"]                            \n",
    "                            ,hover_name=\"sdh_comment\"\n",
    "                            ,hover_data={'sdh_comment':False,'interval_end':False}\n",
    "                            ,height=600\n",
    "                            )\n",
    "\n",
    "fig.update_xaxes(tickformat=\"%H:%M:%S\",\n",
    "                showgrid=True, griddash='dot', gridcolor='grey',\n",
    "                rangeslider=dict(visible=True,\n",
    "                # ,bgcolor=\"white\"\n",
    "                )\n",
    "                ,rangeslider_thickness = 0.1 #fraction of the whole fig heigth\n",
    "                )\n",
    "# https://plotly.com/python/reference/layout/xaxis/#layout-xaxis-rangeslider\n",
    "\n",
    "fig.update_yaxes(autorange=\"reversed\",categoryorder='category ascending')\n",
    "\n",
    "# shapes were added in the background for more readability\n",
    "for episode in data_s01e01.season00episode00.drop_duplicates():\n",
    "    fig.add_hrect(y0=episode, y1=episode, line_width=30, fillcolor=\"black\", opacity=0.03,layer=\"below\")\n",
    "\n",
    "fig.update_traces(textfont_size=8, textangle=0)\n",
    "fig.update_layout(title=\"Music of Dark\",xaxis_title=\"Time\",yaxis_title=\"Episode\",bargap=0,\n",
    "                font_family=\"Courier New\",\n",
    "                font_color=\"white\",\n",
    "                # title_font_family=\"Times New Roman\",\n",
    "                # title_font_color=\"white\"\n",
    "                )\n",
    "fig.show()"
   ]
  },
  {
   "cell_type": "code",
   "execution_count": 198,
   "metadata": {},
   "outputs": [
    {
     "data": {
      "text/html": [
       "<div>\n",
       "<style scoped>\n",
       "    .dataframe tbody tr th:only-of-type {\n",
       "        vertical-align: middle;\n",
       "    }\n",
       "\n",
       "    .dataframe tbody tr th {\n",
       "        vertical-align: top;\n",
       "    }\n",
       "\n",
       "    .dataframe thead th {\n",
       "        text-align: right;\n",
       "    }\n",
       "</style>\n",
       "<table border=\"1\" class=\"dataframe\">\n",
       "  <thead>\n",
       "    <tr style=\"text-align: right;\">\n",
       "      <th></th>\n",
       "      <th>sdh_comment</th>\n",
       "      <th>interval_start</th>\n",
       "      <th>interval_end</th>\n",
       "      <th>interval_minute</th>\n",
       "      <th>episode</th>\n",
       "      <th>season</th>\n",
       "      <th>season00episode00</th>\n",
       "    </tr>\n",
       "  </thead>\n",
       "  <tbody>\n",
       "    <tr>\n",
       "      <th>0</th>\n",
       "      <td>düster-melancholische Musik</td>\n",
       "      <td>1900-01-01 00:00:13</td>\n",
       "      <td>1900-01-01 00:00:16</td>\n",
       "      <td>0</td>\n",
       "      <td>2</td>\n",
       "      <td>3</td>\n",
       "      <td>S03E02</td>\n",
       "    </tr>\n",
       "    <tr>\n",
       "      <th>6</th>\n",
       "      <td>düstere Musik</td>\n",
       "      <td>1900-01-01 00:01:41</td>\n",
       "      <td>1900-01-01 00:01:46</td>\n",
       "      <td>1</td>\n",
       "      <td>2</td>\n",
       "      <td>3</td>\n",
       "      <td>S03E02</td>\n",
       "    </tr>\n",
       "    <tr>\n",
       "      <th>18</th>\n",
       "      <td>bedrohliche Streichermusik</td>\n",
       "      <td>1900-01-01 00:06:39</td>\n",
       "      <td>1900-01-01 00:06:43</td>\n",
       "      <td>6</td>\n",
       "      <td>2</td>\n",
       "      <td>3</td>\n",
       "      <td>S03E02</td>\n",
       "    </tr>\n",
       "    <tr>\n",
       "      <th>46</th>\n",
       "      <td>düstere Musik</td>\n",
       "      <td>1900-01-01 00:20:23</td>\n",
       "      <td>1900-01-01 00:20:27</td>\n",
       "      <td>20</td>\n",
       "      <td>2</td>\n",
       "      <td>3</td>\n",
       "      <td>S03E02</td>\n",
       "    </tr>\n",
       "    <tr>\n",
       "      <th>94</th>\n",
       "      <td>Musik verstummt</td>\n",
       "      <td>1900-01-01 00:48:14</td>\n",
       "      <td>1900-01-01 00:48:15</td>\n",
       "      <td>48</td>\n",
       "      <td>2</td>\n",
       "      <td>3</td>\n",
       "      <td>S03E02</td>\n",
       "    </tr>\n",
       "    <tr>\n",
       "      <th>...</th>\n",
       "      <td>...</td>\n",
       "      <td>...</td>\n",
       "      <td>...</td>\n",
       "      <td>...</td>\n",
       "      <td>...</td>\n",
       "      <td>...</td>\n",
       "      <td>...</td>\n",
       "    </tr>\n",
       "    <tr>\n",
       "      <th>2433</th>\n",
       "      <td>düstere Musik</td>\n",
       "      <td>1900-01-01 00:29:39</td>\n",
       "      <td>1900-01-01 00:29:41</td>\n",
       "      <td>29</td>\n",
       "      <td>9</td>\n",
       "      <td>1</td>\n",
       "      <td>S01E09</td>\n",
       "    </tr>\n",
       "    <tr>\n",
       "      <th>2435</th>\n",
       "      <td>Musik verstummt</td>\n",
       "      <td>1900-01-01 00:29:59</td>\n",
       "      <td>1900-01-01 00:30:01</td>\n",
       "      <td>29</td>\n",
       "      <td>9</td>\n",
       "      <td>1</td>\n",
       "      <td>S01E09</td>\n",
       "    </tr>\n",
       "    <tr>\n",
       "      <th>2467</th>\n",
       "      <td>melancholische Musik</td>\n",
       "      <td>1900-01-01 00:40:46</td>\n",
       "      <td>1900-01-01 00:40:48</td>\n",
       "      <td>40</td>\n",
       "      <td>9</td>\n",
       "      <td>1</td>\n",
       "      <td>S01E09</td>\n",
       "    </tr>\n",
       "    <tr>\n",
       "      <th>2473</th>\n",
       "      <td>melancholische Musik</td>\n",
       "      <td>1900-01-01 00:45:51</td>\n",
       "      <td>1900-01-01 00:45:53</td>\n",
       "      <td>45</td>\n",
       "      <td>9</td>\n",
       "      <td>1</td>\n",
       "      <td>S01E09</td>\n",
       "    </tr>\n",
       "    <tr>\n",
       "      <th>2486</th>\n",
       "      <td>dynamische Musik</td>\n",
       "      <td>1900-01-01 00:49:18</td>\n",
       "      <td>1900-01-01 00:49:21</td>\n",
       "      <td>49</td>\n",
       "      <td>9</td>\n",
       "      <td>1</td>\n",
       "      <td>S01E09</td>\n",
       "    </tr>\n",
       "  </tbody>\n",
       "</table>\n",
       "<p>363 rows × 7 columns</p>\n",
       "</div>"
      ],
      "text/plain": [
       "                      sdh_comment      interval_start        interval_end  \\\n",
       "0     düster-melancholische Musik 1900-01-01 00:00:13 1900-01-01 00:00:16   \n",
       "6                   düstere Musik 1900-01-01 00:01:41 1900-01-01 00:01:46   \n",
       "18     bedrohliche Streichermusik 1900-01-01 00:06:39 1900-01-01 00:06:43   \n",
       "46                  düstere Musik 1900-01-01 00:20:23 1900-01-01 00:20:27   \n",
       "94                Musik verstummt 1900-01-01 00:48:14 1900-01-01 00:48:15   \n",
       "...                           ...                 ...                 ...   \n",
       "2433                düstere Musik 1900-01-01 00:29:39 1900-01-01 00:29:41   \n",
       "2435              Musik verstummt 1900-01-01 00:29:59 1900-01-01 00:30:01   \n",
       "2467         melancholische Musik 1900-01-01 00:40:46 1900-01-01 00:40:48   \n",
       "2473         melancholische Musik 1900-01-01 00:45:51 1900-01-01 00:45:53   \n",
       "2486             dynamische Musik 1900-01-01 00:49:18 1900-01-01 00:49:21   \n",
       "\n",
       "      interval_minute episode season season00episode00  \n",
       "0                   0       2      3            S03E02  \n",
       "6                   1       2      3            S03E02  \n",
       "18                  6       2      3            S03E02  \n",
       "46                 20       2      3            S03E02  \n",
       "94                 48       2      3            S03E02  \n",
       "...               ...     ...    ...               ...  \n",
       "2433               29       9      1            S01E09  \n",
       "2435               29       9      1            S01E09  \n",
       "2467               40       9      1            S01E09  \n",
       "2473               45       9      1            S01E09  \n",
       "2486               49       9      1            S01E09  \n",
       "\n",
       "[363 rows x 7 columns]"
      ]
     },
     "execution_count": 198,
     "metadata": {},
     "output_type": "execute_result"
    }
   ],
   "source": [
    "# idea: make color=season, plot based on episode number only\n",
    "data = data[data.sdh_comment.str.lower().str.contains('musik')]\n",
    "data.episode = data.episode.astype('str')\n",
    "data.season = data.season.astype('str')\n",
    "# |klavierspiel|klänge\n",
    "data"
   ]
  },
  {
   "cell_type": "code",
   "execution_count": 199,
   "metadata": {},
   "outputs": [
    {
     "data": {
      "application/vnd.plotly.v1+json": {
       "config": {
        "plotlyServerURL": "https://plot.ly"
       },
       "data": [
        {
         "alignmentgroup": "True",
         "base": [
          "1900-01-01T00:00:06",
          "1900-01-01T00:00:17",
          "1900-01-01T00:00:27",
          "1900-01-01T00:02:39",
          "1900-01-01T00:02:51",
          "1900-01-01T00:05:59",
          "1900-01-01T00:06:06",
          "1900-01-01T00:12:29",
          "1900-01-01T00:14:49",
          "1900-01-01T00:26:19",
          "1900-01-01T00:26:51",
          "1900-01-01T00:28:12",
          "1900-01-01T00:32:34",
          "1900-01-01T00:35:26",
          "1900-01-01T00:40:57",
          "1900-01-01T00:42:43",
          "1900-01-01T00:15:29",
          "1900-01-01T00:16:33",
          "1900-01-01T00:18:41",
          "1900-01-01T00:37:24",
          "1900-01-01T00:37:42",
          "1900-01-01T00:39:53",
          "1900-01-01T00:40:43",
          "1900-01-01T00:03:21",
          "1900-01-01T00:08:11",
          "1900-01-01T00:14:40",
          "1900-01-01T00:15:08",
          "1900-01-01T00:16:16",
          "1900-01-01T00:17:59",
          "1900-01-01T00:18:53",
          "1900-01-01T00:21:13",
          "1900-01-01T00:23:14",
          "1900-01-01T00:23:38",
          "1900-01-01T00:23:53",
          "1900-01-01T00:24:34",
          "1900-01-01T00:27:02",
          "1900-01-01T00:36:45",
          "1900-01-01T00:37:06",
          "1900-01-01T00:44:16",
          "1900-01-01T00:00:32",
          "1900-01-01T00:02:51",
          "1900-01-01T00:03:01",
          "1900-01-01T00:04:41",
          "1900-01-01T00:05:08",
          "1900-01-01T00:07:09",
          "1900-01-01T00:07:45",
          "1900-01-01T00:07:55",
          "1900-01-01T00:09:21",
          "1900-01-01T00:11:36",
          "1900-01-01T00:21:15",
          "1900-01-01T00:27:36",
          "1900-01-01T00:29:10",
          "1900-01-01T00:40:25",
          "1900-01-01T00:43:19",
          "1900-01-01T00:44:03",
          "1900-01-01T00:45:14",
          "1900-01-01T00:49:51",
          "1900-01-01T00:50:00",
          "1900-01-01T00:53:17",
          "1900-01-01T00:00:08",
          "1900-01-01T00:00:35",
          "1900-01-01T00:01:18",
          "1900-01-01T00:01:34",
          "1900-01-01T00:10:36",
          "1900-01-01T00:24:18",
          "1900-01-01T00:25:12",
          "1900-01-01T00:26:28",
          "1900-01-01T00:27:05",
          "1900-01-01T00:30:13",
          "1900-01-01T00:36:41",
          "1900-01-01T00:09:35",
          "1900-01-01T00:09:47",
          "1900-01-01T00:09:52",
          "1900-01-01T00:19:02",
          "1900-01-01T00:23:07",
          "1900-01-01T00:29:43",
          "1900-01-01T00:35:29",
          "1900-01-01T00:41:39",
          "1900-01-01T00:42:00",
          "1900-01-01T00:42:40",
          "1900-01-01T00:43:12",
          "1900-01-01T00:47:38",
          "1900-01-01T00:17:25",
          "1900-01-01T00:19:35",
          "1900-01-01T00:33:41",
          "1900-01-01T00:37:11",
          "1900-01-01T00:38:47",
          "1900-01-01T00:39:33",
          "1900-01-01T00:01:06",
          "1900-01-01T00:11:38",
          "1900-01-01T00:12:22",
          "1900-01-01T00:17:30",
          "1900-01-01T00:17:56",
          "1900-01-01T00:18:16",
          "1900-01-01T00:20:17",
          "1900-01-01T00:21:48",
          "1900-01-01T00:27:48",
          "1900-01-01T00:32:33",
          "1900-01-01T00:34:16",
          "1900-01-01T00:35:47",
          "1900-01-01T00:38:15",
          "1900-01-01T00:41:54",
          "1900-01-01T00:01:30",
          "1900-01-01T00:06:54",
          "1900-01-01T00:11:19",
          "1900-01-01T00:11:44",
          "1900-01-01T00:12:05",
          "1900-01-01T00:14:06",
          "1900-01-01T00:15:33",
          "1900-01-01T00:15:49",
          "1900-01-01T00:17:06",
          "1900-01-01T00:18:21",
          "1900-01-01T00:22:12",
          "1900-01-01T00:25:15",
          "1900-01-01T00:27:21",
          "1900-01-01T00:27:40",
          "1900-01-01T00:28:19",
          "1900-01-01T00:28:33",
          "1900-01-01T00:28:52",
          "1900-01-01T00:31:10",
          "1900-01-01T00:35:55",
          "1900-01-01T00:36:16",
          "1900-01-01T00:36:41",
          "1900-01-01T00:37:03",
          "1900-01-01T00:37:37",
          "1900-01-01T00:39:52",
          "1900-01-01T00:45:34",
          "1900-01-01T00:45:40",
          "1900-01-01T00:46:51",
          "1900-01-01T00:47:08",
          "1900-01-01T00:10:19",
          "1900-01-01T00:10:44",
          "1900-01-01T00:26:27",
          "1900-01-01T00:29:39",
          "1900-01-01T00:29:59",
          "1900-01-01T00:40:46",
          "1900-01-01T00:45:51",
          "1900-01-01T00:49:18"
         ],
         "customdata": [
          [
           "ruhige Klaviermusik"
          ],
          [
           "ruhige  spieluhrartige Musik"
          ],
          [
           "Musik wird zunehmend dissonant"
          ],
          [
           "ruhige  beklemmende Musik"
          ],
          [
           "Ruhige  beklemmende Musik läuft weiter"
          ],
          [
           "Die Musik spielt weiter"
          ],
          [
           "Musik verstummt"
          ],
          [
           "Schlagermusik aus dem Autoradio"
          ],
          [
           "Popmusik aus dem Autoradio"
          ],
          [
           "sphärische Musik"
          ],
          [
           "Sphärische Musik läuft weiter"
          ],
          [
           "melancholische Musik"
          ],
          [
           "melancholische Musik"
          ],
          [
           "bedrohliche Musik"
          ],
          [
           "bedrohliche Musik"
          ],
          [
           "traurige Musik"
          ],
          [
           "geheimnisvolle Musik"
          ],
          [
           "spannungsvolle Musik"
          ],
          [
           "bedrohliche Musik"
          ],
          [
           "unheilvolle Musik"
          ],
          [
           "bedrohliche Musik"
          ],
          [
           "Bedrohliche Musik steigert sich"
          ],
          [
           "melancholische Klaviermusik"
          ],
          [
           "triste Musik"
          ],
          [
           "finstere Musik"
          ],
          [
           "angespannte Musik"
          ],
          [
           "düstere Musik"
          ],
          [
           "spannungsvolle Musik"
          ],
          [
           "düstere Musik"
          ],
          [
           "geheimnisvolle Musik"
          ],
          [
           "düstere  pulsierende Musik"
          ],
          [
           "spannungsvolle  langsame Musik"
          ],
          [
           "Spannungsvolle Musik wird langsam lauter"
          ],
          [
           "Spannungsvolle Musik steigert sich"
          ],
          [
           "Musik verstummt"
          ],
          [
           "angespannte Musik"
          ],
          [
           "beklemmende Musik"
          ],
          [
           "unheilvolle Musik"
          ],
          [
           "spannungsgeladene Musik"
          ],
          [
           "beklemmende Musik"
          ],
          [
           "beklemmende Musik"
          ],
          [
           "düstere Musik"
          ],
          [
           "spannungsvolle Musik"
          ],
          [
           "spannungsvolle Musik"
          ],
          [
           "unheimliche Musik"
          ],
          [
           "angespannte Musik"
          ],
          [
           "düstere Musik"
          ],
          [
           "spannungsvolle  elektronische Musik"
          ],
          [
           "ruhige  rätselhafte Musik"
          ],
          [
           "geheimnisvolle Musik"
          ],
          [
           "düstere Musik"
          ],
          [
           "unheimliche Musik"
          ],
          [
           "unheimliche Musik"
          ],
          [
           "düstere Musik"
          ],
          [
           "beklemmende Musik"
          ],
          [
           "ruhige Gitarrenmusik"
          ],
          [
           "ruhige  spieluhrartige Musik"
          ],
          [
           "Musik wird zunehmend dissonant"
          ],
          [
           "spannungsvolle Musik"
          ],
          [
           "ruhige  geheimnisvolle Musik"
          ],
          [
           "Ruhige Musik läuft weiter"
          ],
          [
           "Ruhige Musik wird lauter"
          ],
          [
           "Ruhige Musik verstummt langsam"
          ],
          [
           "angespannte Musik"
          ],
          [
           "angespannte Musik"
          ],
          [
           "verträumte Musik"
          ],
          [
           "Verträumte Musik läuft weiter"
          ],
          [
           "Verträumte Musik verstummt"
          ],
          [
           "beklemmende Musik"
          ],
          [
           "traurige Musik"
          ],
          [
           "ruhige A-cappella-Musik"
          ],
          [
           "A-cappella-Musik wird lauter"
          ],
          [
           "Musik verstummt"
          ],
          [
           "spannungsvolle Musik"
          ],
          [
           "fröhliche Popmusik"
          ],
          [
           "geheimnisvolle Musik"
          ],
          [
           "düstere Musik"
          ],
          [
           "melancholische Klaviermusik"
          ],
          [
           "Melancholische Musik läuft weiter"
          ],
          [
           "Melancholische Musik läuft weiter"
          ],
          [
           "Musik verstummt"
          ],
          [
           "leise Popmusik"
          ],
          [
           "spannungsvolle Musik"
          ],
          [
           "Musik läuft weiter"
          ],
          [
           "bedrohliche Musik"
          ],
          [
           "sphärische  leicht unruhige Musik"
          ],
          [
           "Musik verstummt"
          ],
          [
           "düstere Musik"
          ],
          [
           "bedrohliche Musik"
          ],
          [
           "fröhliche Popmusik im Radio"
          ],
          [
           "Radiomusik verstummt"
          ],
          [
           "laute Heavy-Metal-Musik"
          ],
          [
           "laute Heavy-Metal-Musik"
          ],
          [
           "laute Heavy-Metal-Musik"
          ],
          [
           "laute Heavy-Metal-Musik"
          ],
          [
           "traurige Musik"
          ],
          [
           "spannungsvolle Musik"
          ],
          [
           "melancholische Musik"
          ],
          [
           "getragene Instrumentalmusik"
          ],
          [
           "ruhige Klaviermusik"
          ],
          [
           "Die Musik geht weiter"
          ],
          [
           "spannungsvolle Musik"
          ],
          [
           "unheimliche Musik"
          ],
          [
           "heitere Musik aus dem Haus"
          ],
          [
           "spannungsvolle Musik"
          ],
          [
           "unheimliche Musik"
          ],
          [
           "geheimnisvolle Musik"
          ],
          [
           "düstere Musik"
          ],
          [
           "düstere Musik"
          ],
          [
           "geheimnisvolle Musik"
          ],
          [
           "rhythmische A-cappella-Musik"
          ],
          [
           "A-cappella-Musik wird ruhiger"
          ],
          [
           "laute Musik aus dem Radio"
          ],
          [
           "düstere Musik"
          ],
          [
           "beklemmende Musik"
          ],
          [
           "finstere Musik"
          ],
          [
           "unheimliche Musik"
          ],
          [
           "Unheimliche Musik wird lauter"
          ],
          [
           "unheimliche Musik"
          ],
          [
           "leise Musik vom Plattenspieler"
          ],
          [
           "beklemmende Musik"
          ],
          [
           "rhythmische  bedrohliche Musik"
          ],
          [
           "Rhythmische  bedrohliche Musik läuft weiter"
          ],
          [
           "Bedrohliche Musik verstummt"
          ],
          [
           "schwungvolle Musik"
          ],
          [
           "düstere Musik"
          ],
          [
           "rätselhafte Musik"
          ],
          [
           "Rätselhafte Musik läuft weiter"
          ],
          [
           "Rätselhafte Musik läuft weiter"
          ],
          [
           "Musik verstummt"
          ],
          [
           "bedrohliche  rhythmische Musik"
          ],
          [
           "Bedrohliche Musik läuft weiter"
          ],
          [
           "spannungsvolle Musik"
          ],
          [
           "düstere Musik"
          ],
          [
           "Musik verstummt"
          ],
          [
           "melancholische Musik"
          ],
          [
           "melancholische Musik"
          ],
          [
           "dynamische Musik"
          ]
         ],
         "hovertemplate": "<b>%{hovertext}</b><br><br>season=1<br>interval_start=%{base}<br>episode=%{y}<extra></extra>",
         "hovertext": [
          "ruhige Klaviermusik",
          "ruhige  spieluhrartige Musik",
          "Musik wird zunehmend dissonant",
          "ruhige  beklemmende Musik",
          "Ruhige  beklemmende Musik läuft weiter",
          "Die Musik spielt weiter",
          "Musik verstummt",
          "Schlagermusik aus dem Autoradio",
          "Popmusik aus dem Autoradio",
          "sphärische Musik",
          "Sphärische Musik läuft weiter",
          "melancholische Musik",
          "melancholische Musik",
          "bedrohliche Musik",
          "bedrohliche Musik",
          "traurige Musik",
          "geheimnisvolle Musik",
          "spannungsvolle Musik",
          "bedrohliche Musik",
          "unheilvolle Musik",
          "bedrohliche Musik",
          "Bedrohliche Musik steigert sich",
          "melancholische Klaviermusik",
          "triste Musik",
          "finstere Musik",
          "angespannte Musik",
          "düstere Musik",
          "spannungsvolle Musik",
          "düstere Musik",
          "geheimnisvolle Musik",
          "düstere  pulsierende Musik",
          "spannungsvolle  langsame Musik",
          "Spannungsvolle Musik wird langsam lauter",
          "Spannungsvolle Musik steigert sich",
          "Musik verstummt",
          "angespannte Musik",
          "beklemmende Musik",
          "unheilvolle Musik",
          "spannungsgeladene Musik",
          "beklemmende Musik",
          "beklemmende Musik",
          "düstere Musik",
          "spannungsvolle Musik",
          "spannungsvolle Musik",
          "unheimliche Musik",
          "angespannte Musik",
          "düstere Musik",
          "spannungsvolle  elektronische Musik",
          "ruhige  rätselhafte Musik",
          "geheimnisvolle Musik",
          "düstere Musik",
          "unheimliche Musik",
          "unheimliche Musik",
          "düstere Musik",
          "beklemmende Musik",
          "ruhige Gitarrenmusik",
          "ruhige  spieluhrartige Musik",
          "Musik wird zunehmend dissonant",
          "spannungsvolle Musik",
          "ruhige  geheimnisvolle Musik",
          "Ruhige Musik läuft weiter",
          "Ruhige Musik wird lauter",
          "Ruhige Musik verstummt langsam",
          "angespannte Musik",
          "angespannte Musik",
          "verträumte Musik",
          "Verträumte Musik läuft weiter",
          "Verträumte Musik verstummt",
          "beklemmende Musik",
          "traurige Musik",
          "ruhige A-cappella-Musik",
          "A-cappella-Musik wird lauter",
          "Musik verstummt",
          "spannungsvolle Musik",
          "fröhliche Popmusik",
          "geheimnisvolle Musik",
          "düstere Musik",
          "melancholische Klaviermusik",
          "Melancholische Musik läuft weiter",
          "Melancholische Musik läuft weiter",
          "Musik verstummt",
          "leise Popmusik",
          "spannungsvolle Musik",
          "Musik läuft weiter",
          "bedrohliche Musik",
          "sphärische  leicht unruhige Musik",
          "Musik verstummt",
          "düstere Musik",
          "bedrohliche Musik",
          "fröhliche Popmusik im Radio",
          "Radiomusik verstummt",
          "laute Heavy-Metal-Musik",
          "laute Heavy-Metal-Musik",
          "laute Heavy-Metal-Musik",
          "laute Heavy-Metal-Musik",
          "traurige Musik",
          "spannungsvolle Musik",
          "melancholische Musik",
          "getragene Instrumentalmusik",
          "ruhige Klaviermusik",
          "Die Musik geht weiter",
          "spannungsvolle Musik",
          "unheimliche Musik",
          "heitere Musik aus dem Haus",
          "spannungsvolle Musik",
          "unheimliche Musik",
          "geheimnisvolle Musik",
          "düstere Musik",
          "düstere Musik",
          "geheimnisvolle Musik",
          "rhythmische A-cappella-Musik",
          "A-cappella-Musik wird ruhiger",
          "laute Musik aus dem Radio",
          "düstere Musik",
          "beklemmende Musik",
          "finstere Musik",
          "unheimliche Musik",
          "Unheimliche Musik wird lauter",
          "unheimliche Musik",
          "leise Musik vom Plattenspieler",
          "beklemmende Musik",
          "rhythmische  bedrohliche Musik",
          "Rhythmische  bedrohliche Musik läuft weiter",
          "Bedrohliche Musik verstummt",
          "schwungvolle Musik",
          "düstere Musik",
          "rätselhafte Musik",
          "Rätselhafte Musik läuft weiter",
          "Rätselhafte Musik läuft weiter",
          "Musik verstummt",
          "bedrohliche  rhythmische Musik",
          "Bedrohliche Musik läuft weiter",
          "spannungsvolle Musik",
          "düstere Musik",
          "Musik verstummt",
          "melancholische Musik",
          "melancholische Musik",
          "dynamische Musik"
         ],
         "legendgroup": "1",
         "marker": {
          "color": "rgb(153,153,51)",
          "pattern": {
           "shape": ""
          }
         },
         "name": "1",
         "offsetgroup": "1",
         "orientation": "h",
         "showlegend": true,
         "text": [
          "ruhige Klaviermusik",
          "ruhige  spieluhrartige Musik",
          "Musik wird zunehmend dissonant",
          "ruhige  beklemmende Musik",
          "Ruhige  beklemmende Musik läuft weiter",
          "Die Musik spielt weiter",
          "Musik verstummt",
          "Schlagermusik aus dem Autoradio",
          "Popmusik aus dem Autoradio",
          "sphärische Musik",
          "Sphärische Musik läuft weiter",
          "melancholische Musik",
          "melancholische Musik",
          "bedrohliche Musik",
          "bedrohliche Musik",
          "traurige Musik",
          "geheimnisvolle Musik",
          "spannungsvolle Musik",
          "bedrohliche Musik",
          "unheilvolle Musik",
          "bedrohliche Musik",
          "Bedrohliche Musik steigert sich",
          "melancholische Klaviermusik",
          "triste Musik",
          "finstere Musik",
          "angespannte Musik",
          "düstere Musik",
          "spannungsvolle Musik",
          "düstere Musik",
          "geheimnisvolle Musik",
          "düstere  pulsierende Musik",
          "spannungsvolle  langsame Musik",
          "Spannungsvolle Musik wird langsam lauter",
          "Spannungsvolle Musik steigert sich",
          "Musik verstummt",
          "angespannte Musik",
          "beklemmende Musik",
          "unheilvolle Musik",
          "spannungsgeladene Musik",
          "beklemmende Musik",
          "beklemmende Musik",
          "düstere Musik",
          "spannungsvolle Musik",
          "spannungsvolle Musik",
          "unheimliche Musik",
          "angespannte Musik",
          "düstere Musik",
          "spannungsvolle  elektronische Musik",
          "ruhige  rätselhafte Musik",
          "geheimnisvolle Musik",
          "düstere Musik",
          "unheimliche Musik",
          "unheimliche Musik",
          "düstere Musik",
          "beklemmende Musik",
          "ruhige Gitarrenmusik",
          "ruhige  spieluhrartige Musik",
          "Musik wird zunehmend dissonant",
          "spannungsvolle Musik",
          "ruhige  geheimnisvolle Musik",
          "Ruhige Musik läuft weiter",
          "Ruhige Musik wird lauter",
          "Ruhige Musik verstummt langsam",
          "angespannte Musik",
          "angespannte Musik",
          "verträumte Musik",
          "Verträumte Musik läuft weiter",
          "Verträumte Musik verstummt",
          "beklemmende Musik",
          "traurige Musik",
          "ruhige A-cappella-Musik",
          "A-cappella-Musik wird lauter",
          "Musik verstummt",
          "spannungsvolle Musik",
          "fröhliche Popmusik",
          "geheimnisvolle Musik",
          "düstere Musik",
          "melancholische Klaviermusik",
          "Melancholische Musik läuft weiter",
          "Melancholische Musik läuft weiter",
          "Musik verstummt",
          "leise Popmusik",
          "spannungsvolle Musik",
          "Musik läuft weiter",
          "bedrohliche Musik",
          "sphärische  leicht unruhige Musik",
          "Musik verstummt",
          "düstere Musik",
          "bedrohliche Musik",
          "fröhliche Popmusik im Radio",
          "Radiomusik verstummt",
          "laute Heavy-Metal-Musik",
          "laute Heavy-Metal-Musik",
          "laute Heavy-Metal-Musik",
          "laute Heavy-Metal-Musik",
          "traurige Musik",
          "spannungsvolle Musik",
          "melancholische Musik",
          "getragene Instrumentalmusik",
          "ruhige Klaviermusik",
          "Die Musik geht weiter",
          "spannungsvolle Musik",
          "unheimliche Musik",
          "heitere Musik aus dem Haus",
          "spannungsvolle Musik",
          "unheimliche Musik",
          "geheimnisvolle Musik",
          "düstere Musik",
          "düstere Musik",
          "geheimnisvolle Musik",
          "rhythmische A-cappella-Musik",
          "A-cappella-Musik wird ruhiger",
          "laute Musik aus dem Radio",
          "düstere Musik",
          "beklemmende Musik",
          "finstere Musik",
          "unheimliche Musik",
          "Unheimliche Musik wird lauter",
          "unheimliche Musik",
          "leise Musik vom Plattenspieler",
          "beklemmende Musik",
          "rhythmische  bedrohliche Musik",
          "Rhythmische  bedrohliche Musik läuft weiter",
          "Bedrohliche Musik verstummt",
          "schwungvolle Musik",
          "düstere Musik",
          "rätselhafte Musik",
          "Rätselhafte Musik läuft weiter",
          "Rätselhafte Musik läuft weiter",
          "Musik verstummt",
          "bedrohliche  rhythmische Musik",
          "Bedrohliche Musik läuft weiter",
          "spannungsvolle Musik",
          "düstere Musik",
          "Musik verstummt",
          "melancholische Musik",
          "melancholische Musik",
          "dynamische Musik"
         ],
         "textangle": 0,
         "textfont": {
          "size": 8
         },
         "textposition": "none",
         "type": "bar",
         "x": [
          2000,
          3000,
          2000,
          3000,
          2000,
          1000,
          3000,
          2000,
          2000,
          3000,
          2000,
          2000,
          2000,
          2000,
          2000,
          2000,
          4000,
          2000,
          3000,
          3000,
          3000,
          2000,
          3000,
          2000,
          2000,
          2000,
          1000,
          3000,
          2000,
          2000,
          2000,
          3000,
          3000,
          2000,
          2000,
          2000,
          2000,
          2000,
          4000,
          2000,
          2000,
          2000,
          2000,
          2000,
          2000,
          2000,
          3000,
          3000,
          2000,
          4000,
          3000,
          2000,
          2000,
          2000,
          2000,
          3000,
          2000,
          3000,
          2000,
          2000,
          3000,
          3000,
          3000,
          2000,
          3000,
          3000,
          1000,
          2000,
          2000,
          3000,
          3000,
          2000,
          1000,
          2000,
          2000,
          4000,
          3000,
          4000,
          3000,
          3000,
          2000,
          3000,
          4000,
          1000,
          2000,
          2000,
          2000,
          2000,
          2000,
          2000,
          2000,
          2000,
          2000,
          2000,
          2000,
          2000,
          2000,
          3000,
          4000,
          3000,
          2000,
          4000,
          2000,
          3000,
          2000,
          2000,
          3000,
          2000,
          2000,
          2000,
          3000,
          2000,
          3000,
          2000,
          2000,
          3000,
          2000,
          2000,
          2000,
          2000,
          2000,
          4000,
          4000,
          3000,
          4000,
          3000,
          3000,
          3000,
          2000,
          2000,
          3000,
          3000,
          2000,
          2000,
          2000,
          2000,
          2000,
          3000
         ],
         "xaxis": "x",
         "y": [
          "7",
          "7",
          "7",
          "7",
          "7",
          "7",
          "7",
          "7",
          "7",
          "7",
          "7",
          "7",
          "7",
          "7",
          "7",
          "7",
          "6",
          "6",
          "6",
          "6",
          "6",
          "6",
          "6",
          "4",
          "4",
          "4",
          "4",
          "4",
          "4",
          "4",
          "4",
          "4",
          "4",
          "4",
          "4",
          "4",
          "4",
          "4",
          "4",
          "10",
          "10",
          "10",
          "10",
          "10",
          "10",
          "10",
          "10",
          "10",
          "10",
          "10",
          "10",
          "10",
          "10",
          "10",
          "10",
          "10",
          "10",
          "10",
          "10",
          "5",
          "5",
          "5",
          "5",
          "5",
          "5",
          "5",
          "5",
          "5",
          "5",
          "5",
          "1",
          "1",
          "1",
          "1",
          "1",
          "1",
          "1",
          "1",
          "1",
          "1",
          "1",
          "1",
          "2",
          "2",
          "2",
          "2",
          "2",
          "2",
          "3",
          "3",
          "3",
          "3",
          "3",
          "3",
          "3",
          "3",
          "3",
          "3",
          "3",
          "3",
          "3",
          "3",
          "8",
          "8",
          "8",
          "8",
          "8",
          "8",
          "8",
          "8",
          "8",
          "8",
          "8",
          "8",
          "8",
          "8",
          "8",
          "8",
          "8",
          "8",
          "8",
          "8",
          "8",
          "8",
          "8",
          "8",
          "8",
          "8",
          "8",
          "8",
          "9",
          "9",
          "9",
          "9",
          "9",
          "9",
          "9",
          "9"
         ],
         "yaxis": "y"
        },
        {
         "alignmentgroup": "True",
         "base": [
          "1900-01-01T00:00:52",
          "1900-01-01T00:01:33",
          "1900-01-01T00:03:30",
          "1900-01-01T00:03:41",
          "1900-01-01T00:03:49",
          "1900-01-01T00:06:44",
          "1900-01-01T00:08:59",
          "1900-01-01T00:12:28",
          "1900-01-01T00:17:23",
          "1900-01-01T00:20:23",
          "1900-01-01T00:21:15",
          "1900-01-01T00:22:04",
          "1900-01-01T00:27:09",
          "1900-01-01T00:28:13",
          "1900-01-01T00:29:07",
          "1900-01-01T00:37:36",
          "1900-01-01T00:41:12",
          "1900-01-01T00:41:29",
          "1900-01-01T00:41:54",
          "1900-01-01T00:44:13",
          "1900-01-01T00:45:38",
          "1900-01-01T00:47:10",
          "1900-01-01T00:50:59",
          "1900-01-01T00:53:05",
          "1900-01-01T00:00:18",
          "1900-01-01T00:03:31",
          "1900-01-01T00:03:52",
          "1900-01-01T00:04:12",
          "1900-01-01T00:08:05",
          "1900-01-01T00:10:52",
          "1900-01-01T00:14:28",
          "1900-01-01T00:14:54",
          "1900-01-01T00:16:23",
          "1900-01-01T00:19:34",
          "1900-01-01T00:20:21",
          "1900-01-01T00:23:59",
          "1900-01-01T00:25:14",
          "1900-01-01T00:32:23",
          "1900-01-01T00:33:03",
          "1900-01-01T00:35:16",
          "1900-01-01T00:36:24",
          "1900-01-01T00:38:35",
          "1900-01-01T00:39:35",
          "1900-01-01T00:40:35",
          "1900-01-01T00:41:08",
          "1900-01-01T00:42:59",
          "1900-01-01T00:45:42",
          "1900-01-01T00:46:50",
          "1900-01-01T00:47:39",
          "1900-01-01T00:49:02",
          "1900-01-01T00:49:22",
          "1900-01-01T00:49:39",
          "1900-01-01T00:00:07",
          "1900-01-01T00:05:14",
          "1900-01-01T00:08:06",
          "1900-01-01T00:11:30",
          "1900-01-01T00:11:33",
          "1900-01-01T00:14:55",
          "1900-01-01T00:15:23",
          "1900-01-01T00:15:32",
          "1900-01-01T00:16:04",
          "1900-01-01T00:28:01",
          "1900-01-01T00:28:55",
          "1900-01-01T00:29:15",
          "1900-01-01T00:31:36",
          "1900-01-01T00:34:16",
          "1900-01-01T00:40:03",
          "1900-01-01T00:48:02",
          "1900-01-01T00:50:57",
          "1900-01-01T00:02:17",
          "1900-01-01T00:07:23",
          "1900-01-01T00:14:43",
          "1900-01-01T00:17:57",
          "1900-01-01T00:19:21",
          "1900-01-01T00:26:42",
          "1900-01-01T00:29:10",
          "1900-01-01T00:32:49",
          "1900-01-01T00:33:44",
          "1900-01-01T00:39:32",
          "1900-01-01T00:43:01",
          "1900-01-01T00:45:04",
          "1900-01-01T00:48:09",
          "1900-01-01T00:50:51",
          "1900-01-01T00:51:11",
          "1900-01-01T00:02:41",
          "1900-01-01T00:04:19",
          "1900-01-01T00:04:29",
          "1900-01-01T00:06:12",
          "1900-01-01T00:06:31",
          "1900-01-01T00:07:05",
          "1900-01-01T00:12:36",
          "1900-01-01T00:13:07",
          "1900-01-01T00:17:34",
          "1900-01-01T00:19:41",
          "1900-01-01T00:20:39",
          "1900-01-01T00:21:46",
          "1900-01-01T00:21:58",
          "1900-01-01T00:22:32",
          "1900-01-01T00:23:37",
          "1900-01-01T00:28:38",
          "1900-01-01T00:29:55",
          "1900-01-01T00:30:51",
          "1900-01-01T00:34:55",
          "1900-01-01T00:42:48",
          "1900-01-01T00:47:49",
          "1900-01-01T00:49:10",
          "1900-01-01T00:50:36",
          "1900-01-01T00:00:12",
          "1900-01-01T00:05:57",
          "1900-01-01T00:06:59",
          "1900-01-01T00:07:27",
          "1900-01-01T00:07:52",
          "1900-01-01T00:08:32",
          "1900-01-01T00:10:41",
          "1900-01-01T00:12:49",
          "1900-01-01T00:13:02",
          "1900-01-01T00:15:40",
          "1900-01-01T00:20:32",
          "1900-01-01T00:27:00",
          "1900-01-01T00:30:49",
          "1900-01-01T00:31:05",
          "1900-01-01T00:31:15",
          "1900-01-01T00:33:43",
          "1900-01-01T00:40:19",
          "1900-01-01T00:41:30",
          "1900-01-01T00:44:32",
          "1900-01-01T00:47:38",
          "1900-01-01T00:53:18",
          "1900-01-01T00:53:39",
          "1900-01-01T00:54:22",
          "1900-01-01T00:00:35",
          "1900-01-01T00:00:51",
          "1900-01-01T00:03:23",
          "1900-01-01T00:03:54",
          "1900-01-01T00:06:55",
          "1900-01-01T00:07:27",
          "1900-01-01T00:09:25",
          "1900-01-01T00:09:58",
          "1900-01-01T00:12:04",
          "1900-01-01T00:14:39",
          "1900-01-01T00:15:28",
          "1900-01-01T00:16:14",
          "1900-01-01T00:19:47",
          "1900-01-01T00:24:12",
          "1900-01-01T00:24:20",
          "1900-01-01T00:28:06",
          "1900-01-01T00:33:45",
          "1900-01-01T00:37:28",
          "1900-01-01T00:38:36",
          "1900-01-01T00:39:39",
          "1900-01-01T00:52:32",
          "1900-01-01T00:01:59",
          "1900-01-01T00:04:11",
          "1900-01-01T00:08:01",
          "1900-01-01T00:11:17",
          "1900-01-01T00:13:32",
          "1900-01-01T00:20:22",
          "1900-01-01T00:20:43",
          "1900-01-01T00:21:14",
          "1900-01-01T00:23:40",
          "1900-01-01T00:25:14",
          "1900-01-01T00:31:00",
          "1900-01-01T00:33:12",
          "1900-01-01T00:34:00",
          "1900-01-01T00:34:13",
          "1900-01-01T00:35:31",
          "1900-01-01T00:36:12",
          "1900-01-01T00:36:25",
          "1900-01-01T00:36:53",
          "1900-01-01T00:37:17",
          "1900-01-01T00:41:18",
          "1900-01-01T00:41:29",
          "1900-01-01T00:42:05",
          "1900-01-01T00:43:46",
          "1900-01-01T00:45:13",
          "1900-01-01T00:45:36",
          "1900-01-01T00:47:05",
          "1900-01-01T00:47:48",
          "1900-01-01T00:53:53"
         ],
         "customdata": [
          [
           "leise  dissonante Musik"
          ],
          [
           "düstere Musik"
          ],
          [
           "angespannte Musik"
          ],
          [
           "spannungsvolle Musik"
          ],
          [
           "Spannungsvolle Musik steigert sich"
          ],
          [
           "leise  angespannte Musik"
          ],
          [
           "leise  düstere Musik"
          ],
          [
           "beunruhigende Musik"
          ],
          [
           "triste Musik"
          ],
          [
           "leise  düstere Musik"
          ],
          [
           "beunruhigende Musik"
          ],
          [
           "düstere Musik"
          ],
          [
           "leise  bedrohliche Musik"
          ],
          [
           "düstere Musik"
          ],
          [
           "sphärische Musik"
          ],
          [
           "düstere Musik"
          ],
          [
           "düstere  spannungsvolle Musik"
          ],
          [
           "spannungsvolle Musik"
          ],
          [
           "Spannungsvolle Musik verstummt"
          ],
          [
           "sanfte Musik"
          ],
          [
           "spannungsvolle Musik"
          ],
          [
           "ruhige Klaviermusik"
          ],
          [
           "dramatische Musik"
          ],
          [
           "bedrohliche Musik"
          ],
          [
           "beklemmende Musik"
          ],
          [
           "bedrohliche Musik"
          ],
          [
           "düstere Musik"
          ],
          [
           "beklemmende Musik"
          ],
          [
           "triste Musik"
          ],
          [
           "ernste Musik"
          ],
          [
           "beklemmende Musik"
          ],
          [
           "düstere Musik"
          ],
          [
           "düster-melancholische Musik"
          ],
          [
           "bedrohliche Musik"
          ],
          [
           "angespannte Musik"
          ],
          [
           "gefühlvolle Musik"
          ],
          [
           "düstere Musik"
          ],
          [
           "leise  traurige Musik"
          ],
          [
           "leise  angespannte Musik"
          ],
          [
           "bedrohliche Musik"
          ],
          [
           "geheimnisvolle Musik"
          ],
          [
           "bedrückende Musik"
          ],
          [
           "verstörende Musik"
          ],
          [
           "düster-monotone Musik"
          ],
          [
           "beklemmende Musik"
          ],
          [
           "angespannte Musik"
          ],
          [
           "verstörende Musik"
          ],
          [
           "sanft-melancholische Musik"
          ],
          [
           "leise  angespannte Musik"
          ],
          [
           "beklemmende Musik"
          ],
          [
           "beklemmende Musik"
          ],
          [
           "unheimliche Musik"
          ],
          [
           "verspielte Xylophon-Musik"
          ],
          [
           "unheimliche Musik"
          ],
          [
           "düstere Musik"
          ],
          [
           "düstere Musik"
          ],
          [
           "Trash-Metal-Musik: \"Pleasure To Kill\" von Kreator"
          ],
          [
           "düstere Musik"
          ],
          [
           "düstere Musik"
          ],
          [
           "spannungsvolle Musik"
          ],
          [
           "düstere Musik"
          ],
          [
           "leise  beunruhigende Musik"
          ],
          [
           "unheimliche Musik"
          ],
          [
           "düstere Musik"
          ],
          [
           "bedrückende Musik"
          ],
          [
           "düstere Musik"
          ],
          [
           "bedrückende Musik"
          ],
          [
           "düstere Musik"
          ],
          [
           "monotone  beklemmende Musik"
          ],
          [
           "leise  spannungsvolle Musik"
          ],
          [
           "leise  unheilvolle Musik"
          ],
          [
           "beklemmende Musik"
          ],
          [
           "spannungsvolle Musik"
          ],
          [
           "Panzerlärm übertönt die Musik"
          ],
          [
           "spannungsvolle Musik"
          ],
          [
           "unheimliche Musik"
          ],
          [
           "unheimliche Musik"
          ],
          [
           "bedrohliche Musik"
          ],
          [
           "düstere Musik"
          ],
          [
           "melancholische Musik"
          ],
          [
           "sanfte Gitarrenmusik"
          ],
          [
           "elektronische Musik"
          ],
          [
           "spannungsvolle Musik"
          ],
          [
           "bedrohliche Musik"
          ],
          [
           "Musik von Nena aus dem Radiowecker"
          ],
          [
           "leise  angespannte Musik"
          ],
          [
           "düstere Musik"
          ],
          [
           "beunruhigende Musik"
          ],
          [
           "sanft-wehmütige Musik"
          ],
          [
           "düstere Musik"
          ],
          [
           "ernste Musik"
          ],
          [
           "düstere Musik"
          ],
          [
           "bedrückende Musik"
          ],
          [
           "sanft-wehmütige Musik"
          ],
          [
           "traurig-sanfte Musik"
          ],
          [
           "beklemmende Musik"
          ],
          [
           "düstere Musik"
          ],
          [
           "düstere Musik"
          ],
          [
           "beklemmende Musik"
          ],
          [
           "schwermütige Musik"
          ],
          [
           "leise  irritierende Musik"
          ],
          [
           "düstere Musik"
          ],
          [
           "leise Musik von unten"
          ],
          [
           "beklemmende Musik"
          ],
          [
           "sanft-melancholische Musik"
          ],
          [
           "schwermütige Musik"
          ],
          [
           "angespannte Musik"
          ],
          [
           "düstere Musik"
          ],
          [
           "geheimnisvolle Musik"
          ],
          [
           "beunruhigende Musik"
          ],
          [
           "beunruhigende Musik"
          ],
          [
           "düstere Musik"
          ],
          [
           "finstere Musik"
          ],
          [
           "angespannte Musik"
          ],
          [
           "unheimliche Musik"
          ],
          [
           "düstere Musik"
          ],
          [
           "spannungsvolle Musik"
          ],
          [
           "unheilvolle Musik"
          ],
          [
           "düster-traurige Musik"
          ],
          [
           "düstere Musik"
          ],
          [
           "bedrohliche Musik"
          ],
          [
           "spannungsvolle Musik"
          ],
          [
           "unheilvolle Musik"
          ],
          [
           "düstere Musik"
          ],
          [
           "leise  angespannte Musik"
          ],
          [
           "beunruhigende Musik"
          ],
          [
           "düstere Musik"
          ],
          [
           "angespannte Musik"
          ],
          [
           "angespannte Musik"
          ],
          [
           "spannungsvolle Musik"
          ],
          [
           "beunruhigende Musik"
          ],
          [
           "bedrohliche Musik"
          ],
          [
           "angespannte Musik"
          ],
          [
           "düstere Musik"
          ],
          [
           "unbehagliche Musik"
          ],
          [
           "geheimnisvolle Musik"
          ],
          [
           "unheimliche Musik"
          ],
          [
           "spannungsvolle Musik"
          ],
          [
           "bedrückende Musik"
          ],
          [
           "düstere Musik"
          ],
          [
           "angespannte Musik"
          ],
          [
           "melancholische Musik"
          ],
          [
           "unheimliche Musik"
          ],
          [
           "spannungsvolle Musik"
          ],
          [
           "geheimnisvolle Musik"
          ],
          [
           "düstere Musik"
          ],
          [
           "düstere Musik"
          ],
          [
           "angespannte Musik"
          ],
          [
           "bedrohliche Musik"
          ],
          [
           "beklemmende Musik"
          ],
          [
           "sphärische Musik"
          ],
          [
           "dissonante Musik"
          ],
          [
           "beklemmende Musik"
          ],
          [
           "leise  düstere Musik"
          ],
          [
           "leise  angespannte Musik"
          ],
          [
           "angespannte Musik"
          ],
          [
           "beklemmende Musik"
          ],
          [
           "leise  spannungsvolle Musik"
          ],
          [
           "angespannte Musik"
          ],
          [
           "düstere Musik"
          ],
          [
           "traurige Klaviermusik"
          ],
          [
           "spannungsvolle Musik"
          ],
          [
           "geheimnisvolle Musik"
          ],
          [
           "spannungsvolle Musik"
          ],
          [
           "spannungsgeladene Musik"
          ],
          [
           "angespannte Musik"
          ],
          [
           "düstere Musik"
          ],
          [
           "spannungsvolle Musik"
          ],
          [
           "düstere Musik"
          ],
          [
           "spannungsvolle Musik"
          ],
          [
           "ernste Musik"
          ],
          [
           "mysteriöse Musik"
          ],
          [
           "düstere Musik"
          ],
          [
           "geheimnisvolle Musik"
          ],
          [
           "düstere Musik"
          ],
          [
           "unheimliche Musik"
          ],
          [
           "bedrohliche Musik"
          ],
          [
           "unheilvolle Musik"
          ],
          [
           "unheilvolle Musik"
          ]
         ],
         "hovertemplate": "<b>%{hovertext}</b><br><br>season=2<br>interval_start=%{base}<br>episode=%{y}<extra></extra>",
         "hovertext": [
          "leise  dissonante Musik",
          "düstere Musik",
          "angespannte Musik",
          "spannungsvolle Musik",
          "Spannungsvolle Musik steigert sich",
          "leise  angespannte Musik",
          "leise  düstere Musik",
          "beunruhigende Musik",
          "triste Musik",
          "leise  düstere Musik",
          "beunruhigende Musik",
          "düstere Musik",
          "leise  bedrohliche Musik",
          "düstere Musik",
          "sphärische Musik",
          "düstere Musik",
          "düstere  spannungsvolle Musik",
          "spannungsvolle Musik",
          "Spannungsvolle Musik verstummt",
          "sanfte Musik",
          "spannungsvolle Musik",
          "ruhige Klaviermusik",
          "dramatische Musik",
          "bedrohliche Musik",
          "beklemmende Musik",
          "bedrohliche Musik",
          "düstere Musik",
          "beklemmende Musik",
          "triste Musik",
          "ernste Musik",
          "beklemmende Musik",
          "düstere Musik",
          "düster-melancholische Musik",
          "bedrohliche Musik",
          "angespannte Musik",
          "gefühlvolle Musik",
          "düstere Musik",
          "leise  traurige Musik",
          "leise  angespannte Musik",
          "bedrohliche Musik",
          "geheimnisvolle Musik",
          "bedrückende Musik",
          "verstörende Musik",
          "düster-monotone Musik",
          "beklemmende Musik",
          "angespannte Musik",
          "verstörende Musik",
          "sanft-melancholische Musik",
          "leise  angespannte Musik",
          "beklemmende Musik",
          "beklemmende Musik",
          "unheimliche Musik",
          "verspielte Xylophon-Musik",
          "unheimliche Musik",
          "düstere Musik",
          "düstere Musik",
          "Trash-Metal-Musik: \"Pleasure To Kill\" von Kreator",
          "düstere Musik",
          "düstere Musik",
          "spannungsvolle Musik",
          "düstere Musik",
          "leise  beunruhigende Musik",
          "unheimliche Musik",
          "düstere Musik",
          "bedrückende Musik",
          "düstere Musik",
          "bedrückende Musik",
          "düstere Musik",
          "monotone  beklemmende Musik",
          "leise  spannungsvolle Musik",
          "leise  unheilvolle Musik",
          "beklemmende Musik",
          "spannungsvolle Musik",
          "Panzerlärm übertönt die Musik",
          "spannungsvolle Musik",
          "unheimliche Musik",
          "unheimliche Musik",
          "bedrohliche Musik",
          "düstere Musik",
          "melancholische Musik",
          "sanfte Gitarrenmusik",
          "elektronische Musik",
          "spannungsvolle Musik",
          "bedrohliche Musik",
          "Musik von Nena aus dem Radiowecker",
          "leise  angespannte Musik",
          "düstere Musik",
          "beunruhigende Musik",
          "sanft-wehmütige Musik",
          "düstere Musik",
          "ernste Musik",
          "düstere Musik",
          "bedrückende Musik",
          "sanft-wehmütige Musik",
          "traurig-sanfte Musik",
          "beklemmende Musik",
          "düstere Musik",
          "düstere Musik",
          "beklemmende Musik",
          "schwermütige Musik",
          "leise  irritierende Musik",
          "düstere Musik",
          "leise Musik von unten",
          "beklemmende Musik",
          "sanft-melancholische Musik",
          "schwermütige Musik",
          "angespannte Musik",
          "düstere Musik",
          "geheimnisvolle Musik",
          "beunruhigende Musik",
          "beunruhigende Musik",
          "düstere Musik",
          "finstere Musik",
          "angespannte Musik",
          "unheimliche Musik",
          "düstere Musik",
          "spannungsvolle Musik",
          "unheilvolle Musik",
          "düster-traurige Musik",
          "düstere Musik",
          "bedrohliche Musik",
          "spannungsvolle Musik",
          "unheilvolle Musik",
          "düstere Musik",
          "leise  angespannte Musik",
          "beunruhigende Musik",
          "düstere Musik",
          "angespannte Musik",
          "angespannte Musik",
          "spannungsvolle Musik",
          "beunruhigende Musik",
          "bedrohliche Musik",
          "angespannte Musik",
          "düstere Musik",
          "unbehagliche Musik",
          "geheimnisvolle Musik",
          "unheimliche Musik",
          "spannungsvolle Musik",
          "bedrückende Musik",
          "düstere Musik",
          "angespannte Musik",
          "melancholische Musik",
          "unheimliche Musik",
          "spannungsvolle Musik",
          "geheimnisvolle Musik",
          "düstere Musik",
          "düstere Musik",
          "angespannte Musik",
          "bedrohliche Musik",
          "beklemmende Musik",
          "sphärische Musik",
          "dissonante Musik",
          "beklemmende Musik",
          "leise  düstere Musik",
          "leise  angespannte Musik",
          "angespannte Musik",
          "beklemmende Musik",
          "leise  spannungsvolle Musik",
          "angespannte Musik",
          "düstere Musik",
          "traurige Klaviermusik",
          "spannungsvolle Musik",
          "geheimnisvolle Musik",
          "spannungsvolle Musik",
          "spannungsgeladene Musik",
          "angespannte Musik",
          "düstere Musik",
          "spannungsvolle Musik",
          "düstere Musik",
          "spannungsvolle Musik",
          "ernste Musik",
          "mysteriöse Musik",
          "düstere Musik",
          "geheimnisvolle Musik",
          "düstere Musik",
          "unheimliche Musik",
          "bedrohliche Musik",
          "unheilvolle Musik",
          "unheilvolle Musik"
         ],
         "legendgroup": "2",
         "marker": {
          "color": "rgb(36,121,108)",
          "pattern": {
           "shape": ""
          }
         },
         "name": "2",
         "offsetgroup": "2",
         "orientation": "h",
         "showlegend": true,
         "text": [
          "leise  dissonante Musik",
          "düstere Musik",
          "angespannte Musik",
          "spannungsvolle Musik",
          "Spannungsvolle Musik steigert sich",
          "leise  angespannte Musik",
          "leise  düstere Musik",
          "beunruhigende Musik",
          "triste Musik",
          "leise  düstere Musik",
          "beunruhigende Musik",
          "düstere Musik",
          "leise  bedrohliche Musik",
          "düstere Musik",
          "sphärische Musik",
          "düstere Musik",
          "düstere  spannungsvolle Musik",
          "spannungsvolle Musik",
          "Spannungsvolle Musik verstummt",
          "sanfte Musik",
          "spannungsvolle Musik",
          "ruhige Klaviermusik",
          "dramatische Musik",
          "bedrohliche Musik",
          "beklemmende Musik",
          "bedrohliche Musik",
          "düstere Musik",
          "beklemmende Musik",
          "triste Musik",
          "ernste Musik",
          "beklemmende Musik",
          "düstere Musik",
          "düster-melancholische Musik",
          "bedrohliche Musik",
          "angespannte Musik",
          "gefühlvolle Musik",
          "düstere Musik",
          "leise  traurige Musik",
          "leise  angespannte Musik",
          "bedrohliche Musik",
          "geheimnisvolle Musik",
          "bedrückende Musik",
          "verstörende Musik",
          "düster-monotone Musik",
          "beklemmende Musik",
          "angespannte Musik",
          "verstörende Musik",
          "sanft-melancholische Musik",
          "leise  angespannte Musik",
          "beklemmende Musik",
          "beklemmende Musik",
          "unheimliche Musik",
          "verspielte Xylophon-Musik",
          "unheimliche Musik",
          "düstere Musik",
          "düstere Musik",
          "Trash-Metal-Musik: \"Pleasure To Kill\" von Kreator",
          "düstere Musik",
          "düstere Musik",
          "spannungsvolle Musik",
          "düstere Musik",
          "leise  beunruhigende Musik",
          "unheimliche Musik",
          "düstere Musik",
          "bedrückende Musik",
          "düstere Musik",
          "bedrückende Musik",
          "düstere Musik",
          "monotone  beklemmende Musik",
          "leise  spannungsvolle Musik",
          "leise  unheilvolle Musik",
          "beklemmende Musik",
          "spannungsvolle Musik",
          "Panzerlärm übertönt die Musik",
          "spannungsvolle Musik",
          "unheimliche Musik",
          "unheimliche Musik",
          "bedrohliche Musik",
          "düstere Musik",
          "melancholische Musik",
          "sanfte Gitarrenmusik",
          "elektronische Musik",
          "spannungsvolle Musik",
          "bedrohliche Musik",
          "Musik von Nena aus dem Radiowecker",
          "leise  angespannte Musik",
          "düstere Musik",
          "beunruhigende Musik",
          "sanft-wehmütige Musik",
          "düstere Musik",
          "ernste Musik",
          "düstere Musik",
          "bedrückende Musik",
          "sanft-wehmütige Musik",
          "traurig-sanfte Musik",
          "beklemmende Musik",
          "düstere Musik",
          "düstere Musik",
          "beklemmende Musik",
          "schwermütige Musik",
          "leise  irritierende Musik",
          "düstere Musik",
          "leise Musik von unten",
          "beklemmende Musik",
          "sanft-melancholische Musik",
          "schwermütige Musik",
          "angespannte Musik",
          "düstere Musik",
          "geheimnisvolle Musik",
          "beunruhigende Musik",
          "beunruhigende Musik",
          "düstere Musik",
          "finstere Musik",
          "angespannte Musik",
          "unheimliche Musik",
          "düstere Musik",
          "spannungsvolle Musik",
          "unheilvolle Musik",
          "düster-traurige Musik",
          "düstere Musik",
          "bedrohliche Musik",
          "spannungsvolle Musik",
          "unheilvolle Musik",
          "düstere Musik",
          "leise  angespannte Musik",
          "beunruhigende Musik",
          "düstere Musik",
          "angespannte Musik",
          "angespannte Musik",
          "spannungsvolle Musik",
          "beunruhigende Musik",
          "bedrohliche Musik",
          "angespannte Musik",
          "düstere Musik",
          "unbehagliche Musik",
          "geheimnisvolle Musik",
          "unheimliche Musik",
          "spannungsvolle Musik",
          "bedrückende Musik",
          "düstere Musik",
          "angespannte Musik",
          "melancholische Musik",
          "unheimliche Musik",
          "spannungsvolle Musik",
          "geheimnisvolle Musik",
          "düstere Musik",
          "düstere Musik",
          "angespannte Musik",
          "bedrohliche Musik",
          "beklemmende Musik",
          "sphärische Musik",
          "dissonante Musik",
          "beklemmende Musik",
          "leise  düstere Musik",
          "leise  angespannte Musik",
          "angespannte Musik",
          "beklemmende Musik",
          "leise  spannungsvolle Musik",
          "angespannte Musik",
          "düstere Musik",
          "traurige Klaviermusik",
          "spannungsvolle Musik",
          "geheimnisvolle Musik",
          "spannungsvolle Musik",
          "spannungsgeladene Musik",
          "angespannte Musik",
          "düstere Musik",
          "spannungsvolle Musik",
          "düstere Musik",
          "spannungsvolle Musik",
          "ernste Musik",
          "mysteriöse Musik",
          "düstere Musik",
          "geheimnisvolle Musik",
          "düstere Musik",
          "unheimliche Musik",
          "bedrohliche Musik",
          "unheilvolle Musik",
          "unheilvolle Musik"
         ],
         "textangle": 0,
         "textfont": {
          "size": 8
         },
         "textposition": "none",
         "type": "bar",
         "x": [
          2000,
          2000,
          2000,
          2000,
          2000,
          2000,
          2000,
          2000,
          2000,
          2000,
          2000,
          2000,
          2000,
          2000,
          2000,
          2000,
          2000,
          2000,
          3000,
          2000,
          2000,
          2000,
          2000,
          2000,
          2000,
          2000,
          2000,
          3000,
          2000,
          3000,
          2000,
          2000,
          2000,
          3000,
          2000,
          2000,
          2000,
          2000,
          2000,
          2000,
          2000,
          2000,
          2000,
          2000,
          2000,
          2000,
          2000,
          2000,
          2000,
          2000,
          2000,
          2000,
          2000,
          2000,
          2000,
          2000,
          3000,
          2000,
          2000,
          2000,
          2000,
          2000,
          2000,
          2000,
          2000,
          2000,
          2000,
          2000,
          2000,
          1000,
          2000,
          2000,
          2000,
          2000,
          1000,
          2000,
          2000,
          2000,
          2000,
          2000,
          2000,
          2000,
          2000,
          2000,
          2000,
          2000,
          2000,
          2000,
          2000,
          2000,
          2000,
          2000,
          2000,
          2000,
          2000,
          2000,
          2000,
          2000,
          2000,
          2000,
          2000,
          2000,
          2000,
          2000,
          2000,
          2000,
          2000,
          2000,
          2000,
          2000,
          2000,
          2000,
          3000,
          2000,
          2000,
          2000,
          2000,
          2000,
          2000,
          2000,
          2000,
          2000,
          1000,
          2000,
          2000,
          2000,
          2000,
          2000,
          2000,
          2000,
          2000,
          3000,
          2000,
          2000,
          2000,
          2000,
          2000,
          2000,
          2000,
          2000,
          2000,
          2000,
          2000,
          2000,
          2000,
          2000,
          2000,
          2000,
          2000,
          2000,
          2000,
          2000,
          1000,
          2000,
          2000,
          2000,
          2000,
          2000,
          2000,
          1000,
          2000,
          2000,
          2000,
          2000,
          2000,
          2000,
          2000,
          2000,
          2000,
          2000,
          2000,
          2000,
          2000,
          2000,
          2000,
          2000,
          2000,
          2000,
          2000
         ],
         "xaxis": "x",
         "y": [
          "8",
          "8",
          "8",
          "8",
          "8",
          "8",
          "8",
          "8",
          "8",
          "8",
          "8",
          "8",
          "8",
          "8",
          "8",
          "8",
          "8",
          "8",
          "8",
          "8",
          "8",
          "8",
          "8",
          "8",
          "1",
          "1",
          "1",
          "1",
          "1",
          "1",
          "1",
          "1",
          "1",
          "1",
          "1",
          "1",
          "1",
          "1",
          "1",
          "1",
          "1",
          "1",
          "1",
          "1",
          "1",
          "1",
          "1",
          "1",
          "1",
          "1",
          "1",
          "1",
          "3",
          "3",
          "3",
          "3",
          "3",
          "3",
          "3",
          "3",
          "3",
          "3",
          "3",
          "3",
          "3",
          "3",
          "3",
          "3",
          "3",
          "2",
          "2",
          "2",
          "2",
          "2",
          "2",
          "2",
          "2",
          "2",
          "2",
          "2",
          "2",
          "2",
          "2",
          "2",
          "6",
          "6",
          "6",
          "6",
          "6",
          "6",
          "6",
          "6",
          "6",
          "6",
          "6",
          "6",
          "6",
          "6",
          "6",
          "6",
          "6",
          "6",
          "6",
          "6",
          "6",
          "6",
          "6",
          "7",
          "7",
          "7",
          "7",
          "7",
          "7",
          "7",
          "7",
          "7",
          "7",
          "7",
          "7",
          "7",
          "7",
          "7",
          "7",
          "7",
          "7",
          "7",
          "7",
          "7",
          "7",
          "7",
          "5",
          "5",
          "5",
          "5",
          "5",
          "5",
          "5",
          "5",
          "5",
          "5",
          "5",
          "5",
          "5",
          "5",
          "5",
          "5",
          "5",
          "5",
          "5",
          "5",
          "5",
          "4",
          "4",
          "4",
          "4",
          "4",
          "4",
          "4",
          "4",
          "4",
          "4",
          "4",
          "4",
          "4",
          "4",
          "4",
          "4",
          "4",
          "4",
          "4",
          "4",
          "4",
          "4",
          "4",
          "4",
          "4",
          "4",
          "4",
          "4"
         ],
         "yaxis": "y"
        },
        {
         "alignmentgroup": "True",
         "base": [
          "1900-01-01T00:00:13",
          "1900-01-01T00:01:41",
          "1900-01-01T00:06:39",
          "1900-01-01T00:20:23",
          "1900-01-01T00:48:14",
          "1900-01-01T00:30:56",
          "1900-01-01T00:07:36",
          "1900-01-01T00:09:32",
          "1900-01-01T00:10:48",
          "1900-01-01T00:12:58",
          "1900-01-01T00:18:01",
          "1900-01-01T00:19:18",
          "1900-01-01T00:27:23",
          "1900-01-01T00:31:44",
          "1900-01-01T00:32:58",
          "1900-01-01T00:40:58",
          "1900-01-01T00:41:34",
          "1900-01-01T00:26:09",
          "1900-01-01T00:46:22",
          "1900-01-01T00:51:36",
          "1900-01-01T00:52:23",
          "1900-01-01T00:53:02",
          "1900-01-01T00:45:11",
          "1900-01-01T00:45:41",
          "1900-01-01T00:45:50",
          "1900-01-01T00:47:28",
          "1900-01-01T00:59:03",
          "1900-01-01T00:13:41",
          "1900-01-01T00:18:35",
          "1900-01-01T00:24:12",
          "1900-01-01T00:30:24",
          "1900-01-01T00:30:36",
          "1900-01-01T00:41:01",
          "1900-01-01T00:56:30",
          "1900-01-01T00:58:24",
          "1900-01-01T00:59:07",
          "1900-01-01T01:00:21",
          "1900-01-01T00:17:25",
          "1900-01-01T00:17:49",
          "1900-01-01T00:21:28",
          "1900-01-01T00:27:36",
          "1900-01-01T00:36:48",
          "1900-01-01T00:48:11",
          "1900-01-01T00:44:52",
          "1900-01-01T00:52:08",
          "1900-01-01T01:04:00"
         ],
         "customdata": [
          [
           "düster-melancholische Musik"
          ],
          [
           "düstere Musik"
          ],
          [
           "bedrohliche Streichermusik"
          ],
          [
           "düstere Musik"
          ],
          [
           "Musik verstummt"
          ],
          [
           "spannungsvolle Musik"
          ],
          [
           "leise Musik von unten"
          ],
          [
           "ruhige  rätselhafte Musik"
          ],
          [
           "bedrückende Musik"
          ],
          [
           "melancholische Musik"
          ],
          [
           "leise  geheimnisvolle Musik"
          ],
          [
           "düstere Musik"
          ],
          [
           "angespannte Musik"
          ],
          [
           "beklemmende Musik"
          ],
          [
           "spannungsvolle Musik"
          ],
          [
           "melancholische Musik"
          ],
          [
           "Musik verstummt"
          ],
          [
           "leise Musik vom Plattenspieler"
          ],
          [
           "leise  wehmütige Musik"
          ],
          [
           "sanft-wehmütige Musik"
          ],
          [
           "Musik schwillt an"
          ],
          [
           "Musik verklingt"
          ],
          [
           "treibende Musik"
          ],
          [
           "Musik wird lauter"
          ],
          [
           "Musik verstummt"
          ],
          [
           "düstere Musik"
          ],
          [
           "traurige Musik"
          ],
          [
           "sanfte  geheimnisvolle Musik"
          ],
          [
           "spannungsvoll ansteigende Musik"
          ],
          [
           "spannungsvolle Musik"
          ],
          [
           "traurige Musik"
          ],
          [
           "Musik wird intensiver"
          ],
          [
           "geheimnisvolle Musik"
          ],
          [
           "melancholische Klaviermusik klingt an"
          ],
          [
           "dramatische Musik"
          ],
          [
           "dramatische Musik wird lauter"
          ],
          [
           "Musik verklingt"
          ],
          [
           "spannungsvolle Musik"
          ],
          [
           "Musik verklingt"
          ],
          [
           "leise  bedrohliche Musik"
          ],
          [
           "düstere  melancholische Musik"
          ],
          [
           "traurig-sanfte Musik"
          ],
          [
           "Musik läuft weiter"
          ],
          [
           "Musik und Geräusche verstummen"
          ],
          [
           "Rockmusik aus dem Autoradio"
          ],
          [
           "Popmusik"
          ]
         ],
         "hovertemplate": "<b>%{hovertext}</b><br><br>season=3<br>interval_start=%{base}<br>episode=%{y}<extra></extra>",
         "hovertext": [
          "düster-melancholische Musik",
          "düstere Musik",
          "bedrohliche Streichermusik",
          "düstere Musik",
          "Musik verstummt",
          "spannungsvolle Musik",
          "leise Musik von unten",
          "ruhige  rätselhafte Musik",
          "bedrückende Musik",
          "melancholische Musik",
          "leise  geheimnisvolle Musik",
          "düstere Musik",
          "angespannte Musik",
          "beklemmende Musik",
          "spannungsvolle Musik",
          "melancholische Musik",
          "Musik verstummt",
          "leise Musik vom Plattenspieler",
          "leise  wehmütige Musik",
          "sanft-wehmütige Musik",
          "Musik schwillt an",
          "Musik verklingt",
          "treibende Musik",
          "Musik wird lauter",
          "Musik verstummt",
          "düstere Musik",
          "traurige Musik",
          "sanfte  geheimnisvolle Musik",
          "spannungsvoll ansteigende Musik",
          "spannungsvolle Musik",
          "traurige Musik",
          "Musik wird intensiver",
          "geheimnisvolle Musik",
          "melancholische Klaviermusik klingt an",
          "dramatische Musik",
          "dramatische Musik wird lauter",
          "Musik verklingt",
          "spannungsvolle Musik",
          "Musik verklingt",
          "leise  bedrohliche Musik",
          "düstere  melancholische Musik",
          "traurig-sanfte Musik",
          "Musik läuft weiter",
          "Musik und Geräusche verstummen",
          "Rockmusik aus dem Autoradio",
          "Popmusik"
         ],
         "legendgroup": "3",
         "marker": {
          "color": "rgb(179,205,227)",
          "pattern": {
           "shape": ""
          }
         },
         "name": "3",
         "offsetgroup": "3",
         "orientation": "h",
         "showlegend": true,
         "text": [
          "düster-melancholische Musik",
          "düstere Musik",
          "bedrohliche Streichermusik",
          "düstere Musik",
          "Musik verstummt",
          "spannungsvolle Musik",
          "leise Musik von unten",
          "ruhige  rätselhafte Musik",
          "bedrückende Musik",
          "melancholische Musik",
          "leise  geheimnisvolle Musik",
          "düstere Musik",
          "angespannte Musik",
          "beklemmende Musik",
          "spannungsvolle Musik",
          "melancholische Musik",
          "Musik verstummt",
          "leise Musik vom Plattenspieler",
          "leise  wehmütige Musik",
          "sanft-wehmütige Musik",
          "Musik schwillt an",
          "Musik verklingt",
          "treibende Musik",
          "Musik wird lauter",
          "Musik verstummt",
          "düstere Musik",
          "traurige Musik",
          "sanfte  geheimnisvolle Musik",
          "spannungsvoll ansteigende Musik",
          "spannungsvolle Musik",
          "traurige Musik",
          "Musik wird intensiver",
          "geheimnisvolle Musik",
          "melancholische Klaviermusik klingt an",
          "dramatische Musik",
          "dramatische Musik wird lauter",
          "Musik verklingt",
          "spannungsvolle Musik",
          "Musik verklingt",
          "leise  bedrohliche Musik",
          "düstere  melancholische Musik",
          "traurig-sanfte Musik",
          "Musik läuft weiter",
          "Musik und Geräusche verstummen",
          "Rockmusik aus dem Autoradio",
          "Popmusik"
         ],
         "textangle": 0,
         "textfont": {
          "size": 8
         },
         "textposition": "none",
         "type": "bar",
         "x": [
          3000,
          5000,
          4000,
          4000,
          1000,
          3000,
          2000,
          3000,
          3000,
          2000,
          2000,
          1000,
          2000,
          2000,
          3000,
          2000,
          1000,
          2000,
          2000,
          2000,
          2000,
          1000,
          3000,
          2000,
          3000,
          2000,
          2000,
          2000,
          2000,
          2000,
          2000,
          4000,
          2000,
          2000,
          2000,
          2000,
          2000,
          2000,
          2000,
          1000,
          3000,
          2000,
          2000,
          3000,
          2000,
          2000
         ],
         "xaxis": "x",
         "y": [
          "2",
          "2",
          "2",
          "2",
          "2",
          "3",
          "1",
          "1",
          "1",
          "1",
          "1",
          "1",
          "1",
          "1",
          "1",
          "1",
          "1",
          "4",
          "4",
          "4",
          "4",
          "4",
          "5",
          "5",
          "5",
          "5",
          "5",
          "7",
          "7",
          "7",
          "7",
          "7",
          "7",
          "7",
          "7",
          "7",
          "7",
          "6",
          "6",
          "6",
          "6",
          "6",
          "6",
          "8",
          "8",
          "8"
         ],
         "yaxis": "y"
        }
       ],
       "layout": {
        "bargap": 0,
        "barmode": "overlay",
        "font": {
         "color": "white",
         "family": "Courier New"
        },
        "height": 700,
        "legend": {
         "title": {
          "text": "Season"
         },
         "tracegroupgap": 0
        },
        "margin": {
         "t": 60
        },
        "shapes": [
         {
          "fillcolor": "black",
          "layer": "below",
          "line": {
           "width": 30
          },
          "opacity": 0.03,
          "type": "rect",
          "x0": 0,
          "x1": 1,
          "xref": "x domain",
          "y0": 0,
          "y1": 0,
          "yref": "y"
         },
         {
          "fillcolor": "black",
          "layer": "below",
          "line": {
           "width": 30
          },
          "opacity": 0.03,
          "type": "rect",
          "x0": 0,
          "x1": 1,
          "xref": "x domain",
          "y0": 1,
          "y1": 1,
          "yref": "y"
         },
         {
          "fillcolor": "black",
          "layer": "below",
          "line": {
           "width": 30
          },
          "opacity": 0.03,
          "type": "rect",
          "x0": 0,
          "x1": 1,
          "xref": "x domain",
          "y0": 2,
          "y1": 2,
          "yref": "y"
         },
         {
          "fillcolor": "black",
          "layer": "below",
          "line": {
           "width": 30
          },
          "opacity": 0.03,
          "type": "rect",
          "x0": 0,
          "x1": 1,
          "xref": "x domain",
          "y0": 3,
          "y1": 3,
          "yref": "y"
         },
         {
          "fillcolor": "black",
          "layer": "below",
          "line": {
           "width": 30
          },
          "opacity": 0.03,
          "type": "rect",
          "x0": 0,
          "x1": 1,
          "xref": "x domain",
          "y0": 4,
          "y1": 4,
          "yref": "y"
         },
         {
          "fillcolor": "black",
          "layer": "below",
          "line": {
           "width": 30
          },
          "opacity": 0.03,
          "type": "rect",
          "x0": 0,
          "x1": 1,
          "xref": "x domain",
          "y0": 5,
          "y1": 5,
          "yref": "y"
         },
         {
          "fillcolor": "black",
          "layer": "below",
          "line": {
           "width": 30
          },
          "opacity": 0.03,
          "type": "rect",
          "x0": 0,
          "x1": 1,
          "xref": "x domain",
          "y0": 6,
          "y1": 6,
          "yref": "y"
         },
         {
          "fillcolor": "black",
          "layer": "below",
          "line": {
           "width": 30
          },
          "opacity": 0.03,
          "type": "rect",
          "x0": 0,
          "x1": 1,
          "xref": "x domain",
          "y0": 7,
          "y1": 7,
          "yref": "y"
         },
         {
          "fillcolor": "black",
          "layer": "below",
          "line": {
           "width": 30
          },
          "opacity": 0.03,
          "type": "rect",
          "x0": 0,
          "x1": 1,
          "xref": "x domain",
          "y0": 8,
          "y1": 8,
          "yref": "y"
         },
         {
          "fillcolor": "black",
          "layer": "below",
          "line": {
           "width": 30
          },
          "opacity": 0.03,
          "type": "rect",
          "x0": 0,
          "x1": 1,
          "xref": "x domain",
          "y0": 9,
          "y1": 9,
          "yref": "y"
         }
        ],
        "template": {
         "data": {
          "bar": [
           {
            "error_x": {
             "color": "#f2f5fa"
            },
            "error_y": {
             "color": "#f2f5fa"
            },
            "marker": {
             "line": {
              "color": "rgb(17,17,17)",
              "width": 0.5
             },
             "pattern": {
              "fillmode": "overlay",
              "size": 10,
              "solidity": 0.2
             }
            },
            "type": "bar"
           }
          ],
          "barpolar": [
           {
            "marker": {
             "line": {
              "color": "rgb(17,17,17)",
              "width": 0.5
             },
             "pattern": {
              "fillmode": "overlay",
              "size": 10,
              "solidity": 0.2
             }
            },
            "type": "barpolar"
           }
          ],
          "carpet": [
           {
            "aaxis": {
             "endlinecolor": "#A2B1C6",
             "gridcolor": "#506784",
             "linecolor": "#506784",
             "minorgridcolor": "#506784",
             "startlinecolor": "#A2B1C6"
            },
            "baxis": {
             "endlinecolor": "#A2B1C6",
             "gridcolor": "#506784",
             "linecolor": "#506784",
             "minorgridcolor": "#506784",
             "startlinecolor": "#A2B1C6"
            },
            "type": "carpet"
           }
          ],
          "choropleth": [
           {
            "colorbar": {
             "outlinewidth": 0,
             "ticks": ""
            },
            "type": "choropleth"
           }
          ],
          "contour": [
           {
            "colorbar": {
             "outlinewidth": 0,
             "ticks": ""
            },
            "colorscale": [
             [
              0,
              "#0d0887"
             ],
             [
              0.1111111111111111,
              "#46039f"
             ],
             [
              0.2222222222222222,
              "#7201a8"
             ],
             [
              0.3333333333333333,
              "#9c179e"
             ],
             [
              0.4444444444444444,
              "#bd3786"
             ],
             [
              0.5555555555555556,
              "#d8576b"
             ],
             [
              0.6666666666666666,
              "#ed7953"
             ],
             [
              0.7777777777777778,
              "#fb9f3a"
             ],
             [
              0.8888888888888888,
              "#fdca26"
             ],
             [
              1,
              "#f0f921"
             ]
            ],
            "type": "contour"
           }
          ],
          "contourcarpet": [
           {
            "colorbar": {
             "outlinewidth": 0,
             "ticks": ""
            },
            "type": "contourcarpet"
           }
          ],
          "heatmap": [
           {
            "colorbar": {
             "outlinewidth": 0,
             "ticks": ""
            },
            "colorscale": [
             [
              0,
              "#0d0887"
             ],
             [
              0.1111111111111111,
              "#46039f"
             ],
             [
              0.2222222222222222,
              "#7201a8"
             ],
             [
              0.3333333333333333,
              "#9c179e"
             ],
             [
              0.4444444444444444,
              "#bd3786"
             ],
             [
              0.5555555555555556,
              "#d8576b"
             ],
             [
              0.6666666666666666,
              "#ed7953"
             ],
             [
              0.7777777777777778,
              "#fb9f3a"
             ],
             [
              0.8888888888888888,
              "#fdca26"
             ],
             [
              1,
              "#f0f921"
             ]
            ],
            "type": "heatmap"
           }
          ],
          "heatmapgl": [
           {
            "colorbar": {
             "outlinewidth": 0,
             "ticks": ""
            },
            "colorscale": [
             [
              0,
              "#0d0887"
             ],
             [
              0.1111111111111111,
              "#46039f"
             ],
             [
              0.2222222222222222,
              "#7201a8"
             ],
             [
              0.3333333333333333,
              "#9c179e"
             ],
             [
              0.4444444444444444,
              "#bd3786"
             ],
             [
              0.5555555555555556,
              "#d8576b"
             ],
             [
              0.6666666666666666,
              "#ed7953"
             ],
             [
              0.7777777777777778,
              "#fb9f3a"
             ],
             [
              0.8888888888888888,
              "#fdca26"
             ],
             [
              1,
              "#f0f921"
             ]
            ],
            "type": "heatmapgl"
           }
          ],
          "histogram": [
           {
            "marker": {
             "pattern": {
              "fillmode": "overlay",
              "size": 10,
              "solidity": 0.2
             }
            },
            "type": "histogram"
           }
          ],
          "histogram2d": [
           {
            "colorbar": {
             "outlinewidth": 0,
             "ticks": ""
            },
            "colorscale": [
             [
              0,
              "#0d0887"
             ],
             [
              0.1111111111111111,
              "#46039f"
             ],
             [
              0.2222222222222222,
              "#7201a8"
             ],
             [
              0.3333333333333333,
              "#9c179e"
             ],
             [
              0.4444444444444444,
              "#bd3786"
             ],
             [
              0.5555555555555556,
              "#d8576b"
             ],
             [
              0.6666666666666666,
              "#ed7953"
             ],
             [
              0.7777777777777778,
              "#fb9f3a"
             ],
             [
              0.8888888888888888,
              "#fdca26"
             ],
             [
              1,
              "#f0f921"
             ]
            ],
            "type": "histogram2d"
           }
          ],
          "histogram2dcontour": [
           {
            "colorbar": {
             "outlinewidth": 0,
             "ticks": ""
            },
            "colorscale": [
             [
              0,
              "#0d0887"
             ],
             [
              0.1111111111111111,
              "#46039f"
             ],
             [
              0.2222222222222222,
              "#7201a8"
             ],
             [
              0.3333333333333333,
              "#9c179e"
             ],
             [
              0.4444444444444444,
              "#bd3786"
             ],
             [
              0.5555555555555556,
              "#d8576b"
             ],
             [
              0.6666666666666666,
              "#ed7953"
             ],
             [
              0.7777777777777778,
              "#fb9f3a"
             ],
             [
              0.8888888888888888,
              "#fdca26"
             ],
             [
              1,
              "#f0f921"
             ]
            ],
            "type": "histogram2dcontour"
           }
          ],
          "mesh3d": [
           {
            "colorbar": {
             "outlinewidth": 0,
             "ticks": ""
            },
            "type": "mesh3d"
           }
          ],
          "parcoords": [
           {
            "line": {
             "colorbar": {
              "outlinewidth": 0,
              "ticks": ""
             }
            },
            "type": "parcoords"
           }
          ],
          "pie": [
           {
            "automargin": true,
            "type": "pie"
           }
          ],
          "scatter": [
           {
            "marker": {
             "line": {
              "color": "#283442"
             }
            },
            "type": "scatter"
           }
          ],
          "scatter3d": [
           {
            "line": {
             "colorbar": {
              "outlinewidth": 0,
              "ticks": ""
             }
            },
            "marker": {
             "colorbar": {
              "outlinewidth": 0,
              "ticks": ""
             }
            },
            "type": "scatter3d"
           }
          ],
          "scattercarpet": [
           {
            "marker": {
             "colorbar": {
              "outlinewidth": 0,
              "ticks": ""
             }
            },
            "type": "scattercarpet"
           }
          ],
          "scattergeo": [
           {
            "marker": {
             "colorbar": {
              "outlinewidth": 0,
              "ticks": ""
             }
            },
            "type": "scattergeo"
           }
          ],
          "scattergl": [
           {
            "marker": {
             "line": {
              "color": "#283442"
             }
            },
            "type": "scattergl"
           }
          ],
          "scattermapbox": [
           {
            "marker": {
             "colorbar": {
              "outlinewidth": 0,
              "ticks": ""
             }
            },
            "type": "scattermapbox"
           }
          ],
          "scatterpolar": [
           {
            "marker": {
             "colorbar": {
              "outlinewidth": 0,
              "ticks": ""
             }
            },
            "type": "scatterpolar"
           }
          ],
          "scatterpolargl": [
           {
            "marker": {
             "colorbar": {
              "outlinewidth": 0,
              "ticks": ""
             }
            },
            "type": "scatterpolargl"
           }
          ],
          "scatterternary": [
           {
            "marker": {
             "colorbar": {
              "outlinewidth": 0,
              "ticks": ""
             }
            },
            "type": "scatterternary"
           }
          ],
          "surface": [
           {
            "colorbar": {
             "outlinewidth": 0,
             "ticks": ""
            },
            "colorscale": [
             [
              0,
              "#0d0887"
             ],
             [
              0.1111111111111111,
              "#46039f"
             ],
             [
              0.2222222222222222,
              "#7201a8"
             ],
             [
              0.3333333333333333,
              "#9c179e"
             ],
             [
              0.4444444444444444,
              "#bd3786"
             ],
             [
              0.5555555555555556,
              "#d8576b"
             ],
             [
              0.6666666666666666,
              "#ed7953"
             ],
             [
              0.7777777777777778,
              "#fb9f3a"
             ],
             [
              0.8888888888888888,
              "#fdca26"
             ],
             [
              1,
              "#f0f921"
             ]
            ],
            "type": "surface"
           }
          ],
          "table": [
           {
            "cells": {
             "fill": {
              "color": "#506784"
             },
             "line": {
              "color": "rgb(17,17,17)"
             }
            },
            "header": {
             "fill": {
              "color": "#2a3f5f"
             },
             "line": {
              "color": "rgb(17,17,17)"
             }
            },
            "type": "table"
           }
          ]
         },
         "layout": {
          "annotationdefaults": {
           "arrowcolor": "#f2f5fa",
           "arrowhead": 0,
           "arrowwidth": 1
          },
          "autotypenumbers": "strict",
          "coloraxis": {
           "colorbar": {
            "outlinewidth": 0,
            "ticks": ""
           }
          },
          "colorscale": {
           "diverging": [
            [
             0,
             "#8e0152"
            ],
            [
             0.1,
             "#c51b7d"
            ],
            [
             0.2,
             "#de77ae"
            ],
            [
             0.3,
             "#f1b6da"
            ],
            [
             0.4,
             "#fde0ef"
            ],
            [
             0.5,
             "#f7f7f7"
            ],
            [
             0.6,
             "#e6f5d0"
            ],
            [
             0.7,
             "#b8e186"
            ],
            [
             0.8,
             "#7fbc41"
            ],
            [
             0.9,
             "#4d9221"
            ],
            [
             1,
             "#276419"
            ]
           ],
           "sequential": [
            [
             0,
             "#0d0887"
            ],
            [
             0.1111111111111111,
             "#46039f"
            ],
            [
             0.2222222222222222,
             "#7201a8"
            ],
            [
             0.3333333333333333,
             "#9c179e"
            ],
            [
             0.4444444444444444,
             "#bd3786"
            ],
            [
             0.5555555555555556,
             "#d8576b"
            ],
            [
             0.6666666666666666,
             "#ed7953"
            ],
            [
             0.7777777777777778,
             "#fb9f3a"
            ],
            [
             0.8888888888888888,
             "#fdca26"
            ],
            [
             1,
             "#f0f921"
            ]
           ],
           "sequentialminus": [
            [
             0,
             "#0d0887"
            ],
            [
             0.1111111111111111,
             "#46039f"
            ],
            [
             0.2222222222222222,
             "#7201a8"
            ],
            [
             0.3333333333333333,
             "#9c179e"
            ],
            [
             0.4444444444444444,
             "#bd3786"
            ],
            [
             0.5555555555555556,
             "#d8576b"
            ],
            [
             0.6666666666666666,
             "#ed7953"
            ],
            [
             0.7777777777777778,
             "#fb9f3a"
            ],
            [
             0.8888888888888888,
             "#fdca26"
            ],
            [
             1,
             "#f0f921"
            ]
           ]
          },
          "colorway": [
           "#636efa",
           "#EF553B",
           "#00cc96",
           "#ab63fa",
           "#FFA15A",
           "#19d3f3",
           "#FF6692",
           "#B6E880",
           "#FF97FF",
           "#FECB52"
          ],
          "font": {
           "color": "#f2f5fa"
          },
          "geo": {
           "bgcolor": "rgb(17,17,17)",
           "lakecolor": "rgb(17,17,17)",
           "landcolor": "rgb(17,17,17)",
           "showlakes": true,
           "showland": true,
           "subunitcolor": "#506784"
          },
          "hoverlabel": {
           "align": "left"
          },
          "hovermode": "closest",
          "mapbox": {
           "style": "dark"
          },
          "paper_bgcolor": "rgb(17,17,17)",
          "plot_bgcolor": "rgb(17,17,17)",
          "polar": {
           "angularaxis": {
            "gridcolor": "#506784",
            "linecolor": "#506784",
            "ticks": ""
           },
           "bgcolor": "rgb(17,17,17)",
           "radialaxis": {
            "gridcolor": "#506784",
            "linecolor": "#506784",
            "ticks": ""
           }
          },
          "scene": {
           "xaxis": {
            "backgroundcolor": "rgb(17,17,17)",
            "gridcolor": "#506784",
            "gridwidth": 2,
            "linecolor": "#506784",
            "showbackground": true,
            "ticks": "",
            "zerolinecolor": "#C8D4E3"
           },
           "yaxis": {
            "backgroundcolor": "rgb(17,17,17)",
            "gridcolor": "#506784",
            "gridwidth": 2,
            "linecolor": "#506784",
            "showbackground": true,
            "ticks": "",
            "zerolinecolor": "#C8D4E3"
           },
           "zaxis": {
            "backgroundcolor": "rgb(17,17,17)",
            "gridcolor": "#506784",
            "gridwidth": 2,
            "linecolor": "#506784",
            "showbackground": true,
            "ticks": "",
            "zerolinecolor": "#C8D4E3"
           }
          },
          "shapedefaults": {
           "line": {
            "color": "#f2f5fa"
           }
          },
          "sliderdefaults": {
           "bgcolor": "#C8D4E3",
           "bordercolor": "rgb(17,17,17)",
           "borderwidth": 1,
           "tickwidth": 0
          },
          "ternary": {
           "aaxis": {
            "gridcolor": "#506784",
            "linecolor": "#506784",
            "ticks": ""
           },
           "baxis": {
            "gridcolor": "#506784",
            "linecolor": "#506784",
            "ticks": ""
           },
           "bgcolor": "rgb(17,17,17)",
           "caxis": {
            "gridcolor": "#506784",
            "linecolor": "#506784",
            "ticks": ""
           }
          },
          "title": {
           "x": 0.05
          },
          "updatemenudefaults": {
           "bgcolor": "#506784",
           "borderwidth": 0
          },
          "xaxis": {
           "automargin": true,
           "gridcolor": "#283442",
           "linecolor": "#506784",
           "ticks": "",
           "title": {
            "standoff": 15
           },
           "zerolinecolor": "#283442",
           "zerolinewidth": 2
          },
          "yaxis": {
           "automargin": true,
           "gridcolor": "#283442",
           "linecolor": "#506784",
           "ticks": "",
           "title": {
            "standoff": 15
           },
           "zerolinecolor": "#283442",
           "zerolinewidth": 2
          }
         }
        },
        "title": {
         "text": "Music of Dark"
        },
        "xaxis": {
         "anchor": "y",
         "domain": [
          0,
          1
         ],
         "gridcolor": "grey",
         "griddash": "dot",
         "rangeslider": {
          "thickness": 0.1,
          "visible": true
         },
         "showgrid": true,
         "tickformat": "%H:%M:%S",
         "title": {
          "text": "Time"
         },
         "type": "date"
        },
        "yaxis": {
         "anchor": "x",
         "autorange": "reversed",
         "categoryarray": [
          "1",
          "2",
          "3",
          "4",
          "5",
          "6",
          "7",
          "8",
          "9",
          "10"
         ],
         "categoryorder": "array",
         "domain": [
          0,
          1
         ],
         "title": {
          "text": "Episode"
         }
        }
       }
      }
     },
     "metadata": {},
     "output_type": "display_data"
    }
   ],
   "source": [
    "from matplotlib.pyplot import legend\n",
    "\n",
    "\n",
    "fig = px.timeline(data, x_start='interval_start',\n",
    "                            x_end='interval_end',\n",
    "                            y='episode',\n",
    "                            color='season',\n",
    "                            text='sdh_comment'\n",
    "                            # ,template=\"xgridoff\"\n",
    "                            ,template='plotly_dark'\n",
    "                            ,color_discrete_map={\"3\":\"rgb(179,205,227)\",\"2\":\"rgb(36,121,108)\",\"1\":\"rgb(153,153,51)\"}\n",
    "                            ,category_orders={\"season\": [\"1\", \"2\", \"3\"],\"episode\": [\"10\",\"9\",\"8\",\"7\",\"6\",\"5\",\"4\",\"3\",\"2\",\"1\"]}                            \n",
    "                            ,hover_name=\"sdh_comment\"\n",
    "                            ,hover_data={'sdh_comment':False,'interval_end':False}\n",
    "                            ,height=700\n",
    "                            )\n",
    "\n",
    "fig.update_xaxes(tickformat=\"%H:%M:%S\",\n",
    "                showgrid=True, griddash='dot', gridcolor='grey',\n",
    "                rangeslider=dict(visible=True,\n",
    "                # ,bgcolor=\"white\"\n",
    "                )\n",
    "                ,rangeslider_thickness = 0.1 #fraction of the whole fig heigth\n",
    "                )\n",
    "# https://plotly.com/python/reference/layout/xaxis/#layout-xaxis-rangeslider\n",
    "\n",
    "fig.update_yaxes(autorange=\"reversed\"\n",
    "                # ,categoryorder='category ascending'\n",
    "                )\n",
    "\n",
    "# shapes were added in the background for more readability\n",
    "for episode in range(0,10):\n",
    "    fig.add_hrect(y0=episode, y1=episode, line_width=30, fillcolor=\"black\", opacity=0.03,layer=\"below\")\n",
    "\n",
    "fig.update_traces(textfont_size=8, textangle=0,textposition=\"none\")\n",
    "fig.update_layout(title=\"Music of Dark\",xaxis_title=\"Time\",yaxis_title=\"Episode\",legend_title=\"Season\",bargap=0,\n",
    "                font_family=\"Courier New\",\n",
    "                font_color=\"white\",\n",
    "                # title_font_family=\"Times New Roman\",\n",
    "                # title_font_color=\"white\"\n",
    "                )\n",
    "fig.show()"
   ]
  },
  {
   "cell_type": "code",
   "execution_count": 257,
   "metadata": {},
   "outputs": [
    {
     "data": {
      "text/html": [
       "<div>\n",
       "<style scoped>\n",
       "    .dataframe tbody tr th:only-of-type {\n",
       "        vertical-align: middle;\n",
       "    }\n",
       "\n",
       "    .dataframe tbody tr th {\n",
       "        vertical-align: top;\n",
       "    }\n",
       "\n",
       "    .dataframe thead th {\n",
       "        text-align: right;\n",
       "    }\n",
       "</style>\n",
       "<table border=\"1\" class=\"dataframe\">\n",
       "  <thead>\n",
       "    <tr style=\"text-align: right;\">\n",
       "      <th></th>\n",
       "      <th>sdh_comment</th>\n",
       "      <th>interval_start</th>\n",
       "      <th>interval_end</th>\n",
       "      <th>interval_minute</th>\n",
       "      <th>episode</th>\n",
       "      <th>season</th>\n",
       "      <th>season00episode00</th>\n",
       "    </tr>\n",
       "  </thead>\n",
       "  <tbody>\n",
       "    <tr>\n",
       "      <th>11</th>\n",
       "      <td>Lied: \"You Spin Me 'Round\" von Dead or Alive</td>\n",
       "      <td>1900-01-01 00:05:08</td>\n",
       "      <td>1900-01-01 00:05:56</td>\n",
       "      <td>5</td>\n",
       "      <td>2</td>\n",
       "      <td>3</td>\n",
       "      <td>S03E02</td>\n",
       "    </tr>\n",
       "    <tr>\n",
       "      <th>93</th>\n",
       "      <td>Lied: \"Is This Love\" von Survivor</td>\n",
       "      <td>1900-01-01 00:48:03</td>\n",
       "      <td>1900-01-01 00:48:50</td>\n",
       "      <td>48</td>\n",
       "      <td>2</td>\n",
       "      <td>3</td>\n",
       "      <td>S03E02</td>\n",
       "    </tr>\n",
       "    <tr>\n",
       "      <th>95</th>\n",
       "      <td>Lied: \"Broken Sleep\" von   Obel</td>\n",
       "      <td>1900-01-01 00:48:45</td>\n",
       "      <td>1900-01-01 00:49:33</td>\n",
       "      <td>48</td>\n",
       "      <td>2</td>\n",
       "      <td>3</td>\n",
       "      <td>S03E02</td>\n",
       "    </tr>\n",
       "    <tr>\n",
       "      <th>116</th>\n",
       "      <td>Lied: \"I Ran\" von A Flock of Seagulls</td>\n",
       "      <td>1900-01-01 00:05:19</td>\n",
       "      <td>1900-01-01 00:06:07</td>\n",
       "      <td>5</td>\n",
       "      <td>7</td>\n",
       "      <td>1</td>\n",
       "      <td>S01E07</td>\n",
       "    </tr>\n",
       "    <tr>\n",
       "      <th>313</th>\n",
       "      <td>Lied: \"Ent One\" von Sol Seppy</td>\n",
       "      <td>1900-01-01 00:40:56</td>\n",
       "      <td>1900-01-01 00:41:43</td>\n",
       "      <td>40</td>\n",
       "      <td>6</td>\n",
       "      <td>1</td>\n",
       "      <td>S01E06</td>\n",
       "    </tr>\n",
       "    <tr>\n",
       "      <th>492</th>\n",
       "      <td>Lied: \"Bad Kingdom\" von May und Robot Koch</td>\n",
       "      <td>1900-01-01 00:49:04</td>\n",
       "      <td>1900-01-01 00:49:51</td>\n",
       "      <td>49</td>\n",
       "      <td>1</td>\n",
       "      <td>3</td>\n",
       "      <td>S03E01</td>\n",
       "    </tr>\n",
       "    <tr>\n",
       "      <th>564</th>\n",
       "      <td>Lied: \"Keep the Streets Empty For Me\" von Fev Ray</td>\n",
       "      <td>1900-01-01 00:38:06</td>\n",
       "      <td>1900-01-01 00:38:54</td>\n",
       "      <td>38</td>\n",
       "      <td>4</td>\n",
       "      <td>1</td>\n",
       "      <td>S01E04</td>\n",
       "    </tr>\n",
       "    <tr>\n",
       "      <th>664</th>\n",
       "      <td>Lied: \"A Quiet Life\" von Teho Teardo &amp; Blixa B...</td>\n",
       "      <td>1900-01-01 00:45:22</td>\n",
       "      <td>1900-01-01 00:46:11</td>\n",
       "      <td>45</td>\n",
       "      <td>10</td>\n",
       "      <td>1</td>\n",
       "      <td>S01E10</td>\n",
       "    </tr>\n",
       "    <tr>\n",
       "      <th>742</th>\n",
       "      <td>Lied: \"Wenn ich dich seh\" von Detlev Lais</td>\n",
       "      <td>1900-01-01 00:04:55</td>\n",
       "      <td>1900-01-01 00:05:43</td>\n",
       "      <td>4</td>\n",
       "      <td>4</td>\n",
       "      <td>3</td>\n",
       "      <td>S03E04</td>\n",
       "    </tr>\n",
       "    <tr>\n",
       "      <th>799</th>\n",
       "      <td>Lied: \"The Labyrinth Song\" von Asaf Avidan</td>\n",
       "      <td>1900-01-01 00:53:53</td>\n",
       "      <td>1900-01-01 00:54:40</td>\n",
       "      <td>53</td>\n",
       "      <td>4</td>\n",
       "      <td>3</td>\n",
       "      <td>S03E04</td>\n",
       "    </tr>\n",
       "    <tr>\n",
       "      <th>1013</th>\n",
       "      <td>Lied: \"In the Woods Somewhere\" von Hozier</td>\n",
       "      <td>1900-01-01 00:51:08</td>\n",
       "      <td>1900-01-01 00:51:56</td>\n",
       "      <td>51</td>\n",
       "      <td>5</td>\n",
       "      <td>3</td>\n",
       "      <td>S03E05</td>\n",
       "    </tr>\n",
       "    <tr>\n",
       "      <th>1149</th>\n",
       "      <td>Lied: \"Pneumothorax\" von Blueneck</td>\n",
       "      <td>1900-01-01 00:56:44</td>\n",
       "      <td>1900-01-01 00:57:31</td>\n",
       "      <td>56</td>\n",
       "      <td>7</td>\n",
       "      <td>3</td>\n",
       "      <td>S03E07</td>\n",
       "    </tr>\n",
       "    <tr>\n",
       "      <th>1193</th>\n",
       "      <td>Lied: \"Industry\" von Mire Kay</td>\n",
       "      <td>1900-01-01 00:18:51</td>\n",
       "      <td>1900-01-01 00:19:37</td>\n",
       "      <td>18</td>\n",
       "      <td>2</td>\n",
       "      <td>1</td>\n",
       "      <td>S01E02</td>\n",
       "    </tr>\n",
       "    <tr>\n",
       "      <th>1236</th>\n",
       "      <td>Lied: \"Shout\" von Tears for Fears</td>\n",
       "      <td>1900-01-01 00:06:36</td>\n",
       "      <td>1900-01-01 00:07:24</td>\n",
       "      <td>6</td>\n",
       "      <td>3</td>\n",
       "      <td>1</td>\n",
       "      <td>S01E03</td>\n",
       "    </tr>\n",
       "    <tr>\n",
       "      <th>1394</th>\n",
       "      <td>Lied: \"The Pioneers (M83 Remix)\" von Bloc Party</td>\n",
       "      <td>1900-01-01 00:47:12</td>\n",
       "      <td>1900-01-01 00:47:59</td>\n",
       "      <td>47</td>\n",
       "      <td>6</td>\n",
       "      <td>3</td>\n",
       "      <td>S03E06</td>\n",
       "    </tr>\n",
       "    <tr>\n",
       "      <th>1502</th>\n",
       "      <td>Lied: \"My body Is a Cage\" von Pet Gabriel</td>\n",
       "      <td>1900-01-01 00:47:46</td>\n",
       "      <td>1900-01-01 00:48:33</td>\n",
       "      <td>47</td>\n",
       "      <td>8</td>\n",
       "      <td>2</td>\n",
       "      <td>S02E08</td>\n",
       "    </tr>\n",
       "    <tr>\n",
       "      <th>1604</th>\n",
       "      <td>Lied: \"It's Happening Again\" von   Obel</td>\n",
       "      <td>1900-01-01 00:45:57</td>\n",
       "      <td>1900-01-01 00:46:45</td>\n",
       "      <td>45</td>\n",
       "      <td>1</td>\n",
       "      <td>2</td>\n",
       "      <td>S02E01</td>\n",
       "    </tr>\n",
       "    <tr>\n",
       "      <th>1690</th>\n",
       "      <td>Lied: \"Melody X\" von Bonaparte</td>\n",
       "      <td>1900-01-01 00:46:11</td>\n",
       "      <td>1900-01-01 00:46:58</td>\n",
       "      <td>46</td>\n",
       "      <td>3</td>\n",
       "      <td>2</td>\n",
       "      <td>S02E03</td>\n",
       "    </tr>\n",
       "    <tr>\n",
       "      <th>1725</th>\n",
       "      <td>Lied: \"Being Boiled\" von The Human League</td>\n",
       "      <td>1900-01-01 00:12:38</td>\n",
       "      <td>1900-01-01 00:13:24</td>\n",
       "      <td>12</td>\n",
       "      <td>2</td>\n",
       "      <td>2</td>\n",
       "      <td>S02E02</td>\n",
       "    </tr>\n",
       "    <tr>\n",
       "      <th>1733</th>\n",
       "      <td>Lied: \"Suspicious Minds\" von Elvis Presley</td>\n",
       "      <td>1900-01-01 00:18:34</td>\n",
       "      <td>1900-01-01 00:19:22</td>\n",
       "      <td>18</td>\n",
       "      <td>2</td>\n",
       "      <td>2</td>\n",
       "      <td>S02E02</td>\n",
       "    </tr>\n",
       "    <tr>\n",
       "      <th>1783</th>\n",
       "      <td>Lied: \"Thunder\" von Ry X</td>\n",
       "      <td>1900-01-01 00:45:08</td>\n",
       "      <td>1900-01-01 00:45:55</td>\n",
       "      <td>45</td>\n",
       "      <td>2</td>\n",
       "      <td>2</td>\n",
       "      <td>S02E02</td>\n",
       "    </tr>\n",
       "    <tr>\n",
       "      <th>1831</th>\n",
       "      <td>Lied: \"Irgendwie  irgendwo  irgendwann\" von Nena</td>\n",
       "      <td>1900-01-01 00:25:42</td>\n",
       "      <td>1900-01-01 00:26:30</td>\n",
       "      <td>25</td>\n",
       "      <td>6</td>\n",
       "      <td>2</td>\n",
       "      <td>S02E06</td>\n",
       "    </tr>\n",
       "    <tr>\n",
       "      <th>1832</th>\n",
       "      <td>Lied: \"Heaven Is A Place On Earth\"</td>\n",
       "      <td>1900-01-01 00:26:21</td>\n",
       "      <td>1900-01-01 00:27:09</td>\n",
       "      <td>26</td>\n",
       "      <td>6</td>\n",
       "      <td>2</td>\n",
       "      <td>S02E06</td>\n",
       "    </tr>\n",
       "    <tr>\n",
       "      <th>1841</th>\n",
       "      <td>Lied: \"Nev Gonna Give You Up\" von Rick Astley</td>\n",
       "      <td>1900-01-01 00:31:09</td>\n",
       "      <td>1900-01-01 00:31:57</td>\n",
       "      <td>31</td>\n",
       "      <td>6</td>\n",
       "      <td>2</td>\n",
       "      <td>S02E06</td>\n",
       "    </tr>\n",
       "    <tr>\n",
       "      <th>1863</th>\n",
       "      <td>Lied: \"The Twisted Olive Branch\" von Asaf Avidan</td>\n",
       "      <td>1900-01-01 00:45:02</td>\n",
       "      <td>1900-01-01 00:45:50</td>\n",
       "      <td>45</td>\n",
       "      <td>6</td>\n",
       "      <td>2</td>\n",
       "      <td>S02E06</td>\n",
       "    </tr>\n",
       "    <tr>\n",
       "      <th>1942</th>\n",
       "      <td>Lied: \"God's Whisper\" von Raury</td>\n",
       "      <td>1900-01-01 00:48:58</td>\n",
       "      <td>1900-01-01 00:49:45</td>\n",
       "      <td>48</td>\n",
       "      <td>7</td>\n",
       "      <td>2</td>\n",
       "      <td>S02E07</td>\n",
       "    </tr>\n",
       "    <tr>\n",
       "      <th>2011</th>\n",
       "      <td>Lied: \"May the Angels\" von Alev Lenz</td>\n",
       "      <td>1900-01-01 00:46:15</td>\n",
       "      <td>1900-01-01 00:47:03</td>\n",
       "      <td>46</td>\n",
       "      <td>5</td>\n",
       "      <td>2</td>\n",
       "      <td>S02E05</td>\n",
       "    </tr>\n",
       "    <tr>\n",
       "      <th>2111</th>\n",
       "      <td>Lied: \"The World Retreats\" von David O'Dowda</td>\n",
       "      <td>1900-01-01 00:48:00</td>\n",
       "      <td>1900-01-01 00:48:47</td>\n",
       "      <td>48</td>\n",
       "      <td>4</td>\n",
       "      <td>2</td>\n",
       "      <td>S02E04</td>\n",
       "    </tr>\n",
       "    <tr>\n",
       "      <th>2243</th>\n",
       "      <td>Lied: \"What a wonderful world\" von Soap&amp;Skin</td>\n",
       "      <td>1900-01-01 01:01:55</td>\n",
       "      <td>1900-01-01 01:02:43</td>\n",
       "      <td>1</td>\n",
       "      <td>8</td>\n",
       "      <td>3</td>\n",
       "      <td>S03E08</td>\n",
       "    </tr>\n",
       "    <tr>\n",
       "      <th>2255</th>\n",
       "      <td>Lied: \"Irgendwie  irgendwo  irgendwann\" von Nena</td>\n",
       "      <td>1900-01-01 01:08:15</td>\n",
       "      <td>1900-01-01 01:09:03</td>\n",
       "      <td>8</td>\n",
       "      <td>8</td>\n",
       "      <td>3</td>\n",
       "      <td>S03E08</td>\n",
       "    </tr>\n",
       "    <tr>\n",
       "      <th>2306</th>\n",
       "      <td>Lied: \"Das Geisterschiff vom Ohio\"</td>\n",
       "      <td>1900-01-01 00:22:17</td>\n",
       "      <td>1900-01-01 00:23:05</td>\n",
       "      <td>22</td>\n",
       "      <td>8</td>\n",
       "      <td>1</td>\n",
       "      <td>S01E08</td>\n",
       "    </tr>\n",
       "    <tr>\n",
       "      <th>2487</th>\n",
       "      <td>Lied: \"When I Was Done Dying\" von Dan Deacon</td>\n",
       "      <td>1900-01-01 00:49:24</td>\n",
       "      <td>1900-01-01 00:50:11</td>\n",
       "      <td>49</td>\n",
       "      <td>9</td>\n",
       "      <td>1</td>\n",
       "      <td>S01E09</td>\n",
       "    </tr>\n",
       "  </tbody>\n",
       "</table>\n",
       "</div>"
      ],
      "text/plain": [
       "                                            sdh_comment      interval_start  \\\n",
       "11         Lied: \"You Spin Me 'Round\" von Dead or Alive 1900-01-01 00:05:08   \n",
       "93                    Lied: \"Is This Love\" von Survivor 1900-01-01 00:48:03   \n",
       "95                      Lied: \"Broken Sleep\" von   Obel 1900-01-01 00:48:45   \n",
       "116               Lied: \"I Ran\" von A Flock of Seagulls 1900-01-01 00:05:19   \n",
       "313                       Lied: \"Ent One\" von Sol Seppy 1900-01-01 00:40:56   \n",
       "492          Lied: \"Bad Kingdom\" von May und Robot Koch 1900-01-01 00:49:04   \n",
       "564   Lied: \"Keep the Streets Empty For Me\" von Fev Ray 1900-01-01 00:38:06   \n",
       "664   Lied: \"A Quiet Life\" von Teho Teardo & Blixa B... 1900-01-01 00:45:22   \n",
       "742           Lied: \"Wenn ich dich seh\" von Detlev Lais 1900-01-01 00:04:55   \n",
       "799          Lied: \"The Labyrinth Song\" von Asaf Avidan 1900-01-01 00:53:53   \n",
       "1013          Lied: \"In the Woods Somewhere\" von Hozier 1900-01-01 00:51:08   \n",
       "1149                  Lied: \"Pneumothorax\" von Blueneck 1900-01-01 00:56:44   \n",
       "1193                      Lied: \"Industry\" von Mire Kay 1900-01-01 00:18:51   \n",
       "1236                  Lied: \"Shout\" von Tears for Fears 1900-01-01 00:06:36   \n",
       "1394    Lied: \"The Pioneers (M83 Remix)\" von Bloc Party 1900-01-01 00:47:12   \n",
       "1502          Lied: \"My body Is a Cage\" von Pet Gabriel 1900-01-01 00:47:46   \n",
       "1604            Lied: \"It's Happening Again\" von   Obel 1900-01-01 00:45:57   \n",
       "1690                     Lied: \"Melody X\" von Bonaparte 1900-01-01 00:46:11   \n",
       "1725          Lied: \"Being Boiled\" von The Human League 1900-01-01 00:12:38   \n",
       "1733         Lied: \"Suspicious Minds\" von Elvis Presley 1900-01-01 00:18:34   \n",
       "1783                           Lied: \"Thunder\" von Ry X 1900-01-01 00:45:08   \n",
       "1831   Lied: \"Irgendwie  irgendwo  irgendwann\" von Nena 1900-01-01 00:25:42   \n",
       "1832                 Lied: \"Heaven Is A Place On Earth\" 1900-01-01 00:26:21   \n",
       "1841      Lied: \"Nev Gonna Give You Up\" von Rick Astley 1900-01-01 00:31:09   \n",
       "1863   Lied: \"The Twisted Olive Branch\" von Asaf Avidan 1900-01-01 00:45:02   \n",
       "1942                    Lied: \"God's Whisper\" von Raury 1900-01-01 00:48:58   \n",
       "2011               Lied: \"May the Angels\" von Alev Lenz 1900-01-01 00:46:15   \n",
       "2111       Lied: \"The World Retreats\" von David O'Dowda 1900-01-01 00:48:00   \n",
       "2243       Lied: \"What a wonderful world\" von Soap&Skin 1900-01-01 01:01:55   \n",
       "2255   Lied: \"Irgendwie  irgendwo  irgendwann\" von Nena 1900-01-01 01:08:15   \n",
       "2306                 Lied: \"Das Geisterschiff vom Ohio\" 1900-01-01 00:22:17   \n",
       "2487       Lied: \"When I Was Done Dying\" von Dan Deacon 1900-01-01 00:49:24   \n",
       "\n",
       "            interval_end  interval_minute episode season season00episode00  \n",
       "11   1900-01-01 00:05:56                5       2      3            S03E02  \n",
       "93   1900-01-01 00:48:50               48       2      3            S03E02  \n",
       "95   1900-01-01 00:49:33               48       2      3            S03E02  \n",
       "116  1900-01-01 00:06:07                5       7      1            S01E07  \n",
       "313  1900-01-01 00:41:43               40       6      1            S01E06  \n",
       "492  1900-01-01 00:49:51               49       1      3            S03E01  \n",
       "564  1900-01-01 00:38:54               38       4      1            S01E04  \n",
       "664  1900-01-01 00:46:11               45      10      1            S01E10  \n",
       "742  1900-01-01 00:05:43                4       4      3            S03E04  \n",
       "799  1900-01-01 00:54:40               53       4      3            S03E04  \n",
       "1013 1900-01-01 00:51:56               51       5      3            S03E05  \n",
       "1149 1900-01-01 00:57:31               56       7      3            S03E07  \n",
       "1193 1900-01-01 00:19:37               18       2      1            S01E02  \n",
       "1236 1900-01-01 00:07:24                6       3      1            S01E03  \n",
       "1394 1900-01-01 00:47:59               47       6      3            S03E06  \n",
       "1502 1900-01-01 00:48:33               47       8      2            S02E08  \n",
       "1604 1900-01-01 00:46:45               45       1      2            S02E01  \n",
       "1690 1900-01-01 00:46:58               46       3      2            S02E03  \n",
       "1725 1900-01-01 00:13:24               12       2      2            S02E02  \n",
       "1733 1900-01-01 00:19:22               18       2      2            S02E02  \n",
       "1783 1900-01-01 00:45:55               45       2      2            S02E02  \n",
       "1831 1900-01-01 00:26:30               25       6      2            S02E06  \n",
       "1832 1900-01-01 00:27:09               26       6      2            S02E06  \n",
       "1841 1900-01-01 00:31:57               31       6      2            S02E06  \n",
       "1863 1900-01-01 00:45:50               45       6      2            S02E06  \n",
       "1942 1900-01-01 00:49:45               48       7      2            S02E07  \n",
       "2011 1900-01-01 00:47:03               46       5      2            S02E05  \n",
       "2111 1900-01-01 00:48:47               48       4      2            S02E04  \n",
       "2243 1900-01-01 01:02:43                1       8      3            S03E08  \n",
       "2255 1900-01-01 01:09:03                8       8      3            S03E08  \n",
       "2306 1900-01-01 00:23:05               22       8      1            S01E08  \n",
       "2487 1900-01-01 00:50:11               49       9      1            S01E09  "
      ]
     },
     "execution_count": 257,
     "metadata": {},
     "output_type": "execute_result"
    }
   ],
   "source": [
    "data = pd.read_csv('sdh_comments.csv')\n",
    "# changing string type to datetime\n",
    "data.interval_start = pd.to_datetime(data.interval_start.str[0:8],format=\"%H:%M:%S\")\n",
    "data.interval_end = pd.to_datetime(data.interval_end.str[0:8],format=\"%H:%M:%S\")\n",
    "\n",
    "\n",
    "data = data[(data.sdh_comment.str.startswith('Lied:')) & (~data.sdh_comment.str.contains('Goodbye'))]\n",
    "# data[data.sdh_comment.str.contains('Goodbye')]\n",
    "data.episode = data.episode.astype('str')\n",
    "data.season = data.season.astype('str')\n",
    "data.interval_end = data.interval_end + timedelta(seconds=45)\n",
    "data"
   ]
  },
  {
   "cell_type": "code",
   "execution_count": 258,
   "metadata": {},
   "outputs": [
    {
     "data": {
      "application/vnd.plotly.v1+json": {
       "config": {
        "plotlyServerURL": "https://plot.ly"
       },
       "data": [
        {
         "alignmentgroup": "True",
         "base": [
          "1900-01-01T00:05:08",
          "1900-01-01T00:48:03",
          "1900-01-01T00:48:45",
          "1900-01-01T00:05:19",
          "1900-01-01T00:40:56",
          "1900-01-01T00:49:04",
          "1900-01-01T00:38:06",
          "1900-01-01T00:45:22",
          "1900-01-01T00:04:55",
          "1900-01-01T00:53:53",
          "1900-01-01T00:51:08",
          "1900-01-01T00:56:44",
          "1900-01-01T00:18:51",
          "1900-01-01T00:06:36",
          "1900-01-01T00:47:12",
          "1900-01-01T00:47:46",
          "1900-01-01T00:45:57",
          "1900-01-01T00:46:11",
          "1900-01-01T00:12:38",
          "1900-01-01T00:18:34",
          "1900-01-01T00:45:08",
          "1900-01-01T00:25:42",
          "1900-01-01T00:26:21",
          "1900-01-01T00:31:09",
          "1900-01-01T00:45:02",
          "1900-01-01T00:48:58",
          "1900-01-01T00:46:15",
          "1900-01-01T00:48:00",
          "1900-01-01T01:01:55",
          "1900-01-01T01:08:15",
          "1900-01-01T00:22:17",
          "1900-01-01T00:49:24"
         ],
         "customdata": [
          [
           "Lied: \"You Spin Me 'Round\" von Dead or Alive"
          ],
          [
           "Lied: \"Is This Love\" von Survivor"
          ],
          [
           "Lied: \"Broken Sleep\" von   Obel"
          ],
          [
           "Lied: \"I Ran\" von A Flock of Seagulls"
          ],
          [
           "Lied: \"Ent One\" von Sol Seppy"
          ],
          [
           "Lied: \"Bad Kingdom\" von May und Robot Koch"
          ],
          [
           "Lied: \"Keep the Streets Empty For Me\" von Fev Ray"
          ],
          [
           "Lied: \"A Quiet Life\" von Teho Teardo & Blixa Bargeld"
          ],
          [
           "Lied: \"Wenn ich dich seh\" von Detlev Lais"
          ],
          [
           "Lied: \"The Labyrinth Song\" von Asaf Avidan"
          ],
          [
           "Lied: \"In the Woods Somewhere\" von Hozier"
          ],
          [
           "Lied: \"Pneumothorax\" von Blueneck"
          ],
          [
           "Lied: \"Industry\" von Mire Kay"
          ],
          [
           "Lied: \"Shout\" von Tears for Fears"
          ],
          [
           "Lied: \"The Pioneers (M83 Remix)\" von Bloc Party"
          ],
          [
           "Lied: \"My body Is a Cage\" von Pet Gabriel"
          ],
          [
           "Lied: \"It's Happening Again\" von   Obel"
          ],
          [
           "Lied: \"Melody X\" von Bonaparte"
          ],
          [
           "Lied: \"Being Boiled\" von The Human League"
          ],
          [
           "Lied: \"Suspicious Minds\" von Elvis Presley"
          ],
          [
           "Lied: \"Thunder\" von Ry X"
          ],
          [
           "Lied: \"Irgendwie  irgendwo  irgendwann\" von Nena"
          ],
          [
           "Lied: \"Heaven Is A Place On Earth\""
          ],
          [
           "Lied: \"Nev Gonna Give You Up\" von Rick Astley"
          ],
          [
           "Lied: \"The Twisted Olive Branch\" von Asaf Avidan"
          ],
          [
           "Lied: \"God's Whisper\" von Raury"
          ],
          [
           "Lied: \"May the Angels\" von Alev Lenz"
          ],
          [
           "Lied: \"The World Retreats\" von David O'Dowda"
          ],
          [
           "Lied: \"What a wonderful world\" von Soap&Skin"
          ],
          [
           "Lied: \"Irgendwie  irgendwo  irgendwann\" von Nena"
          ],
          [
           "Lied: \"Das Geisterschiff vom Ohio\""
          ],
          [
           "Lied: \"When I Was Done Dying\" von Dan Deacon"
          ]
         ],
         "hovertemplate": "<b>%{hovertext}</b><br><br>interval_start=%{base}<br>season00episode00=%{y}<extra></extra>",
         "hovertext": [
          "Lied: \"You Spin Me 'Round\" von Dead or Alive",
          "Lied: \"Is This Love\" von Survivor",
          "Lied: \"Broken Sleep\" von   Obel",
          "Lied: \"I Ran\" von A Flock of Seagulls",
          "Lied: \"Ent One\" von Sol Seppy",
          "Lied: \"Bad Kingdom\" von May und Robot Koch",
          "Lied: \"Keep the Streets Empty For Me\" von Fev Ray",
          "Lied: \"A Quiet Life\" von Teho Teardo & Blixa Bargeld",
          "Lied: \"Wenn ich dich seh\" von Detlev Lais",
          "Lied: \"The Labyrinth Song\" von Asaf Avidan",
          "Lied: \"In the Woods Somewhere\" von Hozier",
          "Lied: \"Pneumothorax\" von Blueneck",
          "Lied: \"Industry\" von Mire Kay",
          "Lied: \"Shout\" von Tears for Fears",
          "Lied: \"The Pioneers (M83 Remix)\" von Bloc Party",
          "Lied: \"My body Is a Cage\" von Pet Gabriel",
          "Lied: \"It's Happening Again\" von   Obel",
          "Lied: \"Melody X\" von Bonaparte",
          "Lied: \"Being Boiled\" von The Human League",
          "Lied: \"Suspicious Minds\" von Elvis Presley",
          "Lied: \"Thunder\" von Ry X",
          "Lied: \"Irgendwie  irgendwo  irgendwann\" von Nena",
          "Lied: \"Heaven Is A Place On Earth\"",
          "Lied: \"Nev Gonna Give You Up\" von Rick Astley",
          "Lied: \"The Twisted Olive Branch\" von Asaf Avidan",
          "Lied: \"God's Whisper\" von Raury",
          "Lied: \"May the Angels\" von Alev Lenz",
          "Lied: \"The World Retreats\" von David O'Dowda",
          "Lied: \"What a wonderful world\" von Soap&Skin",
          "Lied: \"Irgendwie  irgendwo  irgendwann\" von Nena",
          "Lied: \"Das Geisterschiff vom Ohio\"",
          "Lied: \"When I Was Done Dying\" von Dan Deacon"
         ],
         "legendgroup": "",
         "marker": {
          "color": "rgb(120,130,90)",
          "pattern": {
           "shape": ""
          }
         },
         "name": "",
         "offsetgroup": "",
         "orientation": "h",
         "showlegend": false,
         "text": [
          "Lied: \"You Spin Me 'Round\" von Dead or Alive",
          "Lied: \"Is This Love\" von Survivor",
          "Lied: \"Broken Sleep\" von   Obel",
          "Lied: \"I Ran\" von A Flock of Seagulls",
          "Lied: \"Ent One\" von Sol Seppy",
          "Lied: \"Bad Kingdom\" von May und Robot Koch",
          "Lied: \"Keep the Streets Empty For Me\" von Fev Ray",
          "Lied: \"A Quiet Life\" von Teho Teardo & Blixa Bargeld",
          "Lied: \"Wenn ich dich seh\" von Detlev Lais",
          "Lied: \"The Labyrinth Song\" von Asaf Avidan",
          "Lied: \"In the Woods Somewhere\" von Hozier",
          "Lied: \"Pneumothorax\" von Blueneck",
          "Lied: \"Industry\" von Mire Kay",
          "Lied: \"Shout\" von Tears for Fears",
          "Lied: \"The Pioneers (M83 Remix)\" von Bloc Party",
          "Lied: \"My body Is a Cage\" von Pet Gabriel",
          "Lied: \"It's Happening Again\" von   Obel",
          "Lied: \"Melody X\" von Bonaparte",
          "Lied: \"Being Boiled\" von The Human League",
          "Lied: \"Suspicious Minds\" von Elvis Presley",
          "Lied: \"Thunder\" von Ry X",
          "Lied: \"Irgendwie  irgendwo  irgendwann\" von Nena",
          "Lied: \"Heaven Is A Place On Earth\"",
          "Lied: \"Nev Gonna Give You Up\" von Rick Astley",
          "Lied: \"The Twisted Olive Branch\" von Asaf Avidan",
          "Lied: \"God's Whisper\" von Raury",
          "Lied: \"May the Angels\" von Alev Lenz",
          "Lied: \"The World Retreats\" von David O'Dowda",
          "Lied: \"What a wonderful world\" von Soap&Skin",
          "Lied: \"Irgendwie  irgendwo  irgendwann\" von Nena",
          "Lied: \"Das Geisterschiff vom Ohio\"",
          "Lied: \"When I Was Done Dying\" von Dan Deacon"
         ],
         "textangle": 0,
         "textfont": {
          "size": 8
         },
         "textposition": "auto",
         "type": "bar",
         "x": [
          48000,
          47000,
          48000,
          48000,
          47000,
          47000,
          48000,
          49000,
          48000,
          47000,
          48000,
          47000,
          46000,
          48000,
          47000,
          47000,
          48000,
          47000,
          46000,
          48000,
          47000,
          48000,
          48000,
          48000,
          48000,
          47000,
          48000,
          47000,
          48000,
          48000,
          48000,
          47000
         ],
         "xaxis": "x",
         "y": [
          "S03E02",
          "S03E02",
          "S03E02",
          "S01E07",
          "S01E06",
          "S03E01",
          "S01E04",
          "S01E10",
          "S03E04",
          "S03E04",
          "S03E05",
          "S03E07",
          "S01E02",
          "S01E03",
          "S03E06",
          "S02E08",
          "S02E01",
          "S02E03",
          "S02E02",
          "S02E02",
          "S02E02",
          "S02E06",
          "S02E06",
          "S02E06",
          "S02E06",
          "S02E07",
          "S02E05",
          "S02E04",
          "S03E08",
          "S03E08",
          "S01E08",
          "S01E09"
         ],
         "yaxis": "y"
        }
       ],
       "layout": {
        "bargap": 0,
        "barmode": "overlay",
        "font": {
         "color": "white",
         "family": "Courier New"
        },
        "height": 800,
        "legend": {
         "title": {
          "text": "Season"
         },
         "tracegroupgap": 0
        },
        "margin": {
         "t": 60
        },
        "shapes": [
         {
          "fillcolor": "black",
          "layer": "below",
          "line": {
           "width": 10
          },
          "opacity": 0.03,
          "type": "rect",
          "x0": 0,
          "x1": 1,
          "xref": "x domain",
          "y0": "S03E02",
          "y1": "S03E02",
          "yref": "y"
         },
         {
          "fillcolor": "black",
          "layer": "below",
          "line": {
           "width": 10
          },
          "opacity": 0.03,
          "type": "rect",
          "x0": 0,
          "x1": 1,
          "xref": "x domain",
          "y0": "S01E07",
          "y1": "S01E07",
          "yref": "y"
         },
         {
          "fillcolor": "black",
          "layer": "below",
          "line": {
           "width": 10
          },
          "opacity": 0.03,
          "type": "rect",
          "x0": 0,
          "x1": 1,
          "xref": "x domain",
          "y0": "S01E06",
          "y1": "S01E06",
          "yref": "y"
         },
         {
          "fillcolor": "black",
          "layer": "below",
          "line": {
           "width": 10
          },
          "opacity": 0.03,
          "type": "rect",
          "x0": 0,
          "x1": 1,
          "xref": "x domain",
          "y0": "S03E01",
          "y1": "S03E01",
          "yref": "y"
         },
         {
          "fillcolor": "black",
          "layer": "below",
          "line": {
           "width": 10
          },
          "opacity": 0.03,
          "type": "rect",
          "x0": 0,
          "x1": 1,
          "xref": "x domain",
          "y0": "S01E04",
          "y1": "S01E04",
          "yref": "y"
         },
         {
          "fillcolor": "black",
          "layer": "below",
          "line": {
           "width": 10
          },
          "opacity": 0.03,
          "type": "rect",
          "x0": 0,
          "x1": 1,
          "xref": "x domain",
          "y0": "S01E10",
          "y1": "S01E10",
          "yref": "y"
         },
         {
          "fillcolor": "black",
          "layer": "below",
          "line": {
           "width": 10
          },
          "opacity": 0.03,
          "type": "rect",
          "x0": 0,
          "x1": 1,
          "xref": "x domain",
          "y0": "S03E04",
          "y1": "S03E04",
          "yref": "y"
         },
         {
          "fillcolor": "black",
          "layer": "below",
          "line": {
           "width": 10
          },
          "opacity": 0.03,
          "type": "rect",
          "x0": 0,
          "x1": 1,
          "xref": "x domain",
          "y0": "S03E05",
          "y1": "S03E05",
          "yref": "y"
         },
         {
          "fillcolor": "black",
          "layer": "below",
          "line": {
           "width": 10
          },
          "opacity": 0.03,
          "type": "rect",
          "x0": 0,
          "x1": 1,
          "xref": "x domain",
          "y0": "S03E07",
          "y1": "S03E07",
          "yref": "y"
         },
         {
          "fillcolor": "black",
          "layer": "below",
          "line": {
           "width": 10
          },
          "opacity": 0.03,
          "type": "rect",
          "x0": 0,
          "x1": 1,
          "xref": "x domain",
          "y0": "S01E02",
          "y1": "S01E02",
          "yref": "y"
         },
         {
          "fillcolor": "black",
          "layer": "below",
          "line": {
           "width": 10
          },
          "opacity": 0.03,
          "type": "rect",
          "x0": 0,
          "x1": 1,
          "xref": "x domain",
          "y0": "S01E03",
          "y1": "S01E03",
          "yref": "y"
         },
         {
          "fillcolor": "black",
          "layer": "below",
          "line": {
           "width": 10
          },
          "opacity": 0.03,
          "type": "rect",
          "x0": 0,
          "x1": 1,
          "xref": "x domain",
          "y0": "S03E06",
          "y1": "S03E06",
          "yref": "y"
         },
         {
          "fillcolor": "black",
          "layer": "below",
          "line": {
           "width": 10
          },
          "opacity": 0.03,
          "type": "rect",
          "x0": 0,
          "x1": 1,
          "xref": "x domain",
          "y0": "S02E08",
          "y1": "S02E08",
          "yref": "y"
         },
         {
          "fillcolor": "black",
          "layer": "below",
          "line": {
           "width": 10
          },
          "opacity": 0.03,
          "type": "rect",
          "x0": 0,
          "x1": 1,
          "xref": "x domain",
          "y0": "S02E01",
          "y1": "S02E01",
          "yref": "y"
         },
         {
          "fillcolor": "black",
          "layer": "below",
          "line": {
           "width": 10
          },
          "opacity": 0.03,
          "type": "rect",
          "x0": 0,
          "x1": 1,
          "xref": "x domain",
          "y0": "S02E03",
          "y1": "S02E03",
          "yref": "y"
         },
         {
          "fillcolor": "black",
          "layer": "below",
          "line": {
           "width": 10
          },
          "opacity": 0.03,
          "type": "rect",
          "x0": 0,
          "x1": 1,
          "xref": "x domain",
          "y0": "S02E02",
          "y1": "S02E02",
          "yref": "y"
         },
         {
          "fillcolor": "black",
          "layer": "below",
          "line": {
           "width": 10
          },
          "opacity": 0.03,
          "type": "rect",
          "x0": 0,
          "x1": 1,
          "xref": "x domain",
          "y0": "S02E06",
          "y1": "S02E06",
          "yref": "y"
         },
         {
          "fillcolor": "black",
          "layer": "below",
          "line": {
           "width": 10
          },
          "opacity": 0.03,
          "type": "rect",
          "x0": 0,
          "x1": 1,
          "xref": "x domain",
          "y0": "S02E07",
          "y1": "S02E07",
          "yref": "y"
         },
         {
          "fillcolor": "black",
          "layer": "below",
          "line": {
           "width": 10
          },
          "opacity": 0.03,
          "type": "rect",
          "x0": 0,
          "x1": 1,
          "xref": "x domain",
          "y0": "S02E05",
          "y1": "S02E05",
          "yref": "y"
         },
         {
          "fillcolor": "black",
          "layer": "below",
          "line": {
           "width": 10
          },
          "opacity": 0.03,
          "type": "rect",
          "x0": 0,
          "x1": 1,
          "xref": "x domain",
          "y0": "S02E04",
          "y1": "S02E04",
          "yref": "y"
         },
         {
          "fillcolor": "black",
          "layer": "below",
          "line": {
           "width": 10
          },
          "opacity": 0.03,
          "type": "rect",
          "x0": 0,
          "x1": 1,
          "xref": "x domain",
          "y0": "S03E08",
          "y1": "S03E08",
          "yref": "y"
         },
         {
          "fillcolor": "black",
          "layer": "below",
          "line": {
           "width": 10
          },
          "opacity": 0.03,
          "type": "rect",
          "x0": 0,
          "x1": 1,
          "xref": "x domain",
          "y0": "S01E08",
          "y1": "S01E08",
          "yref": "y"
         },
         {
          "fillcolor": "black",
          "layer": "below",
          "line": {
           "width": 10
          },
          "opacity": 0.03,
          "type": "rect",
          "x0": 0,
          "x1": 1,
          "xref": "x domain",
          "y0": "S01E09",
          "y1": "S01E09",
          "yref": "y"
         }
        ],
        "template": {
         "data": {
          "bar": [
           {
            "error_x": {
             "color": "#f2f5fa"
            },
            "error_y": {
             "color": "#f2f5fa"
            },
            "marker": {
             "line": {
              "color": "rgb(17,17,17)",
              "width": 0.5
             },
             "pattern": {
              "fillmode": "overlay",
              "size": 10,
              "solidity": 0.2
             }
            },
            "type": "bar"
           }
          ],
          "barpolar": [
           {
            "marker": {
             "line": {
              "color": "rgb(17,17,17)",
              "width": 0.5
             },
             "pattern": {
              "fillmode": "overlay",
              "size": 10,
              "solidity": 0.2
             }
            },
            "type": "barpolar"
           }
          ],
          "carpet": [
           {
            "aaxis": {
             "endlinecolor": "#A2B1C6",
             "gridcolor": "#506784",
             "linecolor": "#506784",
             "minorgridcolor": "#506784",
             "startlinecolor": "#A2B1C6"
            },
            "baxis": {
             "endlinecolor": "#A2B1C6",
             "gridcolor": "#506784",
             "linecolor": "#506784",
             "minorgridcolor": "#506784",
             "startlinecolor": "#A2B1C6"
            },
            "type": "carpet"
           }
          ],
          "choropleth": [
           {
            "colorbar": {
             "outlinewidth": 0,
             "ticks": ""
            },
            "type": "choropleth"
           }
          ],
          "contour": [
           {
            "colorbar": {
             "outlinewidth": 0,
             "ticks": ""
            },
            "colorscale": [
             [
              0,
              "#0d0887"
             ],
             [
              0.1111111111111111,
              "#46039f"
             ],
             [
              0.2222222222222222,
              "#7201a8"
             ],
             [
              0.3333333333333333,
              "#9c179e"
             ],
             [
              0.4444444444444444,
              "#bd3786"
             ],
             [
              0.5555555555555556,
              "#d8576b"
             ],
             [
              0.6666666666666666,
              "#ed7953"
             ],
             [
              0.7777777777777778,
              "#fb9f3a"
             ],
             [
              0.8888888888888888,
              "#fdca26"
             ],
             [
              1,
              "#f0f921"
             ]
            ],
            "type": "contour"
           }
          ],
          "contourcarpet": [
           {
            "colorbar": {
             "outlinewidth": 0,
             "ticks": ""
            },
            "type": "contourcarpet"
           }
          ],
          "heatmap": [
           {
            "colorbar": {
             "outlinewidth": 0,
             "ticks": ""
            },
            "colorscale": [
             [
              0,
              "#0d0887"
             ],
             [
              0.1111111111111111,
              "#46039f"
             ],
             [
              0.2222222222222222,
              "#7201a8"
             ],
             [
              0.3333333333333333,
              "#9c179e"
             ],
             [
              0.4444444444444444,
              "#bd3786"
             ],
             [
              0.5555555555555556,
              "#d8576b"
             ],
             [
              0.6666666666666666,
              "#ed7953"
             ],
             [
              0.7777777777777778,
              "#fb9f3a"
             ],
             [
              0.8888888888888888,
              "#fdca26"
             ],
             [
              1,
              "#f0f921"
             ]
            ],
            "type": "heatmap"
           }
          ],
          "heatmapgl": [
           {
            "colorbar": {
             "outlinewidth": 0,
             "ticks": ""
            },
            "colorscale": [
             [
              0,
              "#0d0887"
             ],
             [
              0.1111111111111111,
              "#46039f"
             ],
             [
              0.2222222222222222,
              "#7201a8"
             ],
             [
              0.3333333333333333,
              "#9c179e"
             ],
             [
              0.4444444444444444,
              "#bd3786"
             ],
             [
              0.5555555555555556,
              "#d8576b"
             ],
             [
              0.6666666666666666,
              "#ed7953"
             ],
             [
              0.7777777777777778,
              "#fb9f3a"
             ],
             [
              0.8888888888888888,
              "#fdca26"
             ],
             [
              1,
              "#f0f921"
             ]
            ],
            "type": "heatmapgl"
           }
          ],
          "histogram": [
           {
            "marker": {
             "pattern": {
              "fillmode": "overlay",
              "size": 10,
              "solidity": 0.2
             }
            },
            "type": "histogram"
           }
          ],
          "histogram2d": [
           {
            "colorbar": {
             "outlinewidth": 0,
             "ticks": ""
            },
            "colorscale": [
             [
              0,
              "#0d0887"
             ],
             [
              0.1111111111111111,
              "#46039f"
             ],
             [
              0.2222222222222222,
              "#7201a8"
             ],
             [
              0.3333333333333333,
              "#9c179e"
             ],
             [
              0.4444444444444444,
              "#bd3786"
             ],
             [
              0.5555555555555556,
              "#d8576b"
             ],
             [
              0.6666666666666666,
              "#ed7953"
             ],
             [
              0.7777777777777778,
              "#fb9f3a"
             ],
             [
              0.8888888888888888,
              "#fdca26"
             ],
             [
              1,
              "#f0f921"
             ]
            ],
            "type": "histogram2d"
           }
          ],
          "histogram2dcontour": [
           {
            "colorbar": {
             "outlinewidth": 0,
             "ticks": ""
            },
            "colorscale": [
             [
              0,
              "#0d0887"
             ],
             [
              0.1111111111111111,
              "#46039f"
             ],
             [
              0.2222222222222222,
              "#7201a8"
             ],
             [
              0.3333333333333333,
              "#9c179e"
             ],
             [
              0.4444444444444444,
              "#bd3786"
             ],
             [
              0.5555555555555556,
              "#d8576b"
             ],
             [
              0.6666666666666666,
              "#ed7953"
             ],
             [
              0.7777777777777778,
              "#fb9f3a"
             ],
             [
              0.8888888888888888,
              "#fdca26"
             ],
             [
              1,
              "#f0f921"
             ]
            ],
            "type": "histogram2dcontour"
           }
          ],
          "mesh3d": [
           {
            "colorbar": {
             "outlinewidth": 0,
             "ticks": ""
            },
            "type": "mesh3d"
           }
          ],
          "parcoords": [
           {
            "line": {
             "colorbar": {
              "outlinewidth": 0,
              "ticks": ""
             }
            },
            "type": "parcoords"
           }
          ],
          "pie": [
           {
            "automargin": true,
            "type": "pie"
           }
          ],
          "scatter": [
           {
            "marker": {
             "line": {
              "color": "#283442"
             }
            },
            "type": "scatter"
           }
          ],
          "scatter3d": [
           {
            "line": {
             "colorbar": {
              "outlinewidth": 0,
              "ticks": ""
             }
            },
            "marker": {
             "colorbar": {
              "outlinewidth": 0,
              "ticks": ""
             }
            },
            "type": "scatter3d"
           }
          ],
          "scattercarpet": [
           {
            "marker": {
             "colorbar": {
              "outlinewidth": 0,
              "ticks": ""
             }
            },
            "type": "scattercarpet"
           }
          ],
          "scattergeo": [
           {
            "marker": {
             "colorbar": {
              "outlinewidth": 0,
              "ticks": ""
             }
            },
            "type": "scattergeo"
           }
          ],
          "scattergl": [
           {
            "marker": {
             "line": {
              "color": "#283442"
             }
            },
            "type": "scattergl"
           }
          ],
          "scattermapbox": [
           {
            "marker": {
             "colorbar": {
              "outlinewidth": 0,
              "ticks": ""
             }
            },
            "type": "scattermapbox"
           }
          ],
          "scatterpolar": [
           {
            "marker": {
             "colorbar": {
              "outlinewidth": 0,
              "ticks": ""
             }
            },
            "type": "scatterpolar"
           }
          ],
          "scatterpolargl": [
           {
            "marker": {
             "colorbar": {
              "outlinewidth": 0,
              "ticks": ""
             }
            },
            "type": "scatterpolargl"
           }
          ],
          "scatterternary": [
           {
            "marker": {
             "colorbar": {
              "outlinewidth": 0,
              "ticks": ""
             }
            },
            "type": "scatterternary"
           }
          ],
          "surface": [
           {
            "colorbar": {
             "outlinewidth": 0,
             "ticks": ""
            },
            "colorscale": [
             [
              0,
              "#0d0887"
             ],
             [
              0.1111111111111111,
              "#46039f"
             ],
             [
              0.2222222222222222,
              "#7201a8"
             ],
             [
              0.3333333333333333,
              "#9c179e"
             ],
             [
              0.4444444444444444,
              "#bd3786"
             ],
             [
              0.5555555555555556,
              "#d8576b"
             ],
             [
              0.6666666666666666,
              "#ed7953"
             ],
             [
              0.7777777777777778,
              "#fb9f3a"
             ],
             [
              0.8888888888888888,
              "#fdca26"
             ],
             [
              1,
              "#f0f921"
             ]
            ],
            "type": "surface"
           }
          ],
          "table": [
           {
            "cells": {
             "fill": {
              "color": "#506784"
             },
             "line": {
              "color": "rgb(17,17,17)"
             }
            },
            "header": {
             "fill": {
              "color": "#2a3f5f"
             },
             "line": {
              "color": "rgb(17,17,17)"
             }
            },
            "type": "table"
           }
          ]
         },
         "layout": {
          "annotationdefaults": {
           "arrowcolor": "#f2f5fa",
           "arrowhead": 0,
           "arrowwidth": 1
          },
          "autotypenumbers": "strict",
          "coloraxis": {
           "colorbar": {
            "outlinewidth": 0,
            "ticks": ""
           }
          },
          "colorscale": {
           "diverging": [
            [
             0,
             "#8e0152"
            ],
            [
             0.1,
             "#c51b7d"
            ],
            [
             0.2,
             "#de77ae"
            ],
            [
             0.3,
             "#f1b6da"
            ],
            [
             0.4,
             "#fde0ef"
            ],
            [
             0.5,
             "#f7f7f7"
            ],
            [
             0.6,
             "#e6f5d0"
            ],
            [
             0.7,
             "#b8e186"
            ],
            [
             0.8,
             "#7fbc41"
            ],
            [
             0.9,
             "#4d9221"
            ],
            [
             1,
             "#276419"
            ]
           ],
           "sequential": [
            [
             0,
             "#0d0887"
            ],
            [
             0.1111111111111111,
             "#46039f"
            ],
            [
             0.2222222222222222,
             "#7201a8"
            ],
            [
             0.3333333333333333,
             "#9c179e"
            ],
            [
             0.4444444444444444,
             "#bd3786"
            ],
            [
             0.5555555555555556,
             "#d8576b"
            ],
            [
             0.6666666666666666,
             "#ed7953"
            ],
            [
             0.7777777777777778,
             "#fb9f3a"
            ],
            [
             0.8888888888888888,
             "#fdca26"
            ],
            [
             1,
             "#f0f921"
            ]
           ],
           "sequentialminus": [
            [
             0,
             "#0d0887"
            ],
            [
             0.1111111111111111,
             "#46039f"
            ],
            [
             0.2222222222222222,
             "#7201a8"
            ],
            [
             0.3333333333333333,
             "#9c179e"
            ],
            [
             0.4444444444444444,
             "#bd3786"
            ],
            [
             0.5555555555555556,
             "#d8576b"
            ],
            [
             0.6666666666666666,
             "#ed7953"
            ],
            [
             0.7777777777777778,
             "#fb9f3a"
            ],
            [
             0.8888888888888888,
             "#fdca26"
            ],
            [
             1,
             "#f0f921"
            ]
           ]
          },
          "colorway": [
           "#636efa",
           "#EF553B",
           "#00cc96",
           "#ab63fa",
           "#FFA15A",
           "#19d3f3",
           "#FF6692",
           "#B6E880",
           "#FF97FF",
           "#FECB52"
          ],
          "font": {
           "color": "#f2f5fa"
          },
          "geo": {
           "bgcolor": "rgb(17,17,17)",
           "lakecolor": "rgb(17,17,17)",
           "landcolor": "rgb(17,17,17)",
           "showlakes": true,
           "showland": true,
           "subunitcolor": "#506784"
          },
          "hoverlabel": {
           "align": "left"
          },
          "hovermode": "closest",
          "mapbox": {
           "style": "dark"
          },
          "paper_bgcolor": "rgb(17,17,17)",
          "plot_bgcolor": "rgb(17,17,17)",
          "polar": {
           "angularaxis": {
            "gridcolor": "#506784",
            "linecolor": "#506784",
            "ticks": ""
           },
           "bgcolor": "rgb(17,17,17)",
           "radialaxis": {
            "gridcolor": "#506784",
            "linecolor": "#506784",
            "ticks": ""
           }
          },
          "scene": {
           "xaxis": {
            "backgroundcolor": "rgb(17,17,17)",
            "gridcolor": "#506784",
            "gridwidth": 2,
            "linecolor": "#506784",
            "showbackground": true,
            "ticks": "",
            "zerolinecolor": "#C8D4E3"
           },
           "yaxis": {
            "backgroundcolor": "rgb(17,17,17)",
            "gridcolor": "#506784",
            "gridwidth": 2,
            "linecolor": "#506784",
            "showbackground": true,
            "ticks": "",
            "zerolinecolor": "#C8D4E3"
           },
           "zaxis": {
            "backgroundcolor": "rgb(17,17,17)",
            "gridcolor": "#506784",
            "gridwidth": 2,
            "linecolor": "#506784",
            "showbackground": true,
            "ticks": "",
            "zerolinecolor": "#C8D4E3"
           }
          },
          "shapedefaults": {
           "line": {
            "color": "#f2f5fa"
           }
          },
          "sliderdefaults": {
           "bgcolor": "#C8D4E3",
           "bordercolor": "rgb(17,17,17)",
           "borderwidth": 1,
           "tickwidth": 0
          },
          "ternary": {
           "aaxis": {
            "gridcolor": "#506784",
            "linecolor": "#506784",
            "ticks": ""
           },
           "baxis": {
            "gridcolor": "#506784",
            "linecolor": "#506784",
            "ticks": ""
           },
           "bgcolor": "rgb(17,17,17)",
           "caxis": {
            "gridcolor": "#506784",
            "linecolor": "#506784",
            "ticks": ""
           }
          },
          "title": {
           "x": 0.05
          },
          "updatemenudefaults": {
           "bgcolor": "#506784",
           "borderwidth": 0
          },
          "xaxis": {
           "automargin": true,
           "gridcolor": "#283442",
           "linecolor": "#506784",
           "ticks": "",
           "title": {
            "standoff": 15
           },
           "zerolinecolor": "#283442",
           "zerolinewidth": 2
          },
          "yaxis": {
           "automargin": true,
           "gridcolor": "#283442",
           "linecolor": "#506784",
           "ticks": "",
           "title": {
            "standoff": 15
           },
           "zerolinecolor": "#283442",
           "zerolinewidth": 2
          }
         }
        },
        "title": {
         "text": "Music of Dark"
        },
        "xaxis": {
         "anchor": "y",
         "domain": [
          0,
          1
         ],
         "gridcolor": "grey",
         "griddash": "dot",
         "rangeslider": {
          "thickness": 0.1,
          "visible": true
         },
         "showgrid": false,
         "tickformat": "%H:%M:%S",
         "title": {
          "text": "Time"
         },
         "type": "date"
        },
        "yaxis": {
         "anchor": "x",
         "autorange": "reversed",
         "categoryorder": "category ascending",
         "domain": [
          0,
          1
         ],
         "title": {
          "text": "Episode"
         }
        }
       }
      }
     },
     "metadata": {},
     "output_type": "display_data"
    }
   ],
   "source": [
    "from matplotlib.pyplot import legend\n",
    "\n",
    "\n",
    "fig = px.timeline(data, x_start='interval_start',\n",
    "                            x_end='interval_end',\n",
    "                            y='season00episode00',\n",
    "                            # color='season',\n",
    "                            text='sdh_comment'\n",
    "                            # ,template=\"xgridoff\"\n",
    "                            ,template='plotly_dark'\n",
    "                            # ,color_discrete_map={\"3\":\"rgb(179,205,227)\",\"2\":\"rgb(36,121,108)\",\"1\":\"rgb(153,153,51)\"}\n",
    "                            ,color_discrete_sequence=[\"rgb(120,130,90)\"]  \n",
    "                            # ,category_orders={\"season\": [\"1\", \"2\", \"3\"],\"episode\": [\"10\",\"9\",\"8\",\"7\",\"6\",\"5\",\"4\",\"3\",\"2\",\"1\"]}                            \n",
    "                            ,hover_name=\"sdh_comment\"\n",
    "                            ,hover_data={'sdh_comment':False,'interval_end':False}\n",
    "                            ,height=800\n",
    "                            )\n",
    "\n",
    "fig.update_xaxes(tickformat=\"%H:%M:%S\",\n",
    "                showgrid=False, griddash='dot', gridcolor='grey',\n",
    "                rangeslider=dict(visible=True,\n",
    "                # ,bgcolor=\"white\"\n",
    "                )\n",
    "                ,rangeslider_thickness = 0.1 #fraction of the whole fig heigth\n",
    "                )\n",
    "# https://plotly.com/python/reference/layout/xaxis/#layout-xaxis-rangeslider\n",
    "\n",
    "fig.update_yaxes(autorange=\"reversed\"\n",
    "                ,categoryorder='category ascending'\n",
    "                )\n",
    "\n",
    "# shapes were added in the background for more readability\n",
    "for episode in data.season00episode00.drop_duplicates():\n",
    "    fig.add_hrect(y0=episode, y1=episode, line_width=10, fillcolor=\"black\", opacity=0.03,layer=\"below\")\n",
    "\n",
    "fig.update_traces(textfont_size=8, textangle=0\n",
    "                # ,textposition=\"none\"\n",
    "                )\n",
    "fig.update_layout(title=\"Music of Dark\",xaxis_title=\"Time\",yaxis_title=\"Episode\",legend_title=\"Season\",bargap=0,\n",
    "                font_family=\"Courier New\",\n",
    "                font_color=\"white\",\n",
    "                # title_font_family=\"Times New Roman\",\n",
    "                # title_font_color=\"white\"\n",
    "                )\n",
    "fig.show()"
   ]
  },
  {
   "cell_type": "markdown",
   "metadata": {},
   "source": [
    "Not every episode contains comment with soundtrack (which is strange). However, it would be nice to add empty rows for such cases... "
   ]
  },
  {
   "cell_type": "markdown",
   "metadata": {},
   "source": [
    "# ENOUGH WITH THE GRAPHS"
   ]
  },
  {
   "cell_type": "markdown",
   "metadata": {},
   "source": [
    "Now, let's go back to the idea of clustering the comments or something"
   ]
  },
  {
   "cell_type": "markdown",
   "metadata": {},
   "source": [
    "*Ideas*\n",
    "\n",
    "- look at what sorts of music is used in the series (ominous, dark, melancholic, and so on)\n",
    "- cluster comments in some way, I'm assuming there will be categories like sounds, movements, human and animal noize\n",
    "- "
   ]
  },
  {
   "cell_type": "code",
   "execution_count": 15,
   "metadata": {},
   "outputs": [
    {
     "name": "stderr",
     "output_type": "stream",
     "text": [
      "[nltk_data] Downloading package punkt to\n",
      "[nltk_data]     /Users/thomasniets/nltk_data...\n",
      "[nltk_data]   Package punkt is already up-to-date!\n",
      "[nltk_data] Downloading package stopwords to\n",
      "[nltk_data]     /Users/thomasniets/nltk_data...\n",
      "[nltk_data]   Package stopwords is already up-to-date!\n"
     ]
    }
   ],
   "source": [
    "import nltk\n",
    "from nltk.stem.snowball import SnowballStemmer\n",
    "from nltk.tokenize import word_tokenize\n",
    "from nltk.corpus import stopwords\n",
    "\n",
    "nltk.download('punkt')\n",
    "nltk.download('stopwords')\n",
    "\n",
    "stemmer = SnowballStemmer(\"german\")\n",
    "stop_words = set(stopwords.words(\"german\"))\n",
    "\n",
    "import fasttext\n",
    "import fasttext.util"
   ]
  },
  {
   "cell_type": "code",
   "execution_count": 75,
   "metadata": {},
   "outputs": [],
   "source": [
    "data = pd.read_csv('sdh_comments.csv')\n",
    "\n",
    "# changing string type to datetime\n",
    "data.interval_start = pd.to_datetime(data.interval_start.str[0:8],format=\"%H:%M:%S\")\n",
    "data.interval_end = pd.to_datetime(data.interval_end.str[0:8],format=\"%H:%M:%S\")\n",
    "\n",
    "# contains soundtrack titles - no need to include them\n",
    "data = data[~data.sdh_comment.str.contains('Lied:|Radio:')]"
   ]
  },
  {
   "cell_type": "markdown",
   "metadata": {},
   "source": [
    "Pre-processing part"
   ]
  },
  {
   "cell_type": "code",
   "execution_count": 76,
   "metadata": {},
   "outputs": [],
   "source": [
    "# stolen from https://data-dive.com/binary-text-classification-predict-ratings-part2-lstm-neural-networks\n",
    "\n",
    "def clean_text(text, for_embedding=False):\n",
    "    \"\"\"\n",
    "        - Keep only ASCII + European Chars and whitespace, no digits\n",
    "        - remove single letter chars\n",
    "        - convert all whitespaces (tabs etc.) to single wspace\n",
    "        if not for embedding (but e.g. tdf-idf):\n",
    "        - all lowercase\n",
    "        - remove stopwords, punctuation and stemm\n",
    "    \"\"\"\n",
    "    RE_WSPACE = re.compile(r\"\\s+\", re.IGNORECASE)\n",
    "    RE_ASCII = re.compile(r\"[^A-Za-zÀ-ž ]\", re.IGNORECASE)\n",
    "    RE_SINGLECHAR = re.compile(r\"\\b[A-Za-zÀ-ž]\\b\", re.IGNORECASE)\n",
    "    if for_embedding:\n",
    "        # Keep punctuation\n",
    "        RE_ASCII = re.compile(r\"[^A-Za-zÀ-ž,.!? ]\", re.IGNORECASE)\n",
    "        RE_SINGLECHAR = re.compile(r\"\\b[A-Za-zÀ-ž,.!?]\\b\", re.IGNORECASE)\n",
    "\n",
    "    # text = re.sub(RE_ASCII, \" \", text)\n",
    "    text = re.sub(RE_SINGLECHAR, \" \", text)\n",
    "    text = re.sub(RE_WSPACE, \" \", text)\n",
    "\n",
    "    word_tokens = word_tokenize(text)\n",
    "    words_tokens_lower = [word.lower() for word in word_tokens]\n",
    "\n",
    "    if for_embedding:\n",
    "        # no stemming, lowering and punctuation / stop words removal\n",
    "        words_filtered = word_tokens\n",
    "    else:\n",
    "        words_filtered = [\n",
    "            stemmer.stem(word) for word in words_tokens_lower if word not in stop_words\n",
    "        ]\n",
    "\n",
    "    text_clean = \" \".join(words_filtered)\n",
    "    return text_clean"
   ]
  },
  {
   "cell_type": "code",
   "execution_count": 77,
   "metadata": {},
   "outputs": [],
   "source": [
    "data[\"comment_clean\"] = data.sdh_comment.map(\n",
    "    lambda x: clean_text(x, for_embedding=False) if isinstance(x, str) else x\n",
    ")"
   ]
  },
  {
   "cell_type": "code",
   "execution_count": 78,
   "metadata": {},
   "outputs": [
    {
     "data": {
      "text/html": [
       "<div>\n",
       "<style scoped>\n",
       "    .dataframe tbody tr th:only-of-type {\n",
       "        vertical-align: middle;\n",
       "    }\n",
       "\n",
       "    .dataframe tbody tr th {\n",
       "        vertical-align: top;\n",
       "    }\n",
       "\n",
       "    .dataframe thead th {\n",
       "        text-align: right;\n",
       "    }\n",
       "</style>\n",
       "<table border=\"1\" class=\"dataframe\">\n",
       "  <thead>\n",
       "    <tr style=\"text-align: right;\">\n",
       "      <th></th>\n",
       "      <th>sdh_comment</th>\n",
       "      <th>interval_start</th>\n",
       "      <th>interval_end</th>\n",
       "      <th>interval_minute</th>\n",
       "      <th>episode</th>\n",
       "      <th>season</th>\n",
       "      <th>season00episode00</th>\n",
       "      <th>comment_clean</th>\n",
       "    </tr>\n",
       "  </thead>\n",
       "  <tbody>\n",
       "    <tr>\n",
       "      <th>0</th>\n",
       "      <td>düster-melancholische Musik</td>\n",
       "      <td>1900-01-01 00:00:13</td>\n",
       "      <td>1900-01-01 00:00:16</td>\n",
       "      <td>0</td>\n",
       "      <td>2</td>\n",
       "      <td>3</td>\n",
       "      <td>S03E02</td>\n",
       "      <td>duster-melanchol musik</td>\n",
       "    </tr>\n",
       "    <tr>\n",
       "      <th>1</th>\n",
       "      <td>rhythmisches Klopfen</td>\n",
       "      <td>1900-01-01 00:00:24</td>\n",
       "      <td>1900-01-01 00:00:30</td>\n",
       "      <td>0</td>\n",
       "      <td>2</td>\n",
       "      <td>3</td>\n",
       "      <td>S03E02</td>\n",
       "      <td>rhythmisch klopf</td>\n",
       "    </tr>\n",
       "    <tr>\n",
       "      <th>2</th>\n",
       "      <td>bedrohliche Klänge</td>\n",
       "      <td>1900-01-01 00:00:24</td>\n",
       "      <td>1900-01-01 00:00:30</td>\n",
       "      <td>0</td>\n",
       "      <td>2</td>\n",
       "      <td>3</td>\n",
       "      <td>S03E02</td>\n",
       "      <td>bedroh klang</td>\n",
       "    </tr>\n",
       "    <tr>\n",
       "      <th>3</th>\n",
       "      <td>keucht</td>\n",
       "      <td>1900-01-01 00:00:36</td>\n",
       "      <td>1900-01-01 00:00:38</td>\n",
       "      <td>0</td>\n",
       "      <td>2</td>\n",
       "      <td>3</td>\n",
       "      <td>S03E02</td>\n",
       "      <td>keucht</td>\n",
       "    </tr>\n",
       "    <tr>\n",
       "      <th>4</th>\n",
       "      <td>unheilvolle Klänge</td>\n",
       "      <td>1900-01-01 00:00:43</td>\n",
       "      <td>1900-01-01 00:00:46</td>\n",
       "      <td>0</td>\n",
       "      <td>2</td>\n",
       "      <td>3</td>\n",
       "      <td>S03E02</td>\n",
       "      <td>unheilvoll klang</td>\n",
       "    </tr>\n",
       "    <tr>\n",
       "      <th>5</th>\n",
       "      <td>Donnergrollen</td>\n",
       "      <td>1900-01-01 00:00:52</td>\n",
       "      <td>1900-01-01 00:00:56</td>\n",
       "      <td>0</td>\n",
       "      <td>2</td>\n",
       "      <td>3</td>\n",
       "      <td>S03E02</td>\n",
       "      <td>donnergroll</td>\n",
       "    </tr>\n",
       "    <tr>\n",
       "      <th>6</th>\n",
       "      <td>düstere Musik</td>\n",
       "      <td>1900-01-01 00:01:41</td>\n",
       "      <td>1900-01-01 00:01:46</td>\n",
       "      <td>1</td>\n",
       "      <td>2</td>\n",
       "      <td>3</td>\n",
       "      <td>S03E02</td>\n",
       "      <td>dust musik</td>\n",
       "    </tr>\n",
       "    <tr>\n",
       "      <th>7</th>\n",
       "      <td>schluchzt</td>\n",
       "      <td>1900-01-01 00:03:02</td>\n",
       "      <td>1900-01-01 00:03:03</td>\n",
       "      <td>3</td>\n",
       "      <td>2</td>\n",
       "      <td>3</td>\n",
       "      <td>S03E02</td>\n",
       "      <td>schluchzt</td>\n",
       "    </tr>\n",
       "    <tr>\n",
       "      <th>9</th>\n",
       "      <td>Vögel krächzen</td>\n",
       "      <td>1900-01-01 00:04:48</td>\n",
       "      <td>1900-01-01 00:04:50</td>\n",
       "      <td>4</td>\n",
       "      <td>2</td>\n",
       "      <td>3</td>\n",
       "      <td>S03E02</td>\n",
       "      <td>vogel krachz</td>\n",
       "    </tr>\n",
       "    <tr>\n",
       "      <th>10</th>\n",
       "      <td>Radioweck geht an</td>\n",
       "      <td>1900-01-01 00:05:07</td>\n",
       "      <td>1900-01-01 00:05:08</td>\n",
       "      <td>5</td>\n",
       "      <td>2</td>\n",
       "      <td>3</td>\n",
       "      <td>S03E02</td>\n",
       "      <td>radioweck geht</td>\n",
       "    </tr>\n",
       "    <tr>\n",
       "      <th>12</th>\n",
       "      <td>Hundegebell</td>\n",
       "      <td>1900-01-01 00:05:28</td>\n",
       "      <td>1900-01-01 00:05:30</td>\n",
       "      <td>5</td>\n",
       "      <td>2</td>\n",
       "      <td>3</td>\n",
       "      <td>S03E02</td>\n",
       "      <td>hundegebell</td>\n",
       "    </tr>\n",
       "    <tr>\n",
       "      <th>13</th>\n",
       "      <td>Telefon klingelt</td>\n",
       "      <td>1900-01-01 00:05:42</td>\n",
       "      <td>1900-01-01 00:05:44</td>\n",
       "      <td>5</td>\n",
       "      <td>2</td>\n",
       "      <td>3</td>\n",
       "      <td>S03E02</td>\n",
       "      <td>telefon klingelt</td>\n",
       "    </tr>\n",
       "    <tr>\n",
       "      <th>14</th>\n",
       "      <td>Telefon klingelt</td>\n",
       "      <td>1900-01-01 00:05:47</td>\n",
       "      <td>1900-01-01 00:05:49</td>\n",
       "      <td>5</td>\n",
       "      <td>2</td>\n",
       "      <td>3</td>\n",
       "      <td>S03E02</td>\n",
       "      <td>telefon klingelt</td>\n",
       "    </tr>\n",
       "    <tr>\n",
       "      <th>15</th>\n",
       "      <td>Anrufbeantwort geht an</td>\n",
       "      <td>1900-01-01 00:05:56</td>\n",
       "      <td>1900-01-01 00:05:57</td>\n",
       "      <td>5</td>\n",
       "      <td>2</td>\n",
       "      <td>3</td>\n",
       "      <td>S03E02</td>\n",
       "      <td>anrufbeantwort geht</td>\n",
       "    </tr>\n",
       "    <tr>\n",
       "      <th>16</th>\n",
       "      <td>Piepton</td>\n",
       "      <td>1900-01-01 00:06:04</td>\n",
       "      <td>1900-01-01 00:06:05</td>\n",
       "      <td>6</td>\n",
       "      <td>2</td>\n",
       "      <td>3</td>\n",
       "      <td>S03E02</td>\n",
       "      <td>piepton</td>\n",
       "    </tr>\n",
       "    <tr>\n",
       "      <th>17</th>\n",
       "      <td>Piepton</td>\n",
       "      <td>1900-01-01 00:06:22</td>\n",
       "      <td>1900-01-01 00:06:23</td>\n",
       "      <td>6</td>\n",
       "      <td>2</td>\n",
       "      <td>3</td>\n",
       "      <td>S03E02</td>\n",
       "      <td>piepton</td>\n",
       "    </tr>\n",
       "    <tr>\n",
       "      <th>18</th>\n",
       "      <td>bedrohliche Streichermusik</td>\n",
       "      <td>1900-01-01 00:06:39</td>\n",
       "      <td>1900-01-01 00:06:43</td>\n",
       "      <td>6</td>\n",
       "      <td>2</td>\n",
       "      <td>3</td>\n",
       "      <td>S03E02</td>\n",
       "      <td>bedroh streichermus</td>\n",
       "    </tr>\n",
       "    <tr>\n",
       "      <th>19</th>\n",
       "      <td>Kirchenglocken läuten</td>\n",
       "      <td>1900-01-01 00:06:45</td>\n",
       "      <td>1900-01-01 00:06:48</td>\n",
       "      <td>6</td>\n",
       "      <td>2</td>\n",
       "      <td>3</td>\n",
       "      <td>S03E02</td>\n",
       "      <td>kirchenglock laut</td>\n",
       "    </tr>\n",
       "    <tr>\n",
       "      <th>20</th>\n",
       "      <td>flüstert</td>\n",
       "      <td>1900-01-01 00:07:33</td>\n",
       "      <td>1900-01-01 00:07:36</td>\n",
       "      <td>7</td>\n",
       "      <td>2</td>\n",
       "      <td>3</td>\n",
       "      <td>S03E02</td>\n",
       "      <td>flustert</td>\n",
       "    </tr>\n",
       "    <tr>\n",
       "      <th>21</th>\n",
       "      <td>Raunen und Flüstern</td>\n",
       "      <td>1900-01-01 00:07:53</td>\n",
       "      <td>1900-01-01 00:07:56</td>\n",
       "      <td>7</td>\n",
       "      <td>2</td>\n",
       "      <td>3</td>\n",
       "      <td>S03E02</td>\n",
       "      <td>raun flust</td>\n",
       "    </tr>\n",
       "    <tr>\n",
       "      <th>22</th>\n",
       "      <td>Tür geht auf</td>\n",
       "      <td>1900-01-01 00:08:51</td>\n",
       "      <td>1900-01-01 00:08:52</td>\n",
       "      <td>8</td>\n",
       "      <td>2</td>\n",
       "      <td>3</td>\n",
       "      <td>S03E02</td>\n",
       "      <td>tur geht</td>\n",
       "    </tr>\n",
       "    <tr>\n",
       "      <th>23</th>\n",
       "      <td>Donnergrollen</td>\n",
       "      <td>1900-01-01 00:08:58</td>\n",
       "      <td>1900-01-01 00:09:00</td>\n",
       "      <td>8</td>\n",
       "      <td>2</td>\n",
       "      <td>3</td>\n",
       "      <td>S03E02</td>\n",
       "      <td>donnergroll</td>\n",
       "    </tr>\n",
       "    <tr>\n",
       "      <th>24</th>\n",
       "      <td>unheilvolle Klänge</td>\n",
       "      <td>1900-01-01 00:09:10</td>\n",
       "      <td>1900-01-01 00:09:14</td>\n",
       "      <td>9</td>\n",
       "      <td>2</td>\n",
       "      <td>3</td>\n",
       "      <td>S03E02</td>\n",
       "      <td>unheilvoll klang</td>\n",
       "    </tr>\n",
       "    <tr>\n",
       "      <th>25</th>\n",
       "      <td>heulende Sirene in d Ferne</td>\n",
       "      <td>1900-01-01 00:09:14</td>\n",
       "      <td>1900-01-01 00:09:18</td>\n",
       "      <td>9</td>\n",
       "      <td>2</td>\n",
       "      <td>3</td>\n",
       "      <td>S03E02</td>\n",
       "      <td>heulend sir fern</td>\n",
       "    </tr>\n",
       "    <tr>\n",
       "      <th>26</th>\n",
       "      <td>seufzt</td>\n",
       "      <td>1900-01-01 00:09:34</td>\n",
       "      <td>1900-01-01 00:09:36</td>\n",
       "      <td>9</td>\n",
       "      <td>2</td>\n",
       "      <td>3</td>\n",
       "      <td>S03E02</td>\n",
       "      <td>seufzt</td>\n",
       "    </tr>\n",
       "    <tr>\n",
       "      <th>27</th>\n",
       "      <td>Radiosprecherin</td>\n",
       "      <td>1900-01-01 00:09:36</td>\n",
       "      <td>1900-01-01 00:09:38</td>\n",
       "      <td>9</td>\n",
       "      <td>2</td>\n",
       "      <td>3</td>\n",
       "      <td>S03E02</td>\n",
       "      <td>radiosprecherin</td>\n",
       "    </tr>\n",
       "    <tr>\n",
       "      <th>28</th>\n",
       "      <td>Donnergrollen</td>\n",
       "      <td>1900-01-01 00:10:17</td>\n",
       "      <td>1900-01-01 00:10:20</td>\n",
       "      <td>10</td>\n",
       "      <td>2</td>\n",
       "      <td>3</td>\n",
       "      <td>S03E02</td>\n",
       "      <td>donnergroll</td>\n",
       "    </tr>\n",
       "    <tr>\n",
       "      <th>29</th>\n",
       "      <td>heulende Sirene in d Ferne</td>\n",
       "      <td>1900-01-01 00:10:17</td>\n",
       "      <td>1900-01-01 00:10:20</td>\n",
       "      <td>10</td>\n",
       "      <td>2</td>\n",
       "      <td>3</td>\n",
       "      <td>S03E02</td>\n",
       "      <td>heulend sir fern</td>\n",
       "    </tr>\n",
       "    <tr>\n",
       "      <th>30</th>\n",
       "      <td>röchelt</td>\n",
       "      <td>1900-01-01 00:10:41</td>\n",
       "      <td>1900-01-01 00:10:44</td>\n",
       "      <td>10</td>\n",
       "      <td>2</td>\n",
       "      <td>3</td>\n",
       "      <td>S03E02</td>\n",
       "      <td>rochelt</td>\n",
       "    </tr>\n",
       "    <tr>\n",
       "      <th>31</th>\n",
       "      <td>leise</td>\n",
       "      <td>1900-01-01 00:11:04</td>\n",
       "      <td>1900-01-01 00:11:06</td>\n",
       "      <td>11</td>\n",
       "      <td>2</td>\n",
       "      <td>3</td>\n",
       "      <td>S03E02</td>\n",
       "      <td>leis</td>\n",
       "    </tr>\n",
       "  </tbody>\n",
       "</table>\n",
       "</div>"
      ],
      "text/plain": [
       "                    sdh_comment      interval_start        interval_end  \\\n",
       "0   düster-melancholische Musik 1900-01-01 00:00:13 1900-01-01 00:00:16   \n",
       "1          rhythmisches Klopfen 1900-01-01 00:00:24 1900-01-01 00:00:30   \n",
       "2            bedrohliche Klänge 1900-01-01 00:00:24 1900-01-01 00:00:30   \n",
       "3                        keucht 1900-01-01 00:00:36 1900-01-01 00:00:38   \n",
       "4            unheilvolle Klänge 1900-01-01 00:00:43 1900-01-01 00:00:46   \n",
       "5                 Donnergrollen 1900-01-01 00:00:52 1900-01-01 00:00:56   \n",
       "6                 düstere Musik 1900-01-01 00:01:41 1900-01-01 00:01:46   \n",
       "7                     schluchzt 1900-01-01 00:03:02 1900-01-01 00:03:03   \n",
       "9                Vögel krächzen 1900-01-01 00:04:48 1900-01-01 00:04:50   \n",
       "10            Radioweck geht an 1900-01-01 00:05:07 1900-01-01 00:05:08   \n",
       "12                  Hundegebell 1900-01-01 00:05:28 1900-01-01 00:05:30   \n",
       "13             Telefon klingelt 1900-01-01 00:05:42 1900-01-01 00:05:44   \n",
       "14             Telefon klingelt 1900-01-01 00:05:47 1900-01-01 00:05:49   \n",
       "15       Anrufbeantwort geht an 1900-01-01 00:05:56 1900-01-01 00:05:57   \n",
       "16                      Piepton 1900-01-01 00:06:04 1900-01-01 00:06:05   \n",
       "17                      Piepton 1900-01-01 00:06:22 1900-01-01 00:06:23   \n",
       "18   bedrohliche Streichermusik 1900-01-01 00:06:39 1900-01-01 00:06:43   \n",
       "19        Kirchenglocken läuten 1900-01-01 00:06:45 1900-01-01 00:06:48   \n",
       "20                     flüstert 1900-01-01 00:07:33 1900-01-01 00:07:36   \n",
       "21          Raunen und Flüstern 1900-01-01 00:07:53 1900-01-01 00:07:56   \n",
       "22                 Tür geht auf 1900-01-01 00:08:51 1900-01-01 00:08:52   \n",
       "23                Donnergrollen 1900-01-01 00:08:58 1900-01-01 00:09:00   \n",
       "24           unheilvolle Klänge 1900-01-01 00:09:10 1900-01-01 00:09:14   \n",
       "25   heulende Sirene in d Ferne 1900-01-01 00:09:14 1900-01-01 00:09:18   \n",
       "26                       seufzt 1900-01-01 00:09:34 1900-01-01 00:09:36   \n",
       "27              Radiosprecherin 1900-01-01 00:09:36 1900-01-01 00:09:38   \n",
       "28                Donnergrollen 1900-01-01 00:10:17 1900-01-01 00:10:20   \n",
       "29   heulende Sirene in d Ferne 1900-01-01 00:10:17 1900-01-01 00:10:20   \n",
       "30                      röchelt 1900-01-01 00:10:41 1900-01-01 00:10:44   \n",
       "31                        leise 1900-01-01 00:11:04 1900-01-01 00:11:06   \n",
       "\n",
       "    interval_minute  episode  season season00episode00           comment_clean  \n",
       "0                 0        2       3            S03E02  duster-melanchol musik  \n",
       "1                 0        2       3            S03E02        rhythmisch klopf  \n",
       "2                 0        2       3            S03E02            bedroh klang  \n",
       "3                 0        2       3            S03E02                  keucht  \n",
       "4                 0        2       3            S03E02        unheilvoll klang  \n",
       "5                 0        2       3            S03E02             donnergroll  \n",
       "6                 1        2       3            S03E02              dust musik  \n",
       "7                 3        2       3            S03E02               schluchzt  \n",
       "9                 4        2       3            S03E02            vogel krachz  \n",
       "10                5        2       3            S03E02          radioweck geht  \n",
       "12                5        2       3            S03E02             hundegebell  \n",
       "13                5        2       3            S03E02        telefon klingelt  \n",
       "14                5        2       3            S03E02        telefon klingelt  \n",
       "15                5        2       3            S03E02     anrufbeantwort geht  \n",
       "16                6        2       3            S03E02                 piepton  \n",
       "17                6        2       3            S03E02                 piepton  \n",
       "18                6        2       3            S03E02     bedroh streichermus  \n",
       "19                6        2       3            S03E02       kirchenglock laut  \n",
       "20                7        2       3            S03E02                flustert  \n",
       "21                7        2       3            S03E02              raun flust  \n",
       "22                8        2       3            S03E02                tur geht  \n",
       "23                8        2       3            S03E02             donnergroll  \n",
       "24                9        2       3            S03E02        unheilvoll klang  \n",
       "25                9        2       3            S03E02        heulend sir fern  \n",
       "26                9        2       3            S03E02                  seufzt  \n",
       "27                9        2       3            S03E02         radiosprecherin  \n",
       "28               10        2       3            S03E02             donnergroll  \n",
       "29               10        2       3            S03E02        heulend sir fern  \n",
       "30               10        2       3            S03E02                 rochelt  \n",
       "31               11        2       3            S03E02                    leis  "
      ]
     },
     "execution_count": 78,
     "metadata": {},
     "output_type": "execute_result"
    }
   ],
   "source": [
    "# didn't change much but still\n",
    "data.head(30)"
   ]
  },
  {
   "cell_type": "markdown",
   "metadata": {},
   "source": [
    "Using fasttext for the first time in my life..."
   ]
  },
  {
   "cell_type": "code",
   "execution_count": 20,
   "metadata": {},
   "outputs": [
    {
     "name": "stderr",
     "output_type": "stream",
     "text": [
      "Warning : `load_model` does not return WordVectorModel or SupervisedModel any more, but a `FastText` object which is very similar.\n"
     ]
    },
    {
     "data": {
      "text/plain": [
       "100"
      ]
     },
     "execution_count": 20,
     "metadata": {},
     "output_type": "execute_result"
    }
   ],
   "source": [
    "ft = fasttext.load_model('cc.de.100.bin')\n",
    "ft.get_dimension()"
   ]
  },
  {
   "cell_type": "code",
   "execution_count": 24,
   "metadata": {},
   "outputs": [
    {
     "data": {
      "text/plain": [
       "[(0.8587203025817871, 'Melodien'),\n",
       " (0.8377193808555603, 'Klangbilder'),\n",
       " (0.835591733455658, 'Rhythmen'),\n",
       " (0.8290804028511047, 'Töne'),\n",
       " (0.8289994597434998, 'Gesänge'),\n",
       " (0.8109382390975952, 'Instrumentalklänge'),\n",
       " (0.7979246973991394, 'Klangwelt'),\n",
       " (0.7945135235786438, 'Klangwelten'),\n",
       " (0.7942068576812744, 'Orgelklänge'),\n",
       " (0.7924883365631104, 'Vogelgesänge')]"
      ]
     },
     "execution_count": 24,
     "metadata": {},
     "output_type": "execute_result"
    }
   ],
   "source": [
    "ft.get_nearest_neighbors('Klänge', k=10)"
   ]
  },
  {
   "cell_type": "code",
   "execution_count": 25,
   "metadata": {},
   "outputs": [
    {
     "data": {
      "text/plain": [
       "array([-0.17179117, -0.26975116, -0.08374375, -0.00777096,  0.00420273,\n",
       "        0.02643383, -0.13640258, -0.02973005, -0.05990611,  0.2025139 ,\n",
       "        0.01693577, -0.01321878, -0.00101834, -0.0188795 ,  0.04341538,\n",
       "        0.04042927,  0.04674643,  0.0164745 ,  0.10279604, -0.05811954,\n",
       "       -0.00676742, -0.01117609,  0.00822983,  0.11304042,  0.01918871,\n",
       "        0.01785533,  0.20986   ,  0.06923518, -0.07162045, -0.00299065,\n",
       "        0.00375151, -0.01788118,  0.05964101,  0.08058061, -0.0102348 ,\n",
       "        0.03221216, -0.0559687 ,  0.01863766,  0.00169736, -0.02255843,\n",
       "       -0.07648599, -0.03362284, -0.01002038,  0.00953537,  0.00268058,\n",
       "        0.0420376 ,  0.05012373,  0.00368481, -0.02674728, -0.0368387 ,\n",
       "        0.03908971, -0.00531279,  0.01350986,  0.03076131, -0.03259069,\n",
       "        0.03880915,  0.04361637, -0.02155104, -0.10576221,  0.06816242,\n",
       "       -0.09673615,  0.01197422,  0.04383635, -0.00599292,  0.05194471,\n",
       "        0.02057904, -0.02234669,  0.02599323,  0.0030702 , -0.02355502,\n",
       "        0.07666003, -0.00447362,  0.00550959, -0.01328888, -0.03776936,\n",
       "       -0.02108717,  0.01828599, -0.00597122,  0.02116253, -0.03394992,\n",
       "        0.04672183, -0.02827414,  0.00304099,  0.05947148, -0.01324421,\n",
       "       -0.05041866, -0.03286115, -0.03939286, -0.00602392, -0.02591509,\n",
       "        0.03522703,  0.03242028, -0.07416148,  0.0301376 ,  0.05254456,\n",
       "        0.00529649,  0.01136995,  0.1090918 ,  0.0297417 ,  0.0410174 ],\n",
       "      dtype=float32)"
      ]
     },
     "execution_count": 25,
     "metadata": {},
     "output_type": "execute_result"
    }
   ],
   "source": [
    "ft.get_sentence_vector(\"Anrufbeantwort geht an\")"
   ]
  },
  {
   "cell_type": "code",
   "execution_count": 79,
   "metadata": {},
   "outputs": [],
   "source": [
    "data[\"ft_vectors\"] = data[\"comment_clean\"].apply(lambda x: ft.get_sentence_vector(x))"
   ]
  },
  {
   "cell_type": "markdown",
   "metadata": {},
   "source": [
    "Thank you good man from github\n",
    "\n",
    "https://github.com/ignasiusharvey/text_clustering/blob/master/text_clustering.ipynb"
   ]
  },
  {
   "cell_type": "code",
   "execution_count": 70,
   "metadata": {},
   "outputs": [],
   "source": [
    "from sklearn.cluster import KMeans \n",
    "from sklearn.decomposition import PCA\n",
    "\n",
    "import matplotlib.pyplot as plt "
   ]
  },
  {
   "cell_type": "code",
   "execution_count": 80,
   "metadata": {},
   "outputs": [],
   "source": [
    "sum_of_squared_distances = []\n",
    "K = range(1,20)\n",
    "for k in K:\n",
    "    km = KMeans(n_clusters=k)\n",
    "    km = km.fit(pd.DataFrame(data[\"ft_vectors\"].values.tolist()))\n",
    "    sum_of_squared_distances.append(km.inertia_)"
   ]
  },
  {
   "cell_type": "code",
   "execution_count": 81,
   "metadata": {},
   "outputs": [
    {
     "data": {
      "image/png": "[encoded data removed]",
      "text/plain": [
       "<Figure size 432x288 with 1 Axes>"
      ]
     },
     "metadata": {
      "needs_background": "light"
     },
     "output_type": "display_data"
    }
   ],
   "source": [
    "plt.plot(K, sum_of_squared_distances, 'bx-')\n",
    "plt.xlabel('k')\n",
    "plt.ylabel('Sum_of_squared_distances')\n",
    "plt.show()"
   ]
  },
  {
   "cell_type": "code",
   "execution_count": 82,
   "metadata": {},
   "outputs": [
    {
     "data": {
      "text/plain": [
       "KMeans(n_clusters=12)"
      ]
     },
     "execution_count": 82,
     "metadata": {},
     "output_type": "execute_result"
    }
   ],
   "source": [
    "kmeans = KMeans(n_clusters=12)  \n",
    "kmeans.fit(data['ft_vectors'].values.tolist())"
   ]
  },
  {
   "cell_type": "code",
   "execution_count": 83,
   "metadata": {},
   "outputs": [],
   "source": [
    "data['cluster'] = kmeans.fit_predict(data['ft_vectors'].values.tolist())"
   ]
  },
  {
   "cell_type": "code",
   "execution_count": 84,
   "metadata": {},
   "outputs": [
    {
     "data": {
      "text/plain": [
       "0     381\n",
       "8     371\n",
       "2     368\n",
       "1     350\n",
       "5     263\n",
       "10    161\n",
       "3     141\n",
       "9     131\n",
       "7      75\n",
       "6      73\n",
       "4      71\n",
       "11     57\n",
       "Name: cluster, dtype: int64"
      ]
     },
     "execution_count": 84,
     "metadata": {},
     "output_type": "execute_result"
    }
   ],
   "source": [
    "data.cluster.value_counts()"
   ]
  },
  {
   "cell_type": "code",
   "execution_count": 85,
   "metadata": {},
   "outputs": [
    {
     "data": {
      "text/plain": [
       "['Donnergrollen', 'Piepton', 'Pieptöne', 'Signalton']"
      ]
     },
     "execution_count": 85,
     "metadata": {},
     "output_type": "execute_result"
    }
   ],
   "source": [
    "list(data.query('cluster==4').sdh_comment.drop_duplicates())"
   ]
  },
  {
   "cell_type": "code",
   "execution_count": 87,
   "metadata": {},
   "outputs": [
    {
     "data": {
      "text/plain": [
       "['keucht',\n",
       " 'keucht ängstlich',\n",
       " 'keucht nervös',\n",
       " 'ängstliches Keuchen',\n",
       " 'keucht panisch',\n",
       " 'keucht laut',\n",
       " 'Keuchen',\n",
       " 'keucht angestrengt',\n",
       " 'keuchen',\n",
       " 'keucht und ächzt',\n",
       " 'keucht aufgeregt',\n",
       " 'keucht heftig',\n",
       " 'keucht erschöpft',\n",
       " 'keucht verzweifelt',\n",
       " 'atmet keuchend']"
      ]
     },
     "execution_count": 87,
     "metadata": {},
     "output_type": "execute_result"
    }
   ],
   "source": [
    "list(data.query('cluster==11').sdh_comment.drop_duplicates())"
   ]
  },
  {
   "cell_type": "code",
   "execution_count": 89,
   "metadata": {},
   "outputs": [
    {
     "data": {
      "text/plain": [
       "['leise',\n",
       " 'leises Rascheln',\n",
       " 'Gerät piept leise',\n",
       " 'leises Rauschen',\n",
       " 'Gerät surrt leise',\n",
       " 'leises Stimmengewirr',\n",
       " 'keucht leise',\n",
       " 'leises Zischeln',\n",
       " 'stöhnt leise',\n",
       " 'leises Knarren',\n",
       " 'Wind rauscht leise',\n",
       " 'leises Klopfen',\n",
       " 'Handy vibriert leise',\n",
       " 'lacht leise auf',\n",
       " 'lacht leise',\n",
       " 'leise Popmusik',\n",
       " 'leises Blubbern',\n",
       " 'schluchzt leise',\n",
       " 'leises Lachen',\n",
       " 'leises Surren',\n",
       " 'leises  dumpfes Hämmern',\n",
       " 'leises Ticken',\n",
       " 'leises Klappern und Dröhnen',\n",
       " 'leises Stöhnen',\n",
       " 'leises Rattern',\n",
       " 'leises Knacken',\n",
       " 'erzählt   leise etwas',\n",
       " 'leises Rasseln',\n",
       " 'leises Klappern und Plätschern',\n",
       " 'leises Surren  Klappern',\n",
       " 'Bremsen quietschen leise']"
      ]
     },
     "execution_count": 89,
     "metadata": {},
     "output_type": "execute_result"
    }
   ],
   "source": [
    "list(data.query('cluster==7').sdh_comment.drop_duplicates())"
   ]
  },
  {
   "cell_type": "code",
   "execution_count": 90,
   "metadata": {},
   "outputs": [
    {
     "data": {
      "text/plain": [
       "['bedrohliches Dröhnen',\n",
       " 'tosendes Dröhnen',\n",
       " 'dumpfes Dröhnen',\n",
       " 'unheimliches  leises Dröhnen',\n",
       " 'dumpfes  metallisches Dröhnen',\n",
       " 'Dröhnen  laut Schrei',\n",
       " 'leises  dumpfes Dröhnen',\n",
       " 'unheimliches Dröhnen',\n",
       " 'Dröhnen verstummt',\n",
       " 'lautes Dröhnen  Krachen',\n",
       " 'lautes Dröhnen',\n",
       " 'leises  blechernes Dröhnen',\n",
       " 'unheilvolles Dröhnen',\n",
       " 'Dröhnen',\n",
       " 'kurzes Dröhnen',\n",
       " 'metallisches Dröhnen',\n",
       " 'dröhnendes Brausen',\n",
       " 'Dröhnen und Brausen',\n",
       " 'Dröhnen wird lauter',\n",
       " 'lautes  surrendes Dröhnen',\n",
       " 'lautes  hallendes Dröhnen',\n",
       " 'elektronisches Dröhnen',\n",
       " 'spannungsvolles Dröhnen',\n",
       " 'Brausen  Dröhnen',\n",
       " 'dumpfes  hämmerndes Dröhnen',\n",
       " 'dröhnendes Heulen',\n",
       " 'düsteres Dröhnen',\n",
       " 'knisterndes Dröhnen',\n",
       " 'mysteriöses Dröhnen',\n",
       " 'Flieg dröhnt',\n",
       " 'dumpfes Dröhnen in d Ferne',\n",
       " 'Rattern und Dröhnen',\n",
       " 'leises Dröhnen',\n",
       " 'unheimliches  dumpfes Dröhnen',\n",
       " 'dumpfes  krachendes Dröhnen',\n",
       " 'Ticken  leises Dröhnen']"
      ]
     },
     "execution_count": 90,
     "metadata": {},
     "output_type": "execute_result"
    }
   ],
   "source": [
    "list(data.query('cluster==6').sdh_comment.drop_duplicates())"
   ]
  },
  {
   "cell_type": "code",
   "execution_count": 92,
   "metadata": {},
   "outputs": [
    {
     "data": {
      "text/plain": [
       "['düstere Musik',\n",
       " 'düstere Klänge',\n",
       " 'düstere Klänge  Ticken',\n",
       " 'düstere  pulsierende Musik',\n",
       " 'Lied aus dem Radio',\n",
       " 'düsteres Surren',\n",
       " 'düstere  dissonante Klänge',\n",
       " 'düstere  melancholische Musik',\n",
       " 'leise  düstere Musik',\n",
       " 'leise  düstere Klänge',\n",
       " 'düstere Streicherklänge',\n",
       " 'düstere elektronische Klänge']"
      ]
     },
     "execution_count": 92,
     "metadata": {},
     "output_type": "execute_result"
    }
   ],
   "source": [
    "list(data.query('cluster==3').sdh_comment.drop_duplicates())"
   ]
  },
  {
   "cell_type": "code",
   "execution_count": 95,
   "metadata": {},
   "outputs": [
    {
     "data": {
      "text/plain": [
       "['heulende Sirene in d Ferne',\n",
       " 'Stille',\n",
       " 'Schritte',\n",
       " 'Wind heult',\n",
       " 'Poltern von oben',\n",
       " 'atmet panisch',\n",
       " 'schreit auf',\n",
       " 'Schlüssel dreht sich im Schloss',\n",
       " 'schlurfende Schritte',\n",
       " 'schreit',\n",
       " 'dumpfe Schreie',\n",
       " 'Schritte nähern sich',\n",
       " 'schnappt nach Luft',\n",
       " 'Gerät piept schnell',\n",
       " 'Piepen wird langsamer',\n",
       " 'Ruhige  beklemmende Musik läuft weiter',\n",
       " 'Piepen wird schneller',\n",
       " 'hektisches Piepen',\n",
       " 'atmet schwer',\n",
       " 'schniefend',\n",
       " 'dumpfes Grollen',\n",
       " 'Wind rauscht',\n",
       " 'kurzes  lautes Krachen',\n",
       " 'Knochen knacken',\n",
       " 'entferntes Knacken',\n",
       " 'Vögel schreien',\n",
       " 'dissonantes  laut werdendes Summen',\n",
       " 'kurzes Klicken',\n",
       " 'Es klopft lautstark',\n",
       " 'Es klopft erneut heftig',\n",
       " 'Es donnert',\n",
       " 'Gerät knackt langsam',\n",
       " 'Gerät knackt schneller',\n",
       " 'Knacken wird schneller',\n",
       " 'schnelles Knacken',\n",
       " 'Gerät knackt schnell',\n",
       " 'laut werdendes Ticken',\n",
       " 'dumpf Aufprall',\n",
       " 'polternde Schritte',\n",
       " 'erneutes Klingeln',\n",
       " 'ungläubig',\n",
       " 'atmet tief ein',\n",
       " 'Klänge steigern sich zu einem Surren',\n",
       " 'Autotür fällt zu',\n",
       " 'A-cappella-Gesang läuft weiter',\n",
       " 'pustet',\n",
       " 'lautes Zischen',\n",
       " 'heftiges Atmen',\n",
       " 'Fenst fällt zu',\n",
       " 'dumpfes Krachen',\n",
       " 'atmen heftig',\n",
       " 'atmet laut hörbar',\n",
       " 'ersticktes Schreien',\n",
       " 'ringt nach Luft',\n",
       " 'atmet heftig',\n",
       " 'Schlüssel klappert',\n",
       " 'genervt',\n",
       " 'mit tief Stimme',\n",
       " 'Wind pfeift',\n",
       " 'Schlüssel klackt',\n",
       " 'Wind braust',\n",
       " 'Rhythmisch A-cappella-Gesang läuft weiter',\n",
       " 'Schritte entfernen sich',\n",
       " 'paukenschlagartiges Krachen',\n",
       " 'schnelles Ticken',\n",
       " 'dumpf Fluglärm',\n",
       " 'Brummen wird lauter',\n",
       " 'Ruhige Musik verstummt langsam',\n",
       " 'Schritte auf d Treppe',\n",
       " 'kurzes Krachen',\n",
       " 'erleichtertes Aufatmen',\n",
       " 'dumpfes Rauschen',\n",
       " 'ruhige A-cappella-Musik',\n",
       " 'Grollen  Prasseln',\n",
       " 'Sphärisch Gesang setzt ein',\n",
       " 'angestrengtes Atmen',\n",
       " 'Rascheln',\n",
       " 'hebt Metallstange hoch',\n",
       " 'Geschirr klappert',\n",
       " 'schluckt geräuschvoll',\n",
       " 'beide schreien',\n",
       " 'Blitze knistern',\n",
       " 'Regen prasselt laut',\n",
       " 'laut Knall',\n",
       " 'stöhnt und schreit',\n",
       " 'Baby schreit',\n",
       " 'Schritte nähern sich schnell',\n",
       " 'Kind gibt Laute von sich',\n",
       " 'Uhr tickt schnell',\n",
       " 'macht einen Laut',\n",
       " 'imm laut werdendes Dröhnen',\n",
       " 'Schuss fällt',\n",
       " 'lautes Ticken',\n",
       " 'wütendes Keuchen',\n",
       " 'kurzes Rauschen',\n",
       " 'Uhr tickt laut',\n",
       " 'Schreibmaschine klackt',\n",
       " 'kurzes dumpfes Rauschen',\n",
       " 'Schlüssel klackt im Schloss',\n",
       " 'dumpfes Krachen in d Ferne',\n",
       " 'gedämpft',\n",
       " 'Krachen',\n",
       " 'dumpfes Rauschen wird lauter',\n",
       " 'Geigerzähl rattert imm schneller',\n",
       " 'zittrig',\n",
       " 'Schlüssel klappern',\n",
       " 'Hebel kracht',\n",
       " 'heftiges Klopfen  dann Klingeln',\n",
       " 'Reifen quietschen',\n",
       " 'Knallen',\n",
       " 'Brausen',\n",
       " 'donnerndes Rauschen',\n",
       " 'Rauschen',\n",
       " 'atmet stoßweise',\n",
       " 'dumpf Knall',\n",
       " 'dumpfes Knallen von draußen',\n",
       " 'dumpfes Knallen aus d Ferne',\n",
       " 'Rumpeln',\n",
       " 'Geigerzähl knackt langsam',\n",
       " 'Knacken nimmt zu',\n",
       " 'Knacken lässt nach',\n",
       " 'Geigerzähl knackt heftiger',\n",
       " 'atmet heftiger',\n",
       " 'Jemand schreit',\n",
       " 'Wärter',\n",
       " 'Andere Patienten schreien ebenfalls',\n",
       " 'atmet tief durch',\n",
       " 'Blubbern verstummt',\n",
       " 'Ein Hund kläfft',\n",
       " 'Es klingelt nochmals',\n",
       " 'riecht an',\n",
       " 'brummt',\n",
       " 'Lachen',\n",
       " 'fröhliche Stimmen von unten',\n",
       " 'laut',\n",
       " 'schnelleres Rattern',\n",
       " 'heftiges Klopfen',\n",
       " 'dumpf Schlag',\n",
       " 'mehrere kräftige Schläge gegen die Tür',\n",
       " 'Klirren  weiterhin Schläge  Holz knarrt',\n",
       " 'schweres Atmen',\n",
       " 'stöhnt schwach',\n",
       " 'schwaches Keuchen',\n",
       " 'schwaches Atmen',\n",
       " 'eilige Schritte auf ein Treppe',\n",
       " 'lautes Klopfen',\n",
       " 'erstaunt',\n",
       " 'Tuten',\n",
       " 'Brausen und Knallen',\n",
       " 'Gestein bebt',\n",
       " 'knurrt wütend',\n",
       " 'verzerrte  kaum wahrnehmbare Stimmen',\n",
       " 'nicht zu verstehen',\n",
       " 'wütende Stimme',\n",
       " 'Ihr stockt d Atem',\n",
       " 'Maschine zischt und rattert',\n",
       " 'verzweifelt',\n",
       " 'Knistern verstummt',\n",
       " 'Abzug klickt erneut',\n",
       " 'Echo hallt lange nach',\n",
       " 'gedämpfte Stille',\n",
       " 'Schritte hallen gedämpft',\n",
       " 'verzerrte Laute aus d Ferne',\n",
       " 'zögerlich',\n",
       " 'Blitze krachen',\n",
       " 'alle lachen',\n",
       " 'A-cappella-Musik wird ruhiger',\n",
       " 'lautlos',\n",
       " 'Gretchen kläfft',\n",
       " 'Gesang verstummt  Piepton läuft weiter',\n",
       " 'kurzes  klapperndes Ticken',\n",
       " 'Polizeisirene heult',\n",
       " 'Ticken   schnappt nach Luft',\n",
       " 'Schlüssel klappert im Schloss',\n",
       " 'Hund kläfft',\n",
       " 'Türschloss klackt',\n",
       " 'Es klopft erneut',\n",
       " 'lautes Krachen',\n",
       " 'Klingeln stoppt',\n",
       " 'Regeln prasselt laut']"
      ]
     },
     "execution_count": 95,
     "metadata": {},
     "output_type": "execute_result"
    }
   ],
   "source": [
    "list(data.query('cluster==1').sdh_comment.drop_duplicates())"
   ]
  },
  {
   "cell_type": "code",
   "execution_count": 96,
   "metadata": {},
   "outputs": [
    {
     "data": {
      "text/plain": [
       "['düster-melancholische Musik',\n",
       " 'Musik verstummt',\n",
       " 'ruhige  spieluhrartige Musik',\n",
       " 'Musik wird zunehmend dissonant',\n",
       " 'ruhige  beklemmende Musik',\n",
       " 'Die Musik spielt weiter',\n",
       " 'sphärische Musik',\n",
       " 'Sphärische Musik läuft weiter',\n",
       " 'melancholische Musik',\n",
       " 'bedrohliche Musik',\n",
       " 'sphärisch  sakral Gesang',\n",
       " 'traurige Musik',\n",
       " 'geheimnisvolle Musik',\n",
       " 'spannungsvolle Musik',\n",
       " 'unheilvolle Musik',\n",
       " 'Bedrohliche Musik steigert sich',\n",
       " 'Lied verstummt',\n",
       " 'rhythmisch A-cappella-Gesang',\n",
       " 'leise Musik von unten',\n",
       " 'ruhige  rätselhafte Musik',\n",
       " 'bedrückende Musik',\n",
       " 'leise  geheimnisvolle Musik',\n",
       " 'angespannte Musik',\n",
       " 'beklemmende Musik',\n",
       " 'dramatisches Geräusch',\n",
       " 'Lied verklingt',\n",
       " 'triste Musik',\n",
       " 'finstere Musik',\n",
       " 'spannungsvolle  langsame Musik',\n",
       " 'Spannungsvolle Musik wird langsam lauter',\n",
       " 'Spannungsvolle Musik steigert sich',\n",
       " 'spannungsgeladene Musik',\n",
       " 'unheimliche Musik',\n",
       " 'spannungsvolles Ticken',\n",
       " 'spannungsvolle  elektronische Musik',\n",
       " 'bedrückend polyphon Gesang',\n",
       " 'Polyphon Gesang steigert sich',\n",
       " 'Gesang verstummt',\n",
       " 'ruhige  geheimnisvolle Musik',\n",
       " 'Ruhige Musik läuft weiter',\n",
       " 'Ruhige Musik wird lauter',\n",
       " 'verträumte Musik',\n",
       " 'Verträumte Musik läuft weiter',\n",
       " 'Verträumte Musik verstummt',\n",
       " 'im anderen Raum',\n",
       " 'leise Musik vom Plattenspieler',\n",
       " 'leise  wehmütige Musik',\n",
       " 'sanft-wehmütige Musik',\n",
       " 'Musik schwillt an',\n",
       " 'Musik verklingt',\n",
       " 'Melancholische Musik läuft weiter',\n",
       " 'spannungsvolles Hämmern',\n",
       " 'treibende Musik',\n",
       " 'Musik wird lauter',\n",
       " 'sanfte  geheimnisvolle Musik',\n",
       " 'spannungsvoll ansteigende Musik',\n",
       " 'Musik wird intensiver',\n",
       " 'dramatische Musik',\n",
       " 'dramatische Musik wird lauter',\n",
       " 'Musik läuft weiter',\n",
       " 'sphärische  leicht unruhige Musik',\n",
       " 'Choralartig  polyphon Gesang setzt ein',\n",
       " 'Gesang wird ruhiger',\n",
       " 'Die Musik geht weiter',\n",
       " 'rhythmisches Ticken',\n",
       " 'sanft  engesang',\n",
       " 'sanfte Xylophon-Klänge',\n",
       " 'leise  bedrohliche Musik',\n",
       " 'spannungsvolles Rattern',\n",
       " 'traurig-sanfte Musik',\n",
       " 'leise  dissonante Musik',\n",
       " 'leise  angespannte Musik',\n",
       " 'beunruhigende Musik',\n",
       " 'sphärisch Gesang',\n",
       " 'düstere  spannungsvolle Musik',\n",
       " 'Spannungsvolle Musik verstummt',\n",
       " 'sanfte Musik',\n",
       " 'ernste Musik',\n",
       " 'gefühlvolle Musik',\n",
       " 'leise  traurige Musik',\n",
       " 'verstörende Musik',\n",
       " 'düster-monotone Musik',\n",
       " 'sanft-melancholische Musik',\n",
       " 'verspielte Xylophon-Musik',\n",
       " 'leise  beunruhigende Musik',\n",
       " 'monotone  beklemmende Musik',\n",
       " 'leise  spannungsvolle Musik',\n",
       " 'leise  unheilvolle Musik',\n",
       " 'Panzerlärm übertönt die Musik',\n",
       " 'sanfte Gitarrenmusik',\n",
       " 'elektronische Musik',\n",
       " 'Musik von Nena aus dem Radiowecker',\n",
       " 'Autohupe',\n",
       " 'schwermütige Musik',\n",
       " 'leise  irritierende Musik',\n",
       " 'düster-traurige Musik',\n",
       " 'unbehagliche Musik',\n",
       " 'Autos nähern sich',\n",
       " 'dissonante Musik',\n",
       " 'mysteriöse Musik',\n",
       " 'sanftes Klavierspiel',\n",
       " 'spannungsvolle elektronische Klänge',\n",
       " 'heitere Musik aus dem Haus',\n",
       " 'Lied läuft instrumental weiter',\n",
       " 'rhythmische A-cappella-Musik',\n",
       " 'laute Musik aus dem Radio',\n",
       " 'Unheimliche Musik wird lauter',\n",
       " 'rhythmische  bedrohliche Musik',\n",
       " 'Rhythmische  bedrohliche Musik läuft weiter',\n",
       " 'Bedrohliche Musik verstummt',\n",
       " 'schwungvolle Musik',\n",
       " 'Schwungvolles Lied vom Plattenspieler',\n",
       " 'rätselhafte Musik',\n",
       " 'Rätselhafte Musik läuft weiter',\n",
       " '50er-Jahre-Schlag im Radio',\n",
       " 'bedrohliche  rhythmische Musik',\n",
       " 'Bedrohliche Musik läuft weiter',\n",
       " 'dynamische Musik']"
      ]
     },
     "execution_count": 96,
     "metadata": {},
     "output_type": "execute_result"
    }
   ],
   "source": [
    "list(data.query('cluster==8').sdh_comment.drop_duplicates())"
   ]
  },
  {
   "cell_type": "code",
   "execution_count": 97,
   "metadata": {},
   "outputs": [
    {
     "data": {
      "text/plain": [
       "['rhythmisches Klopfen',\n",
       " 'Vögel krächzen',\n",
       " 'Sirene heult',\n",
       " 'Soldat',\n",
       " 'Hubschrauberlärm von draußen',\n",
       " 'Hund winselt',\n",
       " 'Seufzer',\n",
       " 'blechern Knall',\n",
       " 'Knacken',\n",
       " 'laut werdendes  metallisches Ticken',\n",
       " 'Tor fällt zu',\n",
       " 'Popmusik aus dem Autoradio',\n",
       " 'leises Dröhnen  metallisches Ticken',\n",
       " 'gleichmäßiges Piepen',\n",
       " 'Ticken',\n",
       " 'Sphärisch Gesang läuft weiter',\n",
       " 'Poltern',\n",
       " 'Mailbox',\n",
       " 'Stöhnen',\n",
       " 'blechernes Pochen',\n",
       " 'metallisches Poltern',\n",
       " 'Uhr tickt',\n",
       " 'Tür knallt zu  Glas klirrt',\n",
       " 'Pferd wiehert',\n",
       " 'Pferd schnaubt',\n",
       " 'Hunde bellen',\n",
       " 'stöhnen und ächzen',\n",
       " 'Regen prasselt',\n",
       " 'Äste knacken',\n",
       " 'Rattern  Quietschen',\n",
       " 'elektronisches Blubbern',\n",
       " 'Blubbern',\n",
       " 'dumpfes Pochen',\n",
       " 'Ticken und Knacken',\n",
       " 'Zischen',\n",
       " 'Ticken und Hämmern',\n",
       " 'Surren und Piepen',\n",
       " 'dumpfes Donnern  Klirren',\n",
       " 'Sirren',\n",
       " 'Sirren  leises Rattern',\n",
       " 'Gong',\n",
       " 'Wind heult leise',\n",
       " 'üb Lautsprecher',\n",
       " 'Rascheln  Knacken',\n",
       " 'Kilian',\n",
       " 'heulen wie Wölfe',\n",
       " 'beide keuchen',\n",
       " 'Grollen',\n",
       " 'Grollen hört auf',\n",
       " 'elektrisches Krachen',\n",
       " 'Wissenschaftler',\n",
       " 'Handy vibriert',\n",
       " 'Telefon tutet',\n",
       " 'Knacken  Pochen',\n",
       " 'mechanisches Klappern',\n",
       " 'metallisches Pochen',\n",
       " 'metallisches Klacken',\n",
       " 'Bremsen quietschen',\n",
       " 'Handy piepst',\n",
       " 'Lied läuft weit  Violinen setzen ein',\n",
       " 'Klappern',\n",
       " 'entferntes metallisches Klappern',\n",
       " 'Motor brummt',\n",
       " 'Kichern',\n",
       " 'Uhren ticken',\n",
       " 'Zweige knacken',\n",
       " 'beide stöhnen',\n",
       " 'Hör knallt auf',\n",
       " 'elektrisches Summen',\n",
       " 'heftiges Donnern',\n",
       " 'Seufzen',\n",
       " 'Sirenen heulen',\n",
       " 'Applaus  Johlen',\n",
       " 'Uhr schlägt',\n",
       " 'Ächzen',\n",
       " 'Handy piept',\n",
       " 'zustimmende Rufe',\n",
       " 'lang  hoh Piepton',\n",
       " 'Zweites Handy klingelt',\n",
       " 'Alle Handys klingeln',\n",
       " 'Donnern',\n",
       " 'Polizist',\n",
       " 'üb Funk',\n",
       " 'Sirene aus d Ferne',\n",
       " 'schrilles Piepen',\n",
       " 'Pet ächzt',\n",
       " 'Pet keucht',\n",
       " 'Pet röchelt',\n",
       " 'Donnern und Klirren',\n",
       " 'Uhren ticken laut',\n",
       " 'beide schnaufen',\n",
       " 'Quietschen',\n",
       " 'elektrisches Donnern',\n",
       " 'Hund bellt',\n",
       " 'Baby quengelt leise',\n",
       " 'Erna',\n",
       " 'Piepen',\n",
       " 'hoh  laut werdend Ton',\n",
       " 'Donnern in d Ferne',\n",
       " 'Wissenschaftl im TV',\n",
       " 'Waffe klickt',\n",
       " 'Absätze klacken',\n",
       " 'Piepsen',\n",
       " 'leises Schluchzen',\n",
       " 'Klacken',\n",
       " 'gedämpftes Hämmern',\n",
       " 'bedrohliches Ticken',\n",
       " 'Glas klirrt',\n",
       " 'Klirren',\n",
       " 'langgezogen  hoh Ton',\n",
       " 'leises Atmen',\n",
       " 'leises  elektronisches Blubbern',\n",
       " 'Krachen  Donnern',\n",
       " 'leises  regelmäßiges Klicken',\n",
       " 'tippt auf dem Handy',\n",
       " 'elektrisches Zischen',\n",
       " 'Donnern verstummt',\n",
       " 'anschwellend Ton',\n",
       " 'Klopfen  lang anh ndes Klingeln',\n",
       " 'kurzes Stöhnen',\n",
       " 'rhythmisches blechernes Pochen  düstere Klänge',\n",
       " 'Donner',\n",
       " 'blechernes Pochen  düstere Klänge',\n",
       " 'Klopfen',\n",
       " 'Rumpeln  Klirren',\n",
       " 'Rauschen  Brausen und Klirren',\n",
       " 'Donnern  Klirren',\n",
       " 'Rauschen  Klirren',\n",
       " 'metallisches Hämmern',\n",
       " 'Luke quietscht und fällt zu',\n",
       " 'Schüsse in einig Entfernung',\n",
       " 'alle',\n",
       " 'Zweige knacksen',\n",
       " 'Im Hintergrund läuft \"Jeanny\" von Falco',\n",
       " 'Rauschen und Brummen',\n",
       " 'Atmen',\n",
       " 'Rumsen',\n",
       " 'Trash-Metal-Musik: \"Pleasure To Kill\" von Kreator',\n",
       " 'Glocke läutet',\n",
       " 'Weinen',\n",
       " 'Waffe wird durchgeladen',\n",
       " 'Brausen  elektronisches Blubbern',\n",
       " 'mechanisches Rumsen',\n",
       " 'Brummen und Rauschen',\n",
       " 'Piepen und Rauschen',\n",
       " 'sphärisches Blubbern',\n",
       " 'Im Radio läuft \"Nev Gonna Give You Up\" von Rick Astley',\n",
       " 'schließt den Kasten auf',\n",
       " 'hoh Ton',\n",
       " 'stöhnt vor Schmerzen',\n",
       " 'Ein Tor wird geöffnet',\n",
       " 'Brausen  sphärisches Blubbern',\n",
       " 'Generator brummt',\n",
       " 'Surren und Blubbern',\n",
       " 'Beide lachen',\n",
       " 'Hupen',\n",
       " 'Plätschern',\n",
       " 'Gäste',\n",
       " 'fragend',\n",
       " 'metallisches Krachen',\n",
       " 'Apparat piept',\n",
       " 'beide',\n",
       " 'Schluchzen',\n",
       " 'wimmerndes Weinen',\n",
       " 'leises  erregtes Atmen',\n",
       " 'leises Sirren und Rattern',\n",
       " 'Sirenen heulen in d Ferne',\n",
       " 'Schüsse',\n",
       " 'Rauschen  Blubbern',\n",
       " 'Es klingelt lang anh nd',\n",
       " 'monoton  hoh Pfeifton',\n",
       " 'Blubbern und Rauschen',\n",
       " 'Vögel zwitschern',\n",
       " 'Knacken und Zischen',\n",
       " 'Metall ratscht',\n",
       " 'mechanisches Ticken',\n",
       " 'Abzug klickt',\n",
       " 'sphärisch Gesang läuft weiter',\n",
       " 'mit Echo',\n",
       " 'Echo hallt',\n",
       " 'Marek',\n",
       " 'Baby quengelt',\n",
       " 'Lied vom Plattenspieler: \"Es wird ja alles wied gut\" von   Winter',\n",
       " 'D Pudel bellt',\n",
       " 'Hämmern',\n",
       " 'Gretchen bellt',\n",
       " 'Gretchen winselt',\n",
       " 'schnalzt mit d Zunge',\n",
       " 'Schuss',\n",
       " 'Hubschrauberlärm  Sirenen heulen',\n",
       " 'Uhr schlägt leise',\n",
       " 'Tasten piepen',\n",
       " 'mechanisches Klappern  Surren',\n",
       " 'Lied läuft weiter']"
      ]
     },
     "execution_count": 97,
     "metadata": {},
     "output_type": "execute_result"
    }
   ],
   "source": [
    "list(data.query('cluster==0').sdh_comment.drop_duplicates())"
   ]
  },
  {
   "cell_type": "code",
   "execution_count": 98,
   "metadata": {},
   "outputs": [
    {
     "data": {
      "text/plain": [
       "['Radioweck geht an',\n",
       " 'Hundegebell',\n",
       " 'Anrufbeantwort geht an',\n",
       " 'bedrohliche Streichermusik',\n",
       " 'Kirchenglocken läuten',\n",
       " 'flüstert',\n",
       " 'Raunen und Flüstern',\n",
       " 'Radiosprecherin',\n",
       " 'röchelt',\n",
       " 'Geigerzähl knackt',\n",
       " 'Fluglärm',\n",
       " 'alt',\n",
       " 'Pausensignal ertönt',\n",
       " 'Mädchen',\n",
       " 'Geigerzähl rattert',\n",
       " 'Rattern wird stärker',\n",
       " 'Gemurmel',\n",
       " 'melancholische Streicherklänge',\n",
       " 'ächzt',\n",
       " 'Lampen surren',\n",
       " 'ruhige Klaviermusik',\n",
       " 'stöhnt',\n",
       " 'stumme Szene',\n",
       " 'Schulgong ertönt',\n",
       " 'Türsumm ertönt',\n",
       " 'auflachend',\n",
       " 'murmelt unverständlich',\n",
       " 'Schlagermusik aus dem Autoradio',\n",
       " 'Handbremse schnarrt',\n",
       " 'Pflegerin',\n",
       " 'brüllt',\n",
       " 'Stimmengewirr',\n",
       " 'unverständlich',\n",
       " 'Motorgeräusche',\n",
       " 'Freizeichen ertönt',\n",
       " 'Kurzwahltöne',\n",
       " 'Besetztzeichen',\n",
       " 'Freizeichen',\n",
       " 'bedrohliche  dröhnende Klänge',\n",
       " 'dröhnende und sphärische Klänge',\n",
       " 'Schrubben',\n",
       " 'Dielen knarren',\n",
       " 'unverständliche  entfernte Kinderstimme',\n",
       " 'unverständliches Murmeln',\n",
       " 'Besetztzeichen ertönt',\n",
       " 'Radiomoderator',\n",
       " 'dissonantes  laut werdendes Surren',\n",
       " 'unheimliches Grollen',\n",
       " 'Junge',\n",
       " 'lautes Knarren',\n",
       " 'Knistern',\n",
       " 'Kampflaute',\n",
       " 'Kampflaute  Stöhnen',\n",
       " 'melancholische Klaviermusik',\n",
       " 'Kutscher',\n",
       " 'Messerstiche',\n",
       " 'Kutschentür geht auf',\n",
       " 'Unbekannter',\n",
       " 'Maschinen rattern',\n",
       " 'dröhnendes Surren',\n",
       " 'Türklingel',\n",
       " 'Fenst geht zu',\n",
       " 'elektrisches Surren',\n",
       " 'elektrisches Knistern',\n",
       " 'elektrisches Surren wird schwächer',\n",
       " 'Surren verstummt',\n",
       " 'Rattern',\n",
       " 'stöhnt auf',\n",
       " 'Haustür fällt ins Schloss',\n",
       " 'Schulklingel',\n",
       " 'Schulklingel läutet',\n",
       " 'flüsternd',\n",
       " 'Kirchenglocke läutet',\n",
       " 'ersticktes Röcheln',\n",
       " 'flüsternde  enstimme',\n",
       " 'bedrohliches Geräusch',\n",
       " 'Getuschel',\n",
       " 'Pathologin',\n",
       " 'Computersignal ertönt',\n",
       " 'Knarren',\n",
       " 'Treppe knarrt',\n",
       " 'Zellentür klappert',\n",
       " 'Surren',\n",
       " 'ruhige Gitarrenmusik',\n",
       " 'lang Piepton',\n",
       " 'kurzes Surren',\n",
       " 'Flattern  Vögel krächzen',\n",
       " 'stöhnt laut auf',\n",
       " 'erschöpftes Seufzen',\n",
       " 'bedrohliche Klänge schwellen an',\n",
       " 'bedrückende Klänge schwellen an',\n",
       " 'zündet Zigarette an',\n",
       " 'Türklopfen',\n",
       " 'zündet sich Zigarette an',\n",
       " 'regelmäßige Pieptöne',\n",
       " 'ruhige Gitarrenklänge',\n",
       " 'Röcheln',\n",
       " 'A-cappella-Musik wird lauter',\n",
       " 'Nachrichtensprecher',\n",
       " 'dumpfes Stimmengewirr',\n",
       " 'Schulklingel ertönt',\n",
       " 'Türsumm erklingt',\n",
       " 'Raunen',\n",
       " 'entfernte Kinderrufe',\n",
       " 'fröhliche Popmusik',\n",
       " 'Alle reden durcheinander',\n",
       " 'Geräte surren',\n",
       " 'traurige Streicherklänge',\n",
       " 'Radiosprecher',\n",
       " 'Uhrticken',\n",
       " 'Türglocke läutet',\n",
       " 'Stimmengewirr d Soldaten',\n",
       " 'Hubschraubergeräusch',\n",
       " 'bedrohliches Surren',\n",
       " 'Motorengeräusch',\n",
       " 'erschrocken Atmer',\n",
       " 'Knistern  Rattern',\n",
       " 'ruhige Streicherklänge',\n",
       " 'Streicherklänge werden lauter',\n",
       " 'jünger',\n",
       " 'atmet erschöpft',\n",
       " 'Klicken  kurze Pieptöne',\n",
       " 'älter',\n",
       " 'Spiegelwelt-',\n",
       " 'lauteres Surren',\n",
       " 'melancholische Klaviermusik klingt an',\n",
       " 'Freizeichen erklingt',\n",
       " 'Hubschrauberlärm',\n",
       " 'Kirchenglocke schlägt',\n",
       " 'unverständliches Flüstern',\n",
       " 'eindringlich',\n",
       " 'fröhliche Popmusik im Radio',\n",
       " 'Radiomusik verstummt',\n",
       " 'laute Heavy-Metal-Musik',\n",
       " 'Klingel ertönt',\n",
       " 'kurz Piepton',\n",
       " 'getragene Instrumentalmusik',\n",
       " 'Alarmton',\n",
       " 'Alarmtöne',\n",
       " 'Flugzeuglärm',\n",
       " 'Metalltür quietscht',\n",
       " 'AKW-Mitarbeiter',\n",
       " 'Glockenschlag',\n",
       " 'Sphärisch Gesang wird lauter',\n",
       " 'Handysignal',\n",
       " 'sphärisch singende  enstimmen',\n",
       " 'Gemurmel  Klatschen',\n",
       " 'in d Ferne  auf Französisch',\n",
       " 'Geigerzähl knackt weiter',\n",
       " 'Polizeichef',\n",
       " 'Angstlaut',\n",
       " 'Ladenglocke bimmelt',\n",
       " 'sich räuspernd',\n",
       " 'Schulglocke ertönt',\n",
       " 'Türsummer',\n",
       " 'Brausen und Surren',\n",
       " 'Ein Auto nähert sich',\n",
       " 'Toilettenspülung',\n",
       " 'Pathologe',\n",
       " 'nochmaliges Türklingeln',\n",
       " 'sphärisch  engesang',\n",
       " 'Wachmann',\n",
       " 'traurige Klaviermusik',\n",
       " 'verwaschene Stimmen',\n",
       " 'jung',\n",
       " 'Metalltür fällt zu',\n",
       " 'hoh Tierschrei  Flattern',\n",
       " 'ruhige Klavier- und Synthesizerklänge',\n",
       " 'Zischen und Surren',\n",
       " 'Bunkertür quietscht',\n",
       " 'Rattern und Surren',\n",
       " 'Ticken und Surren',\n",
       " 'lautes Knistern',\n",
       " 'Maschine tickt',\n",
       " 'Knistern und Surren wird lauter',\n",
       " 'Flötenklänge',\n",
       " 'Surren wird lauter',\n",
       " 'Musik und Geräusche verstummen',\n",
       " 'Surren steigert sich',\n",
       " 'Rockmusik aus dem Autoradio',\n",
       " 'Popmusik',\n",
       " 'Ladenklingel ertönt',\n",
       " 'Ladenklingel bimmelt',\n",
       " 'Ladenklingel',\n",
       " 'sanft  melancholisch  engesang  unterlegt von monotonem Piepton',\n",
       " 'seufzt gequält',\n",
       " 'Handschellen rasseln',\n",
       " 'Schlüssel klimpern',\n",
       " 'schrilles Kläffen',\n",
       " 'Rütteln',\n",
       " 'Rufton erklingt',\n",
       " 'unverständliches Gerede aus dem Fernseher']"
      ]
     },
     "execution_count": 98,
     "metadata": {},
     "output_type": "execute_result"
    }
   ],
   "source": [
    "list(data.query('cluster==2').sdh_comment.drop_duplicates())"
   ]
  },
  {
   "cell_type": "code",
   "execution_count": null,
   "metadata": {},
   "outputs": [],
   "source": []
  }
 ],
 "metadata": {
  "kernelspec": {
   "display_name": "Python 3.9.8 64-bit",
   "language": "python",
   "name": "python3"
  },
  "language_info": {
   "codemirror_mode": {
    "name": "ipython",
    "version": 3
   },
   "file_extension": ".py",
   "mimetype": "text/x-python",
   "name": "python",
   "nbconvert_exporter": "python",
   "pygments_lexer": "ipython3",
   "version": "3.9.8"
  },
  "orig_nbformat": 4,
  "vscode": {
   "interpreter": {
    "hash": "aee8b7b246df8f9039afb4144a1f6fd8d2ca17a180786b69acc140d282b71a49"
   }
  }
 },
 "nbformat": 4,
 "nbformat_minor": 2
}
