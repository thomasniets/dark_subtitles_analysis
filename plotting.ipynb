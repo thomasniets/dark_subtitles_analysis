{
 "cells": [
  {
   "cell_type": "markdown",
   "metadata": {},
   "source": [
    "Plotting practice and some NLP (hopefully)"
   ]
  },
  {
   "cell_type": "markdown",
   "metadata": {},
   "source": [
    "IMPORTANT NOTE:\n",
    "\n",
    "subtitles in each season differ in terms of who the provider is. So, basically, there's no guarantee that SDH comments are consistent (each episode in each season has sounds / different sounds can be named differently)"
   ]
  },
  {
   "cell_type": "code",
   "execution_count": 10,
   "metadata": {},
   "outputs": [],
   "source": [
    "import re\n",
    "import pandas as pd\n",
    "import numpy as np\n",
    "from datetime import date, datetime, timedelta, time\n",
    "\n",
    "import plotly.express as px"
   ]
  },
  {
   "cell_type": "code",
   "execution_count": 12,
   "metadata": {},
   "outputs": [
    {
     "data": {
      "text/plain": [
       "sdh_comment          object\n",
       "interval_start       object\n",
       "interval_end         object\n",
       "interval_minute       int64\n",
       "episode               int64\n",
       "season                int64\n",
       "season00episode00    object\n",
       "dtype: object"
      ]
     },
     "execution_count": 12,
     "metadata": {},
     "output_type": "execute_result"
    }
   ],
   "source": [
    "data = pd.read_csv('sdh_comments.csv')\n",
    "data.dtypes"
   ]
  },
  {
   "cell_type": "code",
   "execution_count": 13,
   "metadata": {},
   "outputs": [],
   "source": [
    "# changing string type to datetime\n",
    "data.interval_start = pd.to_datetime(data.interval_start.str[0:8],format=\"%H:%M:%S\")\n",
    "data.interval_end = pd.to_datetime(data.interval_end.str[0:8],format=\"%H:%M:%S\")\n",
    "\n",
    "# this doesn't work with the plotly gantt chart down below\n",
    "# data.interval_start = pd.to_datetime(data.interval_start.str[0:8],format=\"%H:%M:%S\").dt.time\n",
    "# data.interval_end = pd.to_datetime(data.interval_end.str[0:8],format=\"%H:%M:%S\").dt.time"
   ]
  },
  {
   "cell_type": "code",
   "execution_count": 14,
   "metadata": {},
   "outputs": [
    {
     "data": {
      "text/plain": [
       "sdh_comment                  object\n",
       "interval_start       datetime64[ns]\n",
       "interval_end         datetime64[ns]\n",
       "interval_minute               int64\n",
       "episode                       int64\n",
       "season                        int64\n",
       "season00episode00            object\n",
       "dtype: object"
      ]
     },
     "execution_count": 14,
     "metadata": {},
     "output_type": "execute_result"
    }
   ],
   "source": [
    "data.dtypes"
   ]
  },
  {
   "cell_type": "markdown",
   "metadata": {},
   "source": [
    "Practicing on Season 1 data:"
   ]
  },
  {
   "cell_type": "code",
   "execution_count": 15,
   "metadata": {},
   "outputs": [
    {
     "data": {
      "text/html": [
       "<div>\n",
       "<style scoped>\n",
       "    .dataframe tbody tr th:only-of-type {\n",
       "        vertical-align: middle;\n",
       "    }\n",
       "\n",
       "    .dataframe tbody tr th {\n",
       "        vertical-align: top;\n",
       "    }\n",
       "\n",
       "    .dataframe thead th {\n",
       "        text-align: right;\n",
       "    }\n",
       "</style>\n",
       "<table border=\"1\" class=\"dataframe\">\n",
       "  <thead>\n",
       "    <tr style=\"text-align: right;\">\n",
       "      <th></th>\n",
       "      <th>sdh_comment</th>\n",
       "      <th>interval_start</th>\n",
       "      <th>interval_end</th>\n",
       "      <th>interval_minute</th>\n",
       "      <th>episode</th>\n",
       "      <th>season</th>\n",
       "      <th>season00episode00</th>\n",
       "    </tr>\n",
       "  </thead>\n",
       "  <tbody>\n",
       "    <tr>\n",
       "      <th>103</th>\n",
       "      <td>ruhige Klaviermusik</td>\n",
       "      <td>1900-01-01 00:00:06</td>\n",
       "      <td>1900-01-01 00:00:08</td>\n",
       "      <td>0</td>\n",
       "      <td>7</td>\n",
       "      <td>1</td>\n",
       "      <td>S01E07</td>\n",
       "    </tr>\n",
       "    <tr>\n",
       "      <th>105</th>\n",
       "      <td>ruhige spieluhrartige Musik</td>\n",
       "      <td>1900-01-01 00:00:17</td>\n",
       "      <td>1900-01-01 00:00:20</td>\n",
       "      <td>0</td>\n",
       "      <td>7</td>\n",
       "      <td>1</td>\n",
       "      <td>S01E07</td>\n",
       "    </tr>\n",
       "    <tr>\n",
       "      <th>106</th>\n",
       "      <td>Musik wird zunehmend dissonant</td>\n",
       "      <td>1900-01-01 00:00:27</td>\n",
       "      <td>1900-01-01 00:00:29</td>\n",
       "      <td>0</td>\n",
       "      <td>7</td>\n",
       "      <td>1</td>\n",
       "      <td>S01E07</td>\n",
       "    </tr>\n",
       "    <tr>\n",
       "      <th>110</th>\n",
       "      <td>ruhige beklemmende Musik</td>\n",
       "      <td>1900-01-01 00:02:39</td>\n",
       "      <td>1900-01-01 00:02:42</td>\n",
       "      <td>2</td>\n",
       "      <td>7</td>\n",
       "      <td>1</td>\n",
       "      <td>S01E07</td>\n",
       "    </tr>\n",
       "    <tr>\n",
       "      <th>111</th>\n",
       "      <td>Ruhige beklemmende Musik läuft weiter</td>\n",
       "      <td>1900-01-01 00:02:51</td>\n",
       "      <td>1900-01-01 00:02:53</td>\n",
       "      <td>2</td>\n",
       "      <td>7</td>\n",
       "      <td>1</td>\n",
       "      <td>S01E07</td>\n",
       "    </tr>\n",
       "    <tr>\n",
       "      <th>...</th>\n",
       "      <td>...</td>\n",
       "      <td>...</td>\n",
       "      <td>...</td>\n",
       "      <td>...</td>\n",
       "      <td>...</td>\n",
       "      <td>...</td>\n",
       "      <td>...</td>\n",
       "    </tr>\n",
       "    <tr>\n",
       "      <th>2433</th>\n",
       "      <td>düstere Musik</td>\n",
       "      <td>1900-01-01 00:29:39</td>\n",
       "      <td>1900-01-01 00:29:41</td>\n",
       "      <td>29</td>\n",
       "      <td>9</td>\n",
       "      <td>1</td>\n",
       "      <td>S01E09</td>\n",
       "    </tr>\n",
       "    <tr>\n",
       "      <th>2435</th>\n",
       "      <td>Musik verstummt</td>\n",
       "      <td>1900-01-01 00:29:59</td>\n",
       "      <td>1900-01-01 00:30:01</td>\n",
       "      <td>29</td>\n",
       "      <td>9</td>\n",
       "      <td>1</td>\n",
       "      <td>S01E09</td>\n",
       "    </tr>\n",
       "    <tr>\n",
       "      <th>2467</th>\n",
       "      <td>melancholische Musik</td>\n",
       "      <td>1900-01-01 00:40:46</td>\n",
       "      <td>1900-01-01 00:40:48</td>\n",
       "      <td>40</td>\n",
       "      <td>9</td>\n",
       "      <td>1</td>\n",
       "      <td>S01E09</td>\n",
       "    </tr>\n",
       "    <tr>\n",
       "      <th>2473</th>\n",
       "      <td>melancholische Musik</td>\n",
       "      <td>1900-01-01 00:45:51</td>\n",
       "      <td>1900-01-01 00:45:53</td>\n",
       "      <td>45</td>\n",
       "      <td>9</td>\n",
       "      <td>1</td>\n",
       "      <td>S01E09</td>\n",
       "    </tr>\n",
       "    <tr>\n",
       "      <th>2486</th>\n",
       "      <td>dynamische Musik</td>\n",
       "      <td>1900-01-01 00:49:18</td>\n",
       "      <td>1900-01-01 00:49:21</td>\n",
       "      <td>49</td>\n",
       "      <td>9</td>\n",
       "      <td>1</td>\n",
       "      <td>S01E09</td>\n",
       "    </tr>\n",
       "  </tbody>\n",
       "</table>\n",
       "<p>138 rows × 7 columns</p>\n",
       "</div>"
      ],
      "text/plain": [
       "                                sdh_comment      interval_start  \\\n",
       "103                     ruhige Klaviermusik 1900-01-01 00:00:06   \n",
       "105             ruhige spieluhrartige Musik 1900-01-01 00:00:17   \n",
       "106          Musik wird zunehmend dissonant 1900-01-01 00:00:27   \n",
       "110                ruhige beklemmende Musik 1900-01-01 00:02:39   \n",
       "111   Ruhige beklemmende Musik läuft weiter 1900-01-01 00:02:51   \n",
       "...                                     ...                 ...   \n",
       "2433                          düstere Musik 1900-01-01 00:29:39   \n",
       "2435                        Musik verstummt 1900-01-01 00:29:59   \n",
       "2467                   melancholische Musik 1900-01-01 00:40:46   \n",
       "2473                   melancholische Musik 1900-01-01 00:45:51   \n",
       "2486                       dynamische Musik 1900-01-01 00:49:18   \n",
       "\n",
       "            interval_end  interval_minute  episode  season season00episode00  \n",
       "103  1900-01-01 00:00:08                0        7       1            S01E07  \n",
       "105  1900-01-01 00:00:20                0        7       1            S01E07  \n",
       "106  1900-01-01 00:00:29                0        7       1            S01E07  \n",
       "110  1900-01-01 00:02:42                2        7       1            S01E07  \n",
       "111  1900-01-01 00:02:53                2        7       1            S01E07  \n",
       "...                  ...              ...      ...     ...               ...  \n",
       "2433 1900-01-01 00:29:41               29        9       1            S01E09  \n",
       "2435 1900-01-01 00:30:01               29        9       1            S01E09  \n",
       "2467 1900-01-01 00:40:48               40        9       1            S01E09  \n",
       "2473 1900-01-01 00:45:53               45        9       1            S01E09  \n",
       "2486 1900-01-01 00:49:21               49        9       1            S01E09  \n",
       "\n",
       "[138 rows x 7 columns]"
      ]
     },
     "execution_count": 15,
     "metadata": {},
     "output_type": "execute_result"
    }
   ],
   "source": [
    "# choosing season 1 and comments containing \"musik\"\n",
    "# later we'll make clusters for comments to display different types of sounds: clicks, peeps, thunder, music, radio and so on\n",
    "data_s01e01 = data[(data.season==1) & (data.sdh_comment.str.lower().str.contains('musik'))]\n",
    "# |klavierspiel|klänge\n",
    "data_s01e01"
   ]
  },
  {
   "cell_type": "code",
   "execution_count": 145,
   "metadata": {},
   "outputs": [
    {
     "data": {
      "application/vnd.plotly.v1+json": {
       "config": {
        "plotlyServerURL": "https://plot.ly"
       },
       "data": [
        {
         "alignmentgroup": "True",
         "base": [
          "1900-01-01T00:00:06",
          "1900-01-01T00:00:17",
          "1900-01-01T00:00:27",
          "1900-01-01T00:02:39",
          "1900-01-01T00:02:51",
          "1900-01-01T00:05:59",
          "1900-01-01T00:06:06",
          "1900-01-01T00:12:29",
          "1900-01-01T00:14:49",
          "1900-01-01T00:26:19",
          "1900-01-01T00:26:51",
          "1900-01-01T00:28:12",
          "1900-01-01T00:32:34",
          "1900-01-01T00:35:26",
          "1900-01-01T00:40:57",
          "1900-01-01T00:42:43",
          "1900-01-01T00:15:29",
          "1900-01-01T00:16:33",
          "1900-01-01T00:18:41",
          "1900-01-01T00:37:24",
          "1900-01-01T00:37:42",
          "1900-01-01T00:39:53",
          "1900-01-01T00:40:43",
          "1900-01-01T00:03:21",
          "1900-01-01T00:08:11",
          "1900-01-01T00:14:40",
          "1900-01-01T00:15:08",
          "1900-01-01T00:16:16",
          "1900-01-01T00:17:59",
          "1900-01-01T00:18:53",
          "1900-01-01T00:21:13",
          "1900-01-01T00:23:14",
          "1900-01-01T00:23:38",
          "1900-01-01T00:23:53",
          "1900-01-01T00:24:34",
          "1900-01-01T00:27:02",
          "1900-01-01T00:36:45",
          "1900-01-01T00:37:06",
          "1900-01-01T00:44:16",
          "1900-01-01T00:00:32",
          "1900-01-01T00:02:51",
          "1900-01-01T00:03:01",
          "1900-01-01T00:04:41",
          "1900-01-01T00:05:08",
          "1900-01-01T00:07:09",
          "1900-01-01T00:07:45",
          "1900-01-01T00:07:55",
          "1900-01-01T00:09:21",
          "1900-01-01T00:11:36",
          "1900-01-01T00:21:15",
          "1900-01-01T00:27:36",
          "1900-01-01T00:29:10",
          "1900-01-01T00:40:25",
          "1900-01-01T00:43:19",
          "1900-01-01T00:44:03",
          "1900-01-01T00:45:14",
          "1900-01-01T00:49:51",
          "1900-01-01T00:50:00",
          "1900-01-01T00:53:17",
          "1900-01-01T00:00:08",
          "1900-01-01T00:00:35",
          "1900-01-01T00:01:18",
          "1900-01-01T00:01:34",
          "1900-01-01T00:10:36",
          "1900-01-01T00:24:18",
          "1900-01-01T00:25:12",
          "1900-01-01T00:26:28",
          "1900-01-01T00:27:05",
          "1900-01-01T00:30:13",
          "1900-01-01T00:36:41",
          "1900-01-01T00:09:35",
          "1900-01-01T00:09:47",
          "1900-01-01T00:09:52",
          "1900-01-01T00:19:02",
          "1900-01-01T00:23:07",
          "1900-01-01T00:29:43",
          "1900-01-01T00:35:29",
          "1900-01-01T00:41:39",
          "1900-01-01T00:42:00",
          "1900-01-01T00:42:40",
          "1900-01-01T00:43:12",
          "1900-01-01T00:47:38",
          "1900-01-01T00:17:25",
          "1900-01-01T00:19:35",
          "1900-01-01T00:33:41",
          "1900-01-01T00:37:11",
          "1900-01-01T00:38:47",
          "1900-01-01T00:39:33",
          "1900-01-01T00:01:06",
          "1900-01-01T00:11:38",
          "1900-01-01T00:12:22",
          "1900-01-01T00:17:30",
          "1900-01-01T00:17:56",
          "1900-01-01T00:18:16",
          "1900-01-01T00:20:17",
          "1900-01-01T00:21:48",
          "1900-01-01T00:27:48",
          "1900-01-01T00:32:33",
          "1900-01-01T00:34:16",
          "1900-01-01T00:35:47",
          "1900-01-01T00:38:15",
          "1900-01-01T00:41:54",
          "1900-01-01T00:01:30",
          "1900-01-01T00:06:54",
          "1900-01-01T00:11:19",
          "1900-01-01T00:11:44",
          "1900-01-01T00:12:05",
          "1900-01-01T00:14:06",
          "1900-01-01T00:15:33",
          "1900-01-01T00:15:49",
          "1900-01-01T00:17:06",
          "1900-01-01T00:18:21",
          "1900-01-01T00:22:12",
          "1900-01-01T00:25:15",
          "1900-01-01T00:27:21",
          "1900-01-01T00:27:40",
          "1900-01-01T00:28:19",
          "1900-01-01T00:28:33",
          "1900-01-01T00:28:52",
          "1900-01-01T00:31:10",
          "1900-01-01T00:35:55",
          "1900-01-01T00:36:16",
          "1900-01-01T00:36:41",
          "1900-01-01T00:37:03",
          "1900-01-01T00:37:37",
          "1900-01-01T00:39:52",
          "1900-01-01T00:45:34",
          "1900-01-01T00:45:40",
          "1900-01-01T00:46:51",
          "1900-01-01T00:47:08",
          "1900-01-01T00:10:19",
          "1900-01-01T00:10:44",
          "1900-01-01T00:26:27",
          "1900-01-01T00:29:39",
          "1900-01-01T00:29:59",
          "1900-01-01T00:40:46",
          "1900-01-01T00:45:51",
          "1900-01-01T00:49:18"
         ],
         "customdata": [
          [
           "ruhige Klaviermusik"
          ],
          [
           "ruhige spieluhrartige Musik"
          ],
          [
           "Musik wird zunehmend dissonant"
          ],
          [
           "ruhige beklemmende Musik"
          ],
          [
           "Ruhige beklemmende Musik läuft weiter"
          ],
          [
           "Die Musik spielt weiter"
          ],
          [
           "Musik verstummt"
          ],
          [
           "Schlagermusik aus dem Autoradio"
          ],
          [
           "Popmusik aus dem Autoradio"
          ],
          [
           "sphärische Musik"
          ],
          [
           "Sphärische Musik läuft weiter"
          ],
          [
           "melancholische Musik"
          ],
          [
           "melancholische Musik"
          ],
          [
           "bedrohliche Musik"
          ],
          [
           "bedrohliche Musik"
          ],
          [
           "traurige Musik"
          ],
          [
           "geheimnisvolle Musik"
          ],
          [
           "spannungsvolle Musik"
          ],
          [
           "bedrohliche Musik"
          ],
          [
           "unheilvolle Musik"
          ],
          [
           "bedrohliche Musik"
          ],
          [
           "Bedrohliche Musik steigert sich"
          ],
          [
           "melancholische Klaviermusik"
          ],
          [
           "triste Musik"
          ],
          [
           "finstere Musik"
          ],
          [
           "angespannte Musik"
          ],
          [
           "düstere Musik"
          ],
          [
           "spannungsvolle Musik"
          ],
          [
           "düstere Musik"
          ],
          [
           "geheimnisvolle Musik"
          ],
          [
           "düstere pulsierende Musik"
          ],
          [
           "spannungsvolle langsame Musik"
          ],
          [
           "Spannungsvolle Musik wird langsam lauter"
          ],
          [
           "Spannungsvolle Musik steigert sich"
          ],
          [
           "Musik verstummt"
          ],
          [
           "angespannte Musik"
          ],
          [
           "beklemmende Musik"
          ],
          [
           "unheilvolle Musik"
          ],
          [
           "spannungsgeladene Musik"
          ],
          [
           "beklemmende Musik"
          ],
          [
           "beklemmende Musik"
          ],
          [
           "düstere Musik"
          ],
          [
           "spannungsvolle Musik"
          ],
          [
           "spannungsvolle Musik"
          ],
          [
           "unheimliche Musik"
          ],
          [
           "angespannte Musik"
          ],
          [
           "düstere Musik"
          ],
          [
           "spannungsvolle elektronische Musik"
          ],
          [
           "ruhige rätselhafte Musik"
          ],
          [
           "geheimnisvolle Musik"
          ],
          [
           "düstere Musik"
          ],
          [
           "unheimliche Musik"
          ],
          [
           "unheimliche Musik"
          ],
          [
           "düstere Musik"
          ],
          [
           "beklemmende Musik"
          ],
          [
           "ruhige Gitarrenmusik"
          ],
          [
           "ruhige spieluhrartige Musik"
          ],
          [
           "Musik wird zunehmend dissonant"
          ],
          [
           "spannungsvolle Musik"
          ],
          [
           "ruhige geheimnisvolle Musik"
          ],
          [
           "Ruhige Musik läuft weiter"
          ],
          [
           "Ruhige Musik wird lauter"
          ],
          [
           "Ruhige Musik verstummt langsam"
          ],
          [
           "angespannte Musik"
          ],
          [
           "angespannte Musik"
          ],
          [
           "verträumte Musik"
          ],
          [
           "Verträumte Musik läuft weiter"
          ],
          [
           "Verträumte Musik verstummt"
          ],
          [
           "beklemmende Musik"
          ],
          [
           "traurige Musik"
          ],
          [
           "ruhige A-cappella-Musik"
          ],
          [
           "A-cappella-Musik wird lauter"
          ],
          [
           "Musik verstummt"
          ],
          [
           "spannungsvolle Musik"
          ],
          [
           "fröhliche Popmusik"
          ],
          [
           "geheimnisvolle Musik"
          ],
          [
           "düstere Musik"
          ],
          [
           "melancholische Klaviermusik"
          ],
          [
           "Melancholische Musik läuft weiter"
          ],
          [
           "Melancholische Musik läuft weiter"
          ],
          [
           "Musik verstummt"
          ],
          [
           "leise Popmusik"
          ],
          [
           "spannungsvolle Musik"
          ],
          [
           "Musik läuft weiter"
          ],
          [
           "bedrohliche Musik"
          ],
          [
           "sphärische leicht unruhige Musik"
          ],
          [
           "Musik verstummt"
          ],
          [
           "düstere Musik"
          ],
          [
           "bedrohliche Musik"
          ],
          [
           "fröhliche Popmusik im Radio"
          ],
          [
           "Radiomusik verstummt"
          ],
          [
           "laute Heavy-Metal-Musik"
          ],
          [
           "laute Heavy-Metal-Musik"
          ],
          [
           "laute Heavy-Metal-Musik"
          ],
          [
           "laute Heavy-Metal-Musik"
          ],
          [
           "traurige Musik"
          ],
          [
           "spannungsvolle Musik"
          ],
          [
           "melancholische Musik"
          ],
          [
           "getragene Instrumentalmusik"
          ],
          [
           "ruhige Klaviermusik"
          ],
          [
           "Die Musik geht weiter"
          ],
          [
           "spannungsvolle Musik"
          ],
          [
           "unheimliche Musik"
          ],
          [
           "heitere Musik aus dem Haus"
          ],
          [
           "spannungsvolle Musik"
          ],
          [
           "unheimliche Musik"
          ],
          [
           "geheimnisvolle Musik"
          ],
          [
           "düstere Musik"
          ],
          [
           "düstere Musik"
          ],
          [
           "geheimnisvolle Musik"
          ],
          [
           "rhythmische A-cappella-Musik"
          ],
          [
           "A-cappella-Musik wird ruhiger"
          ],
          [
           "laute Musik aus dem Radio"
          ],
          [
           "düstere Musik"
          ],
          [
           "beklemmende Musik"
          ],
          [
           "finstere Musik"
          ],
          [
           "unheimliche Musik"
          ],
          [
           "Unheimliche Musik wird lauter"
          ],
          [
           "unheimliche Musik"
          ],
          [
           "leise Musik vom Plattenspieler"
          ],
          [
           "beklemmende Musik"
          ],
          [
           "rhythmische bedrohliche Musik"
          ],
          [
           "Rhythmische bedrohliche Musik läuft weiter"
          ],
          [
           "Bedrohliche Musik verstummt"
          ],
          [
           "schwungvolle Musik"
          ],
          [
           "düstere Musik"
          ],
          [
           "rätselhafte Musik"
          ],
          [
           "Rätselhafte Musik läuft weiter"
          ],
          [
           "Rätselhafte Musik läuft weiter"
          ],
          [
           "Musik verstummt"
          ],
          [
           "bedrohliche rhythmische Musik"
          ],
          [
           "Bedrohliche Musik läuft weiter"
          ],
          [
           "spannungsvolle Musik"
          ],
          [
           "düstere Musik"
          ],
          [
           "Musik verstummt"
          ],
          [
           "melancholische Musik"
          ],
          [
           "melancholische Musik"
          ],
          [
           "dynamische Musik"
          ]
         ],
         "hovertemplate": "<b>%{hovertext}</b><br><br>interval_start=%{base}<br>season00episode00=%{y}<extra></extra>",
         "hovertext": [
          "ruhige Klaviermusik",
          "ruhige spieluhrartige Musik",
          "Musik wird zunehmend dissonant",
          "ruhige beklemmende Musik",
          "Ruhige beklemmende Musik läuft weiter",
          "Die Musik spielt weiter",
          "Musik verstummt",
          "Schlagermusik aus dem Autoradio",
          "Popmusik aus dem Autoradio",
          "sphärische Musik",
          "Sphärische Musik läuft weiter",
          "melancholische Musik",
          "melancholische Musik",
          "bedrohliche Musik",
          "bedrohliche Musik",
          "traurige Musik",
          "geheimnisvolle Musik",
          "spannungsvolle Musik",
          "bedrohliche Musik",
          "unheilvolle Musik",
          "bedrohliche Musik",
          "Bedrohliche Musik steigert sich",
          "melancholische Klaviermusik",
          "triste Musik",
          "finstere Musik",
          "angespannte Musik",
          "düstere Musik",
          "spannungsvolle Musik",
          "düstere Musik",
          "geheimnisvolle Musik",
          "düstere pulsierende Musik",
          "spannungsvolle langsame Musik",
          "Spannungsvolle Musik wird langsam lauter",
          "Spannungsvolle Musik steigert sich",
          "Musik verstummt",
          "angespannte Musik",
          "beklemmende Musik",
          "unheilvolle Musik",
          "spannungsgeladene Musik",
          "beklemmende Musik",
          "beklemmende Musik",
          "düstere Musik",
          "spannungsvolle Musik",
          "spannungsvolle Musik",
          "unheimliche Musik",
          "angespannte Musik",
          "düstere Musik",
          "spannungsvolle elektronische Musik",
          "ruhige rätselhafte Musik",
          "geheimnisvolle Musik",
          "düstere Musik",
          "unheimliche Musik",
          "unheimliche Musik",
          "düstere Musik",
          "beklemmende Musik",
          "ruhige Gitarrenmusik",
          "ruhige spieluhrartige Musik",
          "Musik wird zunehmend dissonant",
          "spannungsvolle Musik",
          "ruhige geheimnisvolle Musik",
          "Ruhige Musik läuft weiter",
          "Ruhige Musik wird lauter",
          "Ruhige Musik verstummt langsam",
          "angespannte Musik",
          "angespannte Musik",
          "verträumte Musik",
          "Verträumte Musik läuft weiter",
          "Verträumte Musik verstummt",
          "beklemmende Musik",
          "traurige Musik",
          "ruhige A-cappella-Musik",
          "A-cappella-Musik wird lauter",
          "Musik verstummt",
          "spannungsvolle Musik",
          "fröhliche Popmusik",
          "geheimnisvolle Musik",
          "düstere Musik",
          "melancholische Klaviermusik",
          "Melancholische Musik läuft weiter",
          "Melancholische Musik läuft weiter",
          "Musik verstummt",
          "leise Popmusik",
          "spannungsvolle Musik",
          "Musik läuft weiter",
          "bedrohliche Musik",
          "sphärische leicht unruhige Musik",
          "Musik verstummt",
          "düstere Musik",
          "bedrohliche Musik",
          "fröhliche Popmusik im Radio",
          "Radiomusik verstummt",
          "laute Heavy-Metal-Musik",
          "laute Heavy-Metal-Musik",
          "laute Heavy-Metal-Musik",
          "laute Heavy-Metal-Musik",
          "traurige Musik",
          "spannungsvolle Musik",
          "melancholische Musik",
          "getragene Instrumentalmusik",
          "ruhige Klaviermusik",
          "Die Musik geht weiter",
          "spannungsvolle Musik",
          "unheimliche Musik",
          "heitere Musik aus dem Haus",
          "spannungsvolle Musik",
          "unheimliche Musik",
          "geheimnisvolle Musik",
          "düstere Musik",
          "düstere Musik",
          "geheimnisvolle Musik",
          "rhythmische A-cappella-Musik",
          "A-cappella-Musik wird ruhiger",
          "laute Musik aus dem Radio",
          "düstere Musik",
          "beklemmende Musik",
          "finstere Musik",
          "unheimliche Musik",
          "Unheimliche Musik wird lauter",
          "unheimliche Musik",
          "leise Musik vom Plattenspieler",
          "beklemmende Musik",
          "rhythmische bedrohliche Musik",
          "Rhythmische bedrohliche Musik läuft weiter",
          "Bedrohliche Musik verstummt",
          "schwungvolle Musik",
          "düstere Musik",
          "rätselhafte Musik",
          "Rätselhafte Musik läuft weiter",
          "Rätselhafte Musik läuft weiter",
          "Musik verstummt",
          "bedrohliche rhythmische Musik",
          "Bedrohliche Musik läuft weiter",
          "spannungsvolle Musik",
          "düstere Musik",
          "Musik verstummt",
          "melancholische Musik",
          "melancholische Musik",
          "dynamische Musik"
         ],
         "legendgroup": "",
         "marker": {
          "color": "rgb(120,130,90)",
          "pattern": {
           "shape": ""
          }
         },
         "name": "",
         "offsetgroup": "",
         "orientation": "h",
         "showlegend": false,
         "text": [
          "ruhige Klaviermusik",
          "ruhige spieluhrartige Musik",
          "Musik wird zunehmend dissonant",
          "ruhige beklemmende Musik",
          "Ruhige beklemmende Musik läuft weiter",
          "Die Musik spielt weiter",
          "Musik verstummt",
          "Schlagermusik aus dem Autoradio",
          "Popmusik aus dem Autoradio",
          "sphärische Musik",
          "Sphärische Musik läuft weiter",
          "melancholische Musik",
          "melancholische Musik",
          "bedrohliche Musik",
          "bedrohliche Musik",
          "traurige Musik",
          "geheimnisvolle Musik",
          "spannungsvolle Musik",
          "bedrohliche Musik",
          "unheilvolle Musik",
          "bedrohliche Musik",
          "Bedrohliche Musik steigert sich",
          "melancholische Klaviermusik",
          "triste Musik",
          "finstere Musik",
          "angespannte Musik",
          "düstere Musik",
          "spannungsvolle Musik",
          "düstere Musik",
          "geheimnisvolle Musik",
          "düstere pulsierende Musik",
          "spannungsvolle langsame Musik",
          "Spannungsvolle Musik wird langsam lauter",
          "Spannungsvolle Musik steigert sich",
          "Musik verstummt",
          "angespannte Musik",
          "beklemmende Musik",
          "unheilvolle Musik",
          "spannungsgeladene Musik",
          "beklemmende Musik",
          "beklemmende Musik",
          "düstere Musik",
          "spannungsvolle Musik",
          "spannungsvolle Musik",
          "unheimliche Musik",
          "angespannte Musik",
          "düstere Musik",
          "spannungsvolle elektronische Musik",
          "ruhige rätselhafte Musik",
          "geheimnisvolle Musik",
          "düstere Musik",
          "unheimliche Musik",
          "unheimliche Musik",
          "düstere Musik",
          "beklemmende Musik",
          "ruhige Gitarrenmusik",
          "ruhige spieluhrartige Musik",
          "Musik wird zunehmend dissonant",
          "spannungsvolle Musik",
          "ruhige geheimnisvolle Musik",
          "Ruhige Musik läuft weiter",
          "Ruhige Musik wird lauter",
          "Ruhige Musik verstummt langsam",
          "angespannte Musik",
          "angespannte Musik",
          "verträumte Musik",
          "Verträumte Musik läuft weiter",
          "Verträumte Musik verstummt",
          "beklemmende Musik",
          "traurige Musik",
          "ruhige A-cappella-Musik",
          "A-cappella-Musik wird lauter",
          "Musik verstummt",
          "spannungsvolle Musik",
          "fröhliche Popmusik",
          "geheimnisvolle Musik",
          "düstere Musik",
          "melancholische Klaviermusik",
          "Melancholische Musik läuft weiter",
          "Melancholische Musik läuft weiter",
          "Musik verstummt",
          "leise Popmusik",
          "spannungsvolle Musik",
          "Musik läuft weiter",
          "bedrohliche Musik",
          "sphärische leicht unruhige Musik",
          "Musik verstummt",
          "düstere Musik",
          "bedrohliche Musik",
          "fröhliche Popmusik im Radio",
          "Radiomusik verstummt",
          "laute Heavy-Metal-Musik",
          "laute Heavy-Metal-Musik",
          "laute Heavy-Metal-Musik",
          "laute Heavy-Metal-Musik",
          "traurige Musik",
          "spannungsvolle Musik",
          "melancholische Musik",
          "getragene Instrumentalmusik",
          "ruhige Klaviermusik",
          "Die Musik geht weiter",
          "spannungsvolle Musik",
          "unheimliche Musik",
          "heitere Musik aus dem Haus",
          "spannungsvolle Musik",
          "unheimliche Musik",
          "geheimnisvolle Musik",
          "düstere Musik",
          "düstere Musik",
          "geheimnisvolle Musik",
          "rhythmische A-cappella-Musik",
          "A-cappella-Musik wird ruhiger",
          "laute Musik aus dem Radio",
          "düstere Musik",
          "beklemmende Musik",
          "finstere Musik",
          "unheimliche Musik",
          "Unheimliche Musik wird lauter",
          "unheimliche Musik",
          "leise Musik vom Plattenspieler",
          "beklemmende Musik",
          "rhythmische bedrohliche Musik",
          "Rhythmische bedrohliche Musik läuft weiter",
          "Bedrohliche Musik verstummt",
          "schwungvolle Musik",
          "düstere Musik",
          "rätselhafte Musik",
          "Rätselhafte Musik läuft weiter",
          "Rätselhafte Musik läuft weiter",
          "Musik verstummt",
          "bedrohliche rhythmische Musik",
          "Bedrohliche Musik läuft weiter",
          "spannungsvolle Musik",
          "düstere Musik",
          "Musik verstummt",
          "melancholische Musik",
          "melancholische Musik",
          "dynamische Musik"
         ],
         "textangle": 0,
         "textfont": {
          "size": 8
         },
         "textposition": "auto",
         "type": "bar",
         "x": [
          2000,
          3000,
          2000,
          3000,
          2000,
          1000,
          3000,
          2000,
          2000,
          3000,
          2000,
          2000,
          2000,
          2000,
          2000,
          2000,
          4000,
          2000,
          3000,
          3000,
          3000,
          2000,
          3000,
          2000,
          2000,
          2000,
          1000,
          3000,
          2000,
          2000,
          2000,
          3000,
          3000,
          2000,
          2000,
          2000,
          2000,
          2000,
          4000,
          2000,
          2000,
          2000,
          2000,
          2000,
          2000,
          2000,
          3000,
          3000,
          2000,
          4000,
          3000,
          2000,
          2000,
          2000,
          2000,
          3000,
          2000,
          3000,
          2000,
          2000,
          3000,
          3000,
          3000,
          2000,
          3000,
          3000,
          1000,
          2000,
          2000,
          3000,
          3000,
          2000,
          1000,
          2000,
          2000,
          4000,
          3000,
          4000,
          3000,
          3000,
          2000,
          3000,
          4000,
          1000,
          2000,
          2000,
          2000,
          2000,
          2000,
          2000,
          2000,
          2000,
          2000,
          2000,
          2000,
          2000,
          2000,
          3000,
          4000,
          3000,
          2000,
          4000,
          2000,
          3000,
          2000,
          2000,
          3000,
          2000,
          2000,
          2000,
          3000,
          2000,
          3000,
          2000,
          2000,
          3000,
          2000,
          2000,
          2000,
          2000,
          2000,
          4000,
          4000,
          3000,
          4000,
          3000,
          3000,
          3000,
          2000,
          2000,
          3000,
          3000,
          2000,
          2000,
          2000,
          2000,
          2000,
          3000
         ],
         "xaxis": "x",
         "y": [
          "S01E07",
          "S01E07",
          "S01E07",
          "S01E07",
          "S01E07",
          "S01E07",
          "S01E07",
          "S01E07",
          "S01E07",
          "S01E07",
          "S01E07",
          "S01E07",
          "S01E07",
          "S01E07",
          "S01E07",
          "S01E07",
          "S01E06",
          "S01E06",
          "S01E06",
          "S01E06",
          "S01E06",
          "S01E06",
          "S01E06",
          "S01E04",
          "S01E04",
          "S01E04",
          "S01E04",
          "S01E04",
          "S01E04",
          "S01E04",
          "S01E04",
          "S01E04",
          "S01E04",
          "S01E04",
          "S01E04",
          "S01E04",
          "S01E04",
          "S01E04",
          "S01E04",
          "S01E10",
          "S01E10",
          "S01E10",
          "S01E10",
          "S01E10",
          "S01E10",
          "S01E10",
          "S01E10",
          "S01E10",
          "S01E10",
          "S01E10",
          "S01E10",
          "S01E10",
          "S01E10",
          "S01E10",
          "S01E10",
          "S01E10",
          "S01E10",
          "S01E10",
          "S01E10",
          "S01E05",
          "S01E05",
          "S01E05",
          "S01E05",
          "S01E05",
          "S01E05",
          "S01E05",
          "S01E05",
          "S01E05",
          "S01E05",
          "S01E05",
          "S01E01",
          "S01E01",
          "S01E01",
          "S01E01",
          "S01E01",
          "S01E01",
          "S01E01",
          "S01E01",
          "S01E01",
          "S01E01",
          "S01E01",
          "S01E01",
          "S01E02",
          "S01E02",
          "S01E02",
          "S01E02",
          "S01E02",
          "S01E02",
          "S01E03",
          "S01E03",
          "S01E03",
          "S01E03",
          "S01E03",
          "S01E03",
          "S01E03",
          "S01E03",
          "S01E03",
          "S01E03",
          "S01E03",
          "S01E03",
          "S01E03",
          "S01E03",
          "S01E08",
          "S01E08",
          "S01E08",
          "S01E08",
          "S01E08",
          "S01E08",
          "S01E08",
          "S01E08",
          "S01E08",
          "S01E08",
          "S01E08",
          "S01E08",
          "S01E08",
          "S01E08",
          "S01E08",
          "S01E08",
          "S01E08",
          "S01E08",
          "S01E08",
          "S01E08",
          "S01E08",
          "S01E08",
          "S01E08",
          "S01E08",
          "S01E08",
          "S01E08",
          "S01E08",
          "S01E08",
          "S01E09",
          "S01E09",
          "S01E09",
          "S01E09",
          "S01E09",
          "S01E09",
          "S01E09",
          "S01E09"
         ],
         "yaxis": "y"
        }
       ],
       "layout": {
        "bargap": 0,
        "barmode": "overlay",
        "font": {
         "color": "white",
         "family": "Courier New"
        },
        "height": 600,
        "legend": {
         "tracegroupgap": 0
        },
        "margin": {
         "t": 60
        },
        "shapes": [
         {
          "fillcolor": "black",
          "layer": "below",
          "line": {
           "width": 30
          },
          "opacity": 0.03,
          "type": "rect",
          "x0": 0,
          "x1": 1,
          "xref": "x domain",
          "y0": "S01E07",
          "y1": "S01E07",
          "yref": "y"
         },
         {
          "fillcolor": "black",
          "layer": "below",
          "line": {
           "width": 30
          },
          "opacity": 0.03,
          "type": "rect",
          "x0": 0,
          "x1": 1,
          "xref": "x domain",
          "y0": "S01E06",
          "y1": "S01E06",
          "yref": "y"
         },
         {
          "fillcolor": "black",
          "layer": "below",
          "line": {
           "width": 30
          },
          "opacity": 0.03,
          "type": "rect",
          "x0": 0,
          "x1": 1,
          "xref": "x domain",
          "y0": "S01E04",
          "y1": "S01E04",
          "yref": "y"
         },
         {
          "fillcolor": "black",
          "layer": "below",
          "line": {
           "width": 30
          },
          "opacity": 0.03,
          "type": "rect",
          "x0": 0,
          "x1": 1,
          "xref": "x domain",
          "y0": "S01E10",
          "y1": "S01E10",
          "yref": "y"
         },
         {
          "fillcolor": "black",
          "layer": "below",
          "line": {
           "width": 30
          },
          "opacity": 0.03,
          "type": "rect",
          "x0": 0,
          "x1": 1,
          "xref": "x domain",
          "y0": "S01E05",
          "y1": "S01E05",
          "yref": "y"
         },
         {
          "fillcolor": "black",
          "layer": "below",
          "line": {
           "width": 30
          },
          "opacity": 0.03,
          "type": "rect",
          "x0": 0,
          "x1": 1,
          "xref": "x domain",
          "y0": "S01E01",
          "y1": "S01E01",
          "yref": "y"
         },
         {
          "fillcolor": "black",
          "layer": "below",
          "line": {
           "width": 30
          },
          "opacity": 0.03,
          "type": "rect",
          "x0": 0,
          "x1": 1,
          "xref": "x domain",
          "y0": "S01E02",
          "y1": "S01E02",
          "yref": "y"
         },
         {
          "fillcolor": "black",
          "layer": "below",
          "line": {
           "width": 30
          },
          "opacity": 0.03,
          "type": "rect",
          "x0": 0,
          "x1": 1,
          "xref": "x domain",
          "y0": "S01E03",
          "y1": "S01E03",
          "yref": "y"
         },
         {
          "fillcolor": "black",
          "layer": "below",
          "line": {
           "width": 30
          },
          "opacity": 0.03,
          "type": "rect",
          "x0": 0,
          "x1": 1,
          "xref": "x domain",
          "y0": "S01E08",
          "y1": "S01E08",
          "yref": "y"
         },
         {
          "fillcolor": "black",
          "layer": "below",
          "line": {
           "width": 30
          },
          "opacity": 0.03,
          "type": "rect",
          "x0": 0,
          "x1": 1,
          "xref": "x domain",
          "y0": "S01E09",
          "y1": "S01E09",
          "yref": "y"
         }
        ],
        "template": {
         "data": {
          "bar": [
           {
            "error_x": {
             "color": "#f2f5fa"
            },
            "error_y": {
             "color": "#f2f5fa"
            },
            "marker": {
             "line": {
              "color": "rgb(17,17,17)",
              "width": 0.5
             },
             "pattern": {
              "fillmode": "overlay",
              "size": 10,
              "solidity": 0.2
             }
            },
            "type": "bar"
           }
          ],
          "barpolar": [
           {
            "marker": {
             "line": {
              "color": "rgb(17,17,17)",
              "width": 0.5
             },
             "pattern": {
              "fillmode": "overlay",
              "size": 10,
              "solidity": 0.2
             }
            },
            "type": "barpolar"
           }
          ],
          "carpet": [
           {
            "aaxis": {
             "endlinecolor": "#A2B1C6",
             "gridcolor": "#506784",
             "linecolor": "#506784",
             "minorgridcolor": "#506784",
             "startlinecolor": "#A2B1C6"
            },
            "baxis": {
             "endlinecolor": "#A2B1C6",
             "gridcolor": "#506784",
             "linecolor": "#506784",
             "minorgridcolor": "#506784",
             "startlinecolor": "#A2B1C6"
            },
            "type": "carpet"
           }
          ],
          "choropleth": [
           {
            "colorbar": {
             "outlinewidth": 0,
             "ticks": ""
            },
            "type": "choropleth"
           }
          ],
          "contour": [
           {
            "colorbar": {
             "outlinewidth": 0,
             "ticks": ""
            },
            "colorscale": [
             [
              0,
              "#0d0887"
             ],
             [
              0.1111111111111111,
              "#46039f"
             ],
             [
              0.2222222222222222,
              "#7201a8"
             ],
             [
              0.3333333333333333,
              "#9c179e"
             ],
             [
              0.4444444444444444,
              "#bd3786"
             ],
             [
              0.5555555555555556,
              "#d8576b"
             ],
             [
              0.6666666666666666,
              "#ed7953"
             ],
             [
              0.7777777777777778,
              "#fb9f3a"
             ],
             [
              0.8888888888888888,
              "#fdca26"
             ],
             [
              1,
              "#f0f921"
             ]
            ],
            "type": "contour"
           }
          ],
          "contourcarpet": [
           {
            "colorbar": {
             "outlinewidth": 0,
             "ticks": ""
            },
            "type": "contourcarpet"
           }
          ],
          "heatmap": [
           {
            "colorbar": {
             "outlinewidth": 0,
             "ticks": ""
            },
            "colorscale": [
             [
              0,
              "#0d0887"
             ],
             [
              0.1111111111111111,
              "#46039f"
             ],
             [
              0.2222222222222222,
              "#7201a8"
             ],
             [
              0.3333333333333333,
              "#9c179e"
             ],
             [
              0.4444444444444444,
              "#bd3786"
             ],
             [
              0.5555555555555556,
              "#d8576b"
             ],
             [
              0.6666666666666666,
              "#ed7953"
             ],
             [
              0.7777777777777778,
              "#fb9f3a"
             ],
             [
              0.8888888888888888,
              "#fdca26"
             ],
             [
              1,
              "#f0f921"
             ]
            ],
            "type": "heatmap"
           }
          ],
          "heatmapgl": [
           {
            "colorbar": {
             "outlinewidth": 0,
             "ticks": ""
            },
            "colorscale": [
             [
              0,
              "#0d0887"
             ],
             [
              0.1111111111111111,
              "#46039f"
             ],
             [
              0.2222222222222222,
              "#7201a8"
             ],
             [
              0.3333333333333333,
              "#9c179e"
             ],
             [
              0.4444444444444444,
              "#bd3786"
             ],
             [
              0.5555555555555556,
              "#d8576b"
             ],
             [
              0.6666666666666666,
              "#ed7953"
             ],
             [
              0.7777777777777778,
              "#fb9f3a"
             ],
             [
              0.8888888888888888,
              "#fdca26"
             ],
             [
              1,
              "#f0f921"
             ]
            ],
            "type": "heatmapgl"
           }
          ],
          "histogram": [
           {
            "marker": {
             "pattern": {
              "fillmode": "overlay",
              "size": 10,
              "solidity": 0.2
             }
            },
            "type": "histogram"
           }
          ],
          "histogram2d": [
           {
            "colorbar": {
             "outlinewidth": 0,
             "ticks": ""
            },
            "colorscale": [
             [
              0,
              "#0d0887"
             ],
             [
              0.1111111111111111,
              "#46039f"
             ],
             [
              0.2222222222222222,
              "#7201a8"
             ],
             [
              0.3333333333333333,
              "#9c179e"
             ],
             [
              0.4444444444444444,
              "#bd3786"
             ],
             [
              0.5555555555555556,
              "#d8576b"
             ],
             [
              0.6666666666666666,
              "#ed7953"
             ],
             [
              0.7777777777777778,
              "#fb9f3a"
             ],
             [
              0.8888888888888888,
              "#fdca26"
             ],
             [
              1,
              "#f0f921"
             ]
            ],
            "type": "histogram2d"
           }
          ],
          "histogram2dcontour": [
           {
            "colorbar": {
             "outlinewidth": 0,
             "ticks": ""
            },
            "colorscale": [
             [
              0,
              "#0d0887"
             ],
             [
              0.1111111111111111,
              "#46039f"
             ],
             [
              0.2222222222222222,
              "#7201a8"
             ],
             [
              0.3333333333333333,
              "#9c179e"
             ],
             [
              0.4444444444444444,
              "#bd3786"
             ],
             [
              0.5555555555555556,
              "#d8576b"
             ],
             [
              0.6666666666666666,
              "#ed7953"
             ],
             [
              0.7777777777777778,
              "#fb9f3a"
             ],
             [
              0.8888888888888888,
              "#fdca26"
             ],
             [
              1,
              "#f0f921"
             ]
            ],
            "type": "histogram2dcontour"
           }
          ],
          "mesh3d": [
           {
            "colorbar": {
             "outlinewidth": 0,
             "ticks": ""
            },
            "type": "mesh3d"
           }
          ],
          "parcoords": [
           {
            "line": {
             "colorbar": {
              "outlinewidth": 0,
              "ticks": ""
             }
            },
            "type": "parcoords"
           }
          ],
          "pie": [
           {
            "automargin": true,
            "type": "pie"
           }
          ],
          "scatter": [
           {
            "marker": {
             "line": {
              "color": "#283442"
             }
            },
            "type": "scatter"
           }
          ],
          "scatter3d": [
           {
            "line": {
             "colorbar": {
              "outlinewidth": 0,
              "ticks": ""
             }
            },
            "marker": {
             "colorbar": {
              "outlinewidth": 0,
              "ticks": ""
             }
            },
            "type": "scatter3d"
           }
          ],
          "scattercarpet": [
           {
            "marker": {
             "colorbar": {
              "outlinewidth": 0,
              "ticks": ""
             }
            },
            "type": "scattercarpet"
           }
          ],
          "scattergeo": [
           {
            "marker": {
             "colorbar": {
              "outlinewidth": 0,
              "ticks": ""
             }
            },
            "type": "scattergeo"
           }
          ],
          "scattergl": [
           {
            "marker": {
             "line": {
              "color": "#283442"
             }
            },
            "type": "scattergl"
           }
          ],
          "scattermapbox": [
           {
            "marker": {
             "colorbar": {
              "outlinewidth": 0,
              "ticks": ""
             }
            },
            "type": "scattermapbox"
           }
          ],
          "scatterpolar": [
           {
            "marker": {
             "colorbar": {
              "outlinewidth": 0,
              "ticks": ""
             }
            },
            "type": "scatterpolar"
           }
          ],
          "scatterpolargl": [
           {
            "marker": {
             "colorbar": {
              "outlinewidth": 0,
              "ticks": ""
             }
            },
            "type": "scatterpolargl"
           }
          ],
          "scatterternary": [
           {
            "marker": {
             "colorbar": {
              "outlinewidth": 0,
              "ticks": ""
             }
            },
            "type": "scatterternary"
           }
          ],
          "surface": [
           {
            "colorbar": {
             "outlinewidth": 0,
             "ticks": ""
            },
            "colorscale": [
             [
              0,
              "#0d0887"
             ],
             [
              0.1111111111111111,
              "#46039f"
             ],
             [
              0.2222222222222222,
              "#7201a8"
             ],
             [
              0.3333333333333333,
              "#9c179e"
             ],
             [
              0.4444444444444444,
              "#bd3786"
             ],
             [
              0.5555555555555556,
              "#d8576b"
             ],
             [
              0.6666666666666666,
              "#ed7953"
             ],
             [
              0.7777777777777778,
              "#fb9f3a"
             ],
             [
              0.8888888888888888,
              "#fdca26"
             ],
             [
              1,
              "#f0f921"
             ]
            ],
            "type": "surface"
           }
          ],
          "table": [
           {
            "cells": {
             "fill": {
              "color": "#506784"
             },
             "line": {
              "color": "rgb(17,17,17)"
             }
            },
            "header": {
             "fill": {
              "color": "#2a3f5f"
             },
             "line": {
              "color": "rgb(17,17,17)"
             }
            },
            "type": "table"
           }
          ]
         },
         "layout": {
          "annotationdefaults": {
           "arrowcolor": "#f2f5fa",
           "arrowhead": 0,
           "arrowwidth": 1
          },
          "autotypenumbers": "strict",
          "coloraxis": {
           "colorbar": {
            "outlinewidth": 0,
            "ticks": ""
           }
          },
          "colorscale": {
           "diverging": [
            [
             0,
             "#8e0152"
            ],
            [
             0.1,
             "#c51b7d"
            ],
            [
             0.2,
             "#de77ae"
            ],
            [
             0.3,
             "#f1b6da"
            ],
            [
             0.4,
             "#fde0ef"
            ],
            [
             0.5,
             "#f7f7f7"
            ],
            [
             0.6,
             "#e6f5d0"
            ],
            [
             0.7,
             "#b8e186"
            ],
            [
             0.8,
             "#7fbc41"
            ],
            [
             0.9,
             "#4d9221"
            ],
            [
             1,
             "#276419"
            ]
           ],
           "sequential": [
            [
             0,
             "#0d0887"
            ],
            [
             0.1111111111111111,
             "#46039f"
            ],
            [
             0.2222222222222222,
             "#7201a8"
            ],
            [
             0.3333333333333333,
             "#9c179e"
            ],
            [
             0.4444444444444444,
             "#bd3786"
            ],
            [
             0.5555555555555556,
             "#d8576b"
            ],
            [
             0.6666666666666666,
             "#ed7953"
            ],
            [
             0.7777777777777778,
             "#fb9f3a"
            ],
            [
             0.8888888888888888,
             "#fdca26"
            ],
            [
             1,
             "#f0f921"
            ]
           ],
           "sequentialminus": [
            [
             0,
             "#0d0887"
            ],
            [
             0.1111111111111111,
             "#46039f"
            ],
            [
             0.2222222222222222,
             "#7201a8"
            ],
            [
             0.3333333333333333,
             "#9c179e"
            ],
            [
             0.4444444444444444,
             "#bd3786"
            ],
            [
             0.5555555555555556,
             "#d8576b"
            ],
            [
             0.6666666666666666,
             "#ed7953"
            ],
            [
             0.7777777777777778,
             "#fb9f3a"
            ],
            [
             0.8888888888888888,
             "#fdca26"
            ],
            [
             1,
             "#f0f921"
            ]
           ]
          },
          "colorway": [
           "#636efa",
           "#EF553B",
           "#00cc96",
           "#ab63fa",
           "#FFA15A",
           "#19d3f3",
           "#FF6692",
           "#B6E880",
           "#FF97FF",
           "#FECB52"
          ],
          "font": {
           "color": "#f2f5fa"
          },
          "geo": {
           "bgcolor": "rgb(17,17,17)",
           "lakecolor": "rgb(17,17,17)",
           "landcolor": "rgb(17,17,17)",
           "showlakes": true,
           "showland": true,
           "subunitcolor": "#506784"
          },
          "hoverlabel": {
           "align": "left"
          },
          "hovermode": "closest",
          "mapbox": {
           "style": "dark"
          },
          "paper_bgcolor": "rgb(17,17,17)",
          "plot_bgcolor": "rgb(17,17,17)",
          "polar": {
           "angularaxis": {
            "gridcolor": "#506784",
            "linecolor": "#506784",
            "ticks": ""
           },
           "bgcolor": "rgb(17,17,17)",
           "radialaxis": {
            "gridcolor": "#506784",
            "linecolor": "#506784",
            "ticks": ""
           }
          },
          "scene": {
           "xaxis": {
            "backgroundcolor": "rgb(17,17,17)",
            "gridcolor": "#506784",
            "gridwidth": 2,
            "linecolor": "#506784",
            "showbackground": true,
            "ticks": "",
            "zerolinecolor": "#C8D4E3"
           },
           "yaxis": {
            "backgroundcolor": "rgb(17,17,17)",
            "gridcolor": "#506784",
            "gridwidth": 2,
            "linecolor": "#506784",
            "showbackground": true,
            "ticks": "",
            "zerolinecolor": "#C8D4E3"
           },
           "zaxis": {
            "backgroundcolor": "rgb(17,17,17)",
            "gridcolor": "#506784",
            "gridwidth": 2,
            "linecolor": "#506784",
            "showbackground": true,
            "ticks": "",
            "zerolinecolor": "#C8D4E3"
           }
          },
          "shapedefaults": {
           "line": {
            "color": "#f2f5fa"
           }
          },
          "sliderdefaults": {
           "bgcolor": "#C8D4E3",
           "bordercolor": "rgb(17,17,17)",
           "borderwidth": 1,
           "tickwidth": 0
          },
          "ternary": {
           "aaxis": {
            "gridcolor": "#506784",
            "linecolor": "#506784",
            "ticks": ""
           },
           "baxis": {
            "gridcolor": "#506784",
            "linecolor": "#506784",
            "ticks": ""
           },
           "bgcolor": "rgb(17,17,17)",
           "caxis": {
            "gridcolor": "#506784",
            "linecolor": "#506784",
            "ticks": ""
           }
          },
          "title": {
           "x": 0.05
          },
          "updatemenudefaults": {
           "bgcolor": "#506784",
           "borderwidth": 0
          },
          "xaxis": {
           "automargin": true,
           "gridcolor": "#283442",
           "linecolor": "#506784",
           "ticks": "",
           "title": {
            "standoff": 15
           },
           "zerolinecolor": "#283442",
           "zerolinewidth": 2
          },
          "yaxis": {
           "automargin": true,
           "gridcolor": "#283442",
           "linecolor": "#506784",
           "ticks": "",
           "title": {
            "standoff": 15
           },
           "zerolinecolor": "#283442",
           "zerolinewidth": 2
          }
         }
        },
        "title": {
         "text": "Music of Dark"
        },
        "xaxis": {
         "anchor": "y",
         "domain": [
          0,
          1
         ],
         "gridcolor": "grey",
         "griddash": "dot",
         "rangeslider": {
          "thickness": 0.1,
          "visible": true
         },
         "showgrid": true,
         "tickformat": "%H:%M:%S",
         "title": {
          "text": "Time"
         },
         "type": "date"
        },
        "yaxis": {
         "anchor": "x",
         "autorange": "reversed",
         "categoryorder": "category ascending",
         "domain": [
          0,
          1
         ],
         "title": {
          "text": "Episode"
         }
        }
       }
      }
     },
     "metadata": {},
     "output_type": "display_data"
    }
   ],
   "source": [
    "fig = px.timeline(data_s01e01, x_start='interval_start',\n",
    "                            x_end='interval_end',\n",
    "                            y='season00episode00',\n",
    "                            # color='sdh_comment',\n",
    "                            text='sdh_comment'\n",
    "                            # ,template=\"xgridoff\"\n",
    "                            ,template='plotly_dark'\n",
    "                            ,color_discrete_sequence=[\"rgb(120,130,90)\"]                            \n",
    "                            ,hover_name=\"sdh_comment\"\n",
    "                            ,hover_data={'sdh_comment':False,'interval_end':False}\n",
    "                            ,height=600\n",
    "                            )\n",
    "\n",
    "fig.update_xaxes(tickformat=\"%H:%M:%S\",\n",
    "                showgrid=True, griddash='dot', gridcolor='grey',\n",
    "                rangeslider=dict(visible=True,\n",
    "                # ,bgcolor=\"white\"\n",
    "                )\n",
    "                ,rangeslider_thickness = 0.1 #fraction of the whole fig heigth\n",
    "                )\n",
    "# https://plotly.com/python/reference/layout/xaxis/#layout-xaxis-rangeslider\n",
    "\n",
    "fig.update_yaxes(autorange=\"reversed\",categoryorder='category ascending')\n",
    "\n",
    "# shapes were added in the background for more readability\n",
    "for episode in data_s01e01.season00episode00.drop_duplicates():\n",
    "    fig.add_hrect(y0=episode, y1=episode, line_width=30, fillcolor=\"black\", opacity=0.03,layer=\"below\")\n",
    "\n",
    "fig.update_traces(textfont_size=8, textangle=0)\n",
    "fig.update_layout(title=\"Music of Dark\",xaxis_title=\"Time\",yaxis_title=\"Episode\",bargap=0,\n",
    "                font_family=\"Courier New\",\n",
    "                font_color=\"white\",\n",
    "                # title_font_family=\"Times New Roman\",\n",
    "                # title_font_color=\"white\"\n",
    "                )\n",
    "fig.show()"
   ]
  },
  {
   "cell_type": "code",
   "execution_count": 155,
   "metadata": {},
   "outputs": [
    {
     "data": {
      "text/html": [
       "<div>\n",
       "<style scoped>\n",
       "    .dataframe tbody tr th:only-of-type {\n",
       "        vertical-align: middle;\n",
       "    }\n",
       "\n",
       "    .dataframe tbody tr th {\n",
       "        vertical-align: top;\n",
       "    }\n",
       "\n",
       "    .dataframe thead th {\n",
       "        text-align: right;\n",
       "    }\n",
       "</style>\n",
       "<table border=\"1\" class=\"dataframe\">\n",
       "  <thead>\n",
       "    <tr style=\"text-align: right;\">\n",
       "      <th></th>\n",
       "      <th>sdh_comment</th>\n",
       "      <th>interval_start</th>\n",
       "      <th>interval_end</th>\n",
       "      <th>interval_minute</th>\n",
       "      <th>episode</th>\n",
       "      <th>season</th>\n",
       "      <th>season00episode00</th>\n",
       "    </tr>\n",
       "  </thead>\n",
       "  <tbody>\n",
       "    <tr>\n",
       "      <th>0</th>\n",
       "      <td>düster-melancholische Musik</td>\n",
       "      <td>1900-01-01 00:00:13</td>\n",
       "      <td>1900-01-01 00:00:16</td>\n",
       "      <td>0</td>\n",
       "      <td>2</td>\n",
       "      <td>3</td>\n",
       "      <td>S03E02</td>\n",
       "    </tr>\n",
       "    <tr>\n",
       "      <th>6</th>\n",
       "      <td>düstere Musik</td>\n",
       "      <td>1900-01-01 00:01:41</td>\n",
       "      <td>1900-01-01 00:01:46</td>\n",
       "      <td>1</td>\n",
       "      <td>2</td>\n",
       "      <td>3</td>\n",
       "      <td>S03E02</td>\n",
       "    </tr>\n",
       "    <tr>\n",
       "      <th>18</th>\n",
       "      <td>bedrohliche Streichermusik</td>\n",
       "      <td>1900-01-01 00:06:39</td>\n",
       "      <td>1900-01-01 00:06:43</td>\n",
       "      <td>6</td>\n",
       "      <td>2</td>\n",
       "      <td>3</td>\n",
       "      <td>S03E02</td>\n",
       "    </tr>\n",
       "    <tr>\n",
       "      <th>46</th>\n",
       "      <td>düstere Musik</td>\n",
       "      <td>1900-01-01 00:20:23</td>\n",
       "      <td>1900-01-01 00:20:27</td>\n",
       "      <td>20</td>\n",
       "      <td>2</td>\n",
       "      <td>3</td>\n",
       "      <td>S03E02</td>\n",
       "    </tr>\n",
       "    <tr>\n",
       "      <th>94</th>\n",
       "      <td>Musik verstummt</td>\n",
       "      <td>1900-01-01 00:48:14</td>\n",
       "      <td>1900-01-01 00:48:15</td>\n",
       "      <td>48</td>\n",
       "      <td>2</td>\n",
       "      <td>3</td>\n",
       "      <td>S03E02</td>\n",
       "    </tr>\n",
       "    <tr>\n",
       "      <th>...</th>\n",
       "      <td>...</td>\n",
       "      <td>...</td>\n",
       "      <td>...</td>\n",
       "      <td>...</td>\n",
       "      <td>...</td>\n",
       "      <td>...</td>\n",
       "      <td>...</td>\n",
       "    </tr>\n",
       "    <tr>\n",
       "      <th>2433</th>\n",
       "      <td>düstere Musik</td>\n",
       "      <td>1900-01-01 00:29:39</td>\n",
       "      <td>1900-01-01 00:29:41</td>\n",
       "      <td>29</td>\n",
       "      <td>9</td>\n",
       "      <td>1</td>\n",
       "      <td>S01E09</td>\n",
       "    </tr>\n",
       "    <tr>\n",
       "      <th>2435</th>\n",
       "      <td>Musik verstummt</td>\n",
       "      <td>1900-01-01 00:29:59</td>\n",
       "      <td>1900-01-01 00:30:01</td>\n",
       "      <td>29</td>\n",
       "      <td>9</td>\n",
       "      <td>1</td>\n",
       "      <td>S01E09</td>\n",
       "    </tr>\n",
       "    <tr>\n",
       "      <th>2467</th>\n",
       "      <td>melancholische Musik</td>\n",
       "      <td>1900-01-01 00:40:46</td>\n",
       "      <td>1900-01-01 00:40:48</td>\n",
       "      <td>40</td>\n",
       "      <td>9</td>\n",
       "      <td>1</td>\n",
       "      <td>S01E09</td>\n",
       "    </tr>\n",
       "    <tr>\n",
       "      <th>2473</th>\n",
       "      <td>melancholische Musik</td>\n",
       "      <td>1900-01-01 00:45:51</td>\n",
       "      <td>1900-01-01 00:45:53</td>\n",
       "      <td>45</td>\n",
       "      <td>9</td>\n",
       "      <td>1</td>\n",
       "      <td>S01E09</td>\n",
       "    </tr>\n",
       "    <tr>\n",
       "      <th>2486</th>\n",
       "      <td>dynamische Musik</td>\n",
       "      <td>1900-01-01 00:49:18</td>\n",
       "      <td>1900-01-01 00:49:21</td>\n",
       "      <td>49</td>\n",
       "      <td>9</td>\n",
       "      <td>1</td>\n",
       "      <td>S01E09</td>\n",
       "    </tr>\n",
       "  </tbody>\n",
       "</table>\n",
       "<p>363 rows × 7 columns</p>\n",
       "</div>"
      ],
      "text/plain": [
       "                      sdh_comment      interval_start        interval_end  \\\n",
       "0     düster-melancholische Musik 1900-01-01 00:00:13 1900-01-01 00:00:16   \n",
       "6                   düstere Musik 1900-01-01 00:01:41 1900-01-01 00:01:46   \n",
       "18     bedrohliche Streichermusik 1900-01-01 00:06:39 1900-01-01 00:06:43   \n",
       "46                  düstere Musik 1900-01-01 00:20:23 1900-01-01 00:20:27   \n",
       "94                Musik verstummt 1900-01-01 00:48:14 1900-01-01 00:48:15   \n",
       "...                           ...                 ...                 ...   \n",
       "2433                düstere Musik 1900-01-01 00:29:39 1900-01-01 00:29:41   \n",
       "2435              Musik verstummt 1900-01-01 00:29:59 1900-01-01 00:30:01   \n",
       "2467         melancholische Musik 1900-01-01 00:40:46 1900-01-01 00:40:48   \n",
       "2473         melancholische Musik 1900-01-01 00:45:51 1900-01-01 00:45:53   \n",
       "2486             dynamische Musik 1900-01-01 00:49:18 1900-01-01 00:49:21   \n",
       "\n",
       "      interval_minute episode season season00episode00  \n",
       "0                   0       2      3            S03E02  \n",
       "6                   1       2      3            S03E02  \n",
       "18                  6       2      3            S03E02  \n",
       "46                 20       2      3            S03E02  \n",
       "94                 48       2      3            S03E02  \n",
       "...               ...     ...    ...               ...  \n",
       "2433               29       9      1            S01E09  \n",
       "2435               29       9      1            S01E09  \n",
       "2467               40       9      1            S01E09  \n",
       "2473               45       9      1            S01E09  \n",
       "2486               49       9      1            S01E09  \n",
       "\n",
       "[363 rows x 7 columns]"
      ]
     },
     "execution_count": 155,
     "metadata": {},
     "output_type": "execute_result"
    }
   ],
   "source": [
    "# idea: make color=season, plot based on episode number only\n",
    "data = data[data.sdh_comment.str.lower().str.contains('musik')]\n",
    "data.episode = data.episode.astype('str')\n",
    "data.season = data.season.astype('str')\n",
    "# |klavierspiel|klänge\n",
    "data"
   ]
  },
  {
   "cell_type": "code",
   "execution_count": 191,
   "metadata": {},
   "outputs": [
    {
     "data": {
      "application/vnd.plotly.v1+json": {
       "config": {
        "plotlyServerURL": "https://plot.ly"
       },
       "data": [
        {
         "alignmentgroup": "True",
         "base": [
          "1900-01-01T00:00:06",
          "1900-01-01T00:00:17",
          "1900-01-01T00:00:27",
          "1900-01-01T00:02:39",
          "1900-01-01T00:02:51",
          "1900-01-01T00:05:59",
          "1900-01-01T00:06:06",
          "1900-01-01T00:12:29",
          "1900-01-01T00:14:49",
          "1900-01-01T00:26:19",
          "1900-01-01T00:26:51",
          "1900-01-01T00:28:12",
          "1900-01-01T00:32:34",
          "1900-01-01T00:35:26",
          "1900-01-01T00:40:57",
          "1900-01-01T00:42:43",
          "1900-01-01T00:15:29",
          "1900-01-01T00:16:33",
          "1900-01-01T00:18:41",
          "1900-01-01T00:37:24",
          "1900-01-01T00:37:42",
          "1900-01-01T00:39:53",
          "1900-01-01T00:40:43",
          "1900-01-01T00:03:21",
          "1900-01-01T00:08:11",
          "1900-01-01T00:14:40",
          "1900-01-01T00:15:08",
          "1900-01-01T00:16:16",
          "1900-01-01T00:17:59",
          "1900-01-01T00:18:53",
          "1900-01-01T00:21:13",
          "1900-01-01T00:23:14",
          "1900-01-01T00:23:38",
          "1900-01-01T00:23:53",
          "1900-01-01T00:24:34",
          "1900-01-01T00:27:02",
          "1900-01-01T00:36:45",
          "1900-01-01T00:37:06",
          "1900-01-01T00:44:16",
          "1900-01-01T00:00:32",
          "1900-01-01T00:02:51",
          "1900-01-01T00:03:01",
          "1900-01-01T00:04:41",
          "1900-01-01T00:05:08",
          "1900-01-01T00:07:09",
          "1900-01-01T00:07:45",
          "1900-01-01T00:07:55",
          "1900-01-01T00:09:21",
          "1900-01-01T00:11:36",
          "1900-01-01T00:21:15",
          "1900-01-01T00:27:36",
          "1900-01-01T00:29:10",
          "1900-01-01T00:40:25",
          "1900-01-01T00:43:19",
          "1900-01-01T00:44:03",
          "1900-01-01T00:45:14",
          "1900-01-01T00:49:51",
          "1900-01-01T00:50:00",
          "1900-01-01T00:53:17",
          "1900-01-01T00:00:08",
          "1900-01-01T00:00:35",
          "1900-01-01T00:01:18",
          "1900-01-01T00:01:34",
          "1900-01-01T00:10:36",
          "1900-01-01T00:24:18",
          "1900-01-01T00:25:12",
          "1900-01-01T00:26:28",
          "1900-01-01T00:27:05",
          "1900-01-01T00:30:13",
          "1900-01-01T00:36:41",
          "1900-01-01T00:09:35",
          "1900-01-01T00:09:47",
          "1900-01-01T00:09:52",
          "1900-01-01T00:19:02",
          "1900-01-01T00:23:07",
          "1900-01-01T00:29:43",
          "1900-01-01T00:35:29",
          "1900-01-01T00:41:39",
          "1900-01-01T00:42:00",
          "1900-01-01T00:42:40",
          "1900-01-01T00:43:12",
          "1900-01-01T00:47:38",
          "1900-01-01T00:17:25",
          "1900-01-01T00:19:35",
          "1900-01-01T00:33:41",
          "1900-01-01T00:37:11",
          "1900-01-01T00:38:47",
          "1900-01-01T00:39:33",
          "1900-01-01T00:01:06",
          "1900-01-01T00:11:38",
          "1900-01-01T00:12:22",
          "1900-01-01T00:17:30",
          "1900-01-01T00:17:56",
          "1900-01-01T00:18:16",
          "1900-01-01T00:20:17",
          "1900-01-01T00:21:48",
          "1900-01-01T00:27:48",
          "1900-01-01T00:32:33",
          "1900-01-01T00:34:16",
          "1900-01-01T00:35:47",
          "1900-01-01T00:38:15",
          "1900-01-01T00:41:54",
          "1900-01-01T00:01:30",
          "1900-01-01T00:06:54",
          "1900-01-01T00:11:19",
          "1900-01-01T00:11:44",
          "1900-01-01T00:12:05",
          "1900-01-01T00:14:06",
          "1900-01-01T00:15:33",
          "1900-01-01T00:15:49",
          "1900-01-01T00:17:06",
          "1900-01-01T00:18:21",
          "1900-01-01T00:22:12",
          "1900-01-01T00:25:15",
          "1900-01-01T00:27:21",
          "1900-01-01T00:27:40",
          "1900-01-01T00:28:19",
          "1900-01-01T00:28:33",
          "1900-01-01T00:28:52",
          "1900-01-01T00:31:10",
          "1900-01-01T00:35:55",
          "1900-01-01T00:36:16",
          "1900-01-01T00:36:41",
          "1900-01-01T00:37:03",
          "1900-01-01T00:37:37",
          "1900-01-01T00:39:52",
          "1900-01-01T00:45:34",
          "1900-01-01T00:45:40",
          "1900-01-01T00:46:51",
          "1900-01-01T00:47:08",
          "1900-01-01T00:10:19",
          "1900-01-01T00:10:44",
          "1900-01-01T00:26:27",
          "1900-01-01T00:29:39",
          "1900-01-01T00:29:59",
          "1900-01-01T00:40:46",
          "1900-01-01T00:45:51",
          "1900-01-01T00:49:18"
         ],
         "customdata": [
          [
           "ruhige Klaviermusik"
          ],
          [
           "ruhige spieluhrartige Musik"
          ],
          [
           "Musik wird zunehmend dissonant"
          ],
          [
           "ruhige beklemmende Musik"
          ],
          [
           "Ruhige beklemmende Musik läuft weiter"
          ],
          [
           "Die Musik spielt weiter"
          ],
          [
           "Musik verstummt"
          ],
          [
           "Schlagermusik aus dem Autoradio"
          ],
          [
           "Popmusik aus dem Autoradio"
          ],
          [
           "sphärische Musik"
          ],
          [
           "Sphärische Musik läuft weiter"
          ],
          [
           "melancholische Musik"
          ],
          [
           "melancholische Musik"
          ],
          [
           "bedrohliche Musik"
          ],
          [
           "bedrohliche Musik"
          ],
          [
           "traurige Musik"
          ],
          [
           "geheimnisvolle Musik"
          ],
          [
           "spannungsvolle Musik"
          ],
          [
           "bedrohliche Musik"
          ],
          [
           "unheilvolle Musik"
          ],
          [
           "bedrohliche Musik"
          ],
          [
           "Bedrohliche Musik steigert sich"
          ],
          [
           "melancholische Klaviermusik"
          ],
          [
           "triste Musik"
          ],
          [
           "finstere Musik"
          ],
          [
           "angespannte Musik"
          ],
          [
           "düstere Musik"
          ],
          [
           "spannungsvolle Musik"
          ],
          [
           "düstere Musik"
          ],
          [
           "geheimnisvolle Musik"
          ],
          [
           "düstere pulsierende Musik"
          ],
          [
           "spannungsvolle langsame Musik"
          ],
          [
           "Spannungsvolle Musik wird langsam lauter"
          ],
          [
           "Spannungsvolle Musik steigert sich"
          ],
          [
           "Musik verstummt"
          ],
          [
           "angespannte Musik"
          ],
          [
           "beklemmende Musik"
          ],
          [
           "unheilvolle Musik"
          ],
          [
           "spannungsgeladene Musik"
          ],
          [
           "beklemmende Musik"
          ],
          [
           "beklemmende Musik"
          ],
          [
           "düstere Musik"
          ],
          [
           "spannungsvolle Musik"
          ],
          [
           "spannungsvolle Musik"
          ],
          [
           "unheimliche Musik"
          ],
          [
           "angespannte Musik"
          ],
          [
           "düstere Musik"
          ],
          [
           "spannungsvolle elektronische Musik"
          ],
          [
           "ruhige rätselhafte Musik"
          ],
          [
           "geheimnisvolle Musik"
          ],
          [
           "düstere Musik"
          ],
          [
           "unheimliche Musik"
          ],
          [
           "unheimliche Musik"
          ],
          [
           "düstere Musik"
          ],
          [
           "beklemmende Musik"
          ],
          [
           "ruhige Gitarrenmusik"
          ],
          [
           "ruhige spieluhrartige Musik"
          ],
          [
           "Musik wird zunehmend dissonant"
          ],
          [
           "spannungsvolle Musik"
          ],
          [
           "ruhige geheimnisvolle Musik"
          ],
          [
           "Ruhige Musik läuft weiter"
          ],
          [
           "Ruhige Musik wird lauter"
          ],
          [
           "Ruhige Musik verstummt langsam"
          ],
          [
           "angespannte Musik"
          ],
          [
           "angespannte Musik"
          ],
          [
           "verträumte Musik"
          ],
          [
           "Verträumte Musik läuft weiter"
          ],
          [
           "Verträumte Musik verstummt"
          ],
          [
           "beklemmende Musik"
          ],
          [
           "traurige Musik"
          ],
          [
           "ruhige A-cappella-Musik"
          ],
          [
           "A-cappella-Musik wird lauter"
          ],
          [
           "Musik verstummt"
          ],
          [
           "spannungsvolle Musik"
          ],
          [
           "fröhliche Popmusik"
          ],
          [
           "geheimnisvolle Musik"
          ],
          [
           "düstere Musik"
          ],
          [
           "melancholische Klaviermusik"
          ],
          [
           "Melancholische Musik läuft weiter"
          ],
          [
           "Melancholische Musik läuft weiter"
          ],
          [
           "Musik verstummt"
          ],
          [
           "leise Popmusik"
          ],
          [
           "spannungsvolle Musik"
          ],
          [
           "Musik läuft weiter"
          ],
          [
           "bedrohliche Musik"
          ],
          [
           "sphärische leicht unruhige Musik"
          ],
          [
           "Musik verstummt"
          ],
          [
           "düstere Musik"
          ],
          [
           "bedrohliche Musik"
          ],
          [
           "fröhliche Popmusik im Radio"
          ],
          [
           "Radiomusik verstummt"
          ],
          [
           "laute Heavy-Metal-Musik"
          ],
          [
           "laute Heavy-Metal-Musik"
          ],
          [
           "laute Heavy-Metal-Musik"
          ],
          [
           "laute Heavy-Metal-Musik"
          ],
          [
           "traurige Musik"
          ],
          [
           "spannungsvolle Musik"
          ],
          [
           "melancholische Musik"
          ],
          [
           "getragene Instrumentalmusik"
          ],
          [
           "ruhige Klaviermusik"
          ],
          [
           "Die Musik geht weiter"
          ],
          [
           "spannungsvolle Musik"
          ],
          [
           "unheimliche Musik"
          ],
          [
           "heitere Musik aus dem Haus"
          ],
          [
           "spannungsvolle Musik"
          ],
          [
           "unheimliche Musik"
          ],
          [
           "geheimnisvolle Musik"
          ],
          [
           "düstere Musik"
          ],
          [
           "düstere Musik"
          ],
          [
           "geheimnisvolle Musik"
          ],
          [
           "rhythmische A-cappella-Musik"
          ],
          [
           "A-cappella-Musik wird ruhiger"
          ],
          [
           "laute Musik aus dem Radio"
          ],
          [
           "düstere Musik"
          ],
          [
           "beklemmende Musik"
          ],
          [
           "finstere Musik"
          ],
          [
           "unheimliche Musik"
          ],
          [
           "Unheimliche Musik wird lauter"
          ],
          [
           "unheimliche Musik"
          ],
          [
           "leise Musik vom Plattenspieler"
          ],
          [
           "beklemmende Musik"
          ],
          [
           "rhythmische bedrohliche Musik"
          ],
          [
           "Rhythmische bedrohliche Musik läuft weiter"
          ],
          [
           "Bedrohliche Musik verstummt"
          ],
          [
           "schwungvolle Musik"
          ],
          [
           "düstere Musik"
          ],
          [
           "rätselhafte Musik"
          ],
          [
           "Rätselhafte Musik läuft weiter"
          ],
          [
           "Rätselhafte Musik läuft weiter"
          ],
          [
           "Musik verstummt"
          ],
          [
           "bedrohliche rhythmische Musik"
          ],
          [
           "Bedrohliche Musik läuft weiter"
          ],
          [
           "spannungsvolle Musik"
          ],
          [
           "düstere Musik"
          ],
          [
           "Musik verstummt"
          ],
          [
           "melancholische Musik"
          ],
          [
           "melancholische Musik"
          ],
          [
           "dynamische Musik"
          ]
         ],
         "hovertemplate": "<b>%{hovertext}</b><br><br>season=1<br>interval_start=%{base}<br>episode=%{y}<extra></extra>",
         "hovertext": [
          "ruhige Klaviermusik",
          "ruhige spieluhrartige Musik",
          "Musik wird zunehmend dissonant",
          "ruhige beklemmende Musik",
          "Ruhige beklemmende Musik läuft weiter",
          "Die Musik spielt weiter",
          "Musik verstummt",
          "Schlagermusik aus dem Autoradio",
          "Popmusik aus dem Autoradio",
          "sphärische Musik",
          "Sphärische Musik läuft weiter",
          "melancholische Musik",
          "melancholische Musik",
          "bedrohliche Musik",
          "bedrohliche Musik",
          "traurige Musik",
          "geheimnisvolle Musik",
          "spannungsvolle Musik",
          "bedrohliche Musik",
          "unheilvolle Musik",
          "bedrohliche Musik",
          "Bedrohliche Musik steigert sich",
          "melancholische Klaviermusik",
          "triste Musik",
          "finstere Musik",
          "angespannte Musik",
          "düstere Musik",
          "spannungsvolle Musik",
          "düstere Musik",
          "geheimnisvolle Musik",
          "düstere pulsierende Musik",
          "spannungsvolle langsame Musik",
          "Spannungsvolle Musik wird langsam lauter",
          "Spannungsvolle Musik steigert sich",
          "Musik verstummt",
          "angespannte Musik",
          "beklemmende Musik",
          "unheilvolle Musik",
          "spannungsgeladene Musik",
          "beklemmende Musik",
          "beklemmende Musik",
          "düstere Musik",
          "spannungsvolle Musik",
          "spannungsvolle Musik",
          "unheimliche Musik",
          "angespannte Musik",
          "düstere Musik",
          "spannungsvolle elektronische Musik",
          "ruhige rätselhafte Musik",
          "geheimnisvolle Musik",
          "düstere Musik",
          "unheimliche Musik",
          "unheimliche Musik",
          "düstere Musik",
          "beklemmende Musik",
          "ruhige Gitarrenmusik",
          "ruhige spieluhrartige Musik",
          "Musik wird zunehmend dissonant",
          "spannungsvolle Musik",
          "ruhige geheimnisvolle Musik",
          "Ruhige Musik läuft weiter",
          "Ruhige Musik wird lauter",
          "Ruhige Musik verstummt langsam",
          "angespannte Musik",
          "angespannte Musik",
          "verträumte Musik",
          "Verträumte Musik läuft weiter",
          "Verträumte Musik verstummt",
          "beklemmende Musik",
          "traurige Musik",
          "ruhige A-cappella-Musik",
          "A-cappella-Musik wird lauter",
          "Musik verstummt",
          "spannungsvolle Musik",
          "fröhliche Popmusik",
          "geheimnisvolle Musik",
          "düstere Musik",
          "melancholische Klaviermusik",
          "Melancholische Musik läuft weiter",
          "Melancholische Musik läuft weiter",
          "Musik verstummt",
          "leise Popmusik",
          "spannungsvolle Musik",
          "Musik läuft weiter",
          "bedrohliche Musik",
          "sphärische leicht unruhige Musik",
          "Musik verstummt",
          "düstere Musik",
          "bedrohliche Musik",
          "fröhliche Popmusik im Radio",
          "Radiomusik verstummt",
          "laute Heavy-Metal-Musik",
          "laute Heavy-Metal-Musik",
          "laute Heavy-Metal-Musik",
          "laute Heavy-Metal-Musik",
          "traurige Musik",
          "spannungsvolle Musik",
          "melancholische Musik",
          "getragene Instrumentalmusik",
          "ruhige Klaviermusik",
          "Die Musik geht weiter",
          "spannungsvolle Musik",
          "unheimliche Musik",
          "heitere Musik aus dem Haus",
          "spannungsvolle Musik",
          "unheimliche Musik",
          "geheimnisvolle Musik",
          "düstere Musik",
          "düstere Musik",
          "geheimnisvolle Musik",
          "rhythmische A-cappella-Musik",
          "A-cappella-Musik wird ruhiger",
          "laute Musik aus dem Radio",
          "düstere Musik",
          "beklemmende Musik",
          "finstere Musik",
          "unheimliche Musik",
          "Unheimliche Musik wird lauter",
          "unheimliche Musik",
          "leise Musik vom Plattenspieler",
          "beklemmende Musik",
          "rhythmische bedrohliche Musik",
          "Rhythmische bedrohliche Musik läuft weiter",
          "Bedrohliche Musik verstummt",
          "schwungvolle Musik",
          "düstere Musik",
          "rätselhafte Musik",
          "Rätselhafte Musik läuft weiter",
          "Rätselhafte Musik läuft weiter",
          "Musik verstummt",
          "bedrohliche rhythmische Musik",
          "Bedrohliche Musik läuft weiter",
          "spannungsvolle Musik",
          "düstere Musik",
          "Musik verstummt",
          "melancholische Musik",
          "melancholische Musik",
          "dynamische Musik"
         ],
         "legendgroup": "1",
         "marker": {
          "color": "rgb(153,153,51)",
          "pattern": {
           "shape": ""
          }
         },
         "name": "1",
         "offsetgroup": "1",
         "orientation": "h",
         "showlegend": true,
         "text": [
          "ruhige Klaviermusik",
          "ruhige spieluhrartige Musik",
          "Musik wird zunehmend dissonant",
          "ruhige beklemmende Musik",
          "Ruhige beklemmende Musik läuft weiter",
          "Die Musik spielt weiter",
          "Musik verstummt",
          "Schlagermusik aus dem Autoradio",
          "Popmusik aus dem Autoradio",
          "sphärische Musik",
          "Sphärische Musik läuft weiter",
          "melancholische Musik",
          "melancholische Musik",
          "bedrohliche Musik",
          "bedrohliche Musik",
          "traurige Musik",
          "geheimnisvolle Musik",
          "spannungsvolle Musik",
          "bedrohliche Musik",
          "unheilvolle Musik",
          "bedrohliche Musik",
          "Bedrohliche Musik steigert sich",
          "melancholische Klaviermusik",
          "triste Musik",
          "finstere Musik",
          "angespannte Musik",
          "düstere Musik",
          "spannungsvolle Musik",
          "düstere Musik",
          "geheimnisvolle Musik",
          "düstere pulsierende Musik",
          "spannungsvolle langsame Musik",
          "Spannungsvolle Musik wird langsam lauter",
          "Spannungsvolle Musik steigert sich",
          "Musik verstummt",
          "angespannte Musik",
          "beklemmende Musik",
          "unheilvolle Musik",
          "spannungsgeladene Musik",
          "beklemmende Musik",
          "beklemmende Musik",
          "düstere Musik",
          "spannungsvolle Musik",
          "spannungsvolle Musik",
          "unheimliche Musik",
          "angespannte Musik",
          "düstere Musik",
          "spannungsvolle elektronische Musik",
          "ruhige rätselhafte Musik",
          "geheimnisvolle Musik",
          "düstere Musik",
          "unheimliche Musik",
          "unheimliche Musik",
          "düstere Musik",
          "beklemmende Musik",
          "ruhige Gitarrenmusik",
          "ruhige spieluhrartige Musik",
          "Musik wird zunehmend dissonant",
          "spannungsvolle Musik",
          "ruhige geheimnisvolle Musik",
          "Ruhige Musik läuft weiter",
          "Ruhige Musik wird lauter",
          "Ruhige Musik verstummt langsam",
          "angespannte Musik",
          "angespannte Musik",
          "verträumte Musik",
          "Verträumte Musik läuft weiter",
          "Verträumte Musik verstummt",
          "beklemmende Musik",
          "traurige Musik",
          "ruhige A-cappella-Musik",
          "A-cappella-Musik wird lauter",
          "Musik verstummt",
          "spannungsvolle Musik",
          "fröhliche Popmusik",
          "geheimnisvolle Musik",
          "düstere Musik",
          "melancholische Klaviermusik",
          "Melancholische Musik läuft weiter",
          "Melancholische Musik läuft weiter",
          "Musik verstummt",
          "leise Popmusik",
          "spannungsvolle Musik",
          "Musik läuft weiter",
          "bedrohliche Musik",
          "sphärische leicht unruhige Musik",
          "Musik verstummt",
          "düstere Musik",
          "bedrohliche Musik",
          "fröhliche Popmusik im Radio",
          "Radiomusik verstummt",
          "laute Heavy-Metal-Musik",
          "laute Heavy-Metal-Musik",
          "laute Heavy-Metal-Musik",
          "laute Heavy-Metal-Musik",
          "traurige Musik",
          "spannungsvolle Musik",
          "melancholische Musik",
          "getragene Instrumentalmusik",
          "ruhige Klaviermusik",
          "Die Musik geht weiter",
          "spannungsvolle Musik",
          "unheimliche Musik",
          "heitere Musik aus dem Haus",
          "spannungsvolle Musik",
          "unheimliche Musik",
          "geheimnisvolle Musik",
          "düstere Musik",
          "düstere Musik",
          "geheimnisvolle Musik",
          "rhythmische A-cappella-Musik",
          "A-cappella-Musik wird ruhiger",
          "laute Musik aus dem Radio",
          "düstere Musik",
          "beklemmende Musik",
          "finstere Musik",
          "unheimliche Musik",
          "Unheimliche Musik wird lauter",
          "unheimliche Musik",
          "leise Musik vom Plattenspieler",
          "beklemmende Musik",
          "rhythmische bedrohliche Musik",
          "Rhythmische bedrohliche Musik läuft weiter",
          "Bedrohliche Musik verstummt",
          "schwungvolle Musik",
          "düstere Musik",
          "rätselhafte Musik",
          "Rätselhafte Musik läuft weiter",
          "Rätselhafte Musik läuft weiter",
          "Musik verstummt",
          "bedrohliche rhythmische Musik",
          "Bedrohliche Musik läuft weiter",
          "spannungsvolle Musik",
          "düstere Musik",
          "Musik verstummt",
          "melancholische Musik",
          "melancholische Musik",
          "dynamische Musik"
         ],
         "textangle": 0,
         "textfont": {
          "size": 8
         },
         "textposition": "none",
         "type": "bar",
         "x": [
          2000,
          3000,
          2000,
          3000,
          2000,
          1000,
          3000,
          2000,
          2000,
          3000,
          2000,
          2000,
          2000,
          2000,
          2000,
          2000,
          4000,
          2000,
          3000,
          3000,
          3000,
          2000,
          3000,
          2000,
          2000,
          2000,
          1000,
          3000,
          2000,
          2000,
          2000,
          3000,
          3000,
          2000,
          2000,
          2000,
          2000,
          2000,
          4000,
          2000,
          2000,
          2000,
          2000,
          2000,
          2000,
          2000,
          3000,
          3000,
          2000,
          4000,
          3000,
          2000,
          2000,
          2000,
          2000,
          3000,
          2000,
          3000,
          2000,
          2000,
          3000,
          3000,
          3000,
          2000,
          3000,
          3000,
          1000,
          2000,
          2000,
          3000,
          3000,
          2000,
          1000,
          2000,
          2000,
          4000,
          3000,
          4000,
          3000,
          3000,
          2000,
          3000,
          4000,
          1000,
          2000,
          2000,
          2000,
          2000,
          2000,
          2000,
          2000,
          2000,
          2000,
          2000,
          2000,
          2000,
          2000,
          3000,
          4000,
          3000,
          2000,
          4000,
          2000,
          3000,
          2000,
          2000,
          3000,
          2000,
          2000,
          2000,
          3000,
          2000,
          3000,
          2000,
          2000,
          3000,
          2000,
          2000,
          2000,
          2000,
          2000,
          4000,
          4000,
          3000,
          4000,
          3000,
          3000,
          3000,
          2000,
          2000,
          3000,
          3000,
          2000,
          2000,
          2000,
          2000,
          2000,
          3000
         ],
         "xaxis": "x",
         "y": [
          "7",
          "7",
          "7",
          "7",
          "7",
          "7",
          "7",
          "7",
          "7",
          "7",
          "7",
          "7",
          "7",
          "7",
          "7",
          "7",
          "6",
          "6",
          "6",
          "6",
          "6",
          "6",
          "6",
          "4",
          "4",
          "4",
          "4",
          "4",
          "4",
          "4",
          "4",
          "4",
          "4",
          "4",
          "4",
          "4",
          "4",
          "4",
          "4",
          "10",
          "10",
          "10",
          "10",
          "10",
          "10",
          "10",
          "10",
          "10",
          "10",
          "10",
          "10",
          "10",
          "10",
          "10",
          "10",
          "10",
          "10",
          "10",
          "10",
          "5",
          "5",
          "5",
          "5",
          "5",
          "5",
          "5",
          "5",
          "5",
          "5",
          "5",
          "1",
          "1",
          "1",
          "1",
          "1",
          "1",
          "1",
          "1",
          "1",
          "1",
          "1",
          "1",
          "2",
          "2",
          "2",
          "2",
          "2",
          "2",
          "3",
          "3",
          "3",
          "3",
          "3",
          "3",
          "3",
          "3",
          "3",
          "3",
          "3",
          "3",
          "3",
          "3",
          "8",
          "8",
          "8",
          "8",
          "8",
          "8",
          "8",
          "8",
          "8",
          "8",
          "8",
          "8",
          "8",
          "8",
          "8",
          "8",
          "8",
          "8",
          "8",
          "8",
          "8",
          "8",
          "8",
          "8",
          "8",
          "8",
          "8",
          "8",
          "9",
          "9",
          "9",
          "9",
          "9",
          "9",
          "9",
          "9"
         ],
         "yaxis": "y"
        },
        {
         "alignmentgroup": "True",
         "base": [
          "1900-01-01T00:00:52",
          "1900-01-01T00:01:33",
          "1900-01-01T00:03:30",
          "1900-01-01T00:03:41",
          "1900-01-01T00:03:49",
          "1900-01-01T00:06:44",
          "1900-01-01T00:08:59",
          "1900-01-01T00:12:28",
          "1900-01-01T00:17:23",
          "1900-01-01T00:20:23",
          "1900-01-01T00:21:15",
          "1900-01-01T00:22:04",
          "1900-01-01T00:27:09",
          "1900-01-01T00:28:13",
          "1900-01-01T00:29:07",
          "1900-01-01T00:37:36",
          "1900-01-01T00:41:12",
          "1900-01-01T00:41:29",
          "1900-01-01T00:41:54",
          "1900-01-01T00:44:13",
          "1900-01-01T00:45:38",
          "1900-01-01T00:47:10",
          "1900-01-01T00:50:59",
          "1900-01-01T00:53:05",
          "1900-01-01T00:00:18",
          "1900-01-01T00:03:31",
          "1900-01-01T00:03:52",
          "1900-01-01T00:04:12",
          "1900-01-01T00:08:05",
          "1900-01-01T00:10:52",
          "1900-01-01T00:14:28",
          "1900-01-01T00:14:54",
          "1900-01-01T00:16:23",
          "1900-01-01T00:19:34",
          "1900-01-01T00:20:21",
          "1900-01-01T00:23:59",
          "1900-01-01T00:25:14",
          "1900-01-01T00:32:23",
          "1900-01-01T00:33:03",
          "1900-01-01T00:35:16",
          "1900-01-01T00:36:24",
          "1900-01-01T00:38:35",
          "1900-01-01T00:39:35",
          "1900-01-01T00:40:35",
          "1900-01-01T00:41:08",
          "1900-01-01T00:42:59",
          "1900-01-01T00:45:42",
          "1900-01-01T00:46:50",
          "1900-01-01T00:47:39",
          "1900-01-01T00:49:02",
          "1900-01-01T00:49:22",
          "1900-01-01T00:49:39",
          "1900-01-01T00:00:07",
          "1900-01-01T00:05:14",
          "1900-01-01T00:08:06",
          "1900-01-01T00:11:30",
          "1900-01-01T00:11:33",
          "1900-01-01T00:14:55",
          "1900-01-01T00:15:23",
          "1900-01-01T00:15:32",
          "1900-01-01T00:16:04",
          "1900-01-01T00:28:01",
          "1900-01-01T00:28:55",
          "1900-01-01T00:29:15",
          "1900-01-01T00:31:36",
          "1900-01-01T00:34:16",
          "1900-01-01T00:40:03",
          "1900-01-01T00:48:02",
          "1900-01-01T00:50:57",
          "1900-01-01T00:02:17",
          "1900-01-01T00:07:23",
          "1900-01-01T00:14:43",
          "1900-01-01T00:17:57",
          "1900-01-01T00:19:21",
          "1900-01-01T00:26:42",
          "1900-01-01T00:29:10",
          "1900-01-01T00:32:49",
          "1900-01-01T00:33:44",
          "1900-01-01T00:39:32",
          "1900-01-01T00:43:01",
          "1900-01-01T00:45:04",
          "1900-01-01T00:48:09",
          "1900-01-01T00:50:51",
          "1900-01-01T00:51:11",
          "1900-01-01T00:02:41",
          "1900-01-01T00:04:19",
          "1900-01-01T00:04:29",
          "1900-01-01T00:06:12",
          "1900-01-01T00:06:31",
          "1900-01-01T00:07:05",
          "1900-01-01T00:12:36",
          "1900-01-01T00:13:07",
          "1900-01-01T00:17:34",
          "1900-01-01T00:19:41",
          "1900-01-01T00:20:39",
          "1900-01-01T00:21:46",
          "1900-01-01T00:21:58",
          "1900-01-01T00:22:32",
          "1900-01-01T00:23:37",
          "1900-01-01T00:28:38",
          "1900-01-01T00:29:55",
          "1900-01-01T00:30:51",
          "1900-01-01T00:34:55",
          "1900-01-01T00:42:48",
          "1900-01-01T00:47:49",
          "1900-01-01T00:49:10",
          "1900-01-01T00:50:36",
          "1900-01-01T00:00:12",
          "1900-01-01T00:05:57",
          "1900-01-01T00:06:59",
          "1900-01-01T00:07:27",
          "1900-01-01T00:07:52",
          "1900-01-01T00:08:32",
          "1900-01-01T00:10:41",
          "1900-01-01T00:12:49",
          "1900-01-01T00:13:02",
          "1900-01-01T00:15:40",
          "1900-01-01T00:20:32",
          "1900-01-01T00:27:00",
          "1900-01-01T00:30:49",
          "1900-01-01T00:31:05",
          "1900-01-01T00:31:15",
          "1900-01-01T00:33:43",
          "1900-01-01T00:40:19",
          "1900-01-01T00:41:30",
          "1900-01-01T00:44:32",
          "1900-01-01T00:47:38",
          "1900-01-01T00:53:18",
          "1900-01-01T00:53:39",
          "1900-01-01T00:54:22",
          "1900-01-01T00:00:35",
          "1900-01-01T00:00:51",
          "1900-01-01T00:03:23",
          "1900-01-01T00:03:54",
          "1900-01-01T00:06:55",
          "1900-01-01T00:07:27",
          "1900-01-01T00:09:25",
          "1900-01-01T00:09:58",
          "1900-01-01T00:12:04",
          "1900-01-01T00:14:39",
          "1900-01-01T00:15:28",
          "1900-01-01T00:16:14",
          "1900-01-01T00:19:47",
          "1900-01-01T00:24:12",
          "1900-01-01T00:24:20",
          "1900-01-01T00:28:06",
          "1900-01-01T00:33:45",
          "1900-01-01T00:37:28",
          "1900-01-01T00:38:36",
          "1900-01-01T00:39:39",
          "1900-01-01T00:52:32",
          "1900-01-01T00:01:59",
          "1900-01-01T00:04:11",
          "1900-01-01T00:08:01",
          "1900-01-01T00:11:17",
          "1900-01-01T00:13:32",
          "1900-01-01T00:20:22",
          "1900-01-01T00:20:43",
          "1900-01-01T00:21:14",
          "1900-01-01T00:23:40",
          "1900-01-01T00:25:14",
          "1900-01-01T00:31:00",
          "1900-01-01T00:33:12",
          "1900-01-01T00:34:00",
          "1900-01-01T00:34:13",
          "1900-01-01T00:35:31",
          "1900-01-01T00:36:12",
          "1900-01-01T00:36:25",
          "1900-01-01T00:36:53",
          "1900-01-01T00:37:17",
          "1900-01-01T00:41:18",
          "1900-01-01T00:41:29",
          "1900-01-01T00:42:05",
          "1900-01-01T00:43:46",
          "1900-01-01T00:45:13",
          "1900-01-01T00:45:36",
          "1900-01-01T00:47:05",
          "1900-01-01T00:47:48",
          "1900-01-01T00:53:53"
         ],
         "customdata": [
          [
           "leise dissonante Musik"
          ],
          [
           "düstere Musik"
          ],
          [
           "angespannte Musik"
          ],
          [
           "spannungsvolle Musik"
          ],
          [
           "Spannungsvolle Musik steigert sich"
          ],
          [
           "leise angespannte Musik"
          ],
          [
           "leise düstere Musik"
          ],
          [
           "beunruhigende Musik"
          ],
          [
           "triste Musik"
          ],
          [
           "leise düstere Musik"
          ],
          [
           "beunruhigende Musik"
          ],
          [
           "düstere Musik"
          ],
          [
           "leise bedrohliche Musik"
          ],
          [
           "düstere Musik"
          ],
          [
           "sphärische Musik"
          ],
          [
           "düstere Musik"
          ],
          [
           "düstere spannungsvolle Musik"
          ],
          [
           "spannungsvolle Musik"
          ],
          [
           "Spannungsvolle Musik verstummt"
          ],
          [
           "sanfte Musik"
          ],
          [
           "spannungsvolle Musik"
          ],
          [
           "ruhige Klaviermusik"
          ],
          [
           "dramatische Musik"
          ],
          [
           "bedrohliche Musik"
          ],
          [
           "beklemmende Musik"
          ],
          [
           "bedrohliche Musik"
          ],
          [
           "düstere Musik"
          ],
          [
           "beklemmende Musik"
          ],
          [
           "triste Musik"
          ],
          [
           "ernste Musik"
          ],
          [
           "beklemmende Musik"
          ],
          [
           "düstere Musik"
          ],
          [
           "düster-melancholische Musik"
          ],
          [
           "bedrohliche Musik"
          ],
          [
           "angespannte Musik"
          ],
          [
           "gefühlvolle Musik"
          ],
          [
           "düstere Musik"
          ],
          [
           "leise traurige Musik"
          ],
          [
           "leise angespannte Musik"
          ],
          [
           "bedrohliche Musik"
          ],
          [
           "geheimnisvolle Musik"
          ],
          [
           "bedrückende Musik"
          ],
          [
           "verstörende Musik"
          ],
          [
           "düster-monotone Musik"
          ],
          [
           "beklemmende Musik"
          ],
          [
           "angespannte Musik"
          ],
          [
           "verstörende Musik"
          ],
          [
           "sanft-melancholische Musik"
          ],
          [
           "leise angespannte Musik"
          ],
          [
           "beklemmende Musik"
          ],
          [
           "beklemmende Musik"
          ],
          [
           "unheimliche Musik"
          ],
          [
           "verspielte Xylophon-Musik"
          ],
          [
           "unheimliche Musik"
          ],
          [
           "düstere Musik"
          ],
          [
           "düstere Musik"
          ],
          [
           "Trash-Metal-Musik: \"Pleasure To Kill\" von Kreator"
          ],
          [
           "düstere Musik"
          ],
          [
           "düstere Musik"
          ],
          [
           "spannungsvolle Musik"
          ],
          [
           "düstere Musik"
          ],
          [
           "leise beunruhigende Musik"
          ],
          [
           "unheimliche Musik"
          ],
          [
           "düstere Musik"
          ],
          [
           "bedrückende Musik"
          ],
          [
           "düstere Musik"
          ],
          [
           "bedrückende Musik"
          ],
          [
           "düstere Musik"
          ],
          [
           "monotone beklemmende Musik"
          ],
          [
           "leise spannungsvolle Musik"
          ],
          [
           "leise unheilvolle Musik"
          ],
          [
           "beklemmende Musik"
          ],
          [
           "spannungsvolle Musik"
          ],
          [
           "Panzerlärm übertönt die Musik"
          ],
          [
           "spannungsvolle Musik"
          ],
          [
           "unheimliche Musik"
          ],
          [
           "unheimliche Musik"
          ],
          [
           "bedrohliche Musik"
          ],
          [
           "düstere Musik"
          ],
          [
           "melancholische Musik"
          ],
          [
           "sanfte Gitarrenmusik"
          ],
          [
           "elektronische Musik"
          ],
          [
           "spannungsvolle Musik"
          ],
          [
           "bedrohliche Musik"
          ],
          [
           "Musik von Nena aus dem Radiowecker"
          ],
          [
           "leise angespannte Musik"
          ],
          [
           "düstere Musik"
          ],
          [
           "beunruhigende Musik"
          ],
          [
           "sanft-wehmütige Musik"
          ],
          [
           "düstere Musik"
          ],
          [
           "ernste Musik"
          ],
          [
           "düstere Musik"
          ],
          [
           "bedrückende Musik"
          ],
          [
           "sanft-wehmütige Musik"
          ],
          [
           "traurig-sanfte Musik"
          ],
          [
           "beklemmende Musik"
          ],
          [
           "düstere Musik"
          ],
          [
           "düstere Musik"
          ],
          [
           "beklemmende Musik"
          ],
          [
           "schwermütige Musik"
          ],
          [
           "leise irritierende Musik"
          ],
          [
           "düstere Musik"
          ],
          [
           "leise Musik von unten"
          ],
          [
           "beklemmende Musik"
          ],
          [
           "sanft-melancholische Musik"
          ],
          [
           "schwermütige Musik"
          ],
          [
           "angespannte Musik"
          ],
          [
           "düstere Musik"
          ],
          [
           "geheimnisvolle Musik"
          ],
          [
           "beunruhigende Musik"
          ],
          [
           "beunruhigende Musik"
          ],
          [
           "düstere Musik"
          ],
          [
           "finstere Musik"
          ],
          [
           "angespannte Musik"
          ],
          [
           "unheimliche Musik"
          ],
          [
           "düstere Musik"
          ],
          [
           "spannungsvolle Musik"
          ],
          [
           "unheilvolle Musik"
          ],
          [
           "düster-traurige Musik"
          ],
          [
           "düstere Musik"
          ],
          [
           "bedrohliche Musik"
          ],
          [
           "spannungsvolle Musik"
          ],
          [
           "unheilvolle Musik"
          ],
          [
           "düstere Musik"
          ],
          [
           "leise angespannte Musik"
          ],
          [
           "beunruhigende Musik"
          ],
          [
           "düstere Musik"
          ],
          [
           "angespannte Musik"
          ],
          [
           "angespannte Musik"
          ],
          [
           "spannungsvolle Musik"
          ],
          [
           "beunruhigende Musik"
          ],
          [
           "bedrohliche Musik"
          ],
          [
           "angespannte Musik"
          ],
          [
           "düstere Musik"
          ],
          [
           "unbehagliche Musik"
          ],
          [
           "geheimnisvolle Musik"
          ],
          [
           "unheimliche Musik"
          ],
          [
           "spannungsvolle Musik"
          ],
          [
           "bedrückende Musik"
          ],
          [
           "düstere Musik"
          ],
          [
           "angespannte Musik"
          ],
          [
           "melancholische Musik"
          ],
          [
           "unheimliche Musik"
          ],
          [
           "spannungsvolle Musik"
          ],
          [
           "geheimnisvolle Musik"
          ],
          [
           "düstere Musik"
          ],
          [
           "düstere Musik"
          ],
          [
           "angespannte Musik"
          ],
          [
           "bedrohliche Musik"
          ],
          [
           "beklemmende Musik"
          ],
          [
           "sphärische Musik"
          ],
          [
           "dissonante Musik"
          ],
          [
           "beklemmende Musik"
          ],
          [
           "leise düstere Musik"
          ],
          [
           "leise angespannte Musik"
          ],
          [
           "angespannte Musik"
          ],
          [
           "beklemmende Musik"
          ],
          [
           "leise spannungsvolle Musik"
          ],
          [
           "angespannte Musik"
          ],
          [
           "düstere Musik"
          ],
          [
           "traurige Klaviermusik"
          ],
          [
           "spannungsvolle Musik"
          ],
          [
           "geheimnisvolle Musik"
          ],
          [
           "spannungsvolle Musik"
          ],
          [
           "spannungsgeladene Musik"
          ],
          [
           "angespannte Musik"
          ],
          [
           "düstere Musik"
          ],
          [
           "spannungsvolle Musik"
          ],
          [
           "düstere Musik"
          ],
          [
           "spannungsvolle Musik"
          ],
          [
           "ernste Musik"
          ],
          [
           "mysteriöse Musik"
          ],
          [
           "düstere Musik"
          ],
          [
           "geheimnisvolle Musik"
          ],
          [
           "düstere Musik"
          ],
          [
           "unheimliche Musik"
          ],
          [
           "bedrohliche Musik"
          ],
          [
           "unheilvolle Musik"
          ],
          [
           "unheilvolle Musik"
          ]
         ],
         "hovertemplate": "<b>%{hovertext}</b><br><br>season=2<br>interval_start=%{base}<br>episode=%{y}<extra></extra>",
         "hovertext": [
          "leise dissonante Musik",
          "düstere Musik",
          "angespannte Musik",
          "spannungsvolle Musik",
          "Spannungsvolle Musik steigert sich",
          "leise angespannte Musik",
          "leise düstere Musik",
          "beunruhigende Musik",
          "triste Musik",
          "leise düstere Musik",
          "beunruhigende Musik",
          "düstere Musik",
          "leise bedrohliche Musik",
          "düstere Musik",
          "sphärische Musik",
          "düstere Musik",
          "düstere spannungsvolle Musik",
          "spannungsvolle Musik",
          "Spannungsvolle Musik verstummt",
          "sanfte Musik",
          "spannungsvolle Musik",
          "ruhige Klaviermusik",
          "dramatische Musik",
          "bedrohliche Musik",
          "beklemmende Musik",
          "bedrohliche Musik",
          "düstere Musik",
          "beklemmende Musik",
          "triste Musik",
          "ernste Musik",
          "beklemmende Musik",
          "düstere Musik",
          "düster-melancholische Musik",
          "bedrohliche Musik",
          "angespannte Musik",
          "gefühlvolle Musik",
          "düstere Musik",
          "leise traurige Musik",
          "leise angespannte Musik",
          "bedrohliche Musik",
          "geheimnisvolle Musik",
          "bedrückende Musik",
          "verstörende Musik",
          "düster-monotone Musik",
          "beklemmende Musik",
          "angespannte Musik",
          "verstörende Musik",
          "sanft-melancholische Musik",
          "leise angespannte Musik",
          "beklemmende Musik",
          "beklemmende Musik",
          "unheimliche Musik",
          "verspielte Xylophon-Musik",
          "unheimliche Musik",
          "düstere Musik",
          "düstere Musik",
          "Trash-Metal-Musik: \"Pleasure To Kill\" von Kreator",
          "düstere Musik",
          "düstere Musik",
          "spannungsvolle Musik",
          "düstere Musik",
          "leise beunruhigende Musik",
          "unheimliche Musik",
          "düstere Musik",
          "bedrückende Musik",
          "düstere Musik",
          "bedrückende Musik",
          "düstere Musik",
          "monotone beklemmende Musik",
          "leise spannungsvolle Musik",
          "leise unheilvolle Musik",
          "beklemmende Musik",
          "spannungsvolle Musik",
          "Panzerlärm übertönt die Musik",
          "spannungsvolle Musik",
          "unheimliche Musik",
          "unheimliche Musik",
          "bedrohliche Musik",
          "düstere Musik",
          "melancholische Musik",
          "sanfte Gitarrenmusik",
          "elektronische Musik",
          "spannungsvolle Musik",
          "bedrohliche Musik",
          "Musik von Nena aus dem Radiowecker",
          "leise angespannte Musik",
          "düstere Musik",
          "beunruhigende Musik",
          "sanft-wehmütige Musik",
          "düstere Musik",
          "ernste Musik",
          "düstere Musik",
          "bedrückende Musik",
          "sanft-wehmütige Musik",
          "traurig-sanfte Musik",
          "beklemmende Musik",
          "düstere Musik",
          "düstere Musik",
          "beklemmende Musik",
          "schwermütige Musik",
          "leise irritierende Musik",
          "düstere Musik",
          "leise Musik von unten",
          "beklemmende Musik",
          "sanft-melancholische Musik",
          "schwermütige Musik",
          "angespannte Musik",
          "düstere Musik",
          "geheimnisvolle Musik",
          "beunruhigende Musik",
          "beunruhigende Musik",
          "düstere Musik",
          "finstere Musik",
          "angespannte Musik",
          "unheimliche Musik",
          "düstere Musik",
          "spannungsvolle Musik",
          "unheilvolle Musik",
          "düster-traurige Musik",
          "düstere Musik",
          "bedrohliche Musik",
          "spannungsvolle Musik",
          "unheilvolle Musik",
          "düstere Musik",
          "leise angespannte Musik",
          "beunruhigende Musik",
          "düstere Musik",
          "angespannte Musik",
          "angespannte Musik",
          "spannungsvolle Musik",
          "beunruhigende Musik",
          "bedrohliche Musik",
          "angespannte Musik",
          "düstere Musik",
          "unbehagliche Musik",
          "geheimnisvolle Musik",
          "unheimliche Musik",
          "spannungsvolle Musik",
          "bedrückende Musik",
          "düstere Musik",
          "angespannte Musik",
          "melancholische Musik",
          "unheimliche Musik",
          "spannungsvolle Musik",
          "geheimnisvolle Musik",
          "düstere Musik",
          "düstere Musik",
          "angespannte Musik",
          "bedrohliche Musik",
          "beklemmende Musik",
          "sphärische Musik",
          "dissonante Musik",
          "beklemmende Musik",
          "leise düstere Musik",
          "leise angespannte Musik",
          "angespannte Musik",
          "beklemmende Musik",
          "leise spannungsvolle Musik",
          "angespannte Musik",
          "düstere Musik",
          "traurige Klaviermusik",
          "spannungsvolle Musik",
          "geheimnisvolle Musik",
          "spannungsvolle Musik",
          "spannungsgeladene Musik",
          "angespannte Musik",
          "düstere Musik",
          "spannungsvolle Musik",
          "düstere Musik",
          "spannungsvolle Musik",
          "ernste Musik",
          "mysteriöse Musik",
          "düstere Musik",
          "geheimnisvolle Musik",
          "düstere Musik",
          "unheimliche Musik",
          "bedrohliche Musik",
          "unheilvolle Musik",
          "unheilvolle Musik"
         ],
         "legendgroup": "2",
         "marker": {
          "color": "rgb(36,121,108)",
          "pattern": {
           "shape": ""
          }
         },
         "name": "2",
         "offsetgroup": "2",
         "orientation": "h",
         "showlegend": true,
         "text": [
          "leise dissonante Musik",
          "düstere Musik",
          "angespannte Musik",
          "spannungsvolle Musik",
          "Spannungsvolle Musik steigert sich",
          "leise angespannte Musik",
          "leise düstere Musik",
          "beunruhigende Musik",
          "triste Musik",
          "leise düstere Musik",
          "beunruhigende Musik",
          "düstere Musik",
          "leise bedrohliche Musik",
          "düstere Musik",
          "sphärische Musik",
          "düstere Musik",
          "düstere spannungsvolle Musik",
          "spannungsvolle Musik",
          "Spannungsvolle Musik verstummt",
          "sanfte Musik",
          "spannungsvolle Musik",
          "ruhige Klaviermusik",
          "dramatische Musik",
          "bedrohliche Musik",
          "beklemmende Musik",
          "bedrohliche Musik",
          "düstere Musik",
          "beklemmende Musik",
          "triste Musik",
          "ernste Musik",
          "beklemmende Musik",
          "düstere Musik",
          "düster-melancholische Musik",
          "bedrohliche Musik",
          "angespannte Musik",
          "gefühlvolle Musik",
          "düstere Musik",
          "leise traurige Musik",
          "leise angespannte Musik",
          "bedrohliche Musik",
          "geheimnisvolle Musik",
          "bedrückende Musik",
          "verstörende Musik",
          "düster-monotone Musik",
          "beklemmende Musik",
          "angespannte Musik",
          "verstörende Musik",
          "sanft-melancholische Musik",
          "leise angespannte Musik",
          "beklemmende Musik",
          "beklemmende Musik",
          "unheimliche Musik",
          "verspielte Xylophon-Musik",
          "unheimliche Musik",
          "düstere Musik",
          "düstere Musik",
          "Trash-Metal-Musik: \"Pleasure To Kill\" von Kreator",
          "düstere Musik",
          "düstere Musik",
          "spannungsvolle Musik",
          "düstere Musik",
          "leise beunruhigende Musik",
          "unheimliche Musik",
          "düstere Musik",
          "bedrückende Musik",
          "düstere Musik",
          "bedrückende Musik",
          "düstere Musik",
          "monotone beklemmende Musik",
          "leise spannungsvolle Musik",
          "leise unheilvolle Musik",
          "beklemmende Musik",
          "spannungsvolle Musik",
          "Panzerlärm übertönt die Musik",
          "spannungsvolle Musik",
          "unheimliche Musik",
          "unheimliche Musik",
          "bedrohliche Musik",
          "düstere Musik",
          "melancholische Musik",
          "sanfte Gitarrenmusik",
          "elektronische Musik",
          "spannungsvolle Musik",
          "bedrohliche Musik",
          "Musik von Nena aus dem Radiowecker",
          "leise angespannte Musik",
          "düstere Musik",
          "beunruhigende Musik",
          "sanft-wehmütige Musik",
          "düstere Musik",
          "ernste Musik",
          "düstere Musik",
          "bedrückende Musik",
          "sanft-wehmütige Musik",
          "traurig-sanfte Musik",
          "beklemmende Musik",
          "düstere Musik",
          "düstere Musik",
          "beklemmende Musik",
          "schwermütige Musik",
          "leise irritierende Musik",
          "düstere Musik",
          "leise Musik von unten",
          "beklemmende Musik",
          "sanft-melancholische Musik",
          "schwermütige Musik",
          "angespannte Musik",
          "düstere Musik",
          "geheimnisvolle Musik",
          "beunruhigende Musik",
          "beunruhigende Musik",
          "düstere Musik",
          "finstere Musik",
          "angespannte Musik",
          "unheimliche Musik",
          "düstere Musik",
          "spannungsvolle Musik",
          "unheilvolle Musik",
          "düster-traurige Musik",
          "düstere Musik",
          "bedrohliche Musik",
          "spannungsvolle Musik",
          "unheilvolle Musik",
          "düstere Musik",
          "leise angespannte Musik",
          "beunruhigende Musik",
          "düstere Musik",
          "angespannte Musik",
          "angespannte Musik",
          "spannungsvolle Musik",
          "beunruhigende Musik",
          "bedrohliche Musik",
          "angespannte Musik",
          "düstere Musik",
          "unbehagliche Musik",
          "geheimnisvolle Musik",
          "unheimliche Musik",
          "spannungsvolle Musik",
          "bedrückende Musik",
          "düstere Musik",
          "angespannte Musik",
          "melancholische Musik",
          "unheimliche Musik",
          "spannungsvolle Musik",
          "geheimnisvolle Musik",
          "düstere Musik",
          "düstere Musik",
          "angespannte Musik",
          "bedrohliche Musik",
          "beklemmende Musik",
          "sphärische Musik",
          "dissonante Musik",
          "beklemmende Musik",
          "leise düstere Musik",
          "leise angespannte Musik",
          "angespannte Musik",
          "beklemmende Musik",
          "leise spannungsvolle Musik",
          "angespannte Musik",
          "düstere Musik",
          "traurige Klaviermusik",
          "spannungsvolle Musik",
          "geheimnisvolle Musik",
          "spannungsvolle Musik",
          "spannungsgeladene Musik",
          "angespannte Musik",
          "düstere Musik",
          "spannungsvolle Musik",
          "düstere Musik",
          "spannungsvolle Musik",
          "ernste Musik",
          "mysteriöse Musik",
          "düstere Musik",
          "geheimnisvolle Musik",
          "düstere Musik",
          "unheimliche Musik",
          "bedrohliche Musik",
          "unheilvolle Musik",
          "unheilvolle Musik"
         ],
         "textangle": 0,
         "textfont": {
          "size": 8
         },
         "textposition": "none",
         "type": "bar",
         "x": [
          2000,
          2000,
          2000,
          2000,
          2000,
          2000,
          2000,
          2000,
          2000,
          2000,
          2000,
          2000,
          2000,
          2000,
          2000,
          2000,
          2000,
          2000,
          3000,
          2000,
          2000,
          2000,
          2000,
          2000,
          2000,
          2000,
          2000,
          3000,
          2000,
          3000,
          2000,
          2000,
          2000,
          3000,
          2000,
          2000,
          2000,
          2000,
          2000,
          2000,
          2000,
          2000,
          2000,
          2000,
          2000,
          2000,
          2000,
          2000,
          2000,
          2000,
          2000,
          2000,
          2000,
          2000,
          2000,
          2000,
          3000,
          2000,
          2000,
          2000,
          2000,
          2000,
          2000,
          2000,
          2000,
          2000,
          2000,
          2000,
          2000,
          1000,
          2000,
          2000,
          2000,
          2000,
          1000,
          2000,
          2000,
          2000,
          2000,
          2000,
          2000,
          2000,
          2000,
          2000,
          2000,
          2000,
          2000,
          2000,
          2000,
          2000,
          2000,
          2000,
          2000,
          2000,
          2000,
          2000,
          2000,
          2000,
          2000,
          2000,
          2000,
          2000,
          2000,
          2000,
          2000,
          2000,
          2000,
          2000,
          2000,
          2000,
          2000,
          2000,
          3000,
          2000,
          2000,
          2000,
          2000,
          2000,
          2000,
          2000,
          2000,
          2000,
          1000,
          2000,
          2000,
          2000,
          2000,
          2000,
          2000,
          2000,
          2000,
          3000,
          2000,
          2000,
          2000,
          2000,
          2000,
          2000,
          2000,
          2000,
          2000,
          2000,
          2000,
          2000,
          2000,
          2000,
          2000,
          2000,
          2000,
          2000,
          2000,
          2000,
          1000,
          2000,
          2000,
          2000,
          2000,
          2000,
          2000,
          1000,
          2000,
          2000,
          2000,
          2000,
          2000,
          2000,
          2000,
          2000,
          2000,
          2000,
          2000,
          2000,
          2000,
          2000,
          2000,
          2000,
          2000,
          2000,
          2000
         ],
         "xaxis": "x",
         "y": [
          "8",
          "8",
          "8",
          "8",
          "8",
          "8",
          "8",
          "8",
          "8",
          "8",
          "8",
          "8",
          "8",
          "8",
          "8",
          "8",
          "8",
          "8",
          "8",
          "8",
          "8",
          "8",
          "8",
          "8",
          "1",
          "1",
          "1",
          "1",
          "1",
          "1",
          "1",
          "1",
          "1",
          "1",
          "1",
          "1",
          "1",
          "1",
          "1",
          "1",
          "1",
          "1",
          "1",
          "1",
          "1",
          "1",
          "1",
          "1",
          "1",
          "1",
          "1",
          "1",
          "3",
          "3",
          "3",
          "3",
          "3",
          "3",
          "3",
          "3",
          "3",
          "3",
          "3",
          "3",
          "3",
          "3",
          "3",
          "3",
          "3",
          "2",
          "2",
          "2",
          "2",
          "2",
          "2",
          "2",
          "2",
          "2",
          "2",
          "2",
          "2",
          "2",
          "2",
          "2",
          "6",
          "6",
          "6",
          "6",
          "6",
          "6",
          "6",
          "6",
          "6",
          "6",
          "6",
          "6",
          "6",
          "6",
          "6",
          "6",
          "6",
          "6",
          "6",
          "6",
          "6",
          "6",
          "6",
          "7",
          "7",
          "7",
          "7",
          "7",
          "7",
          "7",
          "7",
          "7",
          "7",
          "7",
          "7",
          "7",
          "7",
          "7",
          "7",
          "7",
          "7",
          "7",
          "7",
          "7",
          "7",
          "7",
          "5",
          "5",
          "5",
          "5",
          "5",
          "5",
          "5",
          "5",
          "5",
          "5",
          "5",
          "5",
          "5",
          "5",
          "5",
          "5",
          "5",
          "5",
          "5",
          "5",
          "5",
          "4",
          "4",
          "4",
          "4",
          "4",
          "4",
          "4",
          "4",
          "4",
          "4",
          "4",
          "4",
          "4",
          "4",
          "4",
          "4",
          "4",
          "4",
          "4",
          "4",
          "4",
          "4",
          "4",
          "4",
          "4",
          "4",
          "4",
          "4"
         ],
         "yaxis": "y"
        },
        {
         "alignmentgroup": "True",
         "base": [
          "1900-01-01T00:00:13",
          "1900-01-01T00:01:41",
          "1900-01-01T00:06:39",
          "1900-01-01T00:20:23",
          "1900-01-01T00:48:14",
          "1900-01-01T00:30:56",
          "1900-01-01T00:07:36",
          "1900-01-01T00:09:32",
          "1900-01-01T00:10:48",
          "1900-01-01T00:12:58",
          "1900-01-01T00:18:01",
          "1900-01-01T00:19:18",
          "1900-01-01T00:27:23",
          "1900-01-01T00:31:44",
          "1900-01-01T00:32:58",
          "1900-01-01T00:40:58",
          "1900-01-01T00:41:34",
          "1900-01-01T00:26:09",
          "1900-01-01T00:46:22",
          "1900-01-01T00:51:36",
          "1900-01-01T00:52:23",
          "1900-01-01T00:53:02",
          "1900-01-01T00:45:11",
          "1900-01-01T00:45:41",
          "1900-01-01T00:45:50",
          "1900-01-01T00:47:28",
          "1900-01-01T00:59:03",
          "1900-01-01T00:13:41",
          "1900-01-01T00:18:35",
          "1900-01-01T00:24:12",
          "1900-01-01T00:30:24",
          "1900-01-01T00:30:36",
          "1900-01-01T00:41:01",
          "1900-01-01T00:56:30",
          "1900-01-01T00:58:24",
          "1900-01-01T00:59:07",
          "1900-01-01T01:00:21",
          "1900-01-01T00:17:25",
          "1900-01-01T00:17:49",
          "1900-01-01T00:21:28",
          "1900-01-01T00:27:36",
          "1900-01-01T00:36:48",
          "1900-01-01T00:48:11",
          "1900-01-01T00:44:52",
          "1900-01-01T00:52:08",
          "1900-01-01T01:04:00"
         ],
         "customdata": [
          [
           "düster-melancholische Musik"
          ],
          [
           "düstere Musik"
          ],
          [
           "bedrohliche Streichermusik"
          ],
          [
           "düstere Musik"
          ],
          [
           "Musik verstummt"
          ],
          [
           "spannungsvolle Musik"
          ],
          [
           "leise Musik von unten"
          ],
          [
           "ruhige rätselhafte Musik"
          ],
          [
           "bedrückende Musik"
          ],
          [
           "melancholische Musik"
          ],
          [
           "leise geheimnisvolle Musik"
          ],
          [
           "düstere Musik"
          ],
          [
           "angespannte Musik"
          ],
          [
           "beklemmende Musik"
          ],
          [
           "spannungsvolle Musik"
          ],
          [
           "melancholische Musik"
          ],
          [
           "Musik verstummt"
          ],
          [
           "leise Musik vom Plattenspieler"
          ],
          [
           "leise wehmütige Musik"
          ],
          [
           "sanft-wehmütige Musik"
          ],
          [
           "Musik schwillt an"
          ],
          [
           "Musik verklingt"
          ],
          [
           "treibende Musik"
          ],
          [
           "Musik wird lauter"
          ],
          [
           "Musik verstummt"
          ],
          [
           "düstere Musik"
          ],
          [
           "traurige Musik"
          ],
          [
           "sanfte geheimnisvolle Musik"
          ],
          [
           "spannungsvoll ansteigende Musik"
          ],
          [
           "spannungsvolle Musik"
          ],
          [
           "traurige Musik"
          ],
          [
           "Musik wird intensiver"
          ],
          [
           "geheimnisvolle Musik"
          ],
          [
           "melancholische Klaviermusik klingt an"
          ],
          [
           "dramatische Musik"
          ],
          [
           "dramatische Musik wird lauter"
          ],
          [
           "Musik verklingt"
          ],
          [
           "spannungsvolle Musik"
          ],
          [
           "Musik verklingt"
          ],
          [
           "leise bedrohliche Musik"
          ],
          [
           "düstere melancholische Musik"
          ],
          [
           "traurig-sanfte Musik"
          ],
          [
           "Musik läuft weiter"
          ],
          [
           "Musik und Geräusche verstummen"
          ],
          [
           "Rockmusik aus dem Autoradio"
          ],
          [
           "Popmusik"
          ]
         ],
         "hovertemplate": "<b>%{hovertext}</b><br><br>season=3<br>interval_start=%{base}<br>episode=%{y}<extra></extra>",
         "hovertext": [
          "düster-melancholische Musik",
          "düstere Musik",
          "bedrohliche Streichermusik",
          "düstere Musik",
          "Musik verstummt",
          "spannungsvolle Musik",
          "leise Musik von unten",
          "ruhige rätselhafte Musik",
          "bedrückende Musik",
          "melancholische Musik",
          "leise geheimnisvolle Musik",
          "düstere Musik",
          "angespannte Musik",
          "beklemmende Musik",
          "spannungsvolle Musik",
          "melancholische Musik",
          "Musik verstummt",
          "leise Musik vom Plattenspieler",
          "leise wehmütige Musik",
          "sanft-wehmütige Musik",
          "Musik schwillt an",
          "Musik verklingt",
          "treibende Musik",
          "Musik wird lauter",
          "Musik verstummt",
          "düstere Musik",
          "traurige Musik",
          "sanfte geheimnisvolle Musik",
          "spannungsvoll ansteigende Musik",
          "spannungsvolle Musik",
          "traurige Musik",
          "Musik wird intensiver",
          "geheimnisvolle Musik",
          "melancholische Klaviermusik klingt an",
          "dramatische Musik",
          "dramatische Musik wird lauter",
          "Musik verklingt",
          "spannungsvolle Musik",
          "Musik verklingt",
          "leise bedrohliche Musik",
          "düstere melancholische Musik",
          "traurig-sanfte Musik",
          "Musik läuft weiter",
          "Musik und Geräusche verstummen",
          "Rockmusik aus dem Autoradio",
          "Popmusik"
         ],
         "legendgroup": "3",
         "marker": {
          "color": "rgb(179,205,227)",
          "pattern": {
           "shape": ""
          }
         },
         "name": "3",
         "offsetgroup": "3",
         "orientation": "h",
         "showlegend": true,
         "text": [
          "düster-melancholische Musik",
          "düstere Musik",
          "bedrohliche Streichermusik",
          "düstere Musik",
          "Musik verstummt",
          "spannungsvolle Musik",
          "leise Musik von unten",
          "ruhige rätselhafte Musik",
          "bedrückende Musik",
          "melancholische Musik",
          "leise geheimnisvolle Musik",
          "düstere Musik",
          "angespannte Musik",
          "beklemmende Musik",
          "spannungsvolle Musik",
          "melancholische Musik",
          "Musik verstummt",
          "leise Musik vom Plattenspieler",
          "leise wehmütige Musik",
          "sanft-wehmütige Musik",
          "Musik schwillt an",
          "Musik verklingt",
          "treibende Musik",
          "Musik wird lauter",
          "Musik verstummt",
          "düstere Musik",
          "traurige Musik",
          "sanfte geheimnisvolle Musik",
          "spannungsvoll ansteigende Musik",
          "spannungsvolle Musik",
          "traurige Musik",
          "Musik wird intensiver",
          "geheimnisvolle Musik",
          "melancholische Klaviermusik klingt an",
          "dramatische Musik",
          "dramatische Musik wird lauter",
          "Musik verklingt",
          "spannungsvolle Musik",
          "Musik verklingt",
          "leise bedrohliche Musik",
          "düstere melancholische Musik",
          "traurig-sanfte Musik",
          "Musik läuft weiter",
          "Musik und Geräusche verstummen",
          "Rockmusik aus dem Autoradio",
          "Popmusik"
         ],
         "textangle": 0,
         "textfont": {
          "size": 8
         },
         "textposition": "none",
         "type": "bar",
         "x": [
          3000,
          5000,
          4000,
          4000,
          1000,
          3000,
          2000,
          3000,
          3000,
          2000,
          2000,
          1000,
          2000,
          2000,
          3000,
          2000,
          1000,
          2000,
          2000,
          2000,
          2000,
          1000,
          3000,
          2000,
          3000,
          2000,
          2000,
          2000,
          2000,
          2000,
          2000,
          4000,
          2000,
          2000,
          2000,
          2000,
          2000,
          2000,
          2000,
          1000,
          3000,
          2000,
          2000,
          3000,
          2000,
          2000
         ],
         "xaxis": "x",
         "y": [
          "2",
          "2",
          "2",
          "2",
          "2",
          "3",
          "1",
          "1",
          "1",
          "1",
          "1",
          "1",
          "1",
          "1",
          "1",
          "1",
          "1",
          "4",
          "4",
          "4",
          "4",
          "4",
          "5",
          "5",
          "5",
          "5",
          "5",
          "7",
          "7",
          "7",
          "7",
          "7",
          "7",
          "7",
          "7",
          "7",
          "7",
          "6",
          "6",
          "6",
          "6",
          "6",
          "6",
          "8",
          "8",
          "8"
         ],
         "yaxis": "y"
        }
       ],
       "layout": {
        "bargap": 0,
        "barmode": "overlay",
        "font": {
         "color": "white",
         "family": "Courier New"
        },
        "height": 700,
        "legend": {
         "title": {
          "text": "Season"
         },
         "tracegroupgap": 0
        },
        "margin": {
         "t": 60
        },
        "shapes": [
         {
          "fillcolor": "black",
          "layer": "below",
          "line": {
           "width": 30
          },
          "opacity": 0.03,
          "type": "rect",
          "x0": 0,
          "x1": 1,
          "xref": "x domain",
          "y0": 0,
          "y1": 0,
          "yref": "y"
         },
         {
          "fillcolor": "black",
          "layer": "below",
          "line": {
           "width": 30
          },
          "opacity": 0.03,
          "type": "rect",
          "x0": 0,
          "x1": 1,
          "xref": "x domain",
          "y0": 1,
          "y1": 1,
          "yref": "y"
         },
         {
          "fillcolor": "black",
          "layer": "below",
          "line": {
           "width": 30
          },
          "opacity": 0.03,
          "type": "rect",
          "x0": 0,
          "x1": 1,
          "xref": "x domain",
          "y0": 2,
          "y1": 2,
          "yref": "y"
         },
         {
          "fillcolor": "black",
          "layer": "below",
          "line": {
           "width": 30
          },
          "opacity": 0.03,
          "type": "rect",
          "x0": 0,
          "x1": 1,
          "xref": "x domain",
          "y0": 3,
          "y1": 3,
          "yref": "y"
         },
         {
          "fillcolor": "black",
          "layer": "below",
          "line": {
           "width": 30
          },
          "opacity": 0.03,
          "type": "rect",
          "x0": 0,
          "x1": 1,
          "xref": "x domain",
          "y0": 4,
          "y1": 4,
          "yref": "y"
         },
         {
          "fillcolor": "black",
          "layer": "below",
          "line": {
           "width": 30
          },
          "opacity": 0.03,
          "type": "rect",
          "x0": 0,
          "x1": 1,
          "xref": "x domain",
          "y0": 5,
          "y1": 5,
          "yref": "y"
         },
         {
          "fillcolor": "black",
          "layer": "below",
          "line": {
           "width": 30
          },
          "opacity": 0.03,
          "type": "rect",
          "x0": 0,
          "x1": 1,
          "xref": "x domain",
          "y0": 6,
          "y1": 6,
          "yref": "y"
         },
         {
          "fillcolor": "black",
          "layer": "below",
          "line": {
           "width": 30
          },
          "opacity": 0.03,
          "type": "rect",
          "x0": 0,
          "x1": 1,
          "xref": "x domain",
          "y0": 7,
          "y1": 7,
          "yref": "y"
         },
         {
          "fillcolor": "black",
          "layer": "below",
          "line": {
           "width": 30
          },
          "opacity": 0.03,
          "type": "rect",
          "x0": 0,
          "x1": 1,
          "xref": "x domain",
          "y0": 8,
          "y1": 8,
          "yref": "y"
         },
         {
          "fillcolor": "black",
          "layer": "below",
          "line": {
           "width": 30
          },
          "opacity": 0.03,
          "type": "rect",
          "x0": 0,
          "x1": 1,
          "xref": "x domain",
          "y0": 9,
          "y1": 9,
          "yref": "y"
         }
        ],
        "template": {
         "data": {
          "bar": [
           {
            "error_x": {
             "color": "#f2f5fa"
            },
            "error_y": {
             "color": "#f2f5fa"
            },
            "marker": {
             "line": {
              "color": "rgb(17,17,17)",
              "width": 0.5
             },
             "pattern": {
              "fillmode": "overlay",
              "size": 10,
              "solidity": 0.2
             }
            },
            "type": "bar"
           }
          ],
          "barpolar": [
           {
            "marker": {
             "line": {
              "color": "rgb(17,17,17)",
              "width": 0.5
             },
             "pattern": {
              "fillmode": "overlay",
              "size": 10,
              "solidity": 0.2
             }
            },
            "type": "barpolar"
           }
          ],
          "carpet": [
           {
            "aaxis": {
             "endlinecolor": "#A2B1C6",
             "gridcolor": "#506784",
             "linecolor": "#506784",
             "minorgridcolor": "#506784",
             "startlinecolor": "#A2B1C6"
            },
            "baxis": {
             "endlinecolor": "#A2B1C6",
             "gridcolor": "#506784",
             "linecolor": "#506784",
             "minorgridcolor": "#506784",
             "startlinecolor": "#A2B1C6"
            },
            "type": "carpet"
           }
          ],
          "choropleth": [
           {
            "colorbar": {
             "outlinewidth": 0,
             "ticks": ""
            },
            "type": "choropleth"
           }
          ],
          "contour": [
           {
            "colorbar": {
             "outlinewidth": 0,
             "ticks": ""
            },
            "colorscale": [
             [
              0,
              "#0d0887"
             ],
             [
              0.1111111111111111,
              "#46039f"
             ],
             [
              0.2222222222222222,
              "#7201a8"
             ],
             [
              0.3333333333333333,
              "#9c179e"
             ],
             [
              0.4444444444444444,
              "#bd3786"
             ],
             [
              0.5555555555555556,
              "#d8576b"
             ],
             [
              0.6666666666666666,
              "#ed7953"
             ],
             [
              0.7777777777777778,
              "#fb9f3a"
             ],
             [
              0.8888888888888888,
              "#fdca26"
             ],
             [
              1,
              "#f0f921"
             ]
            ],
            "type": "contour"
           }
          ],
          "contourcarpet": [
           {
            "colorbar": {
             "outlinewidth": 0,
             "ticks": ""
            },
            "type": "contourcarpet"
           }
          ],
          "heatmap": [
           {
            "colorbar": {
             "outlinewidth": 0,
             "ticks": ""
            },
            "colorscale": [
             [
              0,
              "#0d0887"
             ],
             [
              0.1111111111111111,
              "#46039f"
             ],
             [
              0.2222222222222222,
              "#7201a8"
             ],
             [
              0.3333333333333333,
              "#9c179e"
             ],
             [
              0.4444444444444444,
              "#bd3786"
             ],
             [
              0.5555555555555556,
              "#d8576b"
             ],
             [
              0.6666666666666666,
              "#ed7953"
             ],
             [
              0.7777777777777778,
              "#fb9f3a"
             ],
             [
              0.8888888888888888,
              "#fdca26"
             ],
             [
              1,
              "#f0f921"
             ]
            ],
            "type": "heatmap"
           }
          ],
          "heatmapgl": [
           {
            "colorbar": {
             "outlinewidth": 0,
             "ticks": ""
            },
            "colorscale": [
             [
              0,
              "#0d0887"
             ],
             [
              0.1111111111111111,
              "#46039f"
             ],
             [
              0.2222222222222222,
              "#7201a8"
             ],
             [
              0.3333333333333333,
              "#9c179e"
             ],
             [
              0.4444444444444444,
              "#bd3786"
             ],
             [
              0.5555555555555556,
              "#d8576b"
             ],
             [
              0.6666666666666666,
              "#ed7953"
             ],
             [
              0.7777777777777778,
              "#fb9f3a"
             ],
             [
              0.8888888888888888,
              "#fdca26"
             ],
             [
              1,
              "#f0f921"
             ]
            ],
            "type": "heatmapgl"
           }
          ],
          "histogram": [
           {
            "marker": {
             "pattern": {
              "fillmode": "overlay",
              "size": 10,
              "solidity": 0.2
             }
            },
            "type": "histogram"
           }
          ],
          "histogram2d": [
           {
            "colorbar": {
             "outlinewidth": 0,
             "ticks": ""
            },
            "colorscale": [
             [
              0,
              "#0d0887"
             ],
             [
              0.1111111111111111,
              "#46039f"
             ],
             [
              0.2222222222222222,
              "#7201a8"
             ],
             [
              0.3333333333333333,
              "#9c179e"
             ],
             [
              0.4444444444444444,
              "#bd3786"
             ],
             [
              0.5555555555555556,
              "#d8576b"
             ],
             [
              0.6666666666666666,
              "#ed7953"
             ],
             [
              0.7777777777777778,
              "#fb9f3a"
             ],
             [
              0.8888888888888888,
              "#fdca26"
             ],
             [
              1,
              "#f0f921"
             ]
            ],
            "type": "histogram2d"
           }
          ],
          "histogram2dcontour": [
           {
            "colorbar": {
             "outlinewidth": 0,
             "ticks": ""
            },
            "colorscale": [
             [
              0,
              "#0d0887"
             ],
             [
              0.1111111111111111,
              "#46039f"
             ],
             [
              0.2222222222222222,
              "#7201a8"
             ],
             [
              0.3333333333333333,
              "#9c179e"
             ],
             [
              0.4444444444444444,
              "#bd3786"
             ],
             [
              0.5555555555555556,
              "#d8576b"
             ],
             [
              0.6666666666666666,
              "#ed7953"
             ],
             [
              0.7777777777777778,
              "#fb9f3a"
             ],
             [
              0.8888888888888888,
              "#fdca26"
             ],
             [
              1,
              "#f0f921"
             ]
            ],
            "type": "histogram2dcontour"
           }
          ],
          "mesh3d": [
           {
            "colorbar": {
             "outlinewidth": 0,
             "ticks": ""
            },
            "type": "mesh3d"
           }
          ],
          "parcoords": [
           {
            "line": {
             "colorbar": {
              "outlinewidth": 0,
              "ticks": ""
             }
            },
            "type": "parcoords"
           }
          ],
          "pie": [
           {
            "automargin": true,
            "type": "pie"
           }
          ],
          "scatter": [
           {
            "marker": {
             "line": {
              "color": "#283442"
             }
            },
            "type": "scatter"
           }
          ],
          "scatter3d": [
           {
            "line": {
             "colorbar": {
              "outlinewidth": 0,
              "ticks": ""
             }
            },
            "marker": {
             "colorbar": {
              "outlinewidth": 0,
              "ticks": ""
             }
            },
            "type": "scatter3d"
           }
          ],
          "scattercarpet": [
           {
            "marker": {
             "colorbar": {
              "outlinewidth": 0,
              "ticks": ""
             }
            },
            "type": "scattercarpet"
           }
          ],
          "scattergeo": [
           {
            "marker": {
             "colorbar": {
              "outlinewidth": 0,
              "ticks": ""
             }
            },
            "type": "scattergeo"
           }
          ],
          "scattergl": [
           {
            "marker": {
             "line": {
              "color": "#283442"
             }
            },
            "type": "scattergl"
           }
          ],
          "scattermapbox": [
           {
            "marker": {
             "colorbar": {
              "outlinewidth": 0,
              "ticks": ""
             }
            },
            "type": "scattermapbox"
           }
          ],
          "scatterpolar": [
           {
            "marker": {
             "colorbar": {
              "outlinewidth": 0,
              "ticks": ""
             }
            },
            "type": "scatterpolar"
           }
          ],
          "scatterpolargl": [
           {
            "marker": {
             "colorbar": {
              "outlinewidth": 0,
              "ticks": ""
             }
            },
            "type": "scatterpolargl"
           }
          ],
          "scatterternary": [
           {
            "marker": {
             "colorbar": {
              "outlinewidth": 0,
              "ticks": ""
             }
            },
            "type": "scatterternary"
           }
          ],
          "surface": [
           {
            "colorbar": {
             "outlinewidth": 0,
             "ticks": ""
            },
            "colorscale": [
             [
              0,
              "#0d0887"
             ],
             [
              0.1111111111111111,
              "#46039f"
             ],
             [
              0.2222222222222222,
              "#7201a8"
             ],
             [
              0.3333333333333333,
              "#9c179e"
             ],
             [
              0.4444444444444444,
              "#bd3786"
             ],
             [
              0.5555555555555556,
              "#d8576b"
             ],
             [
              0.6666666666666666,
              "#ed7953"
             ],
             [
              0.7777777777777778,
              "#fb9f3a"
             ],
             [
              0.8888888888888888,
              "#fdca26"
             ],
             [
              1,
              "#f0f921"
             ]
            ],
            "type": "surface"
           }
          ],
          "table": [
           {
            "cells": {
             "fill": {
              "color": "#506784"
             },
             "line": {
              "color": "rgb(17,17,17)"
             }
            },
            "header": {
             "fill": {
              "color": "#2a3f5f"
             },
             "line": {
              "color": "rgb(17,17,17)"
             }
            },
            "type": "table"
           }
          ]
         },
         "layout": {
          "annotationdefaults": {
           "arrowcolor": "#f2f5fa",
           "arrowhead": 0,
           "arrowwidth": 1
          },
          "autotypenumbers": "strict",
          "coloraxis": {
           "colorbar": {
            "outlinewidth": 0,
            "ticks": ""
           }
          },
          "colorscale": {
           "diverging": [
            [
             0,
             "#8e0152"
            ],
            [
             0.1,
             "#c51b7d"
            ],
            [
             0.2,
             "#de77ae"
            ],
            [
             0.3,
             "#f1b6da"
            ],
            [
             0.4,
             "#fde0ef"
            ],
            [
             0.5,
             "#f7f7f7"
            ],
            [
             0.6,
             "#e6f5d0"
            ],
            [
             0.7,
             "#b8e186"
            ],
            [
             0.8,
             "#7fbc41"
            ],
            [
             0.9,
             "#4d9221"
            ],
            [
             1,
             "#276419"
            ]
           ],
           "sequential": [
            [
             0,
             "#0d0887"
            ],
            [
             0.1111111111111111,
             "#46039f"
            ],
            [
             0.2222222222222222,
             "#7201a8"
            ],
            [
             0.3333333333333333,
             "#9c179e"
            ],
            [
             0.4444444444444444,
             "#bd3786"
            ],
            [
             0.5555555555555556,
             "#d8576b"
            ],
            [
             0.6666666666666666,
             "#ed7953"
            ],
            [
             0.7777777777777778,
             "#fb9f3a"
            ],
            [
             0.8888888888888888,
             "#fdca26"
            ],
            [
             1,
             "#f0f921"
            ]
           ],
           "sequentialminus": [
            [
             0,
             "#0d0887"
            ],
            [
             0.1111111111111111,
             "#46039f"
            ],
            [
             0.2222222222222222,
             "#7201a8"
            ],
            [
             0.3333333333333333,
             "#9c179e"
            ],
            [
             0.4444444444444444,
             "#bd3786"
            ],
            [
             0.5555555555555556,
             "#d8576b"
            ],
            [
             0.6666666666666666,
             "#ed7953"
            ],
            [
             0.7777777777777778,
             "#fb9f3a"
            ],
            [
             0.8888888888888888,
             "#fdca26"
            ],
            [
             1,
             "#f0f921"
            ]
           ]
          },
          "colorway": [
           "#636efa",
           "#EF553B",
           "#00cc96",
           "#ab63fa",
           "#FFA15A",
           "#19d3f3",
           "#FF6692",
           "#B6E880",
           "#FF97FF",
           "#FECB52"
          ],
          "font": {
           "color": "#f2f5fa"
          },
          "geo": {
           "bgcolor": "rgb(17,17,17)",
           "lakecolor": "rgb(17,17,17)",
           "landcolor": "rgb(17,17,17)",
           "showlakes": true,
           "showland": true,
           "subunitcolor": "#506784"
          },
          "hoverlabel": {
           "align": "left"
          },
          "hovermode": "closest",
          "mapbox": {
           "style": "dark"
          },
          "paper_bgcolor": "rgb(17,17,17)",
          "plot_bgcolor": "rgb(17,17,17)",
          "polar": {
           "angularaxis": {
            "gridcolor": "#506784",
            "linecolor": "#506784",
            "ticks": ""
           },
           "bgcolor": "rgb(17,17,17)",
           "radialaxis": {
            "gridcolor": "#506784",
            "linecolor": "#506784",
            "ticks": ""
           }
          },
          "scene": {
           "xaxis": {
            "backgroundcolor": "rgb(17,17,17)",
            "gridcolor": "#506784",
            "gridwidth": 2,
            "linecolor": "#506784",
            "showbackground": true,
            "ticks": "",
            "zerolinecolor": "#C8D4E3"
           },
           "yaxis": {
            "backgroundcolor": "rgb(17,17,17)",
            "gridcolor": "#506784",
            "gridwidth": 2,
            "linecolor": "#506784",
            "showbackground": true,
            "ticks": "",
            "zerolinecolor": "#C8D4E3"
           },
           "zaxis": {
            "backgroundcolor": "rgb(17,17,17)",
            "gridcolor": "#506784",
            "gridwidth": 2,
            "linecolor": "#506784",
            "showbackground": true,
            "ticks": "",
            "zerolinecolor": "#C8D4E3"
           }
          },
          "shapedefaults": {
           "line": {
            "color": "#f2f5fa"
           }
          },
          "sliderdefaults": {
           "bgcolor": "#C8D4E3",
           "bordercolor": "rgb(17,17,17)",
           "borderwidth": 1,
           "tickwidth": 0
          },
          "ternary": {
           "aaxis": {
            "gridcolor": "#506784",
            "linecolor": "#506784",
            "ticks": ""
           },
           "baxis": {
            "gridcolor": "#506784",
            "linecolor": "#506784",
            "ticks": ""
           },
           "bgcolor": "rgb(17,17,17)",
           "caxis": {
            "gridcolor": "#506784",
            "linecolor": "#506784",
            "ticks": ""
           }
          },
          "title": {
           "x": 0.05
          },
          "updatemenudefaults": {
           "bgcolor": "#506784",
           "borderwidth": 0
          },
          "xaxis": {
           "automargin": true,
           "gridcolor": "#283442",
           "linecolor": "#506784",
           "ticks": "",
           "title": {
            "standoff": 15
           },
           "zerolinecolor": "#283442",
           "zerolinewidth": 2
          },
          "yaxis": {
           "automargin": true,
           "gridcolor": "#283442",
           "linecolor": "#506784",
           "ticks": "",
           "title": {
            "standoff": 15
           },
           "zerolinecolor": "#283442",
           "zerolinewidth": 2
          }
         }
        },
        "title": {
         "text": "Music of Dark"
        },
        "xaxis": {
         "anchor": "y",
         "domain": [
          0,
          1
         ],
         "gridcolor": "grey",
         "griddash": "dot",
         "rangeslider": {
          "thickness": 0.1,
          "visible": true
         },
         "showgrid": true,
         "tickformat": "%H:%M:%S",
         "title": {
          "text": "Time"
         },
         "type": "date"
        },
        "yaxis": {
         "anchor": "x",
         "autorange": "reversed",
         "categoryarray": [
          "1",
          "2",
          "3",
          "4",
          "5",
          "6",
          "7",
          "8",
          "9",
          "10"
         ],
         "categoryorder": "array",
         "domain": [
          0,
          1
         ],
         "title": {
          "text": "Episode"
         }
        }
       }
      }
     },
     "metadata": {},
     "output_type": "display_data"
    }
   ],
   "source": [
    "from matplotlib.pyplot import legend\n",
    "\n",
    "\n",
    "fig = px.timeline(data, x_start='interval_start',\n",
    "                            x_end='interval_end',\n",
    "                            y='episode',\n",
    "                            color='season',\n",
    "                            text='sdh_comment'\n",
    "                            # ,template=\"xgridoff\"\n",
    "                            ,template='plotly_dark'\n",
    "                            ,color_discrete_map={\"3\":\"rgb(179,205,227)\",\"2\":\"rgb(36,121,108)\",\"1\":\"rgb(153,153,51)\"}\n",
    "                            ,category_orders={\"season\": [\"1\", \"2\", \"3\"],\"episode\": [\"10\",\"9\",\"8\",\"7\",\"6\",\"5\",\"4\",\"3\",\"2\",\"1\"]}                            \n",
    "                            ,hover_name=\"sdh_comment\"\n",
    "                            ,hover_data={'sdh_comment':False,'interval_end':False}\n",
    "                            ,height=700\n",
    "                            )\n",
    "\n",
    "fig.update_xaxes(tickformat=\"%H:%M:%S\",\n",
    "                showgrid=True, griddash='dot', gridcolor='grey',\n",
    "                rangeslider=dict(visible=True,\n",
    "                # ,bgcolor=\"white\"\n",
    "                )\n",
    "                ,rangeslider_thickness = 0.1 #fraction of the whole fig heigth\n",
    "                )\n",
    "# https://plotly.com/python/reference/layout/xaxis/#layout-xaxis-rangeslider\n",
    "\n",
    "fig.update_yaxes(autorange=\"reversed\"\n",
    "                # ,categoryorder='category ascending'\n",
    "                )\n",
    "\n",
    "# shapes were added in the background for more readability\n",
    "for episode in range(0,10):\n",
    "    fig.add_hrect(y0=episode, y1=episode, line_width=30, fillcolor=\"black\", opacity=0.03,layer=\"below\")\n",
    "\n",
    "fig.update_traces(textfont_size=8, textangle=0,textposition=\"none\")\n",
    "fig.update_layout(title=\"Music of Dark\",xaxis_title=\"Time\",yaxis_title=\"Episode\",legend_title=\"Season\",bargap=0,\n",
    "                font_family=\"Courier New\",\n",
    "                font_color=\"white\",\n",
    "                # title_font_family=\"Times New Roman\",\n",
    "                # title_font_color=\"white\"\n",
    "                )\n",
    "fig.show()"
   ]
  },
  {
   "cell_type": "code",
   "execution_count": 189,
   "metadata": {},
   "outputs": [],
   "source": [
    "# seems as so there's no music in season 3"
   ]
  },
  {
   "cell_type": "code",
   "execution_count": null,
   "metadata": {},
   "outputs": [],
   "source": []
  }
 ],
 "metadata": {
  "kernelspec": {
   "display_name": "Python 3.9.8 64-bit",
   "language": "python",
   "name": "python3"
  },
  "language_info": {
   "codemirror_mode": {
    "name": "ipython",
    "version": 3
   },
   "file_extension": ".py",
   "mimetype": "text/x-python",
   "name": "python",
   "nbconvert_exporter": "python",
   "pygments_lexer": "ipython3",
   "version": "3.9.8"
  },
  "orig_nbformat": 4,
  "vscode": {
   "interpreter": {
    "hash": "aee8b7b246df8f9039afb4144a1f6fd8d2ca17a180786b69acc140d282b71a49"
   }
  }
 },
 "nbformat": 4,
 "nbformat_minor": 2
}
