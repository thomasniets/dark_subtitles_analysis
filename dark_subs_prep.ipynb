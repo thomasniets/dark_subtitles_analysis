{
 "cells": [
  {
   "cell_type": "markdown",
   "metadata": {},
   "source": [
    "SDH subtitles from https://www.opensubtitles.org/en/ssearch/sublanguageid-ger/idmovie-578221"
   ]
  },
  {
   "cell_type": "code",
   "execution_count": 24,
   "metadata": {},
   "outputs": [],
   "source": [
    "import re\n",
    "import pandas as pd\n",
    "import numpy as np\n",
    "import sys\n",
    "import os\n",
    "import pysrt #for subs analysis\n",
    "from datetime import date, datetime, timedelta, time\n",
    "\n",
    "import matplotlib\n",
    "from matplotlib import style\n",
    "import matplotlib.pyplot as plt\n",
    "import seaborn as sns\n",
    "sns.set()\n",
    "%matplotlib inline\n",
    "matplotlib.rcParams['figure.figsize'] = (16.0, 9.0)\n",
    "style.use('fivethirtyeight')"
   ]
  },
  {
   "cell_type": "markdown",
   "metadata": {},
   "source": [
    "The first dataset is for vocabulary size calculation"
   ]
  },
  {
   "cell_type": "code",
   "execution_count": 87,
   "metadata": {},
   "outputs": [],
   "source": [
    "# function that returns text from all the lines for a given .srt file\n",
    "def text_from_srt(path):\n",
    "    path = path\n",
    "    pattern = r'\\[(.*?)\\]'\n",
    "    lines=[]\n",
    "    # loading the subs\n",
    "    subs = pysrt.open(path)\n",
    "    #selecting text without [...]-like comments | music\n",
    "    for line in subs:\n",
    "        text = line.text_without_tags.replace('\\n',' ')\n",
    "        # not interested in lyrics and opening text\n",
    "        if '♪' not in text and 'NETFLIX' not in text:\n",
    "            # checking whether it contains sdh comments and removing them\n",
    "            text = re.sub(pattern,'',text)\n",
    "            lines.append(text)\n",
    "        \n",
    "    # concatenating all the values from list to create a text\n",
    "    clean_text = ' '.join(lines)\n",
    "    return clean_text"
   ]
  },
  {
   "cell_type": "code",
   "execution_count": 112,
   "metadata": {},
   "outputs": [
    {
     "name": "stdout",
     "output_type": "stream",
     "text": [
      "SDH/S03E02.srt\n",
      "S03E02 done, text length:  11089\n",
      "SDH/S01E07.srt\n",
      "S01E07 done, text length:  11794\n",
      "SDH/S01E06.srt\n",
      "S01E06 done, text length:  11988\n",
      "SDH/S03E03.srt\n",
      "S03E03 done, text length:  11569\n",
      "SDH/S03E01.srt\n",
      "S03E01 done, text length:  12846\n",
      "SDH/S01E04.srt\n",
      "S01E04 done, text length:  11558\n",
      "SDH/S01E10.srt\n",
      "S01E10 done, text length:  14168\n",
      "SDH/S01E05.srt\n",
      "S01E05 done, text length:  12000\n",
      "SDH/S03E04.srt\n",
      "S03E04 done, text length:  12915\n",
      "SDH/S01E01.srt\n",
      "S01E01 done, text length:  14919\n",
      "SDH/S03E05.srt\n",
      "S03E05 done, text length:  11043\n",
      "SDH/S03E07.srt\n",
      "S03E07 done, text length:  12737\n",
      "SDH/S01E02.srt\n",
      "S01E02 done, text length:  7375\n",
      "SDH/S01E03.srt\n",
      "S01E03 done, text length:  8602\n",
      "SDH/S03E06.srt\n",
      "S03E06 done, text length:  12883\n",
      "SDH/S02E08.srt\n",
      "S02E08 done, text length:  13514\n",
      "SDH/S02E01.srt\n",
      "S02E01 done, text length:  11861\n",
      "SDH/S02E03.srt\n",
      "S02E03 done, text length:  16212\n",
      "SDH/S02E02.srt\n",
      "S02E02 done, text length:  13237\n",
      "SDH/S02E06.srt\n",
      "S02E06 done, text length:  12861\n",
      "SDH/S02E07.srt\n",
      "S02E07 done, text length:  14415\n",
      "SDH/S02E05.srt\n",
      "S02E05 done, text length:  15437\n",
      "SDH/S02E04.srt\n",
      "S02E04 done, text length:  11181\n",
      "SDH/S03E08.srt\n",
      "S03E08 done, text length:  17130\n",
      "SDH/S01E08.srt\n",
      "S01E08 done, text length:  14477\n",
      "SDH/S01E09.srt\n",
      "S01E09 done, text length:  14593\n"
     ]
    },
    {
     "data": {
      "text/html": [
       "<div>\n",
       "<style scoped>\n",
       "    .dataframe tbody tr th:only-of-type {\n",
       "        vertical-align: middle;\n",
       "    }\n",
       "\n",
       "    .dataframe tbody tr th {\n",
       "        vertical-align: top;\n",
       "    }\n",
       "\n",
       "    .dataframe thead th {\n",
       "        text-align: right;\n",
       "    }\n",
       "</style>\n",
       "<table border=\"1\" class=\"dataframe\">\n",
       "  <thead>\n",
       "    <tr style=\"text-align: right;\">\n",
       "      <th></th>\n",
       "      <th>episode_text</th>\n",
       "      <th>episode</th>\n",
       "      <th>season</th>\n",
       "      <th>season00episode00</th>\n",
       "    </tr>\n",
       "  </thead>\n",
       "  <tbody>\n",
       "    <tr>\n",
       "      <th>0</th>\n",
       "      <td>- -    Zieh dich um.  -Martha? - Das kann nic...</td>\n",
       "      <td>02</td>\n",
       "      <td>03</td>\n",
       "      <td>S03E02</td>\n",
       "    </tr>\n",
       "    <tr>\n",
       "      <th>1</th>\n",
       "      <td>Ich erinnere mich. Ich erinnere mich an ...</td>\n",
       "      <td>07</td>\n",
       "      <td>01</td>\n",
       "      <td>S01E07</td>\n",
       "    </tr>\n",
       "    <tr>\n",
       "      <th>2</th>\n",
       "      <td>Das ist nicht mehr lustig!  Katharina?  Ulr...</td>\n",
       "      <td>06</td>\n",
       "      <td>01</td>\n",
       "      <td>S01E06</td>\n",
       "    </tr>\n",
       "    <tr>\n",
       "      <th>3</th>\n",
       "      <td>\"Von da an wusste ich, dass sich nichts ände...</td>\n",
       "      <td>03</td>\n",
       "      <td>03</td>\n",
       "      <td>S03E03</td>\n",
       "    </tr>\n",
       "    <tr>\n",
       "      <th>4</th>\n",
       "      <td>Wenn wir wüssten, wie die Dinge enden... ......</td>\n",
       "      <td>01</td>\n",
       "      <td>03</td>\n",
       "      <td>S03E01</td>\n",
       "    </tr>\n",
       "  </tbody>\n",
       "</table>\n",
       "</div>"
      ],
      "text/plain": [
       "                                        episode_text episode season  \\\n",
       "0   - -    Zieh dich um.  -Martha? - Das kann nic...      02     03   \n",
       "1        Ich erinnere mich. Ich erinnere mich an ...      07     01   \n",
       "2     Das ist nicht mehr lustig!  Katharina?  Ulr...      06     01   \n",
       "3    \"Von da an wusste ich, dass sich nichts ände...      03     03   \n",
       "4    Wenn wir wüssten, wie die Dinge enden... ......      01     03   \n",
       "\n",
       "  season00episode00  \n",
       "0            S03E02  \n",
       "1            S01E07  \n",
       "2            S01E06  \n",
       "3            S03E03  \n",
       "4            S03E01  "
      ]
     },
     "execution_count": 112,
     "metadata": {},
     "output_type": "execute_result"
    }
   ],
   "source": [
    "directory = 'SDH/'\n",
    "# all .srt files are named like this: S01E01.srt \n",
    "\n",
    "data = pd.DataFrame(columns =[\"episode_text\",\"episode\",\"season\",\"season00episode00\"])\n",
    "\n",
    "for filename in os.listdir(directory):\n",
    "    f = os.path.join(directory, filename)\n",
    "    # checking if it is a file\n",
    "    if os.path.isfile(f) and '.srt' in filename:\n",
    "        print(f)\n",
    "        text = text_from_srt(f)\n",
    "        # appending to a dataframe\n",
    "        data = data.append({\"episode_text\":text,\"episode\":filename[-6:-4],\n",
    "        \"season\":filename[1:3],\"season00episode00\":filename[0:6]},\n",
    "        ignore_index = True)\n",
    "\n",
    "        print(filename[0:6],\"done, text length: \",len(text))\n",
    "\n",
    "data.head(5)"
   ]
  },
  {
   "cell_type": "code",
   "execution_count": 113,
   "metadata": {},
   "outputs": [],
   "source": [
    "# saving to csv\n",
    "data.to_csv(\"texts.csv\",index=False)"
   ]
  },
  {
   "cell_type": "markdown",
   "metadata": {},
   "source": [
    "The second dataset is for SDH comments (SDH = Subtitles for the deaf and hard of hearing) mapping —  we're interested in how often something happens e.g. ominous music starts playing. This is why we're saving intervals here."
   ]
  },
  {
   "cell_type": "code",
   "execution_count": 140,
   "metadata": {},
   "outputs": [],
   "source": [
    "# function that returns sdh comments for a given .srt file in a dataframe format\n",
    "def text_from_srt(path):\n",
    "    path = path\n",
    "    pattern = r'\\[(.*?)\\]'\n",
    "    data = pd.DataFrame(columns =[\"sdh_comment\",\"interval_start\",\"interval_end\"])\n",
    "    \n",
    "    # loading the subs\n",
    "    subs = pysrt.open(path)\n",
    "    for line in subs:\n",
    "        start = line.start.to_time()\n",
    "        end = line.end.to_time()\n",
    "        text = line.text_without_tags.replace('\\n',' ')\n",
    "        #still not interested in lyrics and opening text\n",
    "        if '♪' not in text and 'NETFLIX' not in text:\n",
    "            matches = re.findall(pattern,text)\n",
    "            # if there are sdh comments, let's save them with intervals\n",
    "            if len(matches)>0:\n",
    "                for match in re.findall(pattern,text):\n",
    "                    data = data.append({\"sdh_comment\":match,\n",
    "                    \"interval_start\":start,\"interval_end\":end},\n",
    "                    ignore_index = True)\n",
    "            \n",
    "    return data"
   ]
  },
  {
   "cell_type": "code",
   "execution_count": 139,
   "metadata": {},
   "outputs": [],
   "source": [
    "# subs = pysrt.open(\"SDH/S03E01.srt\")\n",
    "# pattern = r'\\[(.*?)\\]'\n",
    "# data = pd.DataFrame(columns =[\"sdh_comment\",\"interval_start\",\"interval_end\"])\n",
    "\n",
    "# for sub in subs:\n",
    "#     start = sub.start.to_time()\n",
    "#     end = sub.end.to_time()\n",
    "#     text = sub.text_without_tags.replace('\\n',' ')\n",
    "\n",
    "#     matches = re.findall(pattern,text)\n",
    "#     if len(matches)>0:\n",
    "#         print(\"match found\")\n",
    "#         for match in re.findall(pattern,text):\n",
    "#             data = data.append({\"sdh_comment\":match,\n",
    "#             \"interval_start\":start,\"interval_end\":end},\n",
    "#             ignore_index = True)\n",
    "            \n",
    "#             print(len(data))\n",
    "#         # replacements = re.subn(pattern,'',text)\n",
    "#         # print(\"clean string: \"+replacements[0])\n",
    "#         # print(\"num of replacements: \",replacements[1])    \n",
    "    "
   ]
  },
  {
   "cell_type": "code",
   "execution_count": 145,
   "metadata": {},
   "outputs": [
    {
     "name": "stdout",
     "output_type": "stream",
     "text": [
      "SDH/S03E02.srt\n",
      "S03E02 done\n",
      "SDH/S01E07.srt\n",
      "S01E07 done\n",
      "SDH/S01E06.srt\n",
      "S01E06 done\n",
      "SDH/S03E03.srt\n",
      "S03E03 done\n",
      "SDH/S03E01.srt\n",
      "S03E01 done\n",
      "SDH/S01E04.srt\n",
      "S01E04 done\n",
      "SDH/S01E10.srt\n",
      "S01E10 done\n",
      "SDH/S01E05.srt\n",
      "S01E05 done\n",
      "SDH/S03E04.srt\n",
      "S03E04 done\n",
      "SDH/S01E01.srt\n",
      "S01E01 done\n",
      "SDH/S03E05.srt\n",
      "S03E05 done\n",
      "SDH/S03E07.srt\n",
      "S03E07 done\n",
      "SDH/S01E02.srt\n",
      "S01E02 done\n",
      "SDH/S01E03.srt\n",
      "S01E03 done\n",
      "SDH/S03E06.srt\n",
      "S03E06 done\n",
      "SDH/S02E08.srt\n",
      "S02E08 done\n",
      "SDH/S02E01.srt\n",
      "S02E01 done\n",
      "SDH/S02E03.srt\n",
      "S02E03 done\n",
      "SDH/S02E02.srt\n",
      "S02E02 done\n",
      "SDH/S02E06.srt\n",
      "S02E06 done\n",
      "SDH/S02E07.srt\n",
      "S02E07 done\n",
      "SDH/S02E05.srt\n",
      "S02E05 done\n",
      "SDH/S02E04.srt\n",
      "S02E04 done\n",
      "SDH/S03E08.srt\n",
      "S03E08 done\n",
      "SDH/S01E08.srt\n",
      "S01E08 done\n",
      "SDH/S01E09.srt\n",
      "S01E09 done\n"
     ]
    },
    {
     "data": {
      "text/html": [
       "<div>\n",
       "<style scoped>\n",
       "    .dataframe tbody tr th:only-of-type {\n",
       "        vertical-align: middle;\n",
       "    }\n",
       "\n",
       "    .dataframe tbody tr th {\n",
       "        vertical-align: top;\n",
       "    }\n",
       "\n",
       "    .dataframe thead th {\n",
       "        text-align: right;\n",
       "    }\n",
       "</style>\n",
       "<table border=\"1\" class=\"dataframe\">\n",
       "  <thead>\n",
       "    <tr style=\"text-align: right;\">\n",
       "      <th></th>\n",
       "      <th>sdh_comment</th>\n",
       "      <th>interval_start</th>\n",
       "      <th>interval_end</th>\n",
       "      <th>episode</th>\n",
       "      <th>season</th>\n",
       "      <th>season00episode00</th>\n",
       "    </tr>\n",
       "  </thead>\n",
       "  <tbody>\n",
       "    <tr>\n",
       "      <th>0</th>\n",
       "      <td>düster-melancholische Musik</td>\n",
       "      <td>00:00:13.458000</td>\n",
       "      <td>00:00:16.500000</td>\n",
       "      <td>02</td>\n",
       "      <td>03</td>\n",
       "      <td>S03E02</td>\n",
       "    </tr>\n",
       "    <tr>\n",
       "      <th>1</th>\n",
       "      <td>rhythmisches Klopfen</td>\n",
       "      <td>00:00:24.625000</td>\n",
       "      <td>00:00:30.041000</td>\n",
       "      <td>02</td>\n",
       "      <td>03</td>\n",
       "      <td>S03E02</td>\n",
       "    </tr>\n",
       "    <tr>\n",
       "      <th>2</th>\n",
       "      <td>bedrohliche Klänge</td>\n",
       "      <td>00:00:24.625000</td>\n",
       "      <td>00:00:30.041000</td>\n",
       "      <td>02</td>\n",
       "      <td>03</td>\n",
       "      <td>S03E02</td>\n",
       "    </tr>\n",
       "    <tr>\n",
       "      <th>3</th>\n",
       "      <td>keucht</td>\n",
       "      <td>00:00:36</td>\n",
       "      <td>00:00:38.291000</td>\n",
       "      <td>02</td>\n",
       "      <td>03</td>\n",
       "      <td>S03E02</td>\n",
       "    </tr>\n",
       "    <tr>\n",
       "      <th>4</th>\n",
       "      <td>unheilvolle Klänge</td>\n",
       "      <td>00:00:43.875000</td>\n",
       "      <td>00:00:46.208000</td>\n",
       "      <td>02</td>\n",
       "      <td>03</td>\n",
       "      <td>S03E02</td>\n",
       "    </tr>\n",
       "  </tbody>\n",
       "</table>\n",
       "</div>"
      ],
      "text/plain": [
       "                   sdh_comment   interval_start     interval_end episode  \\\n",
       "0  düster-melancholische Musik  00:00:13.458000  00:00:16.500000      02   \n",
       "1         rhythmisches Klopfen  00:00:24.625000  00:00:30.041000      02   \n",
       "2           bedrohliche Klänge  00:00:24.625000  00:00:30.041000      02   \n",
       "3                       keucht         00:00:36  00:00:38.291000      02   \n",
       "4           unheilvolle Klänge  00:00:43.875000  00:00:46.208000      02   \n",
       "\n",
       "  season season00episode00  \n",
       "0     03            S03E02  \n",
       "1     03            S03E02  \n",
       "2     03            S03E02  \n",
       "3     03            S03E02  \n",
       "4     03            S03E02  "
      ]
     },
     "execution_count": 145,
     "metadata": {},
     "output_type": "execute_result"
    }
   ],
   "source": [
    "directory = 'SDH/'\n",
    "# all .srt files are named like this: S01E01.srt \n",
    "\n",
    "sdh_data = pd.DataFrame(columns =[\"sdh_comment\",\"interval_start\",\"interval_end\",\"episode\",\"season\",\"season00episode00\"])\n",
    "\n",
    "for filename in os.listdir(directory):\n",
    "    f = os.path.join(directory, filename)\n",
    "    # checking if it is a file\n",
    "    if os.path.isfile(f) and '.srt' in filename:\n",
    "        print(f)\n",
    "        data = text_from_srt(f)\n",
    "        # appending to a dataframe with season and episode indicators\n",
    "        data[\"episode\"] = filename[-6:-4]\n",
    "        data[\"season\"] = filename[1:3]\n",
    "        data[\"season00episode00\"] = filename[0:6]\n",
    "        sdh_data = pd.concat([sdh_data,data], ignore_index = True)\n",
    "\n",
    "        print(filename[0:6],\"done\")\n",
    "\n",
    "sdh_data.head(5)"
   ]
  },
  {
   "cell_type": "code",
   "execution_count": 146,
   "metadata": {},
   "outputs": [
    {
     "data": {
      "text/plain": [
       "3062"
      ]
     },
     "execution_count": 146,
     "metadata": {},
     "output_type": "execute_result"
    }
   ],
   "source": [
    "len(sdh_data)"
   ]
  },
  {
   "cell_type": "code",
   "execution_count": 147,
   "metadata": {},
   "outputs": [],
   "source": [
    "# saving to csv\n",
    "sdh_data.to_csv(\"sdh_comments.csv\",index=False)"
   ]
  },
  {
   "cell_type": "markdown",
   "metadata": {},
   "source": [
    "Another dataset can be created to save lines for intervals like 10 min or 30 min to see the tone dynamic or something. But this is something we'll do later (maybe).\n",
    "\n",
    "Good example can be found here: https://mubaris.com/posts/movie-analysis/"
   ]
  },
  {
   "cell_type": "code",
   "execution_count": null,
   "metadata": {},
   "outputs": [],
   "source": []
  },
  {
   "cell_type": "markdown",
   "metadata": {},
   "source": [
    "Some silly testing"
   ]
  },
  {
   "cell_type": "code",
   "execution_count": 17,
   "metadata": {},
   "outputs": [
    {
     "data": {
      "text/plain": [
       "datetime.time(0, 48, 18, 916000)"
      ]
     },
     "execution_count": 17,
     "metadata": {},
     "output_type": "execute_result"
    }
   ],
   "source": [
    "# start = time(0, 0, 0)\n",
    "# end = subs[-1].end.to_time()"
   ]
  },
  {
   "cell_type": "code",
   "execution_count": null,
   "metadata": {},
   "outputs": [],
   "source": []
  }
 ],
 "metadata": {
  "kernelspec": {
   "display_name": "Python 3.9.8 64-bit",
   "language": "python",
   "name": "python3"
  },
  "language_info": {
   "codemirror_mode": {
    "name": "ipython",
    "version": 3
   },
   "file_extension": ".py",
   "mimetype": "text/x-python",
   "name": "python",
   "nbconvert_exporter": "python",
   "pygments_lexer": "ipython3",
   "version": "3.9.8"
  },
  "orig_nbformat": 4,
  "vscode": {
   "interpreter": {
    "hash": "aee8b7b246df8f9039afb4144a1f6fd8d2ca17a180786b69acc140d282b71a49"
   }
  }
 },
 "nbformat": 4,
 "nbformat_minor": 2
}
